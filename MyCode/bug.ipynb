{
 "cells": [
  {
   "cell_type": "code",
   "execution_count": 19,
   "metadata": {
    "collapsed": true
   },
   "outputs": [],
   "source": [
    "import copy\n",
    "\n",
    "import pandas\n",
    "from scipy.io import arff\n",
    "import numpy as np\n",
    "from sklearn.metrics import confusion_matrix\n",
    "from sklearn.model_selection import train_test_split\n",
    "from sklearn.metrics import accuracy_score\n",
    "import time\n",
    "from dl85 import DL85Predictor\n",
    "from dl85 import DL85Classifier\n",
    "import pandas as pd\n",
    "from sklearn.preprocessing import OneHotEncoder\n",
    "import matplotlib.pyplot as plt\n",
    "import numpy as np\n",
    "import MyCode.utils as utils\n",
    "import graphviz\n",
    "from MyCode import relabeling\n",
    "from MyCode.relabeling import Leaf"
   ]
  },
  {
   "cell_type": "code",
   "execution_count": 20,
   "outputs": [],
   "source": [
    "pd.set_option('max_columns', None)\n",
    "FILE_NAME = \"relab_Lawsuit\"\n",
    "\n",
    "# src: https://www.kaggle.com/hjmjerry/gender-discrimination\n",
    "df = pandas.read_csv(\"dataset_perso/Lawsuit.csv\")\n",
    "del df['ID']\n",
    "salary_mean = np.mean(np.array(df[\"Sal94\"].tolist(), float))\n",
    "for i in range(0,len(df)):\n",
    "    if df.at[i, \"Sal94\"] >= salary_mean:\n",
    "        df.at[i, \"Salary_mean\"] = 1\n",
    "    else:\n",
    "        df.at[i, \"Salary_mean\"] = 0\n",
    "del df[\"Sal94\"]\n",
    "del df[\"Sal95\"]\n",
    "col = ['Rank', 'Dept']\n",
    "df = df.drop(['Prate', 'Exper'], axis=1)\n",
    "df = pd.get_dummies(df, columns=col)\n",
    "for i in range(0,len(df)):\n",
    "    if df.at[i, \"Gender\"] == 1:\n",
    "        df.at[i, \"Gender\"] = 0\n",
    "    else:\n",
    "        df.at[i, \"Gender\"] = 1\n",
    "X = df.loc[:, ~df.columns.isin(['Gender', 'Salary_mean'])]\n",
    "y = df['Salary_mean']\n",
    "sensitive = df['Gender']"
   ],
   "metadata": {
    "collapsed": false,
    "pycharm": {
     "name": "#%%\n"
    }
   }
  },
  {
   "cell_type": "code",
   "execution_count": 21,
   "outputs": [],
   "source": [
    "\n",
    "k = 0\n",
    "depth = 4\n",
    "random_state = 13\n",
    "min_supp = 2\n",
    "\n",
    "X_train, X_test, y_train, y_test, sensitive_train, sensitive_test = utils.train_test_split(random_state, X, y, sensitive)\n"
   ],
   "metadata": {
    "collapsed": false,
    "pycharm": {
     "name": "#%%\n"
    }
   }
  },
  {
   "cell_type": "code",
   "execution_count": 22,
   "outputs": [
    {
     "data": {
      "text/plain": "{'feat': 1,\n 'left': {'feat': 4,\n  'left': {'feat': 5,\n   'left': {'feat': 0,\n    'left': {'value': 0,\n     'error': 1.0,\n     'transactions': [1, 5, 9, 31],\n     'proba': [0.75, 0.25]},\n    'right': {'value': 0,\n     'error': 1.0,\n     'transactions': [3, 13, 15, 16, 18, 19, 21, 22],\n     'proba': [0.875, 0.125]},\n    'transactions': [1, 3, 5, 9, 13, 15, 16, 18, 19, 21, 22, 31],\n    'proba': [0.8333333333333334, 0.16666666666666666]},\n   'right': {'feat': 6,\n    'left': {'value': 0,\n     'error': 0.0,\n     'transactions': [42, 43, 44, 46, 49, 52, 53, 54, 58, 60],\n     'proba': [1.0, 0]},\n    'right': {'value': 1,\n     'error': 2.0,\n     'transactions': [128,\n      129,\n      131,\n      133,\n      140,\n      144,\n      145,\n      150,\n      152,\n      157,\n      173,\n      174,\n      182,\n      183,\n      184,\n      185,\n      186,\n      191,\n      193,\n      73,\n      202,\n      77,\n      78,\n      79,\n      205,\n      206,\n      95,\n      97,\n      110,\n      121,\n      122,\n      125],\n     'proba': [0.0625, 0.9375]},\n    'transactions': [128,\n     129,\n     131,\n     133,\n     140,\n     144,\n     145,\n     150,\n     152,\n     157,\n     42,\n     43,\n     44,\n     173,\n     46,\n     174,\n     49,\n     52,\n     53,\n     54,\n     182,\n     183,\n     184,\n     58,\n     185,\n     60,\n     186,\n     191,\n     193,\n     73,\n     202,\n     77,\n     78,\n     79,\n     205,\n     206,\n     95,\n     97,\n     110,\n     121,\n     122,\n     125],\n    'proba': [0.2857142857142857, 0.7142857142857143]},\n   'transactions': [128,\n    1,\n    129,\n    3,\n    131,\n    5,\n    133,\n    9,\n    140,\n    13,\n    15,\n    16,\n    144,\n    18,\n    19,\n    145,\n    21,\n    22,\n    150,\n    152,\n    157,\n    31,\n    42,\n    43,\n    44,\n    173,\n    46,\n    174,\n    49,\n    52,\n    53,\n    54,\n    182,\n    183,\n    184,\n    58,\n    185,\n    60,\n    186,\n    191,\n    193,\n    73,\n    202,\n    77,\n    78,\n    79,\n    205,\n    206,\n    95,\n    97,\n    110,\n    121,\n    122,\n    125],\n   'proba': [0.4074074074074074, 0.5925925925925926]},\n  'right': {'feat': 9,\n   'left': {'feat': 0,\n    'left': {'value': 1,\n     'error': 11.0,\n     'transactions': [130,\n      132,\n      134,\n      135,\n      136,\n      138,\n      139,\n      151,\n      154,\n      155,\n      156,\n      158,\n      159,\n      160,\n      161,\n      164,\n      166,\n      167,\n      168,\n      169,\n      170,\n      172,\n      176,\n      117,\n      119,\n      120,\n      123,\n      124,\n      126],\n     'proba': [0.3793103448275862, 0.6206896551724138]},\n    'right': {'value': 0,\n     'error': 1.0,\n     'transactions': [165, 137, 175, 177, 178, 147],\n     'proba': [0.8333333333333334, 0.16666666666666666]},\n    'transactions': [130,\n     132,\n     134,\n     135,\n     136,\n     137,\n     138,\n     139,\n     147,\n     151,\n     154,\n     155,\n     156,\n     158,\n     159,\n     160,\n     161,\n     164,\n     165,\n     166,\n     167,\n     168,\n     169,\n     170,\n     172,\n     175,\n     176,\n     177,\n     178,\n     117,\n     119,\n     120,\n     123,\n     124,\n     126],\n    'proba': [0.45714285714285713, 0.5428571428571428]},\n   'right': {'feat': 10,\n    'left': {'value': 1,\n     'error': 0.0,\n     'transactions': [192,\n      194,\n      195,\n      196,\n      197,\n      199,\n      200,\n      203,\n      204,\n      207,\n      208,\n      179,\n      180,\n      181,\n      187,\n      188,\n      189,\n      190],\n     'proba': [0, 1.0]},\n    'right': {'value': 0,\n     'error': 2.0,\n     'transactions': [4,\n      25,\n      26,\n      30,\n      33,\n      34,\n      35,\n      38,\n      40,\n      41,\n      45,\n      47,\n      57,\n      59,\n      61,\n      62,\n      63,\n      68,\n      70,\n      71,\n      75,\n      82,\n      87,\n      91,\n      94,\n      96,\n      98,\n      99,\n      101,\n      102,\n      103,\n      104,\n      105,\n      106,\n      107,\n      108,\n      109,\n      111,\n      112,\n      114,\n      115,\n      116],\n     'proba': [0.9523809523809523, 0.047619047619047616]},\n    'transactions': [4,\n     25,\n     26,\n     30,\n     33,\n     34,\n     35,\n     38,\n     40,\n     41,\n     45,\n     47,\n     179,\n     180,\n     181,\n     57,\n     59,\n     187,\n     61,\n     62,\n     63,\n     188,\n     189,\n     190,\n     192,\n     68,\n     194,\n     70,\n     71,\n     195,\n     196,\n     197,\n     75,\n     199,\n     200,\n     203,\n     204,\n     207,\n     208,\n     82,\n     87,\n     91,\n     94,\n     96,\n     98,\n     99,\n     101,\n     102,\n     103,\n     104,\n     105,\n     106,\n     107,\n     108,\n     109,\n     111,\n     112,\n     114,\n     115,\n     116],\n    'proba': [0.6666666666666666, 0.3333333333333333]},\n   'transactions': [4,\n    25,\n    26,\n    30,\n    33,\n    34,\n    35,\n    38,\n    40,\n    41,\n    45,\n    47,\n    57,\n    59,\n    61,\n    62,\n    63,\n    68,\n    70,\n    71,\n    75,\n    82,\n    87,\n    91,\n    94,\n    96,\n    98,\n    99,\n    101,\n    102,\n    103,\n    104,\n    105,\n    106,\n    107,\n    108,\n    109,\n    111,\n    112,\n    114,\n    115,\n    116,\n    117,\n    119,\n    120,\n    123,\n    124,\n    126,\n    130,\n    132,\n    134,\n    135,\n    136,\n    137,\n    138,\n    139,\n    147,\n    151,\n    154,\n    155,\n    156,\n    158,\n    159,\n    160,\n    161,\n    164,\n    165,\n    166,\n    167,\n    168,\n    169,\n    170,\n    172,\n    175,\n    176,\n    177,\n    178,\n    179,\n    180,\n    181,\n    187,\n    188,\n    189,\n    190,\n    192,\n    194,\n    195,\n    196,\n    197,\n    199,\n    200,\n    203,\n    204,\n    207,\n    208],\n   'proba': [0.5894736842105263, 0.4105263157894737]},\n  'transactions': [1,\n   3,\n   4,\n   5,\n   9,\n   13,\n   15,\n   16,\n   18,\n   19,\n   21,\n   22,\n   25,\n   26,\n   30,\n   31,\n   33,\n   34,\n   35,\n   38,\n   40,\n   41,\n   42,\n   43,\n   44,\n   45,\n   46,\n   47,\n   49,\n   52,\n   53,\n   54,\n   57,\n   58,\n   59,\n   60,\n   61,\n   62,\n   63,\n   68,\n   70,\n   71,\n   73,\n   75,\n   77,\n   78,\n   79,\n   82,\n   87,\n   91,\n   94,\n   95,\n   96,\n   97,\n   98,\n   99,\n   101,\n   102,\n   103,\n   104,\n   105,\n   106,\n   107,\n   108,\n   109,\n   110,\n   111,\n   112,\n   114,\n   115,\n   116,\n   117,\n   119,\n   120,\n   121,\n   122,\n   123,\n   124,\n   125,\n   126,\n   128,\n   129,\n   130,\n   131,\n   132,\n   133,\n   134,\n   135,\n   136,\n   137,\n   138,\n   139,\n   140,\n   144,\n   145,\n   147,\n   150,\n   151,\n   152,\n   154,\n   155,\n   156,\n   157,\n   158,\n   159,\n   160,\n   161,\n   164,\n   165,\n   166,\n   167,\n   168,\n   169,\n   170,\n   172,\n   173,\n   174,\n   175,\n   176,\n   177,\n   178,\n   179,\n   180,\n   181,\n   182,\n   183,\n   184,\n   185,\n   186,\n   187,\n   188,\n   189,\n   190,\n   191,\n   192,\n   193,\n   194,\n   195,\n   196,\n   197,\n   199,\n   200,\n   202,\n   203,\n   204,\n   205,\n   206,\n   207,\n   208],\n  'proba': [0.5234899328859061, 0.47651006711409394]},\n 'right': {'feat': 0,\n  'left': {'feat': 9,\n   'left': {'feat': 2,\n    'left': {'value': 0,\n     'error': 1.0,\n     'transactions': [162, 163, 171, 141, 153],\n     'proba': [0.8, 0.2]},\n    'right': {'value': 1,\n     'error': 0.0,\n     'transactions': [148, 149, 118, 143],\n     'proba': [0, 1.0]},\n    'transactions': [162, 163, 171, 141, 143, 148, 149, 118, 153],\n    'proba': [0.4444444444444444, 0.5555555555555556]},\n   'right': {'feat': 10,\n    'left': {'value': 1,\n     'error': 0.0,\n     'transactions': [201, 198],\n     'proba': [0, 1.0]},\n    'right': {'value': 0,\n     'error': 0.0,\n     'transactions': [67, 69, 76, 80, 81, 113, 83, 86, 89],\n     'proba': [1.0, 0]},\n    'transactions': [67, 69, 198, 201, 76, 80, 81, 113, 83, 86, 89],\n    'proba': [0.8181818181818182, 0.18181818181818182]},\n   'transactions': [141,\n    143,\n    148,\n    149,\n    153,\n    162,\n    163,\n    171,\n    67,\n    69,\n    198,\n    201,\n    76,\n    80,\n    81,\n    83,\n    86,\n    89,\n    113,\n    118],\n   'proba': [0.65, 0.35]},\n  'right': {'feat': 9,\n   'left': {'value': 0,\n    'error': 1.0,\n    'transactions': [146, 142, 127],\n    'proba': [0.3333333333333333, 0.6666666666666666]},\n   'right': {'value': 0,\n    'error': 0.0,\n    'transactions': [0,\n     2,\n     6,\n     7,\n     8,\n     10,\n     11,\n     12,\n     14,\n     17,\n     20,\n     23,\n     24,\n     27,\n     28,\n     29,\n     32,\n     36,\n     37,\n     39,\n     48,\n     50,\n     51,\n     55,\n     56,\n     64,\n     65,\n     66,\n     72,\n     74,\n     84,\n     85,\n     88,\n     90,\n     92,\n     93,\n     100],\n    'proba': [1.0, 0]},\n   'transactions': [0,\n    2,\n    6,\n    7,\n    8,\n    10,\n    11,\n    12,\n    14,\n    142,\n    17,\n    146,\n    20,\n    23,\n    24,\n    27,\n    28,\n    29,\n    32,\n    36,\n    37,\n    39,\n    48,\n    50,\n    51,\n    55,\n    56,\n    64,\n    65,\n    66,\n    72,\n    74,\n    84,\n    85,\n    88,\n    90,\n    92,\n    93,\n    100,\n    127],\n   'proba': [0.95, 0.05]},\n  'transactions': [0,\n   2,\n   6,\n   7,\n   8,\n   10,\n   11,\n   12,\n   141,\n   14,\n   142,\n   143,\n   17,\n   146,\n   20,\n   148,\n   149,\n   23,\n   24,\n   153,\n   27,\n   28,\n   29,\n   32,\n   162,\n   163,\n   36,\n   37,\n   39,\n   171,\n   48,\n   50,\n   51,\n   55,\n   56,\n   64,\n   65,\n   66,\n   67,\n   69,\n   198,\n   72,\n   201,\n   74,\n   76,\n   80,\n   81,\n   83,\n   84,\n   85,\n   86,\n   88,\n   89,\n   90,\n   92,\n   93,\n   100,\n   113,\n   118,\n   127],\n  'proba': [0.85, 0.15]},\n 'transactions': [0,\n  1,\n  2,\n  3,\n  4,\n  5,\n  6,\n  7,\n  8,\n  9,\n  10,\n  11,\n  12,\n  13,\n  14,\n  15,\n  16,\n  17,\n  18,\n  19,\n  20,\n  21,\n  22,\n  23,\n  24,\n  25,\n  26,\n  27,\n  28,\n  29,\n  30,\n  31,\n  32,\n  33,\n  34,\n  35,\n  36,\n  37,\n  38,\n  39,\n  40,\n  41,\n  42,\n  43,\n  44,\n  45,\n  46,\n  47,\n  48,\n  49,\n  50,\n  51,\n  52,\n  53,\n  54,\n  55,\n  56,\n  57,\n  58,\n  59,\n  60,\n  61,\n  62,\n  63,\n  64,\n  65,\n  66,\n  67,\n  68,\n  69,\n  70,\n  71,\n  72,\n  73,\n  74,\n  75,\n  76,\n  77,\n  78,\n  79,\n  80,\n  81,\n  82,\n  83,\n  84,\n  85,\n  86,\n  87,\n  88,\n  89,\n  90,\n  91,\n  92,\n  93,\n  94,\n  95,\n  96,\n  97,\n  98,\n  99,\n  100,\n  101,\n  102,\n  103,\n  104,\n  105,\n  106,\n  107,\n  108,\n  109,\n  110,\n  111,\n  112,\n  113,\n  114,\n  115,\n  116,\n  117,\n  118,\n  119,\n  120,\n  121,\n  122,\n  123,\n  124,\n  125,\n  126,\n  127,\n  128,\n  129,\n  130,\n  131,\n  132,\n  133,\n  134,\n  135,\n  136,\n  137,\n  138,\n  139,\n  140,\n  141,\n  142,\n  143,\n  144,\n  145,\n  146,\n  147,\n  148,\n  149,\n  150,\n  151,\n  152,\n  153,\n  154,\n  155,\n  156,\n  157,\n  158,\n  159,\n  160,\n  161,\n  162,\n  163,\n  164,\n  165,\n  166,\n  167,\n  168,\n  169,\n  170,\n  171,\n  172,\n  173,\n  174,\n  175,\n  176,\n  177,\n  178,\n  179,\n  180,\n  181,\n  182,\n  183,\n  184,\n  185,\n  186,\n  187,\n  188,\n  189,\n  190,\n  191,\n  192,\n  193,\n  194,\n  195,\n  196,\n  197,\n  198,\n  199,\n  200,\n  201,\n  202,\n  203,\n  204,\n  205,\n  206,\n  207,\n  208],\n 'proba': [0.6172248803827751, 0.3827751196172249]}"
     },
     "execution_count": 22,
     "metadata": {},
     "output_type": "execute_result"
    }
   ],
   "source": [
    "clf = DL85Classifier(max_depth=depth, error_function=lambda tids: utils.error(list(tids), k, y_train, sensitive_train), min_sup=min_supp, time_limit=600)\n",
    "clf.fit(X_train, list(y_train))\n",
    "clf.tree_"
   ],
   "metadata": {
    "collapsed": false,
    "pycharm": {
     "name": "#%%\n"
    }
   }
  },
  {
   "cell_type": "code",
   "execution_count": 23,
   "outputs": [
    {
     "data": {
      "image/svg+xml": "<?xml version=\"1.0\" encoding=\"UTF-8\" standalone=\"no\"?>\n<!DOCTYPE svg PUBLIC \"-//W3C//DTD SVG 1.1//EN\"\n \"http://www.w3.org/Graphics/SVG/1.1/DTD/svg11.dtd\">\n<!-- Generated by graphviz version 2.43.0 (0)\n -->\n<!-- Title: Tree Pages: 1 -->\n<svg width=\"1257pt\" height=\"337pt\"\n viewBox=\"0.00 0.00 1257.00 337.00\" xmlns=\"http://www.w3.org/2000/svg\" xmlns:xlink=\"http://www.w3.org/1999/xlink\">\n<g id=\"graph0\" class=\"graph\" transform=\"scale(1 1) rotate(0) translate(4 333)\">\n<title>Tree</title>\n<polygon fill=\"white\" stroke=\"transparent\" points=\"-4,4 -4,-333 1253,-333 1253,4 -4,4\"/>\n<!-- node_6c6c9f96_f45f_456e_b0db_29b59aeec8b7 -->\n<g id=\"node1\" class=\"node\">\n<title>node_6c6c9f96_f45f_456e_b0db_29b59aeec8b7</title>\n<polygon fill=\"none\" stroke=\"black\" points=\"730.5,-292.5 730.5,-328.5 800.5,-328.5 800.5,-292.5 730.5,-292.5\"/>\n<text text-anchor=\"middle\" x=\"752.5\" y=\"-306.8\" font-family=\"Times,serif\" font-size=\"14.00\">feat</text>\n<polyline fill=\"none\" stroke=\"black\" points=\"774.5,-292.5 774.5,-328.5 \"/>\n<text text-anchor=\"middle\" x=\"787.5\" y=\"-306.8\" font-family=\"Times,serif\" font-size=\"14.00\">1</text>\n</g>\n<!-- node_2da8c2c9_edc6_4818_9884_a2f67d718521 -->\n<g id=\"node2\" class=\"node\">\n<title>node_2da8c2c9_edc6_4818_9884_a2f67d718521</title>\n<polygon fill=\"none\" stroke=\"black\" points=\"537.5,-224.5 537.5,-260.5 607.5,-260.5 607.5,-224.5 537.5,-224.5\"/>\n<text text-anchor=\"middle\" x=\"559.5\" y=\"-238.8\" font-family=\"Times,serif\" font-size=\"14.00\">feat</text>\n<polyline fill=\"none\" stroke=\"black\" points=\"581.5,-224.5 581.5,-260.5 \"/>\n<text text-anchor=\"middle\" x=\"594.5\" y=\"-238.8\" font-family=\"Times,serif\" font-size=\"14.00\">4</text>\n</g>\n<!-- node_6c6c9f96_f45f_456e_b0db_29b59aeec8b7&#45;&gt;node_2da8c2c9_edc6_4818_9884_a2f67d718521 -->\n<g id=\"edge1\" class=\"edge\">\n<title>node_6c6c9f96_f45f_456e_b0db_29b59aeec8b7&#45;&gt;node_2da8c2c9_edc6_4818_9884_a2f67d718521</title>\n<path fill=\"none\" stroke=\"black\" d=\"M730.1,-297.39C698.41,-286.56 651.77,-270.61 617.45,-258.87\"/>\n<polygon fill=\"black\" stroke=\"black\" points=\"618.27,-255.45 607.67,-255.53 616,-262.08 618.27,-255.45\"/>\n<text text-anchor=\"middle\" x=\"691.5\" y=\"-272.8\" font-family=\"Times,serif\" font-size=\"14.00\">1</text>\n</g>\n<!-- node_b454f9c1_9b33_4c0d_8a0d_a870e843eaa9 -->\n<g id=\"node17\" class=\"node\">\n<title>node_b454f9c1_9b33_4c0d_8a0d_a870e843eaa9</title>\n<polygon fill=\"none\" stroke=\"black\" points=\"925.5,-224.5 925.5,-260.5 995.5,-260.5 995.5,-224.5 925.5,-224.5\"/>\n<text text-anchor=\"middle\" x=\"947.5\" y=\"-238.8\" font-family=\"Times,serif\" font-size=\"14.00\">feat</text>\n<polyline fill=\"none\" stroke=\"black\" points=\"969.5,-224.5 969.5,-260.5 \"/>\n<text text-anchor=\"middle\" x=\"982.5\" y=\"-238.8\" font-family=\"Times,serif\" font-size=\"14.00\">0</text>\n</g>\n<!-- node_6c6c9f96_f45f_456e_b0db_29b59aeec8b7&#45;&gt;node_b454f9c1_9b33_4c0d_8a0d_a870e843eaa9 -->\n<g id=\"edge16\" class=\"edge\">\n<title>node_6c6c9f96_f45f_456e_b0db_29b59aeec8b7&#45;&gt;node_b454f9c1_9b33_4c0d_8a0d_a870e843eaa9</title>\n<path fill=\"none\" stroke=\"black\" d=\"M800.81,-297.55C833.12,-286.61 881.05,-270.39 915.97,-258.57\"/>\n<polygon fill=\"black\" stroke=\"black\" points=\"917.1,-261.88 925.45,-255.36 914.86,-255.25 917.1,-261.88\"/>\n<text text-anchor=\"middle\" x=\"885.5\" y=\"-272.8\" font-family=\"Times,serif\" font-size=\"14.00\">0</text>\n</g>\n<!-- node_d7150082_156d_442e_9f02_8b2d5a4ade3c -->\n<g id=\"node3\" class=\"node\">\n<title>node_d7150082_156d_442e_9f02_8b2d5a4ade3c</title>\n<polygon fill=\"none\" stroke=\"black\" points=\"255.5,-156.5 255.5,-192.5 325.5,-192.5 325.5,-156.5 255.5,-156.5\"/>\n<text text-anchor=\"middle\" x=\"277.5\" y=\"-170.8\" font-family=\"Times,serif\" font-size=\"14.00\">feat</text>\n<polyline fill=\"none\" stroke=\"black\" points=\"299.5,-156.5 299.5,-192.5 \"/>\n<text text-anchor=\"middle\" x=\"312.5\" y=\"-170.8\" font-family=\"Times,serif\" font-size=\"14.00\">5</text>\n</g>\n<!-- node_2da8c2c9_edc6_4818_9884_a2f67d718521&#45;&gt;node_d7150082_156d_442e_9f02_8b2d5a4ade3c -->\n<g id=\"edge2\" class=\"edge\">\n<title>node_2da8c2c9_edc6_4818_9884_a2f67d718521&#45;&gt;node_d7150082_156d_442e_9f02_8b2d5a4ade3c</title>\n<path fill=\"none\" stroke=\"black\" d=\"M537.35,-233.27C486.34,-221.34 391.77,-199.2 335.66,-186.07\"/>\n<polygon fill=\"black\" stroke=\"black\" points=\"336.18,-182.6 325.64,-183.73 334.58,-189.41 336.18,-182.6\"/>\n<text text-anchor=\"middle\" x=\"462.5\" y=\"-204.8\" font-family=\"Times,serif\" font-size=\"14.00\">1</text>\n</g>\n<!-- node_574115ac_45f9_4f3d_a6e5_8ff3ba40d1a1 -->\n<g id=\"node10\" class=\"node\">\n<title>node_574115ac_45f9_4f3d_a6e5_8ff3ba40d1a1</title>\n<polygon fill=\"none\" stroke=\"black\" points=\"537.5,-156.5 537.5,-192.5 607.5,-192.5 607.5,-156.5 537.5,-156.5\"/>\n<text text-anchor=\"middle\" x=\"559.5\" y=\"-170.8\" font-family=\"Times,serif\" font-size=\"14.00\">feat</text>\n<polyline fill=\"none\" stroke=\"black\" points=\"581.5,-156.5 581.5,-192.5 \"/>\n<text text-anchor=\"middle\" x=\"594.5\" y=\"-170.8\" font-family=\"Times,serif\" font-size=\"14.00\">9</text>\n</g>\n<!-- node_2da8c2c9_edc6_4818_9884_a2f67d718521&#45;&gt;node_574115ac_45f9_4f3d_a6e5_8ff3ba40d1a1 -->\n<g id=\"edge9\" class=\"edge\">\n<title>node_2da8c2c9_edc6_4818_9884_a2f67d718521&#45;&gt;node_574115ac_45f9_4f3d_a6e5_8ff3ba40d1a1</title>\n<path fill=\"none\" stroke=\"black\" d=\"M572.5,-224.16C572.5,-217.69 572.5,-210.18 572.5,-203.02\"/>\n<polygon fill=\"black\" stroke=\"black\" points=\"576,-202.95 572.5,-192.95 569,-202.95 576,-202.95\"/>\n<text text-anchor=\"middle\" x=\"577.5\" y=\"-204.8\" font-family=\"Times,serif\" font-size=\"14.00\">0</text>\n</g>\n<!-- node_ccf275d8_8d8f_4f47_8ab8_144980adb2da -->\n<g id=\"node4\" class=\"node\">\n<title>node_ccf275d8_8d8f_4f47_8ab8_144980adb2da</title>\n<polygon fill=\"none\" stroke=\"black\" points=\"101.5,-83.5 101.5,-119.5 171.5,-119.5 171.5,-83.5 101.5,-83.5\"/>\n<text text-anchor=\"middle\" x=\"123.5\" y=\"-97.8\" font-family=\"Times,serif\" font-size=\"14.00\">feat</text>\n<polyline fill=\"none\" stroke=\"black\" points=\"145.5,-83.5 145.5,-119.5 \"/>\n<text text-anchor=\"middle\" x=\"158.5\" y=\"-97.8\" font-family=\"Times,serif\" font-size=\"14.00\">0</text>\n</g>\n<!-- node_d7150082_156d_442e_9f02_8b2d5a4ade3c&#45;&gt;node_ccf275d8_8d8f_4f47_8ab8_144980adb2da -->\n<g id=\"edge3\" class=\"edge\">\n<title>node_d7150082_156d_442e_9f02_8b2d5a4ade3c&#45;&gt;node_ccf275d8_8d8f_4f47_8ab8_144980adb2da</title>\n<path fill=\"none\" stroke=\"black\" d=\"M255.17,-157.21C233.06,-147.02 204.4,-133.8 180.78,-122.91\"/>\n<polygon fill=\"black\" stroke=\"black\" points=\"182.21,-119.72 171.67,-118.71 179.28,-126.08 182.21,-119.72\"/>\n<text text-anchor=\"middle\" x=\"237.5\" y=\"-136.8\" font-family=\"Times,serif\" font-size=\"14.00\">1</text>\n</g>\n<!-- node_0c15b8dc_999d_44bd_b032_9cdd0510c3d1 -->\n<g id=\"node7\" class=\"node\">\n<title>node_0c15b8dc_999d_44bd_b032_9cdd0510c3d1</title>\n<polygon fill=\"none\" stroke=\"black\" points=\"255.5,-83.5 255.5,-119.5 325.5,-119.5 325.5,-83.5 255.5,-83.5\"/>\n<text text-anchor=\"middle\" x=\"277.5\" y=\"-97.8\" font-family=\"Times,serif\" font-size=\"14.00\">feat</text>\n<polyline fill=\"none\" stroke=\"black\" points=\"299.5,-83.5 299.5,-119.5 \"/>\n<text text-anchor=\"middle\" x=\"312.5\" y=\"-97.8\" font-family=\"Times,serif\" font-size=\"14.00\">6</text>\n</g>\n<!-- node_d7150082_156d_442e_9f02_8b2d5a4ade3c&#45;&gt;node_0c15b8dc_999d_44bd_b032_9cdd0510c3d1 -->\n<g id=\"edge6\" class=\"edge\">\n<title>node_d7150082_156d_442e_9f02_8b2d5a4ade3c&#45;&gt;node_0c15b8dc_999d_44bd_b032_9cdd0510c3d1</title>\n<path fill=\"none\" stroke=\"black\" d=\"M290.5,-156.31C290.5,-148.29 290.5,-138.55 290.5,-129.57\"/>\n<polygon fill=\"black\" stroke=\"black\" points=\"294,-129.53 290.5,-119.53 287,-129.53 294,-129.53\"/>\n<text text-anchor=\"middle\" x=\"295.5\" y=\"-136.8\" font-family=\"Times,serif\" font-size=\"14.00\">0</text>\n</g>\n<!-- leaf_284c1fc6_3405_43c3_ad9f_0ac26d1d25da -->\n<g id=\"node5\" class=\"node\">\n<title>leaf_284c1fc6_3405_43c3_ad9f_0ac26d1d25da</title>\n<polygon fill=\"none\" stroke=\"black\" points=\"0,-0.5 0,-46.5 79,-46.5 79,-0.5 0,-0.5\"/>\n<text text-anchor=\"middle\" x=\"26\" y=\"-31.3\" font-family=\"Times,serif\" font-size=\"14.00\">class</text>\n<polyline fill=\"none\" stroke=\"black\" points=\"52,-23.5 52,-46.5 \"/>\n<text text-anchor=\"middle\" x=\"65.5\" y=\"-31.3\" font-family=\"Times,serif\" font-size=\"14.00\">0</text>\n<polyline fill=\"none\" stroke=\"black\" points=\"0,-23.5 79,-23.5 \"/>\n<text text-anchor=\"middle\" x=\"26.5\" y=\"-8.3\" font-family=\"Times,serif\" font-size=\"14.00\">error</text>\n<polyline fill=\"none\" stroke=\"black\" points=\"53,-0.5 53,-23.5 \"/>\n<text text-anchor=\"middle\" x=\"66\" y=\"-8.3\" font-family=\"Times,serif\" font-size=\"14.00\">1</text>\n</g>\n<!-- node_ccf275d8_8d8f_4f47_8ab8_144980adb2da&#45;&gt;leaf_284c1fc6_3405_43c3_ad9f_0ac26d1d25da -->\n<g id=\"edge4\" class=\"edge\">\n<title>node_ccf275d8_8d8f_4f47_8ab8_144980adb2da&#45;&gt;leaf_284c1fc6_3405_43c3_ad9f_0ac26d1d25da</title>\n<path fill=\"none\" stroke=\"black\" d=\"M114.49,-83.25C103.01,-74.26 88.67,-63.03 75.62,-52.8\"/>\n<polygon fill=\"black\" stroke=\"black\" points=\"77.73,-50 67.69,-46.59 73.41,-55.51 77.73,-50\"/>\n<text text-anchor=\"middle\" x=\"102.5\" y=\"-58.8\" font-family=\"Times,serif\" font-size=\"14.00\">1</text>\n</g>\n<!-- leaf_149a52d1_b503_4dd4_8909_827ceb00cd73 -->\n<g id=\"node6\" class=\"node\">\n<title>leaf_149a52d1_b503_4dd4_8909_827ceb00cd73</title>\n<polygon fill=\"none\" stroke=\"black\" points=\"97,-0.5 97,-46.5 176,-46.5 176,-0.5 97,-0.5\"/>\n<text text-anchor=\"middle\" x=\"123\" y=\"-31.3\" font-family=\"Times,serif\" font-size=\"14.00\">class</text>\n<polyline fill=\"none\" stroke=\"black\" points=\"149,-23.5 149,-46.5 \"/>\n<text text-anchor=\"middle\" x=\"162.5\" y=\"-31.3\" font-family=\"Times,serif\" font-size=\"14.00\">0</text>\n<polyline fill=\"none\" stroke=\"black\" points=\"97,-23.5 176,-23.5 \"/>\n<text text-anchor=\"middle\" x=\"123.5\" y=\"-8.3\" font-family=\"Times,serif\" font-size=\"14.00\">error</text>\n<polyline fill=\"none\" stroke=\"black\" points=\"150,-0.5 150,-23.5 \"/>\n<text text-anchor=\"middle\" x=\"163\" y=\"-8.3\" font-family=\"Times,serif\" font-size=\"14.00\">1</text>\n</g>\n<!-- node_ccf275d8_8d8f_4f47_8ab8_144980adb2da&#45;&gt;leaf_149a52d1_b503_4dd4_8909_827ceb00cd73 -->\n<g id=\"edge5\" class=\"edge\">\n<title>node_ccf275d8_8d8f_4f47_8ab8_144980adb2da&#45;&gt;leaf_149a52d1_b503_4dd4_8909_827ceb00cd73</title>\n<path fill=\"none\" stroke=\"black\" d=\"M136.5,-83.25C136.5,-75.36 136.5,-65.75 136.5,-56.6\"/>\n<polygon fill=\"black\" stroke=\"black\" points=\"140,-56.59 136.5,-46.59 133,-56.59 140,-56.59\"/>\n<text text-anchor=\"middle\" x=\"141.5\" y=\"-58.8\" font-family=\"Times,serif\" font-size=\"14.00\">0</text>\n</g>\n<!-- leaf_2b7646c5_60d7_468f_a33a_9975125cc50c -->\n<g id=\"node8\" class=\"node\">\n<title>leaf_2b7646c5_60d7_468f_a33a_9975125cc50c</title>\n<polygon fill=\"none\" stroke=\"black\" points=\"194,-0.5 194,-46.5 273,-46.5 273,-0.5 194,-0.5\"/>\n<text text-anchor=\"middle\" x=\"220\" y=\"-31.3\" font-family=\"Times,serif\" font-size=\"14.00\">class</text>\n<polyline fill=\"none\" stroke=\"black\" points=\"246,-23.5 246,-46.5 \"/>\n<text text-anchor=\"middle\" x=\"259.5\" y=\"-31.3\" font-family=\"Times,serif\" font-size=\"14.00\">0</text>\n<polyline fill=\"none\" stroke=\"black\" points=\"194,-23.5 273,-23.5 \"/>\n<text text-anchor=\"middle\" x=\"220.5\" y=\"-8.3\" font-family=\"Times,serif\" font-size=\"14.00\">error</text>\n<polyline fill=\"none\" stroke=\"black\" points=\"247,-0.5 247,-23.5 \"/>\n<text text-anchor=\"middle\" x=\"260\" y=\"-8.3\" font-family=\"Times,serif\" font-size=\"14.00\">0</text>\n</g>\n<!-- node_0c15b8dc_999d_44bd_b032_9cdd0510c3d1&#45;&gt;leaf_2b7646c5_60d7_468f_a33a_9975125cc50c -->\n<g id=\"edge7\" class=\"edge\">\n<title>node_0c15b8dc_999d_44bd_b032_9cdd0510c3d1&#45;&gt;leaf_2b7646c5_60d7_468f_a33a_9975125cc50c</title>\n<path fill=\"none\" stroke=\"black\" d=\"M277.57,-83.25C271.27,-74.85 263.5,-64.5 256.25,-54.84\"/>\n<polygon fill=\"black\" stroke=\"black\" points=\"258.87,-52.49 250.07,-46.59 253.27,-56.69 258.87,-52.49\"/>\n<text text-anchor=\"middle\" x=\"272.5\" y=\"-58.8\" font-family=\"Times,serif\" font-size=\"14.00\">1</text>\n</g>\n<!-- leaf_591e9ca2_fb83_4f19_b1bf_9d5452e70e02 -->\n<g id=\"node9\" class=\"node\">\n<title>leaf_591e9ca2_fb83_4f19_b1bf_9d5452e70e02</title>\n<polygon fill=\"none\" stroke=\"black\" points=\"291,-0.5 291,-46.5 370,-46.5 370,-0.5 291,-0.5\"/>\n<text text-anchor=\"middle\" x=\"317\" y=\"-31.3\" font-family=\"Times,serif\" font-size=\"14.00\">class</text>\n<polyline fill=\"none\" stroke=\"black\" points=\"343,-23.5 343,-46.5 \"/>\n<text text-anchor=\"middle\" x=\"356.5\" y=\"-31.3\" font-family=\"Times,serif\" font-size=\"14.00\">1</text>\n<polyline fill=\"none\" stroke=\"black\" points=\"291,-23.5 370,-23.5 \"/>\n<text text-anchor=\"middle\" x=\"317.5\" y=\"-8.3\" font-family=\"Times,serif\" font-size=\"14.00\">error</text>\n<polyline fill=\"none\" stroke=\"black\" points=\"344,-0.5 344,-23.5 \"/>\n<text text-anchor=\"middle\" x=\"357\" y=\"-8.3\" font-family=\"Times,serif\" font-size=\"14.00\">2</text>\n</g>\n<!-- node_0c15b8dc_999d_44bd_b032_9cdd0510c3d1&#45;&gt;leaf_591e9ca2_fb83_4f19_b1bf_9d5452e70e02 -->\n<g id=\"edge8\" class=\"edge\">\n<title>node_0c15b8dc_999d_44bd_b032_9cdd0510c3d1&#45;&gt;leaf_591e9ca2_fb83_4f19_b1bf_9d5452e70e02</title>\n<path fill=\"none\" stroke=\"black\" d=\"M299.58,-83.25C303.86,-75.11 309.12,-65.13 314.07,-55.72\"/>\n<polygon fill=\"black\" stroke=\"black\" points=\"317.31,-57.07 318.87,-46.59 311.12,-53.81 317.31,-57.07\"/>\n<text text-anchor=\"middle\" x=\"319.5\" y=\"-58.8\" font-family=\"Times,serif\" font-size=\"14.00\">0</text>\n</g>\n<!-- node_c51cc5cd_a87e_4d80_806c_6b2f1e16c7b6 -->\n<g id=\"node11\" class=\"node\">\n<title>node_c51cc5cd_a87e_4d80_806c_6b2f1e16c7b6</title>\n<polygon fill=\"none\" stroke=\"black\" points=\"497.5,-83.5 497.5,-119.5 567.5,-119.5 567.5,-83.5 497.5,-83.5\"/>\n<text text-anchor=\"middle\" x=\"519.5\" y=\"-97.8\" font-family=\"Times,serif\" font-size=\"14.00\">feat</text>\n<polyline fill=\"none\" stroke=\"black\" points=\"541.5,-83.5 541.5,-119.5 \"/>\n<text text-anchor=\"middle\" x=\"554.5\" y=\"-97.8\" font-family=\"Times,serif\" font-size=\"14.00\">0</text>\n</g>\n<!-- node_574115ac_45f9_4f3d_a6e5_8ff3ba40d1a1&#45;&gt;node_c51cc5cd_a87e_4d80_806c_6b2f1e16c7b6 -->\n<g id=\"edge10\" class=\"edge\">\n<title>node_574115ac_45f9_4f3d_a6e5_8ff3ba40d1a1&#45;&gt;node_c51cc5cd_a87e_4d80_806c_6b2f1e16c7b6</title>\n<path fill=\"none\" stroke=\"black\" d=\"M562.82,-156.31C558.1,-147.94 552.33,-137.7 547.09,-128.4\"/>\n<polygon fill=\"black\" stroke=\"black\" points=\"550.05,-126.52 542.09,-119.53 543.95,-129.96 550.05,-126.52\"/>\n<text text-anchor=\"middle\" x=\"562.5\" y=\"-136.8\" font-family=\"Times,serif\" font-size=\"14.00\">1</text>\n</g>\n<!-- node_550ea613_7e00_4caf_bfac_213e600e21bc -->\n<g id=\"node14\" class=\"node\">\n<title>node_550ea613_7e00_4caf_bfac_213e600e21bc</title>\n<polygon fill=\"none\" stroke=\"black\" points=\"590,-83.5 590,-119.5 669,-119.5 669,-83.5 590,-83.5\"/>\n<text text-anchor=\"middle\" x=\"612\" y=\"-97.8\" font-family=\"Times,serif\" font-size=\"14.00\">feat</text>\n<polyline fill=\"none\" stroke=\"black\" points=\"634,-83.5 634,-119.5 \"/>\n<text text-anchor=\"middle\" x=\"651.5\" y=\"-97.8\" font-family=\"Times,serif\" font-size=\"14.00\">10</text>\n</g>\n<!-- node_574115ac_45f9_4f3d_a6e5_8ff3ba40d1a1&#45;&gt;node_550ea613_7e00_4caf_bfac_213e600e21bc -->\n<g id=\"edge13\" class=\"edge\">\n<title>node_574115ac_45f9_4f3d_a6e5_8ff3ba40d1a1&#45;&gt;node_550ea613_7e00_4caf_bfac_213e600e21bc</title>\n<path fill=\"none\" stroke=\"black\" d=\"M586.3,-156.31C593.23,-147.68 601.76,-137.06 609.4,-127.53\"/>\n<polygon fill=\"black\" stroke=\"black\" points=\"612.3,-129.52 615.83,-119.53 606.84,-125.14 612.3,-129.52\"/>\n<text text-anchor=\"middle\" x=\"609.5\" y=\"-136.8\" font-family=\"Times,serif\" font-size=\"14.00\">0</text>\n</g>\n<!-- leaf_68f3182b_5c82_42af_b25a_c8093356be11 -->\n<g id=\"node12\" class=\"node\">\n<title>leaf_68f3182b_5c82_42af_b25a_c8093356be11</title>\n<polygon fill=\"none\" stroke=\"black\" points=\"387.5,-0.5 387.5,-46.5 475.5,-46.5 475.5,-0.5 387.5,-0.5\"/>\n<text text-anchor=\"middle\" x=\"416\" y=\"-31.3\" font-family=\"Times,serif\" font-size=\"14.00\">class</text>\n<polyline fill=\"none\" stroke=\"black\" points=\"444.5,-23.5 444.5,-46.5 \"/>\n<text text-anchor=\"middle\" x=\"460\" y=\"-31.3\" font-family=\"Times,serif\" font-size=\"14.00\">1</text>\n<polyline fill=\"none\" stroke=\"black\" points=\"387.5,-23.5 475.5,-23.5 \"/>\n<text text-anchor=\"middle\" x=\"414\" y=\"-8.3\" font-family=\"Times,serif\" font-size=\"14.00\">error</text>\n<polyline fill=\"none\" stroke=\"black\" points=\"440.5,-0.5 440.5,-23.5 \"/>\n<text text-anchor=\"middle\" x=\"458\" y=\"-8.3\" font-family=\"Times,serif\" font-size=\"14.00\">11</text>\n</g>\n<!-- node_c51cc5cd_a87e_4d80_806c_6b2f1e16c7b6&#45;&gt;leaf_68f3182b_5c82_42af_b25a_c8093356be11 -->\n<g id=\"edge11\" class=\"edge\">\n<title>node_c51cc5cd_a87e_4d80_806c_6b2f1e16c7b6&#45;&gt;leaf_68f3182b_5c82_42af_b25a_c8093356be11</title>\n<path fill=\"none\" stroke=\"black\" d=\"M509.83,-83.44C497.89,-74.46 482.92,-63.19 469.28,-52.93\"/>\n<polygon fill=\"black\" stroke=\"black\" points=\"471.09,-49.91 461,-46.7 466.88,-55.51 471.09,-49.91\"/>\n<text text-anchor=\"middle\" x=\"496.5\" y=\"-58.8\" font-family=\"Times,serif\" font-size=\"14.00\">1</text>\n</g>\n<!-- leaf_daf915e5_2e00_405e_b0d9_c686d6d7d9d7 -->\n<g id=\"node13\" class=\"node\">\n<title>leaf_daf915e5_2e00_405e_b0d9_c686d6d7d9d7</title>\n<polygon fill=\"none\" stroke=\"black\" points=\"493,-0.5 493,-46.5 572,-46.5 572,-0.5 493,-0.5\"/>\n<text text-anchor=\"middle\" x=\"519\" y=\"-31.3\" font-family=\"Times,serif\" font-size=\"14.00\">class</text>\n<polyline fill=\"none\" stroke=\"black\" points=\"545,-23.5 545,-46.5 \"/>\n<text text-anchor=\"middle\" x=\"558.5\" y=\"-31.3\" font-family=\"Times,serif\" font-size=\"14.00\">0</text>\n<polyline fill=\"none\" stroke=\"black\" points=\"493,-23.5 572,-23.5 \"/>\n<text text-anchor=\"middle\" x=\"519.5\" y=\"-8.3\" font-family=\"Times,serif\" font-size=\"14.00\">error</text>\n<polyline fill=\"none\" stroke=\"black\" points=\"546,-0.5 546,-23.5 \"/>\n<text text-anchor=\"middle\" x=\"559\" y=\"-8.3\" font-family=\"Times,serif\" font-size=\"14.00\">1</text>\n</g>\n<!-- node_c51cc5cd_a87e_4d80_806c_6b2f1e16c7b6&#45;&gt;leaf_daf915e5_2e00_405e_b0d9_c686d6d7d9d7 -->\n<g id=\"edge12\" class=\"edge\">\n<title>node_c51cc5cd_a87e_4d80_806c_6b2f1e16c7b6&#45;&gt;leaf_daf915e5_2e00_405e_b0d9_c686d6d7d9d7</title>\n<path fill=\"none\" stroke=\"black\" d=\"M532.5,-83.25C532.5,-75.36 532.5,-65.75 532.5,-56.6\"/>\n<polygon fill=\"black\" stroke=\"black\" points=\"536,-56.59 532.5,-46.59 529,-56.59 536,-56.59\"/>\n<text text-anchor=\"middle\" x=\"537.5\" y=\"-58.8\" font-family=\"Times,serif\" font-size=\"14.00\">0</text>\n</g>\n<!-- leaf_602654dd_d987_40b6_a803_f6c30576ff56 -->\n<g id=\"node15\" class=\"node\">\n<title>leaf_602654dd_d987_40b6_a803_f6c30576ff56</title>\n<polygon fill=\"none\" stroke=\"black\" points=\"590,-0.5 590,-46.5 669,-46.5 669,-0.5 590,-0.5\"/>\n<text text-anchor=\"middle\" x=\"616\" y=\"-31.3\" font-family=\"Times,serif\" font-size=\"14.00\">class</text>\n<polyline fill=\"none\" stroke=\"black\" points=\"642,-23.5 642,-46.5 \"/>\n<text text-anchor=\"middle\" x=\"655.5\" y=\"-31.3\" font-family=\"Times,serif\" font-size=\"14.00\">1</text>\n<polyline fill=\"none\" stroke=\"black\" points=\"590,-23.5 669,-23.5 \"/>\n<text text-anchor=\"middle\" x=\"616.5\" y=\"-8.3\" font-family=\"Times,serif\" font-size=\"14.00\">error</text>\n<polyline fill=\"none\" stroke=\"black\" points=\"643,-0.5 643,-23.5 \"/>\n<text text-anchor=\"middle\" x=\"656\" y=\"-8.3\" font-family=\"Times,serif\" font-size=\"14.00\">0</text>\n</g>\n<!-- node_550ea613_7e00_4caf_bfac_213e600e21bc&#45;&gt;leaf_602654dd_d987_40b6_a803_f6c30576ff56 -->\n<g id=\"edge14\" class=\"edge\">\n<title>node_550ea613_7e00_4caf_bfac_213e600e21bc&#45;&gt;leaf_602654dd_d987_40b6_a803_f6c30576ff56</title>\n<path fill=\"none\" stroke=\"black\" d=\"M629.5,-83.25C629.5,-75.36 629.5,-65.75 629.5,-56.6\"/>\n<polygon fill=\"black\" stroke=\"black\" points=\"633,-56.59 629.5,-46.59 626,-56.59 633,-56.59\"/>\n<text text-anchor=\"middle\" x=\"634.5\" y=\"-58.8\" font-family=\"Times,serif\" font-size=\"14.00\">1</text>\n</g>\n<!-- leaf_d229aa3d_87be_44f4_af32_fb6e9ae26642 -->\n<g id=\"node16\" class=\"node\">\n<title>leaf_d229aa3d_87be_44f4_af32_fb6e9ae26642</title>\n<polygon fill=\"none\" stroke=\"black\" points=\"687,-0.5 687,-46.5 766,-46.5 766,-0.5 687,-0.5\"/>\n<text text-anchor=\"middle\" x=\"713\" y=\"-31.3\" font-family=\"Times,serif\" font-size=\"14.00\">class</text>\n<polyline fill=\"none\" stroke=\"black\" points=\"739,-23.5 739,-46.5 \"/>\n<text text-anchor=\"middle\" x=\"752.5\" y=\"-31.3\" font-family=\"Times,serif\" font-size=\"14.00\">0</text>\n<polyline fill=\"none\" stroke=\"black\" points=\"687,-23.5 766,-23.5 \"/>\n<text text-anchor=\"middle\" x=\"713.5\" y=\"-8.3\" font-family=\"Times,serif\" font-size=\"14.00\">error</text>\n<polyline fill=\"none\" stroke=\"black\" points=\"740,-0.5 740,-23.5 \"/>\n<text text-anchor=\"middle\" x=\"753\" y=\"-8.3\" font-family=\"Times,serif\" font-size=\"14.00\">2</text>\n</g>\n<!-- node_550ea613_7e00_4caf_bfac_213e600e21bc&#45;&gt;leaf_d229aa3d_87be_44f4_af32_fb6e9ae26642 -->\n<g id=\"edge15\" class=\"edge\">\n<title>node_550ea613_7e00_4caf_bfac_213e600e21bc&#45;&gt;leaf_d229aa3d_87be_44f4_af32_fb6e9ae26642</title>\n<path fill=\"none\" stroke=\"black\" d=\"M651.51,-83.25C662.99,-74.26 677.33,-63.03 690.38,-52.8\"/>\n<polygon fill=\"black\" stroke=\"black\" points=\"692.59,-55.51 698.31,-46.59 688.27,-50 692.59,-55.51\"/>\n<text text-anchor=\"middle\" x=\"692.5\" y=\"-58.8\" font-family=\"Times,serif\" font-size=\"14.00\">0</text>\n</g>\n<!-- node_d945d0b7_5ddd_4bec_90da_40378ed24f8c -->\n<g id=\"node18\" class=\"node\">\n<title>node_d945d0b7_5ddd_4bec_90da_40378ed24f8c</title>\n<polygon fill=\"none\" stroke=\"black\" points=\"925.5,-156.5 925.5,-192.5 995.5,-192.5 995.5,-156.5 925.5,-156.5\"/>\n<text text-anchor=\"middle\" x=\"947.5\" y=\"-170.8\" font-family=\"Times,serif\" font-size=\"14.00\">feat</text>\n<polyline fill=\"none\" stroke=\"black\" points=\"969.5,-156.5 969.5,-192.5 \"/>\n<text text-anchor=\"middle\" x=\"982.5\" y=\"-170.8\" font-family=\"Times,serif\" font-size=\"14.00\">9</text>\n</g>\n<!-- node_b454f9c1_9b33_4c0d_8a0d_a870e843eaa9&#45;&gt;node_d945d0b7_5ddd_4bec_90da_40378ed24f8c -->\n<g id=\"edge17\" class=\"edge\">\n<title>node_b454f9c1_9b33_4c0d_8a0d_a870e843eaa9&#45;&gt;node_d945d0b7_5ddd_4bec_90da_40378ed24f8c</title>\n<path fill=\"none\" stroke=\"black\" d=\"M960.5,-224.16C960.5,-217.69 960.5,-210.18 960.5,-203.02\"/>\n<polygon fill=\"black\" stroke=\"black\" points=\"964,-202.95 960.5,-192.95 957,-202.95 964,-202.95\"/>\n<text text-anchor=\"middle\" x=\"965.5\" y=\"-204.8\" font-family=\"Times,serif\" font-size=\"14.00\">1</text>\n</g>\n<!-- node_673667a0_a688_4643_bf59_ab47bcd7de86 -->\n<g id=\"node25\" class=\"node\">\n<title>node_673667a0_a688_4643_bf59_ab47bcd7de86</title>\n<polygon fill=\"none\" stroke=\"black\" points=\"1077.5,-156.5 1077.5,-192.5 1147.5,-192.5 1147.5,-156.5 1077.5,-156.5\"/>\n<text text-anchor=\"middle\" x=\"1099.5\" y=\"-170.8\" font-family=\"Times,serif\" font-size=\"14.00\">feat</text>\n<polyline fill=\"none\" stroke=\"black\" points=\"1121.5,-156.5 1121.5,-192.5 \"/>\n<text text-anchor=\"middle\" x=\"1134.5\" y=\"-170.8\" font-family=\"Times,serif\" font-size=\"14.00\">9</text>\n</g>\n<!-- node_b454f9c1_9b33_4c0d_8a0d_a870e843eaa9&#45;&gt;node_673667a0_a688_4643_bf59_ab47bcd7de86 -->\n<g id=\"edge24\" class=\"edge\">\n<title>node_b454f9c1_9b33_4c0d_8a0d_a870e843eaa9&#45;&gt;node_673667a0_a688_4643_bf59_ab47bcd7de86</title>\n<path fill=\"none\" stroke=\"black\" d=\"M995.75,-226.19C1017.34,-216.82 1045.14,-204.75 1068.2,-194.73\"/>\n<polygon fill=\"black\" stroke=\"black\" points=\"1069.66,-197.92 1077.44,-190.72 1066.87,-191.5 1069.66,-197.92\"/>\n<text text-anchor=\"middle\" x=\"1055.5\" y=\"-204.8\" font-family=\"Times,serif\" font-size=\"14.00\">0</text>\n</g>\n<!-- node_b72a00d9_838d_4b16_87f5_17dab19d1fda -->\n<g id=\"node19\" class=\"node\">\n<title>node_b72a00d9_838d_4b16_87f5_17dab19d1fda</title>\n<polygon fill=\"none\" stroke=\"black\" points=\"885.5,-83.5 885.5,-119.5 955.5,-119.5 955.5,-83.5 885.5,-83.5\"/>\n<text text-anchor=\"middle\" x=\"907.5\" y=\"-97.8\" font-family=\"Times,serif\" font-size=\"14.00\">feat</text>\n<polyline fill=\"none\" stroke=\"black\" points=\"929.5,-83.5 929.5,-119.5 \"/>\n<text text-anchor=\"middle\" x=\"942.5\" y=\"-97.8\" font-family=\"Times,serif\" font-size=\"14.00\">2</text>\n</g>\n<!-- node_d945d0b7_5ddd_4bec_90da_40378ed24f8c&#45;&gt;node_b72a00d9_838d_4b16_87f5_17dab19d1fda -->\n<g id=\"edge18\" class=\"edge\">\n<title>node_d945d0b7_5ddd_4bec_90da_40378ed24f8c&#45;&gt;node_b72a00d9_838d_4b16_87f5_17dab19d1fda</title>\n<path fill=\"none\" stroke=\"black\" d=\"M950.82,-156.31C946.1,-147.94 940.33,-137.7 935.09,-128.4\"/>\n<polygon fill=\"black\" stroke=\"black\" points=\"938.05,-126.52 930.09,-119.53 931.95,-129.96 938.05,-126.52\"/>\n<text text-anchor=\"middle\" x=\"950.5\" y=\"-136.8\" font-family=\"Times,serif\" font-size=\"14.00\">1</text>\n</g>\n<!-- node_08f1b21d_b888_4eb8_875b_a9200343f67f -->\n<g id=\"node22\" class=\"node\">\n<title>node_08f1b21d_b888_4eb8_875b_a9200343f67f</title>\n<polygon fill=\"none\" stroke=\"black\" points=\"976,-83.5 976,-119.5 1055,-119.5 1055,-83.5 976,-83.5\"/>\n<text text-anchor=\"middle\" x=\"998\" y=\"-97.8\" font-family=\"Times,serif\" font-size=\"14.00\">feat</text>\n<polyline fill=\"none\" stroke=\"black\" points=\"1020,-83.5 1020,-119.5 \"/>\n<text text-anchor=\"middle\" x=\"1037.5\" y=\"-97.8\" font-family=\"Times,serif\" font-size=\"14.00\">10</text>\n</g>\n<!-- node_d945d0b7_5ddd_4bec_90da_40378ed24f8c&#45;&gt;node_08f1b21d_b888_4eb8_875b_a9200343f67f -->\n<g id=\"edge21\" class=\"edge\">\n<title>node_d945d0b7_5ddd_4bec_90da_40378ed24f8c&#45;&gt;node_08f1b21d_b888_4eb8_875b_a9200343f67f</title>\n<path fill=\"none\" stroke=\"black\" d=\"M973.81,-156.31C980.5,-147.68 988.73,-137.06 996.11,-127.53\"/>\n<polygon fill=\"black\" stroke=\"black\" points=\"998.95,-129.58 1002.31,-119.53 993.42,-125.29 998.95,-129.58\"/>\n<text text-anchor=\"middle\" x=\"996.5\" y=\"-136.8\" font-family=\"Times,serif\" font-size=\"14.00\">0</text>\n</g>\n<!-- leaf_b5d6bd63_004a_4bbc_b3c2_b1fbc9d953cb -->\n<g id=\"node20\" class=\"node\">\n<title>leaf_b5d6bd63_004a_4bbc_b3c2_b1fbc9d953cb</title>\n<polygon fill=\"none\" stroke=\"black\" points=\"784,-0.5 784,-46.5 863,-46.5 863,-0.5 784,-0.5\"/>\n<text text-anchor=\"middle\" x=\"810\" y=\"-31.3\" font-family=\"Times,serif\" font-size=\"14.00\">class</text>\n<polyline fill=\"none\" stroke=\"black\" points=\"836,-23.5 836,-46.5 \"/>\n<text text-anchor=\"middle\" x=\"849.5\" y=\"-31.3\" font-family=\"Times,serif\" font-size=\"14.00\">0</text>\n<polyline fill=\"none\" stroke=\"black\" points=\"784,-23.5 863,-23.5 \"/>\n<text text-anchor=\"middle\" x=\"810.5\" y=\"-8.3\" font-family=\"Times,serif\" font-size=\"14.00\">error</text>\n<polyline fill=\"none\" stroke=\"black\" points=\"837,-0.5 837,-23.5 \"/>\n<text text-anchor=\"middle\" x=\"850\" y=\"-8.3\" font-family=\"Times,serif\" font-size=\"14.00\">1</text>\n</g>\n<!-- node_b72a00d9_838d_4b16_87f5_17dab19d1fda&#45;&gt;leaf_b5d6bd63_004a_4bbc_b3c2_b1fbc9d953cb -->\n<g id=\"edge19\" class=\"edge\">\n<title>node_b72a00d9_838d_4b16_87f5_17dab19d1fda&#45;&gt;leaf_b5d6bd63_004a_4bbc_b3c2_b1fbc9d953cb</title>\n<path fill=\"none\" stroke=\"black\" d=\"M898.49,-83.25C887.01,-74.26 872.67,-63.03 859.62,-52.8\"/>\n<polygon fill=\"black\" stroke=\"black\" points=\"861.73,-50 851.69,-46.59 857.41,-55.51 861.73,-50\"/>\n<text text-anchor=\"middle\" x=\"886.5\" y=\"-58.8\" font-family=\"Times,serif\" font-size=\"14.00\">1</text>\n</g>\n<!-- leaf_b0a3e049_4230_45a5_81b1_fe6a9bc4da08 -->\n<g id=\"node21\" class=\"node\">\n<title>leaf_b0a3e049_4230_45a5_81b1_fe6a9bc4da08</title>\n<polygon fill=\"none\" stroke=\"black\" points=\"881,-0.5 881,-46.5 960,-46.5 960,-0.5 881,-0.5\"/>\n<text text-anchor=\"middle\" x=\"907\" y=\"-31.3\" font-family=\"Times,serif\" font-size=\"14.00\">class</text>\n<polyline fill=\"none\" stroke=\"black\" points=\"933,-23.5 933,-46.5 \"/>\n<text text-anchor=\"middle\" x=\"946.5\" y=\"-31.3\" font-family=\"Times,serif\" font-size=\"14.00\">1</text>\n<polyline fill=\"none\" stroke=\"black\" points=\"881,-23.5 960,-23.5 \"/>\n<text text-anchor=\"middle\" x=\"907.5\" y=\"-8.3\" font-family=\"Times,serif\" font-size=\"14.00\">error</text>\n<polyline fill=\"none\" stroke=\"black\" points=\"934,-0.5 934,-23.5 \"/>\n<text text-anchor=\"middle\" x=\"947\" y=\"-8.3\" font-family=\"Times,serif\" font-size=\"14.00\">0</text>\n</g>\n<!-- node_b72a00d9_838d_4b16_87f5_17dab19d1fda&#45;&gt;leaf_b0a3e049_4230_45a5_81b1_fe6a9bc4da08 -->\n<g id=\"edge20\" class=\"edge\">\n<title>node_b72a00d9_838d_4b16_87f5_17dab19d1fda&#45;&gt;leaf_b0a3e049_4230_45a5_81b1_fe6a9bc4da08</title>\n<path fill=\"none\" stroke=\"black\" d=\"M920.5,-83.25C920.5,-75.36 920.5,-65.75 920.5,-56.6\"/>\n<polygon fill=\"black\" stroke=\"black\" points=\"924,-56.59 920.5,-46.59 917,-56.59 924,-56.59\"/>\n<text text-anchor=\"middle\" x=\"925.5\" y=\"-58.8\" font-family=\"Times,serif\" font-size=\"14.00\">0</text>\n</g>\n<!-- leaf_7f37c5e3_a06b_4377_bfd9_9323d9cd9905 -->\n<g id=\"node23\" class=\"node\">\n<title>leaf_7f37c5e3_a06b_4377_bfd9_9323d9cd9905</title>\n<polygon fill=\"none\" stroke=\"black\" points=\"978,-0.5 978,-46.5 1057,-46.5 1057,-0.5 978,-0.5\"/>\n<text text-anchor=\"middle\" x=\"1004\" y=\"-31.3\" font-family=\"Times,serif\" font-size=\"14.00\">class</text>\n<polyline fill=\"none\" stroke=\"black\" points=\"1030,-23.5 1030,-46.5 \"/>\n<text text-anchor=\"middle\" x=\"1043.5\" y=\"-31.3\" font-family=\"Times,serif\" font-size=\"14.00\">1</text>\n<polyline fill=\"none\" stroke=\"black\" points=\"978,-23.5 1057,-23.5 \"/>\n<text text-anchor=\"middle\" x=\"1004.5\" y=\"-8.3\" font-family=\"Times,serif\" font-size=\"14.00\">error</text>\n<polyline fill=\"none\" stroke=\"black\" points=\"1031,-0.5 1031,-23.5 \"/>\n<text text-anchor=\"middle\" x=\"1044\" y=\"-8.3\" font-family=\"Times,serif\" font-size=\"14.00\">0</text>\n</g>\n<!-- node_08f1b21d_b888_4eb8_875b_a9200343f67f&#45;&gt;leaf_7f37c5e3_a06b_4377_bfd9_9323d9cd9905 -->\n<g id=\"edge22\" class=\"edge\">\n<title>node_08f1b21d_b888_4eb8_875b_a9200343f67f&#45;&gt;leaf_7f37c5e3_a06b_4377_bfd9_9323d9cd9905</title>\n<path fill=\"none\" stroke=\"black\" d=\"M1015.95,-83.25C1016.16,-75.36 1016.41,-65.75 1016.66,-56.6\"/>\n<polygon fill=\"black\" stroke=\"black\" points=\"1020.15,-56.68 1016.92,-46.59 1013.16,-56.5 1020.15,-56.68\"/>\n<text text-anchor=\"middle\" x=\"1022.5\" y=\"-58.8\" font-family=\"Times,serif\" font-size=\"14.00\">1</text>\n</g>\n<!-- leaf_efd49953_a76f_4043_b707_8d2ed18f77ab -->\n<g id=\"node24\" class=\"node\">\n<title>leaf_efd49953_a76f_4043_b707_8d2ed18f77ab</title>\n<polygon fill=\"none\" stroke=\"black\" points=\"1075,-0.5 1075,-46.5 1154,-46.5 1154,-0.5 1075,-0.5\"/>\n<text text-anchor=\"middle\" x=\"1101\" y=\"-31.3\" font-family=\"Times,serif\" font-size=\"14.00\">class</text>\n<polyline fill=\"none\" stroke=\"black\" points=\"1127,-23.5 1127,-46.5 \"/>\n<text text-anchor=\"middle\" x=\"1140.5\" y=\"-31.3\" font-family=\"Times,serif\" font-size=\"14.00\">0</text>\n<polyline fill=\"none\" stroke=\"black\" points=\"1075,-23.5 1154,-23.5 \"/>\n<text text-anchor=\"middle\" x=\"1101.5\" y=\"-8.3\" font-family=\"Times,serif\" font-size=\"14.00\">error</text>\n<polyline fill=\"none\" stroke=\"black\" points=\"1128,-0.5 1128,-23.5 \"/>\n<text text-anchor=\"middle\" x=\"1141\" y=\"-8.3\" font-family=\"Times,serif\" font-size=\"14.00\">0</text>\n</g>\n<!-- node_08f1b21d_b888_4eb8_875b_a9200343f67f&#45;&gt;leaf_efd49953_a76f_4043_b707_8d2ed18f77ab -->\n<g id=\"edge23\" class=\"edge\">\n<title>node_08f1b21d_b888_4eb8_875b_a9200343f67f&#45;&gt;leaf_efd49953_a76f_4043_b707_8d2ed18f77ab</title>\n<path fill=\"none\" stroke=\"black\" d=\"M1037.96,-83.25C1049.68,-74.26 1064.31,-63.03 1077.64,-52.8\"/>\n<polygon fill=\"black\" stroke=\"black\" points=\"1079.92,-55.46 1085.72,-46.59 1075.66,-49.9 1079.92,-55.46\"/>\n<text text-anchor=\"middle\" x=\"1079.5\" y=\"-58.8\" font-family=\"Times,serif\" font-size=\"14.00\">0</text>\n</g>\n<!-- leaf_d4182288_c35b_40d9_becc_f0ab12524578 -->\n<g id=\"node26\" class=\"node\">\n<title>leaf_d4182288_c35b_40d9_becc_f0ab12524578</title>\n<polygon fill=\"none\" stroke=\"black\" points=\"1073,-78.5 1073,-124.5 1152,-124.5 1152,-78.5 1073,-78.5\"/>\n<text text-anchor=\"middle\" x=\"1099\" y=\"-109.3\" font-family=\"Times,serif\" font-size=\"14.00\">class</text>\n<polyline fill=\"none\" stroke=\"black\" points=\"1125,-101.5 1125,-124.5 \"/>\n<text text-anchor=\"middle\" x=\"1138.5\" y=\"-109.3\" font-family=\"Times,serif\" font-size=\"14.00\">0</text>\n<polyline fill=\"none\" stroke=\"black\" points=\"1073,-101.5 1152,-101.5 \"/>\n<text text-anchor=\"middle\" x=\"1099.5\" y=\"-86.3\" font-family=\"Times,serif\" font-size=\"14.00\">error</text>\n<polyline fill=\"none\" stroke=\"black\" points=\"1126,-78.5 1126,-101.5 \"/>\n<text text-anchor=\"middle\" x=\"1139\" y=\"-86.3\" font-family=\"Times,serif\" font-size=\"14.00\">1</text>\n</g>\n<!-- node_673667a0_a688_4643_bf59_ab47bcd7de86&#45;&gt;leaf_d4182288_c35b_40d9_becc_f0ab12524578 -->\n<g id=\"edge25\" class=\"edge\">\n<title>node_673667a0_a688_4643_bf59_ab47bcd7de86&#45;&gt;leaf_d4182288_c35b_40d9_becc_f0ab12524578</title>\n<path fill=\"none\" stroke=\"black\" d=\"M1112.5,-156.31C1112.5,-149.84 1112.5,-142.25 1112.5,-134.85\"/>\n<polygon fill=\"black\" stroke=\"black\" points=\"1116,-134.64 1112.5,-124.64 1109,-134.64 1116,-134.64\"/>\n<text text-anchor=\"middle\" x=\"1117.5\" y=\"-136.8\" font-family=\"Times,serif\" font-size=\"14.00\">1</text>\n</g>\n<!-- leaf_9c0b5767_f8f4_4f81_a81e_3c5587a5bde0 -->\n<g id=\"node27\" class=\"node\">\n<title>leaf_9c0b5767_f8f4_4f81_a81e_3c5587a5bde0</title>\n<polygon fill=\"none\" stroke=\"black\" points=\"1170,-78.5 1170,-124.5 1249,-124.5 1249,-78.5 1170,-78.5\"/>\n<text text-anchor=\"middle\" x=\"1196\" y=\"-109.3\" font-family=\"Times,serif\" font-size=\"14.00\">class</text>\n<polyline fill=\"none\" stroke=\"black\" points=\"1222,-101.5 1222,-124.5 \"/>\n<text text-anchor=\"middle\" x=\"1235.5\" y=\"-109.3\" font-family=\"Times,serif\" font-size=\"14.00\">0</text>\n<polyline fill=\"none\" stroke=\"black\" points=\"1170,-101.5 1249,-101.5 \"/>\n<text text-anchor=\"middle\" x=\"1196.5\" y=\"-86.3\" font-family=\"Times,serif\" font-size=\"14.00\">error</text>\n<polyline fill=\"none\" stroke=\"black\" points=\"1223,-78.5 1223,-101.5 \"/>\n<text text-anchor=\"middle\" x=\"1236\" y=\"-86.3\" font-family=\"Times,serif\" font-size=\"14.00\">0</text>\n</g>\n<!-- node_673667a0_a688_4643_bf59_ab47bcd7de86&#45;&gt;leaf_9c0b5767_f8f4_4f81_a81e_3c5587a5bde0 -->\n<g id=\"edge26\" class=\"edge\">\n<title>node_673667a0_a688_4643_bf59_ab47bcd7de86&#45;&gt;leaf_9c0b5767_f8f4_4f81_a81e_3c5587a5bde0</title>\n<path fill=\"none\" stroke=\"black\" d=\"M1135.98,-156.31C1146.45,-148.65 1159.06,-139.42 1170.85,-130.79\"/>\n<polygon fill=\"black\" stroke=\"black\" points=\"1173.26,-133.37 1179.26,-124.64 1169.12,-127.72 1173.26,-133.37\"/>\n<text text-anchor=\"middle\" x=\"1172.5\" y=\"-136.8\" font-family=\"Times,serif\" font-size=\"14.00\">0</text>\n</g>\n</g>\n</svg>\n",
      "text/plain": "<graphviz.sources.Source at 0x7fb9107b3be0>"
     },
     "execution_count": 23,
     "metadata": {},
     "output_type": "execute_result"
    }
   ],
   "source": [
    "graphviz.Source(clf.export_graphviz())"
   ],
   "metadata": {
    "collapsed": false,
    "pycharm": {
     "name": "#%%\n"
    }
   }
  },
  {
   "cell_type": "code",
   "execution_count": 24,
   "outputs": [
    {
     "name": "stdout",
     "output_type": "stream",
     "text": [
      "[127, 142, 146]\n"
     ]
    },
    {
     "data": {
      "text/plain": "(1.0, 1.0)"
     },
     "execution_count": 24,
     "metadata": {},
     "output_type": "execute_result"
    }
   ],
   "source": [
    "t = clf.tree_['right']['right']['left']['transactions']\n",
    "t.reverse()\n",
    "print(t)\n",
    "utils.misclassified(t, y_train)\n",
    "utils.error(t, k, y_train, sensitive_train)"
   ],
   "metadata": {
    "collapsed": false,
    "pycharm": {
     "name": "#%%\n"
    }
   }
  },
  {
   "cell_type": "code",
   "execution_count": 25,
   "outputs": [
    {
     "name": "stderr",
     "output_type": "stream",
     "text": [
      "/tmp/ipykernel_27343/3492387137.py:1: FutureWarning: Using a non-tuple sequence for multidimensional indexing is deprecated; use `arr[tuple(seq)]` instead of `arr[seq]`. In the future this will be interpreted as an array index, `arr[np.array(seq)]`, which will result either in an error or a different result.\n",
      "  X_train[[t]]\n"
     ]
    },
    {
     "data": {
      "text/plain": "array([[0, 0, 0, 0, 1, 0, 0, 0, 0, 1, 0],\n       [0, 0, 0, 0, 1, 0, 0, 0, 0, 1, 0],\n       [0, 0, 1, 0, 0, 0, 0, 0, 0, 1, 0]])"
     },
     "execution_count": 25,
     "metadata": {},
     "output_type": "execute_result"
    }
   ],
   "source": [
    "X_train[[t]]"
   ],
   "metadata": {
    "collapsed": false,
    "pycharm": {
     "name": "#%%\n"
    }
   }
  },
  {
   "cell_type": "code",
   "execution_count": 26,
   "outputs": [
    {
     "name": "stderr",
     "output_type": "stream",
     "text": [
      "/tmp/ipykernel_27343/3972937085.py:1: FutureWarning: Using a non-tuple sequence for multidimensional indexing is deprecated; use `arr[tuple(seq)]` instead of `arr[seq]`. In the future this will be interpreted as an array index, `arr[np.array(seq)]`, which will result either in an error or a different result.\n",
      "  y_train[[t]]\n"
     ]
    },
    {
     "data": {
      "text/plain": "array([1., 0., 1.])"
     },
     "execution_count": 26,
     "metadata": {},
     "output_type": "execute_result"
    }
   ],
   "source": [
    "y_train[[t]]"
   ],
   "metadata": {
    "collapsed": false,
    "pycharm": {
     "name": "#%%\n"
    }
   }
  },
  {
   "cell_type": "code",
   "execution_count": 32,
   "outputs": [
    {
     "name": "stdout",
     "output_type": "stream",
     "text": [
      "disc: 0.32099114377237614\n",
      "Path: ((1, 'right'), (0, 'left'), (9, 'left'), (2, 'left')) \n",
      "accuracy: -0.014354066985645932 \n",
      "discrimination: -0.03778029018277747 \n",
      "ratio: 2.632026882733497 \n",
      "contigency: \n",
      "[0.014354066985645933, 0.004784688995215311]\n",
      "[0.004784688995215311, 0.0]\n",
      "0\n",
      "\n",
      "Accuracy:\n",
      "    Before      : 0.89952153\n",
      "    Leafs       : -0.014354066985645932\n",
      "    After       : 0.88516746\n",
      "    Before+Leafs: 0.88516746\n",
      "    Check       : True\n",
      "    Real diff   : 0.014354069999999997\n",
      "Discrim:\n",
      "    Before      : 0.26351988\n",
      "    Leafs       : -0.03778029018277747\n",
      "    After       : 0.22573959\n",
      "    Before+Leafs: 0.22573959\n",
      "    Check       : True\n",
      "    Real diff   : 0.037780289999999994\n",
      "True\n",
      "0.26351988\n",
      "0.37883927\n",
      "\n",
      "0.26351988\n",
      "0.37883927\n",
      "\n",
      "0.26351988\n",
      "0.37883927\n",
      "\n",
      "0.32099114377237614\n",
      "0.26351987940456\n",
      "0.26351987940455995\n",
      "0.22573958922178256\n",
      "0.2257395892217825\n",
      "-0.03778029018277747\n"
     ]
    }
   ],
   "source": [
    "import ast\n",
    "\n",
    "X_train, X_test, y_train, y_test, sensitive_train, sensitive_test = utils.train_test_split(random_state, X, y, sensitive)\n",
    "print(f\"disc: {utils.discrimination(y_train, sensitive_train)}\")\n",
    "\n",
    "clf = DL85Classifier(max_depth=depth, error_function=lambda tids: utils.error(list(tids), k, y_train, sensitive_train), min_sup=min_supp, time_limit=600)\n",
    "clf.fit(X_train, list(y_train))\n",
    "# permet de fix\n",
    "#clf.tree_[\"right\"][\"right\"][\"left\"]['value'] = 1\n",
    "y_pred_train = clf.predict(X_train)\n",
    "accuracy_train = round(accuracy_score(y_train, y_pred_train),8)\n",
    "discrimation_train_pred = round(relabeling.discrimination(y_train, y_pred_train, sensitive_train), 8)\n",
    "t = clf.tree_['right']['right']['left']['transactions']\n",
    "\n",
    "utils.tree_upgrade(clf.tree_, y_train, np.asarray(y_pred_train), sensitive_train)\n",
    "sum_discri= round(utils.sum_elem_tree(ast.literal_eval(str(clf.tree_)), 'discrimination_additive_pred', do_abs=False),8)\n",
    "sum_discri_abs = round(utils.sum_elem_tree(ast.literal_eval(str(clf.tree_)), 'discrimination_additive_pred', do_abs=True),8)\n",
    "clf_before = copy.deepcopy(clf)\n",
    "dot1 = utils.export_graphviz(clf_before)\n",
    "\n",
    "clf_2 = copy.deepcopy(clf)\n",
    "utils.tree_upgrade(clf_2.tree_, y_train, np.asarray(y_pred_train), sensitive_train)\n",
    "sum_discri_pred= round(utils.sum_elem_tree(ast.literal_eval(str(clf_2.tree_)), 'discrimination_additive_pred', do_abs=False),8)\n",
    "sum_discri_abs_pred = round(utils.sum_elem_tree(ast.literal_eval(str(clf_2.tree_)), 'discrimination_additive_pred', do_abs=True),8)\n",
    "\n",
    "dot11 = utils.export_graphviz(clf_2)\n",
    "\n",
    "leafs = list()\n",
    "cnt = np.unique(sensitive_train, return_counts=True)[1]\n",
    "\n",
    "leafs_relab = relabeling.relab(clf.tree_, y_train, y_pred_train, sensitive_train, 0.25)\n",
    "sum_acc = 0\n",
    "sum_disc = 0\n",
    "for leaf in leafs_relab:\n",
    "    print(leaf)\n",
    "    print(leaf.value)\n",
    "    print()\n",
    "    relabeling.browse_and_relab(clf.tree_, list(leaf.path), leaf)\n",
    "    sum_acc += leaf.acc\n",
    "    sum_disc += leaf.disc\n",
    "\n",
    "utils.tree_upgrade(clf.tree_, y_train, np.asarray(y_pred_train), sensitive_train)\n",
    "dot2 = utils.export_graphviz(clf)\n",
    "\n",
    "\n",
    "y_pred_train_relab = clf.predict(X_train)\n",
    "accuracy_train_relab = round(accuracy_score(y_train, y_pred_train_relab), 8)\n",
    "discrimation_train_pred_relab = round(relabeling.discrimination(y_train, y_pred_train_relab, sensitive_train), 8)\n",
    "new_acc= round(accuracy_train+sum_acc, 8)\n",
    "new_disc = round(discrimation_train_pred+sum_disc, 8)\n",
    "print(f\"Accuracy:\\n\"\n",
    "      f\"    Before      : {accuracy_train}\\n\"\n",
    "      f\"    Leafs       : {sum_acc}\\n\"\n",
    "      f\"    After       : {accuracy_train_relab}\\n\"\n",
    "      f\"    Before+Leafs: {new_acc}\\n\"\n",
    "      f\"    Check       : {new_acc == accuracy_train_relab}\\n\"\n",
    "      f\"    Real diff   : {accuracy_train - accuracy_train_relab}\")\n",
    "print(f\"Discrim:\\n\"\n",
    "      f\"    Before      : {discrimation_train_pred}\\n\"\n",
    "      f\"    Leafs       : {sum_disc }\\n\"\n",
    "      f\"    After       : {discrimation_train_pred_relab}\\n\"\n",
    "      f\"    Before+Leafs: {new_disc}\\n\"\n",
    "      f\"    Check       : {new_disc== discrimation_train_pred_relab}\\n\"\n",
    "      f\"    Real diff   : {discrimation_train_pred - discrimation_train_pred_relab}\")\n",
    "\n",
    "print(round(relabeling.discrimination(y_train, y_pred_train_relab, sensitive_train), 6) == round(utils.discrimination(y_pred_train_relab, sensitive_train), 6))\n",
    "sum_discri_relab = round(utils.sum_elem_tree(ast.literal_eval(str(clf.tree_)), 'discrimination_additive_pred', do_abs=False),8)\n",
    "sum_discri_abs_relab = round(utils.sum_elem_tree(ast.literal_eval(str(clf.tree_)), 'discrimination_additive_pred', do_abs=True),8)\n",
    "print(sum_discri)\n",
    "print(sum_discri_abs)\n",
    "print()\n",
    "print(sum_discri_pred)\n",
    "print(sum_discri_abs_pred)\n",
    "print()\n",
    "print(sum_discri_relab)\n",
    "print(sum_discri_abs_relab)\n",
    "print()\n",
    "print(utils.discrimination(y_train, sensitive_train))\n",
    "print(utils.discrimination(y_pred_train, sensitive_train))\n",
    "print(relabeling.discrimination(y_train, y_pred_train, sensitive_train))\n",
    "print(utils.discrimination(y_pred_train_relab, sensitive_train))\n",
    "print(relabeling.discrimination(y_train, y_pred_train_relab, sensitive_train))\n",
    "print(leafs_relab[0].disc)"
   ],
   "metadata": {
    "collapsed": false,
    "pycharm": {
     "name": "#%%\n"
    }
   }
  },
  {
   "cell_type": "code",
   "execution_count": null,
   "outputs": [],
   "source": [
    "display(graphviz.Source(utils.export_graphviz(clf_before)))\n",
    "display(graphviz.Source(utils.export_graphviz(clf_2)))\n",
    "display(graphviz.Source(utils.export_graphviz(clf)))"
   ],
   "metadata": {
    "collapsed": false,
    "pycharm": {
     "name": "#%%\n"
    }
   }
  },
  {
   "cell_type": "markdown",
   "source": [],
   "metadata": {
    "collapsed": false
   }
  },
  {
   "cell_type": "code",
   "execution_count": null,
   "outputs": [],
   "source": [
    "clf.tree_"
   ],
   "metadata": {
    "collapsed": false,
    "pycharm": {
     "name": "#%%\n"
    }
   }
  }
 ],
 "metadata": {
  "kernelspec": {
   "display_name": "Python 3",
   "language": "python",
   "name": "python3"
  },
  "language_info": {
   "codemirror_mode": {
    "name": "ipython",
    "version": 2
   },
   "file_extension": ".py",
   "mimetype": "text/x-python",
   "name": "python",
   "nbconvert_exporter": "python",
   "pygments_lexer": "ipython2",
   "version": "2.7.6"
  }
 },
 "nbformat": 4,
 "nbformat_minor": 0
}