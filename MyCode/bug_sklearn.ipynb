{
 "cells": [
  {
   "cell_type": "code",
   "execution_count": 1,
   "metadata": {
    "collapsed": true
   },
   "outputs": [],
   "source": [
    "import copy\n",
    "\n",
    "import pandas\n",
    "from scipy.io import arff\n",
    "import numpy as np\n",
    "from sklearn.metrics import confusion_matrix\n",
    "from sklearn.model_selection import train_test_split\n",
    "from sklearn.metrics import accuracy_score\n",
    "import time\n",
    "from dl85 import DL85Predictor\n",
    "from dl85 import DL85Classifier\n",
    "import pandas as pd\n",
    "from sklearn.preprocessing import OneHotEncoder\n",
    "import matplotlib.pyplot as plt\n",
    "import numpy as np\n",
    "import MyCode.utils as utils\n",
    "import graphviz\n",
    "from MyCode import relabeling\n",
    "from MyCode import relabeling_sklearn"
   ]
  },
  {
   "cell_type": "code",
   "execution_count": 2,
   "outputs": [],
   "source": [
    "df = pandas.read_csv(\"dataset_perso/Lawsuit.csv\")\n",
    "FILE_NAME = \"lawsuit_k_supp2_relab_sklearn\"\n",
    "\n",
    "del df['ID']\n",
    "salary_mean = np.mean(np.array(df[\"Sal94\"].tolist(), float))\n",
    "for i in range(0,len(df)):\n",
    "    if df.at[i, \"Sal94\"] >= salary_mean:\n",
    "        df.at[i, \"Salary_mean\"] = 1\n",
    "    else:\n",
    "        df.at[i, \"Salary_mean\"] = 0\n",
    "del df[\"Sal94\"]\n",
    "del df[\"Sal95\"]\n",
    "col = ['Rank', 'Dept']\n",
    "df = df.drop(['Prate', 'Exper'], axis=1)\n",
    "df = pd.get_dummies(df, columns=col)\n",
    "\n",
    "for i in range(0,len(df)):\n",
    "    if df.at[i, \"Gender\"] == 1:\n",
    "        df.at[i, \"Gender\"] = 0\n",
    "    else:\n",
    "        df.at[i, \"Gender\"] = 1\n",
    "\n",
    "\n",
    "X = df.loc[:, ~df.columns.isin(['Gender', 'Salary_mean'])]\n",
    "y = df['Salary_mean']\n",
    "sensitive = df['Gender']\n",
    "X_train, X_test, y_train, y_test, sensitive_train, sensitive_test = utils.train_test_split(1, X, y, sensitive)"
   ],
   "metadata": {
    "collapsed": false,
    "pycharm": {
     "name": "#%%\n"
    }
   }
  },
  {
   "cell_type": "code",
   "execution_count": 3,
   "outputs": [
    {
     "data": {
      "text/plain": "     Gender  Clin  Cert  Salary_mean  Rank_1  Rank_2  Rank_3  Dept_1  Dept_2  \\\n0         0     0     0          0.0       0       0       1       1       0   \n1         0     0     0          0.0       0       1       0       1       0   \n2         0     0     0          0.0       1       0       0       1       0   \n3         0     1     1          1.0       0       0       1       1       0   \n4         0     0     0          0.0       0       0       1       1       0   \n..      ...   ...   ...          ...     ...     ...     ...     ...     ...   \n256       1     1     1          1.0       0       1       0       0       0   \n257       1     1     1          1.0       0       0       1       0       0   \n258       1     1     1          1.0       1       0       0       0       0   \n259       1     1     1          1.0       1       0       0       0       0   \n260       1     1     1          1.0       1       0       0       0       0   \n\n     Dept_3  Dept_4  Dept_5  Dept_6  discrimination_relab_1  accuracy_relab_1  \\\n0         0       0       0       0                     NaN               NaN   \n1         0       0       0       0                     NaN               NaN   \n2         0       0       0       0                     NaN               NaN   \n3         0       0       0       0                     NaN               NaN   \n4         0       0       0       0                     NaN               NaN   \n..      ...     ...     ...     ...                     ...               ...   \n256       0       0       0       1                     NaN               NaN   \n257       0       0       0       1                     NaN               NaN   \n258       0       0       0       1                     NaN               NaN   \n259       0       0       0       1                     NaN               NaN   \n260       0       0       0       1                     NaN               NaN   \n\n     discrimination_relab_2  accuracy_relab_2  discrimination_relab_3  \\\n0                       NaN               NaN                     NaN   \n1                       NaN               NaN                     NaN   \n2                       NaN               NaN                     NaN   \n3                       NaN               NaN                     NaN   \n4                       NaN               NaN                     NaN   \n..                      ...               ...                     ...   \n256                     NaN               NaN                     NaN   \n257                     NaN               NaN                     NaN   \n258                     NaN               NaN                     NaN   \n259                     NaN               NaN                     NaN   \n260                     NaN               NaN                     NaN   \n\n     accuracy_relab_3  \n0                 NaN  \n1                 NaN  \n2                 NaN  \n3                 NaN  \n4                 NaN  \n..                ...  \n256               NaN  \n257               NaN  \n258               NaN  \n259               NaN  \n260               NaN  \n\n[261 rows x 19 columns]",
      "text/html": "<div>\n<style scoped>\n    .dataframe tbody tr th:only-of-type {\n        vertical-align: middle;\n    }\n\n    .dataframe tbody tr th {\n        vertical-align: top;\n    }\n\n    .dataframe thead th {\n        text-align: right;\n    }\n</style>\n<table border=\"1\" class=\"dataframe\">\n  <thead>\n    <tr style=\"text-align: right;\">\n      <th></th>\n      <th>Gender</th>\n      <th>Clin</th>\n      <th>Cert</th>\n      <th>Salary_mean</th>\n      <th>Rank_1</th>\n      <th>Rank_2</th>\n      <th>Rank_3</th>\n      <th>Dept_1</th>\n      <th>Dept_2</th>\n      <th>Dept_3</th>\n      <th>Dept_4</th>\n      <th>Dept_5</th>\n      <th>Dept_6</th>\n      <th>discrimination_relab_1</th>\n      <th>accuracy_relab_1</th>\n      <th>discrimination_relab_2</th>\n      <th>accuracy_relab_2</th>\n      <th>discrimination_relab_3</th>\n      <th>accuracy_relab_3</th>\n    </tr>\n  </thead>\n  <tbody>\n    <tr>\n      <th>0</th>\n      <td>0</td>\n      <td>0</td>\n      <td>0</td>\n      <td>0.0</td>\n      <td>0</td>\n      <td>0</td>\n      <td>1</td>\n      <td>1</td>\n      <td>0</td>\n      <td>0</td>\n      <td>0</td>\n      <td>0</td>\n      <td>0</td>\n      <td>NaN</td>\n      <td>NaN</td>\n      <td>NaN</td>\n      <td>NaN</td>\n      <td>NaN</td>\n      <td>NaN</td>\n    </tr>\n    <tr>\n      <th>1</th>\n      <td>0</td>\n      <td>0</td>\n      <td>0</td>\n      <td>0.0</td>\n      <td>0</td>\n      <td>1</td>\n      <td>0</td>\n      <td>1</td>\n      <td>0</td>\n      <td>0</td>\n      <td>0</td>\n      <td>0</td>\n      <td>0</td>\n      <td>NaN</td>\n      <td>NaN</td>\n      <td>NaN</td>\n      <td>NaN</td>\n      <td>NaN</td>\n      <td>NaN</td>\n    </tr>\n    <tr>\n      <th>2</th>\n      <td>0</td>\n      <td>0</td>\n      <td>0</td>\n      <td>0.0</td>\n      <td>1</td>\n      <td>0</td>\n      <td>0</td>\n      <td>1</td>\n      <td>0</td>\n      <td>0</td>\n      <td>0</td>\n      <td>0</td>\n      <td>0</td>\n      <td>NaN</td>\n      <td>NaN</td>\n      <td>NaN</td>\n      <td>NaN</td>\n      <td>NaN</td>\n      <td>NaN</td>\n    </tr>\n    <tr>\n      <th>3</th>\n      <td>0</td>\n      <td>1</td>\n      <td>1</td>\n      <td>1.0</td>\n      <td>0</td>\n      <td>0</td>\n      <td>1</td>\n      <td>1</td>\n      <td>0</td>\n      <td>0</td>\n      <td>0</td>\n      <td>0</td>\n      <td>0</td>\n      <td>NaN</td>\n      <td>NaN</td>\n      <td>NaN</td>\n      <td>NaN</td>\n      <td>NaN</td>\n      <td>NaN</td>\n    </tr>\n    <tr>\n      <th>4</th>\n      <td>0</td>\n      <td>0</td>\n      <td>0</td>\n      <td>0.0</td>\n      <td>0</td>\n      <td>0</td>\n      <td>1</td>\n      <td>1</td>\n      <td>0</td>\n      <td>0</td>\n      <td>0</td>\n      <td>0</td>\n      <td>0</td>\n      <td>NaN</td>\n      <td>NaN</td>\n      <td>NaN</td>\n      <td>NaN</td>\n      <td>NaN</td>\n      <td>NaN</td>\n    </tr>\n    <tr>\n      <th>...</th>\n      <td>...</td>\n      <td>...</td>\n      <td>...</td>\n      <td>...</td>\n      <td>...</td>\n      <td>...</td>\n      <td>...</td>\n      <td>...</td>\n      <td>...</td>\n      <td>...</td>\n      <td>...</td>\n      <td>...</td>\n      <td>...</td>\n      <td>...</td>\n      <td>...</td>\n      <td>...</td>\n      <td>...</td>\n      <td>...</td>\n      <td>...</td>\n    </tr>\n    <tr>\n      <th>256</th>\n      <td>1</td>\n      <td>1</td>\n      <td>1</td>\n      <td>1.0</td>\n      <td>0</td>\n      <td>1</td>\n      <td>0</td>\n      <td>0</td>\n      <td>0</td>\n      <td>0</td>\n      <td>0</td>\n      <td>0</td>\n      <td>1</td>\n      <td>NaN</td>\n      <td>NaN</td>\n      <td>NaN</td>\n      <td>NaN</td>\n      <td>NaN</td>\n      <td>NaN</td>\n    </tr>\n    <tr>\n      <th>257</th>\n      <td>1</td>\n      <td>1</td>\n      <td>1</td>\n      <td>1.0</td>\n      <td>0</td>\n      <td>0</td>\n      <td>1</td>\n      <td>0</td>\n      <td>0</td>\n      <td>0</td>\n      <td>0</td>\n      <td>0</td>\n      <td>1</td>\n      <td>NaN</td>\n      <td>NaN</td>\n      <td>NaN</td>\n      <td>NaN</td>\n      <td>NaN</td>\n      <td>NaN</td>\n    </tr>\n    <tr>\n      <th>258</th>\n      <td>1</td>\n      <td>1</td>\n      <td>1</td>\n      <td>1.0</td>\n      <td>1</td>\n      <td>0</td>\n      <td>0</td>\n      <td>0</td>\n      <td>0</td>\n      <td>0</td>\n      <td>0</td>\n      <td>0</td>\n      <td>1</td>\n      <td>NaN</td>\n      <td>NaN</td>\n      <td>NaN</td>\n      <td>NaN</td>\n      <td>NaN</td>\n      <td>NaN</td>\n    </tr>\n    <tr>\n      <th>259</th>\n      <td>1</td>\n      <td>1</td>\n      <td>1</td>\n      <td>1.0</td>\n      <td>1</td>\n      <td>0</td>\n      <td>0</td>\n      <td>0</td>\n      <td>0</td>\n      <td>0</td>\n      <td>0</td>\n      <td>0</td>\n      <td>1</td>\n      <td>NaN</td>\n      <td>NaN</td>\n      <td>NaN</td>\n      <td>NaN</td>\n      <td>NaN</td>\n      <td>NaN</td>\n    </tr>\n    <tr>\n      <th>260</th>\n      <td>1</td>\n      <td>1</td>\n      <td>1</td>\n      <td>1.0</td>\n      <td>1</td>\n      <td>0</td>\n      <td>0</td>\n      <td>0</td>\n      <td>0</td>\n      <td>0</td>\n      <td>0</td>\n      <td>0</td>\n      <td>1</td>\n      <td>NaN</td>\n      <td>NaN</td>\n      <td>NaN</td>\n      <td>NaN</td>\n      <td>NaN</td>\n      <td>NaN</td>\n    </tr>\n  </tbody>\n</table>\n<p>261 rows × 19 columns</p>\n</div>"
     },
     "execution_count": 3,
     "metadata": {},
     "output_type": "execute_result"
    }
   ],
   "source": [
    "pd.set_option('max_columns', None)\n",
    "\n",
    "# src: https://www.kaggle.com/hjmjerry/gender-discrimination\n",
    "\n",
    "for leaf_limit in range (1, 4):\n",
    "    df['discrimination_relab_'+str(leaf_limit)] = np.nan\n",
    "    df['accuracy_relab_'+str(leaf_limit)] = np.nan\n",
    "\n",
    "for threshold in range (1, 4):\n",
    "    df['discrimination_relab_'+str(threshold)] = np.nan\n",
    "    df['accuracy_relab_'+str(threshold)] = np.nan\n",
    "df"
   ],
   "metadata": {
    "collapsed": false,
    "pycharm": {
     "name": "#%%\n"
    }
   }
  },
  {
   "cell_type": "code",
   "execution_count": 4,
   "outputs": [
    {
     "data": {
      "text/plain": "     k  depth  random_state  accuracy_train  accuracy_test  \\\n0    0      1             1        0.755981       0.730769   \n1    0      1             3        0.770335       0.673077   \n2    0      1             5        0.765550       0.692308   \n3    0      1             7        0.755981       0.730769   \n4    0      1             9        0.712919       0.711538   \n..  ..    ...           ...             ...            ...   \n310  0      7            89        0.913876       0.865385   \n311  0      7            93        0.923445       0.903846   \n312  0      7            95        0.918660       0.923077   \n313  0      7            97        0.933014       0.865385   \n314  0      7            99        0.923445       0.865385   \n\n     discrimination_train  discrimination_train_pred  discrimination_test  \\\n0                0.325619                   0.156476             0.266667   \n1                0.304364                   0.234535            -0.046083   \n2                0.324563                   0.179566             0.172619   \n3                0.290782                   0.185791             0.137931   \n4                0.316116                   0.113636            -0.101307   \n..                    ...                        ...                  ...   \n310              0.318990                   0.351884             0.205397   \n311              0.298554                   0.253099             0.392157   \n312              0.353778                   0.276616             0.221691   \n313              0.342636                   0.272384             0.307692   \n314              0.360373                   0.298003             0.063796   \n\n     min_supp                                          clf.tree_  \\\n0           2  <sklearn.tree._tree.Tree object at 0x7f41c1b20...   \n1           2  <sklearn.tree._tree.Tree object at 0x7f41c1b20...   \n2           2  <sklearn.tree._tree.Tree object at 0x7f41c1b20...   \n3           2  <sklearn.tree._tree.Tree object at 0x7f41c1b20...   \n4           2  <sklearn.tree._tree.Tree object at 0x7f41c1b20...   \n..        ...                                                ...   \n310         2  <sklearn.tree._tree.Tree object at 0x7f41c0f11...   \n311         2  <sklearn.tree._tree.Tree object at 0x7f41c0f11...   \n312         2  <sklearn.tree._tree.Tree object at 0x7f41c0f16...   \n313         2  <sklearn.tree._tree.Tree object at 0x7f41c0f11...   \n314         2  <sklearn.tree._tree.Tree object at 0x7f41c0f11...   \n\n     discrimination_relab_1  accuracy_relab_1  discrimination_relab_2  \\\n0                 -0.156476            0.2440               -0.156476   \n1                 -0.234535            0.2296               -0.234535   \n2                 -0.179566            0.2344               -0.179566   \n3                 -0.185791            0.2440               -0.185791   \n4                 -0.113636            0.2870               -0.113636   \n..                      ...               ...                     ...   \n310               -0.521515            0.2344               -0.521515   \n311               -0.566116            0.2248               -0.566116   \n312               -0.576880            0.2200               -0.576880   \n313               -0.510174            0.2440               -0.510174   \n314               -0.566987            0.2583               -0.566987   \n\n     accuracy_relab_2  discrimination_relab_3  accuracy_relab_3  \\\n0              0.2440               -0.156476            0.2440   \n1              0.2296               -0.234535            0.2296   \n2              0.2344               -0.179566            0.2344   \n3              0.2440               -0.185791            0.2440   \n4              0.2870               -0.113636            0.2870   \n..                ...                     ...               ...   \n310            0.2344               -0.521515            0.2344   \n311            0.2248               -0.566116            0.2248   \n312            0.2200               -0.576880            0.2200   \n313            0.2440               -0.510174            0.2440   \n314            0.2583               -0.566987            0.2583   \n\n     discrimination_relab_0  accuracy_relab_0  discrimination_relab_0.1  \\\n0                  0.000000            0.6028                  0.000000   \n1                  0.000000            0.6076                  0.000000   \n2                  0.000000            0.6076                  0.000000   \n3                  0.000000            0.5837                  0.000000   \n4                  0.000000            0.6124                  0.000000   \n..                      ...               ...                       ...   \n310               -0.046950            0.6411                 -0.046950   \n311               -0.121901            0.6698                  0.073347   \n312               -0.120313            0.6985                 -0.120313   \n313               -0.171415            0.6028                  0.092636   \n314               -0.138402            0.6555                  0.068118   \n\n     accuracy_relab_0.1  discrimination_relab_0.2  accuracy_relab_0.2  \\\n0                0.6028                  0.156476              0.7559   \n1                0.6076                  0.000000              0.6076   \n2                0.6076                  0.179566              0.7655   \n3                0.5837                  0.185791              0.7559   \n4                0.6124                  0.113636              0.7129   \n..                  ...                       ...                 ...   \n310              0.6411                  0.147351              0.8086   \n311              0.8325                  0.073347              0.8325   \n312              0.6985                  0.166572              0.8660   \n313              0.8277                  0.145640              0.8612   \n314              0.7990                  0.192953              0.8755   \n\n     discrimination_relab_0.3  accuracy_relab_0.3  \n0                    0.156476              0.7559  \n1                    0.234535              0.7703  \n2                    0.179566              0.7655  \n3                    0.185791              0.7559  \n4                    0.113636              0.7129  \n..                        ...                 ...  \n310                  0.299866              0.8995  \n311                  0.253099              0.9234  \n312                  0.276616              0.9186  \n313                  0.272384              0.9330  \n314                  0.298003              0.9234  \n\n[315 rows x 24 columns]",
      "text/html": "<div>\n<style scoped>\n    .dataframe tbody tr th:only-of-type {\n        vertical-align: middle;\n    }\n\n    .dataframe tbody tr th {\n        vertical-align: top;\n    }\n\n    .dataframe thead th {\n        text-align: right;\n    }\n</style>\n<table border=\"1\" class=\"dataframe\">\n  <thead>\n    <tr style=\"text-align: right;\">\n      <th></th>\n      <th>k</th>\n      <th>depth</th>\n      <th>random_state</th>\n      <th>accuracy_train</th>\n      <th>accuracy_test</th>\n      <th>discrimination_train</th>\n      <th>discrimination_train_pred</th>\n      <th>discrimination_test</th>\n      <th>min_supp</th>\n      <th>clf.tree_</th>\n      <th>discrimination_relab_1</th>\n      <th>accuracy_relab_1</th>\n      <th>discrimination_relab_2</th>\n      <th>accuracy_relab_2</th>\n      <th>discrimination_relab_3</th>\n      <th>accuracy_relab_3</th>\n      <th>discrimination_relab_0</th>\n      <th>accuracy_relab_0</th>\n      <th>discrimination_relab_0.1</th>\n      <th>accuracy_relab_0.1</th>\n      <th>discrimination_relab_0.2</th>\n      <th>accuracy_relab_0.2</th>\n      <th>discrimination_relab_0.3</th>\n      <th>accuracy_relab_0.3</th>\n    </tr>\n  </thead>\n  <tbody>\n    <tr>\n      <th>0</th>\n      <td>0</td>\n      <td>1</td>\n      <td>1</td>\n      <td>0.755981</td>\n      <td>0.730769</td>\n      <td>0.325619</td>\n      <td>0.156476</td>\n      <td>0.266667</td>\n      <td>2</td>\n      <td>&lt;sklearn.tree._tree.Tree object at 0x7f41c1b20...</td>\n      <td>-0.156476</td>\n      <td>0.2440</td>\n      <td>-0.156476</td>\n      <td>0.2440</td>\n      <td>-0.156476</td>\n      <td>0.2440</td>\n      <td>0.000000</td>\n      <td>0.6028</td>\n      <td>0.000000</td>\n      <td>0.6028</td>\n      <td>0.156476</td>\n      <td>0.7559</td>\n      <td>0.156476</td>\n      <td>0.7559</td>\n    </tr>\n    <tr>\n      <th>1</th>\n      <td>0</td>\n      <td>1</td>\n      <td>3</td>\n      <td>0.770335</td>\n      <td>0.673077</td>\n      <td>0.304364</td>\n      <td>0.234535</td>\n      <td>-0.046083</td>\n      <td>2</td>\n      <td>&lt;sklearn.tree._tree.Tree object at 0x7f41c1b20...</td>\n      <td>-0.234535</td>\n      <td>0.2296</td>\n      <td>-0.234535</td>\n      <td>0.2296</td>\n      <td>-0.234535</td>\n      <td>0.2296</td>\n      <td>0.000000</td>\n      <td>0.6076</td>\n      <td>0.000000</td>\n      <td>0.6076</td>\n      <td>0.000000</td>\n      <td>0.6076</td>\n      <td>0.234535</td>\n      <td>0.7703</td>\n    </tr>\n    <tr>\n      <th>2</th>\n      <td>0</td>\n      <td>1</td>\n      <td>5</td>\n      <td>0.765550</td>\n      <td>0.692308</td>\n      <td>0.324563</td>\n      <td>0.179566</td>\n      <td>0.172619</td>\n      <td>2</td>\n      <td>&lt;sklearn.tree._tree.Tree object at 0x7f41c1b20...</td>\n      <td>-0.179566</td>\n      <td>0.2344</td>\n      <td>-0.179566</td>\n      <td>0.2344</td>\n      <td>-0.179566</td>\n      <td>0.2344</td>\n      <td>0.000000</td>\n      <td>0.6076</td>\n      <td>0.000000</td>\n      <td>0.6076</td>\n      <td>0.179566</td>\n      <td>0.7655</td>\n      <td>0.179566</td>\n      <td>0.7655</td>\n    </tr>\n    <tr>\n      <th>3</th>\n      <td>0</td>\n      <td>1</td>\n      <td>7</td>\n      <td>0.755981</td>\n      <td>0.730769</td>\n      <td>0.290782</td>\n      <td>0.185791</td>\n      <td>0.137931</td>\n      <td>2</td>\n      <td>&lt;sklearn.tree._tree.Tree object at 0x7f41c1b20...</td>\n      <td>-0.185791</td>\n      <td>0.2440</td>\n      <td>-0.185791</td>\n      <td>0.2440</td>\n      <td>-0.185791</td>\n      <td>0.2440</td>\n      <td>0.000000</td>\n      <td>0.5837</td>\n      <td>0.000000</td>\n      <td>0.5837</td>\n      <td>0.185791</td>\n      <td>0.7559</td>\n      <td>0.185791</td>\n      <td>0.7559</td>\n    </tr>\n    <tr>\n      <th>4</th>\n      <td>0</td>\n      <td>1</td>\n      <td>9</td>\n      <td>0.712919</td>\n      <td>0.711538</td>\n      <td>0.316116</td>\n      <td>0.113636</td>\n      <td>-0.101307</td>\n      <td>2</td>\n      <td>&lt;sklearn.tree._tree.Tree object at 0x7f41c1b20...</td>\n      <td>-0.113636</td>\n      <td>0.2870</td>\n      <td>-0.113636</td>\n      <td>0.2870</td>\n      <td>-0.113636</td>\n      <td>0.2870</td>\n      <td>0.000000</td>\n      <td>0.6124</td>\n      <td>0.000000</td>\n      <td>0.6124</td>\n      <td>0.113636</td>\n      <td>0.7129</td>\n      <td>0.113636</td>\n      <td>0.7129</td>\n    </tr>\n    <tr>\n      <th>...</th>\n      <td>...</td>\n      <td>...</td>\n      <td>...</td>\n      <td>...</td>\n      <td>...</td>\n      <td>...</td>\n      <td>...</td>\n      <td>...</td>\n      <td>...</td>\n      <td>...</td>\n      <td>...</td>\n      <td>...</td>\n      <td>...</td>\n      <td>...</td>\n      <td>...</td>\n      <td>...</td>\n      <td>...</td>\n      <td>...</td>\n      <td>...</td>\n      <td>...</td>\n      <td>...</td>\n      <td>...</td>\n      <td>...</td>\n      <td>...</td>\n    </tr>\n    <tr>\n      <th>310</th>\n      <td>0</td>\n      <td>7</td>\n      <td>89</td>\n      <td>0.913876</td>\n      <td>0.865385</td>\n      <td>0.318990</td>\n      <td>0.351884</td>\n      <td>0.205397</td>\n      <td>2</td>\n      <td>&lt;sklearn.tree._tree.Tree object at 0x7f41c0f11...</td>\n      <td>-0.521515</td>\n      <td>0.2344</td>\n      <td>-0.521515</td>\n      <td>0.2344</td>\n      <td>-0.521515</td>\n      <td>0.2344</td>\n      <td>-0.046950</td>\n      <td>0.6411</td>\n      <td>-0.046950</td>\n      <td>0.6411</td>\n      <td>0.147351</td>\n      <td>0.8086</td>\n      <td>0.299866</td>\n      <td>0.8995</td>\n    </tr>\n    <tr>\n      <th>311</th>\n      <td>0</td>\n      <td>7</td>\n      <td>93</td>\n      <td>0.923445</td>\n      <td>0.903846</td>\n      <td>0.298554</td>\n      <td>0.253099</td>\n      <td>0.392157</td>\n      <td>2</td>\n      <td>&lt;sklearn.tree._tree.Tree object at 0x7f41c0f11...</td>\n      <td>-0.566116</td>\n      <td>0.2248</td>\n      <td>-0.566116</td>\n      <td>0.2248</td>\n      <td>-0.566116</td>\n      <td>0.2248</td>\n      <td>-0.121901</td>\n      <td>0.6698</td>\n      <td>0.073347</td>\n      <td>0.8325</td>\n      <td>0.073347</td>\n      <td>0.8325</td>\n      <td>0.253099</td>\n      <td>0.9234</td>\n    </tr>\n    <tr>\n      <th>312</th>\n      <td>0</td>\n      <td>7</td>\n      <td>95</td>\n      <td>0.918660</td>\n      <td>0.923077</td>\n      <td>0.353778</td>\n      <td>0.276616</td>\n      <td>0.221691</td>\n      <td>2</td>\n      <td>&lt;sklearn.tree._tree.Tree object at 0x7f41c0f16...</td>\n      <td>-0.576880</td>\n      <td>0.2200</td>\n      <td>-0.576880</td>\n      <td>0.2200</td>\n      <td>-0.576880</td>\n      <td>0.2200</td>\n      <td>-0.120313</td>\n      <td>0.6985</td>\n      <td>-0.120313</td>\n      <td>0.6985</td>\n      <td>0.166572</td>\n      <td>0.8660</td>\n      <td>0.276616</td>\n      <td>0.9186</td>\n    </tr>\n    <tr>\n      <th>313</th>\n      <td>0</td>\n      <td>7</td>\n      <td>97</td>\n      <td>0.933014</td>\n      <td>0.865385</td>\n      <td>0.342636</td>\n      <td>0.272384</td>\n      <td>0.307692</td>\n      <td>2</td>\n      <td>&lt;sklearn.tree._tree.Tree object at 0x7f41c0f11...</td>\n      <td>-0.510174</td>\n      <td>0.2440</td>\n      <td>-0.510174</td>\n      <td>0.2440</td>\n      <td>-0.510174</td>\n      <td>0.2440</td>\n      <td>-0.171415</td>\n      <td>0.6028</td>\n      <td>0.092636</td>\n      <td>0.8277</td>\n      <td>0.145640</td>\n      <td>0.8612</td>\n      <td>0.272384</td>\n      <td>0.9330</td>\n    </tr>\n    <tr>\n      <th>314</th>\n      <td>0</td>\n      <td>7</td>\n      <td>99</td>\n      <td>0.923445</td>\n      <td>0.865385</td>\n      <td>0.360373</td>\n      <td>0.298003</td>\n      <td>0.063796</td>\n      <td>2</td>\n      <td>&lt;sklearn.tree._tree.Tree object at 0x7f41c0f11...</td>\n      <td>-0.566987</td>\n      <td>0.2583</td>\n      <td>-0.566987</td>\n      <td>0.2583</td>\n      <td>-0.566987</td>\n      <td>0.2583</td>\n      <td>-0.138402</td>\n      <td>0.6555</td>\n      <td>0.068118</td>\n      <td>0.7990</td>\n      <td>0.192953</td>\n      <td>0.8755</td>\n      <td>0.298003</td>\n      <td>0.9234</td>\n    </tr>\n  </tbody>\n</table>\n<p>315 rows × 24 columns</p>\n</div>"
     },
     "execution_count": 4,
     "metadata": {},
     "output_type": "execute_result"
    }
   ],
   "source": [
    "df = pd.read_csv('save/'+FILE_NAME+\".csv\")\n",
    "df = df.sort_values(['depth', 'random_state'])\n",
    "df"
   ],
   "metadata": {
    "collapsed": false,
    "pycharm": {
     "name": "#%%\n"
    }
   }
  },
  {
   "cell_type": "code",
   "execution_count": 5,
   "outputs": [],
   "source": [
    "import math\n",
    "\"\"\"\n",
    "depth=3\n",
    "random_state=19\n",
    "\"\"\"\n",
    "\"\"\"\"\n",
    "depth=4\n",
    "random_state=1\n",
    "\"\"\"\n",
    "depth=4\n",
    "random_state=39\n",
    "def round_down(a, exp):\n",
    "    dec = 10**20\n",
    "    return math.floor(a * dec)/float(dec)\n"
   ],
   "metadata": {
    "collapsed": false,
    "pycharm": {
     "name": "#%%\n"
    }
   }
  },
  {
   "cell_type": "code",
   "execution_count": 6,
   "outputs": [
    {
     "name": "stdout",
     "output_type": "stream",
     "text": [
      "### Depth: 4 state: 39 ###\n",
      "Accuracy DL8.5 on training set = 0.8851674641148325\n",
      "Accuracy DL8.5 on test set = 0.826923076923077\n",
      "Discrimination of classifier on train 0.31937984496124033\n",
      "Discrimination of classifier on train(pred) 0.30610465116279073\n",
      "Discrimination of classifier on test 0.34615384615384615\n"
     ]
    }
   ],
   "source": [
    "from sklearn.tree import DecisionTreeClassifier\n",
    "from sklearn import tree\n",
    "X_train, X_test, y_train, y_test, sensitive_train, sensitive_test = utils.train_test_split(random_state, X, y, sensitive)\n",
    "\n",
    "clf = DecisionTreeClassifier(max_depth=depth, random_state=0)\n",
    "\n",
    "print(f\"### Depth: {depth} state: {random_state} ###\")\n",
    "clf.fit(X_train, list(y_train))\n",
    "y_pred_train = clf.predict(X_train)\n",
    "accuracy_train = round_down(accuracy_score(y_train, y_pred_train), 8)\n",
    "print(\"Accuracy DL8.5 on training set =\", accuracy_train)\n",
    "y_pred_test = clf.predict(X_test)\n",
    "accuracy_test = round_down(accuracy_score(y_test, y_pred_test), 8)\n",
    "print(\"Accuracy DL8.5 on test set =\", accuracy_test)\n",
    "discrimination_train = round_down(utils.discrimination(y_train, sensitive_train), 8)\n",
    "print(\"Discrimination of classifier on train\", discrimination_train)\n",
    "discrimination_train_pred = round_down(utils.discrimination(y_pred_train, sensitive_train), 8)\n",
    "print(\"Discrimination of classifier on train(pred)\", discrimination_train_pred)\n",
    "discrimination_test = round_down(utils.discrimination(y_pred_test, sensitive_test), 8)\n",
    "print(\"Discrimination of classifier on test\", discrimination_test)\n",
    "clf_original = copy.deepcopy(clf)\n",
    "# RELAB\n",
    "for leaf_limit in range (1, 4):\n",
    "    clf = copy.deepcopy(clf_original)\n",
    "    leafs = list()\n",
    "    cnt = np.unique(sensitive, return_counts=True)[1]\n",
    "    leafs_relab = relabeling_sklearn.relab_leaf_limit(clf.tree_, X_train, y_train, y_pred_train, sensitive_train, leaf_limit)\n",
    "    for leaf in leafs_relab:\n",
    "        relabeling_sklearn.browse_and_relab(clf, leaf.node_id)\n",
    "\n",
    "    # NEW PREDICT\n",
    "    y_pred_train_relab = clf.predict(X_train)\n",
    "\n",
    "\n",
    "for threshold in [0.3, 0.2, 0.1, 0]:\n",
    "    clf = copy.deepcopy(clf_original)\n",
    "    leafs = list()\n",
    "    cnt = np.unique(sensitive, return_counts=True)[1]\n",
    "    leafs_relab = relabeling_sklearn.relab(clf.tree_, X_train, y_train, y_pred_train, sensitive_train, threshold)\n",
    "\n",
    "    for leaf in leafs_relab:\n",
    "        relabeling_sklearn.browse_and_relab(clf, leaf.node_id)\n",
    "\n",
    "\n",
    "    # NEW PREDICT\n",
    "    y_pred_train_relab = clf.predict(X_train)\n",
    "\n",
    "    if relabeling.discrimination(y_train, y_pred_train_relab, sensitive_train) > threshold:\n",
    "        print(f\"{relabeling.discrimination(y_train, y_pred_train_relab, sensitive_train)} <= {threshold}\")\n",
    "        print()\n",
    "        sum_acc = 0\n",
    "        sum_disc = 0\n",
    "        for leaf in leafs_relab:\n",
    "            sum_acc += leaf.acc\n",
    "            sum_disc += leaf.disc\n",
    "            print(leaf)\n",
    "            print(leaf.n, leaf.p)\n",
    "            print(f'value: {leaf.value}')\n",
    "            print()\n",
    "        accuracy_train_relab = round_down(accuracy_score(y_train, y_pred_train_relab), 8)\n",
    "        discrimation_train_pred_relab = round_down(utils.discrimination(y_pred_train_relab, sensitive_train), 8)\n",
    "        new_acc= round_down(accuracy_train+sum_acc, 8)\n",
    "        new_disc = round_down(discrimination_train_pred+sum_disc, 8)\n",
    "        print(f\"Accuracy:\\n\"\n",
    "              f\"    Before      : {accuracy_train}\\n\"\n",
    "              f\"    Leafs       : {sum_acc}\\n\"\n",
    "              f\"    After       : {accuracy_train_relab}\\n\"\n",
    "              f\"    Expected    : {new_acc}\\n\"\n",
    "              f\"    Check       : {new_acc == accuracy_train_relab}\")\n",
    "        print(f\"Discrim:\\n\"\n",
    "              f\"    Before      : {discrimination_train_pred}\\n\"\n",
    "              f\"    Leafs       : {sum_disc }\\n\"\n",
    "              f\"    After       : {discrimation_train_pred_relab}\\n\"\n",
    "              f\"    Expected    : {new_disc}\\n\"\n",
    "              f\"    Check       : {new_disc== discrimation_train_pred_relab}\")\n",
    "\n",
    "        tree.plot_tree(clf)\n",
    "        assert(relabeling.discrimination(y_train, y_pred_train_relab, sensitive_train) <= threshold)\n",
    "        assert(new_acc== accuracy_train_relab)\n",
    "        assert(new_disc== discrimation_train_pred_relab)"
   ],
   "metadata": {
    "collapsed": false,
    "pycharm": {
     "name": "#%%\n"
    }
   }
  },
  {
   "cell_type": "code",
   "execution_count": 7,
   "outputs": [
    {
     "data": {
      "text/plain": "array([0., 0., 0., 0.])"
     },
     "execution_count": 7,
     "metadata": {},
     "output_type": "execute_result"
    }
   ],
   "source": [
    "clf = DecisionTreeClassifier(max_depth=depth, random_state=0)\n",
    "clf.fit(X_train, list(y_train))\n",
    "clf.predict([[0, 0, 0, 0, 0, 0, 0, 0, 0, 1, 0], [0, 0, 0, 0, 0, 0, 0, 0, 0, 1, 0], [0, 0, 0, 0, 0, 0, 0, 0, 0, 1, 0], [0, 0, 0, 0, 0, 0, 0, 0, 0, 1, 0]])"
   ],
   "metadata": {
    "collapsed": false,
    "pycharm": {
     "name": "#%%\n"
    }
   }
  },
  {
   "cell_type": "code",
   "execution_count": 8,
   "outputs": [],
   "source": [
    "p1 = list(clf.predict(X_train))"
   ],
   "metadata": {
    "collapsed": false,
    "pycharm": {
     "name": "#%%\n"
    }
   }
  },
  {
   "cell_type": "code",
   "execution_count": 9,
   "outputs": [
    {
     "data": {
      "text/plain": "array([1., 1., 1., 1.])"
     },
     "execution_count": 9,
     "metadata": {},
     "output_type": "execute_result"
    }
   ],
   "source": [
    "relabeling_sklearn.browse_and_relab(clf, 11)\n",
    "clf.predict([[0, 0, 0, 0, 0, 0, 0, 0, 0, 1, 0], [0, 0, 0, 0, 0, 0, 0, 0, 0, 1, 0], [0, 0, 0, 0, 0, 0, 0, 0, 0, 1, 0], [0, 0, 0, 0, 0, 0, 0, 0, 0, 1, 0]])"
   ],
   "metadata": {
    "collapsed": false,
    "pycharm": {
     "name": "#%%\n"
    }
   }
  },
  {
   "cell_type": "code",
   "execution_count": 10,
   "outputs": [],
   "source": [
    "p2 = list(clf.predict(X_train))"
   ],
   "metadata": {
    "collapsed": false,
    "pycharm": {
     "name": "#%%\n"
    }
   }
  },
  {
   "cell_type": "code",
   "execution_count": 11,
   "outputs": [
    {
     "data": {
      "text/plain": "False"
     },
     "execution_count": 11,
     "metadata": {},
     "output_type": "execute_result"
    }
   ],
   "source": [
    "p1 == p2"
   ],
   "metadata": {
    "collapsed": false,
    "pycharm": {
     "name": "#%%\n"
    }
   }
  },
  {
   "cell_type": "code",
   "execution_count": 12,
   "outputs": [
    {
     "data": {
      "text/plain": "array([[3., 4.]])"
     },
     "execution_count": 12,
     "metadata": {},
     "output_type": "execute_result"
    }
   ],
   "source": [
    "clf.tree_.value[11]"
   ],
   "metadata": {
    "collapsed": false,
    "pycharm": {
     "name": "#%%\n"
    }
   }
  },
  {
   "cell_type": "code",
   "execution_count": 13,
   "outputs": [
    {
     "data": {
      "text/plain": "0.30610465116279073"
     },
     "execution_count": 13,
     "metadata": {},
     "output_type": "execute_result"
    }
   ],
   "source": [
    "round_down(utils.discrimination(p1, sensitive_train), 8)"
   ],
   "metadata": {
    "collapsed": false,
    "pycharm": {
     "name": "#%%\n"
    }
   }
  },
  {
   "cell_type": "code",
   "execution_count": 13,
   "outputs": [],
   "source": [],
   "metadata": {
    "collapsed": false,
    "pycharm": {
     "name": "#%%\n"
    }
   }
  }
 ],
 "metadata": {
  "kernelspec": {
   "display_name": "Python 3",
   "language": "python",
   "name": "python3"
  },
  "language_info": {
   "codemirror_mode": {
    "name": "ipython",
    "version": 2
   },
   "file_extension": ".py",
   "mimetype": "text/x-python",
   "name": "python",
   "nbconvert_exporter": "python",
   "pygments_lexer": "ipython2",
   "version": "2.7.6"
  }
 },
 "nbformat": 4,
 "nbformat_minor": 0
}