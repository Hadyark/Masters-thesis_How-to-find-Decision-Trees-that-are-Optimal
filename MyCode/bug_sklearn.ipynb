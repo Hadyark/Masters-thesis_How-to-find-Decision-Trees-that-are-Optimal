{
 "cells": [
  {
   "cell_type": "code",
   "execution_count": 1,
   "metadata": {
    "collapsed": true
   },
   "outputs": [],
   "source": [
    "import copy\n",
    "\n",
    "import pandas\n",
    "from scipy.io import arff\n",
    "import numpy as np\n",
    "from sklearn.metrics import confusion_matrix\n",
    "from sklearn.model_selection import train_test_split\n",
    "from sklearn.metrics import accuracy_score\n",
    "import time\n",
    "from dl85 import DL85Predictor\n",
    "from dl85 import DL85Classifier\n",
    "import pandas as pd\n",
    "from sklearn.preprocessing import OneHotEncoder\n",
    "import matplotlib.pyplot as plt\n",
    "import numpy as np\n",
    "import MyCode.utils as utils\n",
    "import graphviz\n",
    "from MyCode import relabeling\n",
    "from MyCode import relabeling_sklearn"
   ]
  },
  {
   "cell_type": "code",
   "execution_count": 2,
   "outputs": [],
   "source": [
    "df = pandas.read_csv(\"dataset_perso/Lawsuit.csv\")\n",
    "FILE_NAME = \"lawsuit_k_supp2_relab_sklearn\"\n",
    "\n",
    "del df['ID']\n",
    "salary_mean = np.mean(np.array(df[\"Sal94\"].tolist(), float))\n",
    "for i in range(0,len(df)):\n",
    "    if df.at[i, \"Sal94\"] >= salary_mean:\n",
    "        df.at[i, \"Salary_mean\"] = 1\n",
    "    else:\n",
    "        df.at[i, \"Salary_mean\"] = 0\n",
    "del df[\"Sal94\"]\n",
    "del df[\"Sal95\"]\n",
    "col = ['Rank', 'Dept']\n",
    "df = df.drop(['Prate', 'Exper'], axis=1)\n",
    "df = pd.get_dummies(df, columns=col)\n",
    "\n",
    "for i in range(0,len(df)):\n",
    "    if df.at[i, \"Gender\"] == 1:\n",
    "        df.at[i, \"Gender\"] = 0\n",
    "    else:\n",
    "        df.at[i, \"Gender\"] = 1\n",
    "\n",
    "\n",
    "X = df.loc[:, ~df.columns.isin(['Gender', 'Salary_mean'])]\n",
    "y = df['Salary_mean']\n",
    "sensitive = df['Gender']\n",
    "X_train, X_test, y_train, y_test, sensitive_train, sensitive_test = utils.train_test_split(1, X, y, sensitive)"
   ],
   "metadata": {
    "collapsed": false,
    "pycharm": {
     "name": "#%%\n"
    }
   }
  },
  {
   "cell_type": "code",
   "execution_count": 3,
   "outputs": [
    {
     "data": {
      "text/plain": "     Gender  Clin  Cert  Salary_mean  Rank_1  Rank_2  Rank_3  Dept_1  Dept_2  \\\n0         0     0     0          0.0       0       0       1       1       0   \n1         0     0     0          0.0       0       1       0       1       0   \n2         0     0     0          0.0       1       0       0       1       0   \n3         0     1     1          1.0       0       0       1       1       0   \n4         0     0     0          0.0       0       0       1       1       0   \n..      ...   ...   ...          ...     ...     ...     ...     ...     ...   \n256       1     1     1          1.0       0       1       0       0       0   \n257       1     1     1          1.0       0       0       1       0       0   \n258       1     1     1          1.0       1       0       0       0       0   \n259       1     1     1          1.0       1       0       0       0       0   \n260       1     1     1          1.0       1       0       0       0       0   \n\n     Dept_3  Dept_4  Dept_5  Dept_6  discrimination_relab_1  accuracy_relab_1  \\\n0         0       0       0       0                     NaN               NaN   \n1         0       0       0       0                     NaN               NaN   \n2         0       0       0       0                     NaN               NaN   \n3         0       0       0       0                     NaN               NaN   \n4         0       0       0       0                     NaN               NaN   \n..      ...     ...     ...     ...                     ...               ...   \n256       0       0       0       1                     NaN               NaN   \n257       0       0       0       1                     NaN               NaN   \n258       0       0       0       1                     NaN               NaN   \n259       0       0       0       1                     NaN               NaN   \n260       0       0       0       1                     NaN               NaN   \n\n     discrimination_relab_2  accuracy_relab_2  discrimination_relab_3  \\\n0                       NaN               NaN                     NaN   \n1                       NaN               NaN                     NaN   \n2                       NaN               NaN                     NaN   \n3                       NaN               NaN                     NaN   \n4                       NaN               NaN                     NaN   \n..                      ...               ...                     ...   \n256                     NaN               NaN                     NaN   \n257                     NaN               NaN                     NaN   \n258                     NaN               NaN                     NaN   \n259                     NaN               NaN                     NaN   \n260                     NaN               NaN                     NaN   \n\n     accuracy_relab_3  \n0                 NaN  \n1                 NaN  \n2                 NaN  \n3                 NaN  \n4                 NaN  \n..                ...  \n256               NaN  \n257               NaN  \n258               NaN  \n259               NaN  \n260               NaN  \n\n[261 rows x 19 columns]",
      "text/html": "<div>\n<style scoped>\n    .dataframe tbody tr th:only-of-type {\n        vertical-align: middle;\n    }\n\n    .dataframe tbody tr th {\n        vertical-align: top;\n    }\n\n    .dataframe thead th {\n        text-align: right;\n    }\n</style>\n<table border=\"1\" class=\"dataframe\">\n  <thead>\n    <tr style=\"text-align: right;\">\n      <th></th>\n      <th>Gender</th>\n      <th>Clin</th>\n      <th>Cert</th>\n      <th>Salary_mean</th>\n      <th>Rank_1</th>\n      <th>Rank_2</th>\n      <th>Rank_3</th>\n      <th>Dept_1</th>\n      <th>Dept_2</th>\n      <th>Dept_3</th>\n      <th>Dept_4</th>\n      <th>Dept_5</th>\n      <th>Dept_6</th>\n      <th>discrimination_relab_1</th>\n      <th>accuracy_relab_1</th>\n      <th>discrimination_relab_2</th>\n      <th>accuracy_relab_2</th>\n      <th>discrimination_relab_3</th>\n      <th>accuracy_relab_3</th>\n    </tr>\n  </thead>\n  <tbody>\n    <tr>\n      <th>0</th>\n      <td>0</td>\n      <td>0</td>\n      <td>0</td>\n      <td>0.0</td>\n      <td>0</td>\n      <td>0</td>\n      <td>1</td>\n      <td>1</td>\n      <td>0</td>\n      <td>0</td>\n      <td>0</td>\n      <td>0</td>\n      <td>0</td>\n      <td>NaN</td>\n      <td>NaN</td>\n      <td>NaN</td>\n      <td>NaN</td>\n      <td>NaN</td>\n      <td>NaN</td>\n    </tr>\n    <tr>\n      <th>1</th>\n      <td>0</td>\n      <td>0</td>\n      <td>0</td>\n      <td>0.0</td>\n      <td>0</td>\n      <td>1</td>\n      <td>0</td>\n      <td>1</td>\n      <td>0</td>\n      <td>0</td>\n      <td>0</td>\n      <td>0</td>\n      <td>0</td>\n      <td>NaN</td>\n      <td>NaN</td>\n      <td>NaN</td>\n      <td>NaN</td>\n      <td>NaN</td>\n      <td>NaN</td>\n    </tr>\n    <tr>\n      <th>2</th>\n      <td>0</td>\n      <td>0</td>\n      <td>0</td>\n      <td>0.0</td>\n      <td>1</td>\n      <td>0</td>\n      <td>0</td>\n      <td>1</td>\n      <td>0</td>\n      <td>0</td>\n      <td>0</td>\n      <td>0</td>\n      <td>0</td>\n      <td>NaN</td>\n      <td>NaN</td>\n      <td>NaN</td>\n      <td>NaN</td>\n      <td>NaN</td>\n      <td>NaN</td>\n    </tr>\n    <tr>\n      <th>3</th>\n      <td>0</td>\n      <td>1</td>\n      <td>1</td>\n      <td>1.0</td>\n      <td>0</td>\n      <td>0</td>\n      <td>1</td>\n      <td>1</td>\n      <td>0</td>\n      <td>0</td>\n      <td>0</td>\n      <td>0</td>\n      <td>0</td>\n      <td>NaN</td>\n      <td>NaN</td>\n      <td>NaN</td>\n      <td>NaN</td>\n      <td>NaN</td>\n      <td>NaN</td>\n    </tr>\n    <tr>\n      <th>4</th>\n      <td>0</td>\n      <td>0</td>\n      <td>0</td>\n      <td>0.0</td>\n      <td>0</td>\n      <td>0</td>\n      <td>1</td>\n      <td>1</td>\n      <td>0</td>\n      <td>0</td>\n      <td>0</td>\n      <td>0</td>\n      <td>0</td>\n      <td>NaN</td>\n      <td>NaN</td>\n      <td>NaN</td>\n      <td>NaN</td>\n      <td>NaN</td>\n      <td>NaN</td>\n    </tr>\n    <tr>\n      <th>...</th>\n      <td>...</td>\n      <td>...</td>\n      <td>...</td>\n      <td>...</td>\n      <td>...</td>\n      <td>...</td>\n      <td>...</td>\n      <td>...</td>\n      <td>...</td>\n      <td>...</td>\n      <td>...</td>\n      <td>...</td>\n      <td>...</td>\n      <td>...</td>\n      <td>...</td>\n      <td>...</td>\n      <td>...</td>\n      <td>...</td>\n      <td>...</td>\n    </tr>\n    <tr>\n      <th>256</th>\n      <td>1</td>\n      <td>1</td>\n      <td>1</td>\n      <td>1.0</td>\n      <td>0</td>\n      <td>1</td>\n      <td>0</td>\n      <td>0</td>\n      <td>0</td>\n      <td>0</td>\n      <td>0</td>\n      <td>0</td>\n      <td>1</td>\n      <td>NaN</td>\n      <td>NaN</td>\n      <td>NaN</td>\n      <td>NaN</td>\n      <td>NaN</td>\n      <td>NaN</td>\n    </tr>\n    <tr>\n      <th>257</th>\n      <td>1</td>\n      <td>1</td>\n      <td>1</td>\n      <td>1.0</td>\n      <td>0</td>\n      <td>0</td>\n      <td>1</td>\n      <td>0</td>\n      <td>0</td>\n      <td>0</td>\n      <td>0</td>\n      <td>0</td>\n      <td>1</td>\n      <td>NaN</td>\n      <td>NaN</td>\n      <td>NaN</td>\n      <td>NaN</td>\n      <td>NaN</td>\n      <td>NaN</td>\n    </tr>\n    <tr>\n      <th>258</th>\n      <td>1</td>\n      <td>1</td>\n      <td>1</td>\n      <td>1.0</td>\n      <td>1</td>\n      <td>0</td>\n      <td>0</td>\n      <td>0</td>\n      <td>0</td>\n      <td>0</td>\n      <td>0</td>\n      <td>0</td>\n      <td>1</td>\n      <td>NaN</td>\n      <td>NaN</td>\n      <td>NaN</td>\n      <td>NaN</td>\n      <td>NaN</td>\n      <td>NaN</td>\n    </tr>\n    <tr>\n      <th>259</th>\n      <td>1</td>\n      <td>1</td>\n      <td>1</td>\n      <td>1.0</td>\n      <td>1</td>\n      <td>0</td>\n      <td>0</td>\n      <td>0</td>\n      <td>0</td>\n      <td>0</td>\n      <td>0</td>\n      <td>0</td>\n      <td>1</td>\n      <td>NaN</td>\n      <td>NaN</td>\n      <td>NaN</td>\n      <td>NaN</td>\n      <td>NaN</td>\n      <td>NaN</td>\n    </tr>\n    <tr>\n      <th>260</th>\n      <td>1</td>\n      <td>1</td>\n      <td>1</td>\n      <td>1.0</td>\n      <td>1</td>\n      <td>0</td>\n      <td>0</td>\n      <td>0</td>\n      <td>0</td>\n      <td>0</td>\n      <td>0</td>\n      <td>0</td>\n      <td>1</td>\n      <td>NaN</td>\n      <td>NaN</td>\n      <td>NaN</td>\n      <td>NaN</td>\n      <td>NaN</td>\n      <td>NaN</td>\n    </tr>\n  </tbody>\n</table>\n<p>261 rows × 19 columns</p>\n</div>"
     },
     "execution_count": 3,
     "metadata": {},
     "output_type": "execute_result"
    }
   ],
   "source": [
    "pd.set_option('max_columns', None)\n",
    "\n",
    "# src: https://www.kaggle.com/hjmjerry/gender-discrimination\n",
    "\n",
    "for leaf_limit in range (1, 4):\n",
    "    df['discrimination_relab_'+str(leaf_limit)] = np.nan\n",
    "    df['accuracy_relab_'+str(leaf_limit)] = np.nan\n",
    "\n",
    "for threshold in range (1, 4):\n",
    "    df['discrimination_relab_'+str(threshold)] = np.nan\n",
    "    df['accuracy_relab_'+str(threshold)] = np.nan\n",
    "df"
   ],
   "metadata": {
    "collapsed": false,
    "pycharm": {
     "name": "#%%\n"
    }
   }
  },
  {
   "cell_type": "code",
   "execution_count": 4,
   "outputs": [
    {
     "data": {
      "text/plain": "     k  depth  random_state  accuracy_train  accuracy_test  \\\n0    0      1             1        0.755981       0.730769   \n7    0      1             3        0.770335       0.673077   \n14   0      1             5        0.765550       0.692308   \n21   0      1             7        0.755981       0.730769   \n28   0      1             9        0.712919       0.711538   \n..  ..    ...           ...             ...            ...   \n286  0      7            89        0.913876       0.865385   \n293  0      7            93        0.923445       0.903846   \n300  0      7            95        0.918660       0.923077   \n307  0      7            97        0.933014       0.865385   \n314  0      7            99        0.923445       0.865385   \n\n     discrimination_train  discrimination_train_pred  discrimination_test  \\\n0                0.325619                   0.156476             0.266667   \n7                0.304364                   0.234535            -0.046083   \n14               0.324563                   0.179566             0.172619   \n21               0.290782                   0.185791             0.137931   \n28               0.316116                   0.113636            -0.101307   \n..                    ...                        ...                  ...   \n286              0.318990                   0.351884             0.205397   \n293              0.298554                   0.253099             0.392157   \n300              0.353778                   0.276616             0.221691   \n307              0.342636                   0.272384             0.307692   \n314              0.360373                   0.298003             0.063796   \n\n     sum_discrimination_additive_train  \\\n0                             0.325619   \n7                             0.304364   \n14                            0.324563   \n21                            0.290782   \n28                            0.316116   \n..                                 ...   \n286                           0.318990   \n293                           0.298554   \n300                           0.353778   \n307                           0.342636   \n314                           0.360373   \n\n     sum_discrimination_additive_train_pred  \\\n0                                  0.156476   \n7                                  0.234535   \n14                                 0.179566   \n21                                 0.185791   \n28                                 0.113636   \n..                                      ...   \n286                                0.351884   \n293                                0.253099   \n300                                0.276616   \n307                                0.272384   \n314                                0.298003   \n\n     sum_discrimination_additive_test_pred  \\\n0                                 0.064000   \n7                                -0.011101   \n14                                0.035049   \n21                                0.031746   \n28                                0.030992   \n..                                     ...   \n286                               0.039109   \n293                               0.122934   \n300                               0.073676   \n307                               0.028779   \n314                               0.039194   \n\n     sum_discrimination_additive_train_abs  \\\n0                                 0.325619   \n7                                 0.304364   \n14                                0.324563   \n21                                0.290782   \n28                                0.316116   \n..                                     ...   \n286                               0.472366   \n293                               0.449380   \n300                               0.508291   \n307                               0.387597   \n314                               0.436122   \n\n     sum_discrimination_additive_train_pred_abs  \\\n0                                      0.156476   \n7                                      0.234535   \n14                                     0.179566   \n21                                     0.185791   \n28                                     0.113636   \n..                                          ...   \n286                                    0.375980   \n293                                    0.428719   \n300                                    0.503486   \n307                                    0.417345   \n314                                    0.400132   \n\n     sum_discrimination_additive_test_pred_abs  min_supp  \\\n0                                     0.064000         2   \n7                                     0.011101         2   \n14                                    0.035049         2   \n21                                    0.031746         2   \n28                                    0.030992         2   \n..                                         ...       ...   \n286                                   0.087302         2   \n293                                   0.122934         2   \n300                                   0.123045         2   \n307                                   0.076260         2   \n314                                   0.114754         2   \n\n                                             clf.tree_  accuracy_relab_1  \\\n0    <sklearn.tree._tree.Tree object at 0x7f3050185...            0.6028   \n7    <sklearn.tree._tree.Tree object at 0x7f3050cec...            0.6076   \n14   <sklearn.tree._tree.Tree object at 0x7f3050cec...            0.6076   \n21   <sklearn.tree._tree.Tree object at 0x7f3050cec...            0.5837   \n28   <sklearn.tree._tree.Tree object at 0x7f3050c40...            0.6124   \n..                                                 ...               ...   \n286  <sklearn.tree._tree.Tree object at 0x7f30501f7...            0.9090   \n293  <sklearn.tree._tree.Tree object at 0x7f30501f7...            0.9043   \n300  <sklearn.tree._tree.Tree object at 0x7f30501f7...            0.9138   \n307  <sklearn.tree._tree.Tree object at 0x7f3050c7e...            0.8612   \n314  <sklearn.tree._tree.Tree object at 0x7f3050c7e...            0.9090   \n\n     discrimination_relab_1  discrimination_relab_abs_1  \\\n0                  0.000000                    0.000000   \n7                  0.000000                    0.000000   \n14                 0.000000                    0.000000   \n21                 0.000000                    0.000000   \n28                 0.000000                    0.000000   \n..                      ...                         ...   \n286                0.328074                    0.352171   \n293                0.204545                    0.477273   \n300                0.261824                    0.518278   \n307                0.145640                    0.544089   \n314                0.260222                    0.437912   \n\n     discrimination_relab_test_1  discrimination_relab_test_abs_1  \\\n0                       0.000000                         0.000000   \n7                       0.000000                         0.000000   \n14                      0.000000                         0.000000   \n21                      0.000000                         0.000000   \n28                      0.000000                         0.000000   \n..                           ...                              ...   \n286                     0.248876                         0.335832   \n293                     0.421569                         0.467320   \n300                     0.207337                         0.519936   \n307                     0.230769                         0.384615   \n314                     0.041467                         0.446571   \n\n     accuracy_relab_2  discrimination_relab_2  discrimination_relab_abs_2  \\\n0              0.2440               -0.156476                    0.156476   \n7              0.2296               -0.234535                    0.234535   \n14             0.2344               -0.179566                    0.179566   \n21             0.2440               -0.185791                    0.185791   \n28             0.2870               -0.113636                    0.113636   \n..                ...                     ...                         ...   \n286            0.8995                0.299866                    0.380379   \n293            0.8325                0.073347                    0.608471   \n300            0.8660                0.166572                    0.613529   \n307            0.8516                0.130136                    0.528585   \n314            0.8947                0.225740                    0.472395   \n\n     discrimination_relab_test_2  discrimination_relab_test_abs_2  \\\n0                      -0.266667                         0.266667   \n7                       0.046083                         0.046083   \n14                     -0.172619                         0.172619   \n21                     -0.137931                         0.137931   \n28                      0.101307                         0.101307   \n..                           ...                              ...   \n286                     0.196402                         0.388306   \n293                     0.395425                         0.493464   \n300                     0.004785                         0.722488   \n307                     0.153846                         0.307692   \n314                     0.071770                         0.476874   \n\n     accuracy_relab_3  discrimination_relab_3  discrimination_relab_abs_3  \\\n0              0.2440               -0.156476                    0.156476   \n7              0.2296               -0.234535                    0.234535   \n14             0.2344               -0.179566                    0.179566   \n21             0.2440               -0.185791                    0.185791   \n28             0.2870               -0.113636                    0.113636   \n..                ...                     ...                         ...   \n286            0.8899                0.275770                    0.404475   \n293            0.8133                0.040289                    0.575413   \n300            0.8516                0.141982                    0.588939   \n307            0.8468                0.122384                    0.520833   \n314            0.8803                0.201149                    0.447805   \n\n     discrimination_relab_test_3  discrimination_relab_test_abs_3  \\\n0                      -0.266667                         0.266667   \n7                       0.046083                         0.046083   \n14                     -0.172619                         0.172619   \n21                     -0.137931                         0.137931   \n28                      0.101307                         0.101307   \n..                           ...                              ...   \n286                     0.230885                         0.422789   \n293                     0.395425                         0.493464   \n300                    -0.025518                         0.692185   \n307                     0.153846                         0.307692   \n314                     0.041467                         0.446571   \n\n     accuracy_relab_0.0  discrimination_relab_0.0  \\\n0                0.6028                  0.000000   \n7                0.6076                  0.000000   \n14               0.6076                  0.000000   \n21               0.5837                  0.000000   \n28               0.6124                  0.000000   \n..                  ...                       ...   \n286              0.6411                 -0.046950   \n293              0.6698                 -0.121901   \n300              0.6985                 -0.120313   \n307              0.6028                 -0.171415   \n314              0.6555                 -0.138402   \n\n     discrimination_relab_abs_0.0  discrimination_relab_test_0.0  \\\n0                        0.000000                       0.000000   \n7                        0.000000                       0.000000   \n14                       0.000000                       0.000000   \n21                       0.000000                       0.000000   \n28                       0.000000                       0.000000   \n..                            ...                            ...   \n286                      0.331517                      -0.209895   \n293                      0.448347                       0.392157   \n300                      0.326644                       0.116427   \n307                      0.418508                       0.076923   \n314                      0.357923                      -0.065391   \n\n     discrimination_relab_test_abs_0.0  accuracy_relab_0.1  \\\n0                             0.000000              0.6028   \n7                             0.000000              0.6076   \n14                            0.000000              0.6076   \n21                            0.000000              0.5837   \n28                            0.000000              0.6124   \n..                                 ...                 ...   \n286                           0.329835              0.6411   \n293                           0.490196              0.8325   \n300                           0.550239              0.6985   \n307                           0.307692              0.8277   \n314                           0.444976              0.7990   \n\n     discrimination_relab_0.1  discrimination_relab_abs_0.1  \\\n0                    0.000000                      0.000000   \n7                    0.000000                      0.000000   \n14                   0.000000                      0.000000   \n21                   0.000000                      0.000000   \n28                   0.000000                      0.000000   \n..                        ...                           ...   \n286                 -0.046950                      0.331517   \n293                  0.073347                      0.608471   \n300                 -0.120313                      0.326644   \n307                  0.092636                      0.550581   \n314                  0.068118                      0.564443   \n\n     discrimination_relab_test_0.1  discrimination_relab_test_abs_0.1  \\\n0                         0.000000                           0.000000   \n7                         0.000000                           0.000000   \n14                        0.000000                           0.000000   \n21                        0.000000                           0.000000   \n28                        0.000000                           0.000000   \n..                             ...                                ...   \n286                      -0.209895                           0.329835   \n293                       0.395425                           0.493464   \n300                       0.116427                           0.550239   \n307                       0.153846                           0.307692   \n314                      -0.011164                           0.499203   \n\n     accuracy_relab_0.2  discrimination_relab_0.2  \\\n0                0.7559                  0.156476   \n7                0.6076                  0.000000   \n14               0.7655                  0.179566   \n21               0.7559                  0.185791   \n28               0.7129                  0.113636   \n..                  ...                       ...   \n286              0.8086                  0.147351   \n293              0.8325                  0.073347   \n300              0.8660                  0.166572   \n307              0.8612                  0.145640   \n314              0.8755                  0.192953   \n\n     discrimination_relab_abs_0.2  discrimination_relab_test_0.2  \\\n0                        0.156476                       0.266667   \n7                        0.000000                       0.000000   \n14                       0.179566                       0.172619   \n21                       0.185791                       0.137931   \n28                       0.113636                      -0.101307   \n..                            ...                            ...   \n286                      0.469401                       0.022489   \n293                      0.608471                       0.395425   \n300                      0.613529                       0.004785   \n307                      0.544089                       0.230769   \n314                      0.439608                       0.041467   \n\n     discrimination_relab_test_abs_0.2  accuracy_relab_0.3  \\\n0                             0.266667              0.7559   \n7                             0.000000              0.7703   \n14                            0.172619              0.7655   \n21                            0.137931              0.7559   \n28                            0.101307              0.7129   \n..                                 ...                 ...   \n286                           0.562219              0.8995   \n293                           0.493464              0.9234   \n300                           0.722488              0.9186   \n307                           0.384615              0.9330   \n314                           0.446571              0.9234   \n\n     discrimination_relab_0.3  discrimination_relab_abs_0.3  \\\n0                    0.156476                      0.156476   \n7                    0.234535                      0.234535   \n14                   0.179566                      0.179566   \n21                   0.185791                      0.185791   \n28                   0.113636                      0.113636   \n..                        ...                           ...   \n286                  0.299866                      0.380379   \n293                  0.253099                      0.428719   \n300                  0.276616                      0.503486   \n307                  0.272384                      0.417345   \n314                  0.298003                      0.400132   \n\n     discrimination_relab_test_0.3  discrimination_relab_test_abs_0.3  \n0                         0.266667                           0.266667  \n7                        -0.046083                           0.046083  \n14                        0.172619                           0.172619  \n21                        0.137931                           0.137931  \n28                       -0.101307                           0.101307  \n..                             ...                                ...  \n286                       0.196402                           0.388306  \n293                       0.392157                           0.437908  \n300                       0.221691                           0.505582  \n307                       0.307692                           0.307692  \n314                       0.063796                           0.424242  \n\n[315 rows x 51 columns]",
      "text/html": "<div>\n<style scoped>\n    .dataframe tbody tr th:only-of-type {\n        vertical-align: middle;\n    }\n\n    .dataframe tbody tr th {\n        vertical-align: top;\n    }\n\n    .dataframe thead th {\n        text-align: right;\n    }\n</style>\n<table border=\"1\" class=\"dataframe\">\n  <thead>\n    <tr style=\"text-align: right;\">\n      <th></th>\n      <th>k</th>\n      <th>depth</th>\n      <th>random_state</th>\n      <th>accuracy_train</th>\n      <th>accuracy_test</th>\n      <th>discrimination_train</th>\n      <th>discrimination_train_pred</th>\n      <th>discrimination_test</th>\n      <th>sum_discrimination_additive_train</th>\n      <th>sum_discrimination_additive_train_pred</th>\n      <th>sum_discrimination_additive_test_pred</th>\n      <th>sum_discrimination_additive_train_abs</th>\n      <th>sum_discrimination_additive_train_pred_abs</th>\n      <th>sum_discrimination_additive_test_pred_abs</th>\n      <th>min_supp</th>\n      <th>clf.tree_</th>\n      <th>accuracy_relab_1</th>\n      <th>discrimination_relab_1</th>\n      <th>discrimination_relab_abs_1</th>\n      <th>discrimination_relab_test_1</th>\n      <th>discrimination_relab_test_abs_1</th>\n      <th>accuracy_relab_2</th>\n      <th>discrimination_relab_2</th>\n      <th>discrimination_relab_abs_2</th>\n      <th>discrimination_relab_test_2</th>\n      <th>discrimination_relab_test_abs_2</th>\n      <th>accuracy_relab_3</th>\n      <th>discrimination_relab_3</th>\n      <th>discrimination_relab_abs_3</th>\n      <th>discrimination_relab_test_3</th>\n      <th>discrimination_relab_test_abs_3</th>\n      <th>accuracy_relab_0.0</th>\n      <th>discrimination_relab_0.0</th>\n      <th>discrimination_relab_abs_0.0</th>\n      <th>discrimination_relab_test_0.0</th>\n      <th>discrimination_relab_test_abs_0.0</th>\n      <th>accuracy_relab_0.1</th>\n      <th>discrimination_relab_0.1</th>\n      <th>discrimination_relab_abs_0.1</th>\n      <th>discrimination_relab_test_0.1</th>\n      <th>discrimination_relab_test_abs_0.1</th>\n      <th>accuracy_relab_0.2</th>\n      <th>discrimination_relab_0.2</th>\n      <th>discrimination_relab_abs_0.2</th>\n      <th>discrimination_relab_test_0.2</th>\n      <th>discrimination_relab_test_abs_0.2</th>\n      <th>accuracy_relab_0.3</th>\n      <th>discrimination_relab_0.3</th>\n      <th>discrimination_relab_abs_0.3</th>\n      <th>discrimination_relab_test_0.3</th>\n      <th>discrimination_relab_test_abs_0.3</th>\n    </tr>\n  </thead>\n  <tbody>\n    <tr>\n      <th>0</th>\n      <td>0</td>\n      <td>1</td>\n      <td>1</td>\n      <td>0.755981</td>\n      <td>0.730769</td>\n      <td>0.325619</td>\n      <td>0.156476</td>\n      <td>0.266667</td>\n      <td>0.325619</td>\n      <td>0.156476</td>\n      <td>0.064000</td>\n      <td>0.325619</td>\n      <td>0.156476</td>\n      <td>0.064000</td>\n      <td>2</td>\n      <td>&lt;sklearn.tree._tree.Tree object at 0x7f3050185...</td>\n      <td>0.6028</td>\n      <td>0.000000</td>\n      <td>0.000000</td>\n      <td>0.000000</td>\n      <td>0.000000</td>\n      <td>0.2440</td>\n      <td>-0.156476</td>\n      <td>0.156476</td>\n      <td>-0.266667</td>\n      <td>0.266667</td>\n      <td>0.2440</td>\n      <td>-0.156476</td>\n      <td>0.156476</td>\n      <td>-0.266667</td>\n      <td>0.266667</td>\n      <td>0.6028</td>\n      <td>0.000000</td>\n      <td>0.000000</td>\n      <td>0.000000</td>\n      <td>0.000000</td>\n      <td>0.6028</td>\n      <td>0.000000</td>\n      <td>0.000000</td>\n      <td>0.000000</td>\n      <td>0.000000</td>\n      <td>0.7559</td>\n      <td>0.156476</td>\n      <td>0.156476</td>\n      <td>0.266667</td>\n      <td>0.266667</td>\n      <td>0.7559</td>\n      <td>0.156476</td>\n      <td>0.156476</td>\n      <td>0.266667</td>\n      <td>0.266667</td>\n    </tr>\n    <tr>\n      <th>7</th>\n      <td>0</td>\n      <td>1</td>\n      <td>3</td>\n      <td>0.770335</td>\n      <td>0.673077</td>\n      <td>0.304364</td>\n      <td>0.234535</td>\n      <td>-0.046083</td>\n      <td>0.304364</td>\n      <td>0.234535</td>\n      <td>-0.011101</td>\n      <td>0.304364</td>\n      <td>0.234535</td>\n      <td>0.011101</td>\n      <td>2</td>\n      <td>&lt;sklearn.tree._tree.Tree object at 0x7f3050cec...</td>\n      <td>0.6076</td>\n      <td>0.000000</td>\n      <td>0.000000</td>\n      <td>0.000000</td>\n      <td>0.000000</td>\n      <td>0.2296</td>\n      <td>-0.234535</td>\n      <td>0.234535</td>\n      <td>0.046083</td>\n      <td>0.046083</td>\n      <td>0.2296</td>\n      <td>-0.234535</td>\n      <td>0.234535</td>\n      <td>0.046083</td>\n      <td>0.046083</td>\n      <td>0.6076</td>\n      <td>0.000000</td>\n      <td>0.000000</td>\n      <td>0.000000</td>\n      <td>0.000000</td>\n      <td>0.6076</td>\n      <td>0.000000</td>\n      <td>0.000000</td>\n      <td>0.000000</td>\n      <td>0.000000</td>\n      <td>0.6076</td>\n      <td>0.000000</td>\n      <td>0.000000</td>\n      <td>0.000000</td>\n      <td>0.000000</td>\n      <td>0.7703</td>\n      <td>0.234535</td>\n      <td>0.234535</td>\n      <td>-0.046083</td>\n      <td>0.046083</td>\n    </tr>\n    <tr>\n      <th>14</th>\n      <td>0</td>\n      <td>1</td>\n      <td>5</td>\n      <td>0.765550</td>\n      <td>0.692308</td>\n      <td>0.324563</td>\n      <td>0.179566</td>\n      <td>0.172619</td>\n      <td>0.324563</td>\n      <td>0.179566</td>\n      <td>0.035049</td>\n      <td>0.324563</td>\n      <td>0.179566</td>\n      <td>0.035049</td>\n      <td>2</td>\n      <td>&lt;sklearn.tree._tree.Tree object at 0x7f3050cec...</td>\n      <td>0.6076</td>\n      <td>0.000000</td>\n      <td>0.000000</td>\n      <td>0.000000</td>\n      <td>0.000000</td>\n      <td>0.2344</td>\n      <td>-0.179566</td>\n      <td>0.179566</td>\n      <td>-0.172619</td>\n      <td>0.172619</td>\n      <td>0.2344</td>\n      <td>-0.179566</td>\n      <td>0.179566</td>\n      <td>-0.172619</td>\n      <td>0.172619</td>\n      <td>0.6076</td>\n      <td>0.000000</td>\n      <td>0.000000</td>\n      <td>0.000000</td>\n      <td>0.000000</td>\n      <td>0.6076</td>\n      <td>0.000000</td>\n      <td>0.000000</td>\n      <td>0.000000</td>\n      <td>0.000000</td>\n      <td>0.7655</td>\n      <td>0.179566</td>\n      <td>0.179566</td>\n      <td>0.172619</td>\n      <td>0.172619</td>\n      <td>0.7655</td>\n      <td>0.179566</td>\n      <td>0.179566</td>\n      <td>0.172619</td>\n      <td>0.172619</td>\n    </tr>\n    <tr>\n      <th>21</th>\n      <td>0</td>\n      <td>1</td>\n      <td>7</td>\n      <td>0.755981</td>\n      <td>0.730769</td>\n      <td>0.290782</td>\n      <td>0.185791</td>\n      <td>0.137931</td>\n      <td>0.290782</td>\n      <td>0.185791</td>\n      <td>0.031746</td>\n      <td>0.290782</td>\n      <td>0.185791</td>\n      <td>0.031746</td>\n      <td>2</td>\n      <td>&lt;sklearn.tree._tree.Tree object at 0x7f3050cec...</td>\n      <td>0.5837</td>\n      <td>0.000000</td>\n      <td>0.000000</td>\n      <td>0.000000</td>\n      <td>0.000000</td>\n      <td>0.2440</td>\n      <td>-0.185791</td>\n      <td>0.185791</td>\n      <td>-0.137931</td>\n      <td>0.137931</td>\n      <td>0.2440</td>\n      <td>-0.185791</td>\n      <td>0.185791</td>\n      <td>-0.137931</td>\n      <td>0.137931</td>\n      <td>0.5837</td>\n      <td>0.000000</td>\n      <td>0.000000</td>\n      <td>0.000000</td>\n      <td>0.000000</td>\n      <td>0.5837</td>\n      <td>0.000000</td>\n      <td>0.000000</td>\n      <td>0.000000</td>\n      <td>0.000000</td>\n      <td>0.7559</td>\n      <td>0.185791</td>\n      <td>0.185791</td>\n      <td>0.137931</td>\n      <td>0.137931</td>\n      <td>0.7559</td>\n      <td>0.185791</td>\n      <td>0.185791</td>\n      <td>0.137931</td>\n      <td>0.137931</td>\n    </tr>\n    <tr>\n      <th>28</th>\n      <td>0</td>\n      <td>1</td>\n      <td>9</td>\n      <td>0.712919</td>\n      <td>0.711538</td>\n      <td>0.316116</td>\n      <td>0.113636</td>\n      <td>-0.101307</td>\n      <td>0.316116</td>\n      <td>0.113636</td>\n      <td>0.030992</td>\n      <td>0.316116</td>\n      <td>0.113636</td>\n      <td>0.030992</td>\n      <td>2</td>\n      <td>&lt;sklearn.tree._tree.Tree object at 0x7f3050c40...</td>\n      <td>0.6124</td>\n      <td>0.000000</td>\n      <td>0.000000</td>\n      <td>0.000000</td>\n      <td>0.000000</td>\n      <td>0.2870</td>\n      <td>-0.113636</td>\n      <td>0.113636</td>\n      <td>0.101307</td>\n      <td>0.101307</td>\n      <td>0.2870</td>\n      <td>-0.113636</td>\n      <td>0.113636</td>\n      <td>0.101307</td>\n      <td>0.101307</td>\n      <td>0.6124</td>\n      <td>0.000000</td>\n      <td>0.000000</td>\n      <td>0.000000</td>\n      <td>0.000000</td>\n      <td>0.6124</td>\n      <td>0.000000</td>\n      <td>0.000000</td>\n      <td>0.000000</td>\n      <td>0.000000</td>\n      <td>0.7129</td>\n      <td>0.113636</td>\n      <td>0.113636</td>\n      <td>-0.101307</td>\n      <td>0.101307</td>\n      <td>0.7129</td>\n      <td>0.113636</td>\n      <td>0.113636</td>\n      <td>-0.101307</td>\n      <td>0.101307</td>\n    </tr>\n    <tr>\n      <th>...</th>\n      <td>...</td>\n      <td>...</td>\n      <td>...</td>\n      <td>...</td>\n      <td>...</td>\n      <td>...</td>\n      <td>...</td>\n      <td>...</td>\n      <td>...</td>\n      <td>...</td>\n      <td>...</td>\n      <td>...</td>\n      <td>...</td>\n      <td>...</td>\n      <td>...</td>\n      <td>...</td>\n      <td>...</td>\n      <td>...</td>\n      <td>...</td>\n      <td>...</td>\n      <td>...</td>\n      <td>...</td>\n      <td>...</td>\n      <td>...</td>\n      <td>...</td>\n      <td>...</td>\n      <td>...</td>\n      <td>...</td>\n      <td>...</td>\n      <td>...</td>\n      <td>...</td>\n      <td>...</td>\n      <td>...</td>\n      <td>...</td>\n      <td>...</td>\n      <td>...</td>\n      <td>...</td>\n      <td>...</td>\n      <td>...</td>\n      <td>...</td>\n      <td>...</td>\n      <td>...</td>\n      <td>...</td>\n      <td>...</td>\n      <td>...</td>\n      <td>...</td>\n      <td>...</td>\n      <td>...</td>\n      <td>...</td>\n      <td>...</td>\n      <td>...</td>\n    </tr>\n    <tr>\n      <th>286</th>\n      <td>0</td>\n      <td>7</td>\n      <td>89</td>\n      <td>0.913876</td>\n      <td>0.865385</td>\n      <td>0.318990</td>\n      <td>0.351884</td>\n      <td>0.205397</td>\n      <td>0.318990</td>\n      <td>0.351884</td>\n      <td>0.039109</td>\n      <td>0.472366</td>\n      <td>0.375980</td>\n      <td>0.087302</td>\n      <td>2</td>\n      <td>&lt;sklearn.tree._tree.Tree object at 0x7f30501f7...</td>\n      <td>0.9090</td>\n      <td>0.328074</td>\n      <td>0.352171</td>\n      <td>0.248876</td>\n      <td>0.335832</td>\n      <td>0.8995</td>\n      <td>0.299866</td>\n      <td>0.380379</td>\n      <td>0.196402</td>\n      <td>0.388306</td>\n      <td>0.8899</td>\n      <td>0.275770</td>\n      <td>0.404475</td>\n      <td>0.230885</td>\n      <td>0.422789</td>\n      <td>0.6411</td>\n      <td>-0.046950</td>\n      <td>0.331517</td>\n      <td>-0.209895</td>\n      <td>0.329835</td>\n      <td>0.6411</td>\n      <td>-0.046950</td>\n      <td>0.331517</td>\n      <td>-0.209895</td>\n      <td>0.329835</td>\n      <td>0.8086</td>\n      <td>0.147351</td>\n      <td>0.469401</td>\n      <td>0.022489</td>\n      <td>0.562219</td>\n      <td>0.8995</td>\n      <td>0.299866</td>\n      <td>0.380379</td>\n      <td>0.196402</td>\n      <td>0.388306</td>\n    </tr>\n    <tr>\n      <th>293</th>\n      <td>0</td>\n      <td>7</td>\n      <td>93</td>\n      <td>0.923445</td>\n      <td>0.903846</td>\n      <td>0.298554</td>\n      <td>0.253099</td>\n      <td>0.392157</td>\n      <td>0.298554</td>\n      <td>0.253099</td>\n      <td>0.122934</td>\n      <td>0.449380</td>\n      <td>0.428719</td>\n      <td>0.122934</td>\n      <td>2</td>\n      <td>&lt;sklearn.tree._tree.Tree object at 0x7f30501f7...</td>\n      <td>0.9043</td>\n      <td>0.204545</td>\n      <td>0.477273</td>\n      <td>0.421569</td>\n      <td>0.467320</td>\n      <td>0.8325</td>\n      <td>0.073347</td>\n      <td>0.608471</td>\n      <td>0.395425</td>\n      <td>0.493464</td>\n      <td>0.8133</td>\n      <td>0.040289</td>\n      <td>0.575413</td>\n      <td>0.395425</td>\n      <td>0.493464</td>\n      <td>0.6698</td>\n      <td>-0.121901</td>\n      <td>0.448347</td>\n      <td>0.392157</td>\n      <td>0.490196</td>\n      <td>0.8325</td>\n      <td>0.073347</td>\n      <td>0.608471</td>\n      <td>0.395425</td>\n      <td>0.493464</td>\n      <td>0.8325</td>\n      <td>0.073347</td>\n      <td>0.608471</td>\n      <td>0.395425</td>\n      <td>0.493464</td>\n      <td>0.9234</td>\n      <td>0.253099</td>\n      <td>0.428719</td>\n      <td>0.392157</td>\n      <td>0.437908</td>\n    </tr>\n    <tr>\n      <th>300</th>\n      <td>0</td>\n      <td>7</td>\n      <td>95</td>\n      <td>0.918660</td>\n      <td>0.923077</td>\n      <td>0.353778</td>\n      <td>0.276616</td>\n      <td>0.221691</td>\n      <td>0.353778</td>\n      <td>0.276616</td>\n      <td>0.073676</td>\n      <td>0.508291</td>\n      <td>0.503486</td>\n      <td>0.123045</td>\n      <td>2</td>\n      <td>&lt;sklearn.tree._tree.Tree object at 0x7f30501f7...</td>\n      <td>0.9138</td>\n      <td>0.261824</td>\n      <td>0.518278</td>\n      <td>0.207337</td>\n      <td>0.519936</td>\n      <td>0.8660</td>\n      <td>0.166572</td>\n      <td>0.613529</td>\n      <td>0.004785</td>\n      <td>0.722488</td>\n      <td>0.8516</td>\n      <td>0.141982</td>\n      <td>0.588939</td>\n      <td>-0.025518</td>\n      <td>0.692185</td>\n      <td>0.6985</td>\n      <td>-0.120313</td>\n      <td>0.326644</td>\n      <td>0.116427</td>\n      <td>0.550239</td>\n      <td>0.6985</td>\n      <td>-0.120313</td>\n      <td>0.326644</td>\n      <td>0.116427</td>\n      <td>0.550239</td>\n      <td>0.8660</td>\n      <td>0.166572</td>\n      <td>0.613529</td>\n      <td>0.004785</td>\n      <td>0.722488</td>\n      <td>0.9186</td>\n      <td>0.276616</td>\n      <td>0.503486</td>\n      <td>0.221691</td>\n      <td>0.505582</td>\n    </tr>\n    <tr>\n      <th>307</th>\n      <td>0</td>\n      <td>7</td>\n      <td>97</td>\n      <td>0.933014</td>\n      <td>0.865385</td>\n      <td>0.342636</td>\n      <td>0.272384</td>\n      <td>0.307692</td>\n      <td>0.342636</td>\n      <td>0.272384</td>\n      <td>0.028779</td>\n      <td>0.387597</td>\n      <td>0.417345</td>\n      <td>0.076260</td>\n      <td>2</td>\n      <td>&lt;sklearn.tree._tree.Tree object at 0x7f3050c7e...</td>\n      <td>0.8612</td>\n      <td>0.145640</td>\n      <td>0.544089</td>\n      <td>0.230769</td>\n      <td>0.384615</td>\n      <td>0.8516</td>\n      <td>0.130136</td>\n      <td>0.528585</td>\n      <td>0.153846</td>\n      <td>0.307692</td>\n      <td>0.8468</td>\n      <td>0.122384</td>\n      <td>0.520833</td>\n      <td>0.153846</td>\n      <td>0.307692</td>\n      <td>0.6028</td>\n      <td>-0.171415</td>\n      <td>0.418508</td>\n      <td>0.076923</td>\n      <td>0.307692</td>\n      <td>0.8277</td>\n      <td>0.092636</td>\n      <td>0.550581</td>\n      <td>0.153846</td>\n      <td>0.307692</td>\n      <td>0.8612</td>\n      <td>0.145640</td>\n      <td>0.544089</td>\n      <td>0.230769</td>\n      <td>0.384615</td>\n      <td>0.9330</td>\n      <td>0.272384</td>\n      <td>0.417345</td>\n      <td>0.307692</td>\n      <td>0.307692</td>\n    </tr>\n    <tr>\n      <th>314</th>\n      <td>0</td>\n      <td>7</td>\n      <td>99</td>\n      <td>0.923445</td>\n      <td>0.865385</td>\n      <td>0.360373</td>\n      <td>0.298003</td>\n      <td>0.063796</td>\n      <td>0.360373</td>\n      <td>0.298003</td>\n      <td>0.039194</td>\n      <td>0.436122</td>\n      <td>0.400132</td>\n      <td>0.114754</td>\n      <td>2</td>\n      <td>&lt;sklearn.tree._tree.Tree object at 0x7f3050c7e...</td>\n      <td>0.9090</td>\n      <td>0.260222</td>\n      <td>0.437912</td>\n      <td>0.041467</td>\n      <td>0.446571</td>\n      <td>0.8947</td>\n      <td>0.225740</td>\n      <td>0.472395</td>\n      <td>0.071770</td>\n      <td>0.476874</td>\n      <td>0.8803</td>\n      <td>0.201149</td>\n      <td>0.447805</td>\n      <td>0.041467</td>\n      <td>0.446571</td>\n      <td>0.6555</td>\n      <td>-0.138402</td>\n      <td>0.357923</td>\n      <td>-0.065391</td>\n      <td>0.444976</td>\n      <td>0.7990</td>\n      <td>0.068118</td>\n      <td>0.564443</td>\n      <td>-0.011164</td>\n      <td>0.499203</td>\n      <td>0.8755</td>\n      <td>0.192953</td>\n      <td>0.439608</td>\n      <td>0.041467</td>\n      <td>0.446571</td>\n      <td>0.9234</td>\n      <td>0.298003</td>\n      <td>0.400132</td>\n      <td>0.063796</td>\n      <td>0.424242</td>\n    </tr>\n  </tbody>\n</table>\n<p>315 rows × 51 columns</p>\n</div>"
     },
     "execution_count": 4,
     "metadata": {},
     "output_type": "execute_result"
    }
   ],
   "source": [
    "df = pd.read_csv('save/'+FILE_NAME+\".csv\")\n",
    "df = df.sort_values(['depth', 'random_state'])\n",
    "df"
   ],
   "metadata": {
    "collapsed": false,
    "pycharm": {
     "name": "#%%\n"
    }
   }
  },
  {
   "cell_type": "code",
   "execution_count": 5,
   "outputs": [],
   "source": [
    "import math\n",
    "\"\"\"\n",
    "depth=3\n",
    "random_state=19\n",
    "\"\"\"\n",
    "\"\"\"\"\n",
    "depth=4\n",
    "random_state=1\n",
    "\"\"\"\n",
    "depth=4\n",
    "random_state=39\n",
    "def round_down(a, exp):\n",
    "    dec = 10**20\n",
    "    return math.floor(a * dec)/float(dec)\n"
   ],
   "metadata": {
    "collapsed": false,
    "pycharm": {
     "name": "#%%\n"
    }
   }
  },
  {
   "cell_type": "code",
   "execution_count": 6,
   "outputs": [
    {
     "name": "stdout",
     "output_type": "stream",
     "text": [
      "### Depth: 4 state: 39 ###\n",
      "Accuracy DL8.5 on training set = 0.8851674641148325\n",
      "Accuracy DL8.5 on test set = 0.826923076923077\n",
      "Discrimination of classifier on train 0.31937984496124033\n",
      "Discrimination of classifier on train(pred) 0.30610465116279073\n",
      "Discrimination of classifier on test 0.34615384615384615\n"
     ]
    }
   ],
   "source": [
    "from sklearn.tree import DecisionTreeClassifier\n",
    "from sklearn import tree\n",
    "X_train, X_test, y_train, y_test, sensitive_train, sensitive_test = utils.train_test_split(random_state, X, y, sensitive)\n",
    "\n",
    "clf = DecisionTreeClassifier(max_depth=depth, random_state=0)\n",
    "\n",
    "print(f\"### Depth: {depth} state: {random_state} ###\")\n",
    "clf.fit(X_train, list(y_train))\n",
    "y_pred_train = clf.predict(X_train)\n",
    "accuracy_train = round_down(accuracy_score(y_train, y_pred_train), 8)\n",
    "print(\"Accuracy DL8.5 on training set =\", accuracy_train)\n",
    "y_pred_test = clf.predict(X_test)\n",
    "accuracy_test = round_down(accuracy_score(y_test, y_pred_test), 8)\n",
    "print(\"Accuracy DL8.5 on test set =\", accuracy_test)\n",
    "discrimination_train = round_down(utils.discrimination(y_train, sensitive_train), 8)\n",
    "print(\"Discrimination of classifier on train\", discrimination_train)\n",
    "discrimination_train_pred = round_down(utils.discrimination(y_pred_train, sensitive_train), 8)\n",
    "print(\"Discrimination of classifier on train(pred)\", discrimination_train_pred)\n",
    "discrimination_test = round_down(utils.discrimination(y_pred_test, sensitive_test), 8)\n",
    "print(\"Discrimination of classifier on test\", discrimination_test)\n",
    "clf_original = copy.deepcopy(clf)\n",
    "# RELAB\n",
    "for leaf_limit in range (1, 4):\n",
    "    clf = copy.deepcopy(clf_original)\n",
    "    leafs = list()\n",
    "    cnt = np.unique(sensitive, return_counts=True)[1]\n",
    "    leafs_relab = relabeling_sklearn.relab_leaf_limit(clf.tree_, X_train, y_train, y_pred_train, sensitive_train, leaf_limit)\n",
    "    for leaf in leafs_relab:\n",
    "        relabeling_sklearn.browse_and_relab(clf, leaf.node_id)\n",
    "\n",
    "    # NEW PREDICT\n",
    "    y_pred_train_relab = clf.predict(X_train)\n",
    "\n",
    "\n",
    "for threshold in [0.3, 0.2, 0.1, 0]:\n",
    "    clf = copy.deepcopy(clf_original)\n",
    "    leafs = list()\n",
    "    cnt = np.unique(sensitive, return_counts=True)[1]\n",
    "    leafs_relab = relabeling_sklearn.relab(clf.tree_, X_train, y_train, y_pred_train, sensitive_train, threshold)\n",
    "\n",
    "    for leaf in leafs_relab:\n",
    "        relabeling_sklearn.browse_and_relab(clf, leaf.node_id)\n",
    "\n",
    "\n",
    "    # NEW PREDICT\n",
    "    y_pred_train_relab = clf.predict(X_train)\n",
    "\n",
    "    if relabeling.discrimination(y_train, y_pred_train_relab, sensitive_train) > threshold:\n",
    "        print(f\"{relabeling.discrimination(y_train, y_pred_train_relab, sensitive_train)} <= {threshold}\")\n",
    "        print()\n",
    "        sum_acc = 0\n",
    "        sum_disc = 0\n",
    "        for leaf in leafs_relab:\n",
    "            sum_acc += leaf.acc\n",
    "            sum_disc += leaf.disc\n",
    "            print(leaf)\n",
    "            print(leaf.n, leaf.p)\n",
    "            print(f'value: {leaf.value}')\n",
    "            print()\n",
    "        accuracy_train_relab = round_down(accuracy_score(y_train, y_pred_train_relab), 8)\n",
    "        discrimation_train_pred_relab = round_down(utils.discrimination(y_pred_train_relab, sensitive_train), 8)\n",
    "        new_acc= round_down(accuracy_train+sum_acc, 8)\n",
    "        new_disc = round_down(discrimination_train_pred+sum_disc, 8)\n",
    "        print(f\"Accuracy:\\n\"\n",
    "              f\"    Before      : {accuracy_train}\\n\"\n",
    "              f\"    Leafs       : {sum_acc}\\n\"\n",
    "              f\"    After       : {accuracy_train_relab}\\n\"\n",
    "              f\"    Expected    : {new_acc}\\n\"\n",
    "              f\"    Check       : {new_acc == accuracy_train_relab}\")\n",
    "        print(f\"Discrim:\\n\"\n",
    "              f\"    Before      : {discrimination_train_pred}\\n\"\n",
    "              f\"    Leafs       : {sum_disc }\\n\"\n",
    "              f\"    After       : {discrimation_train_pred_relab}\\n\"\n",
    "              f\"    Expected    : {new_disc}\\n\"\n",
    "              f\"    Check       : {new_disc== discrimation_train_pred_relab}\")\n",
    "\n",
    "        tree.plot_tree(clf)\n",
    "        assert(relabeling.discrimination(y_train, y_pred_train_relab, sensitive_train) <= threshold)\n",
    "        assert(new_acc== accuracy_train_relab)\n",
    "        assert(new_disc== discrimation_train_pred_relab)"
   ],
   "metadata": {
    "collapsed": false,
    "pycharm": {
     "name": "#%%\n"
    }
   }
  },
  {
   "cell_type": "code",
   "execution_count": 7,
   "outputs": [
    {
     "data": {
      "text/plain": "0.3193798449612403"
     },
     "execution_count": 7,
     "metadata": {},
     "output_type": "execute_result"
    }
   ],
   "source": [
    "def sum_discri(clf, X, y, sensitive):\n",
    "    cnt = np.unique(sensitive, return_counts=True)[1]\n",
    "\n",
    "    discrimination = [None] * len(clf.tree_.value)\n",
    "    relabeling_sklearn.leafs_discimination(clf.tree_, X, y, sensitive, cnt[0], cnt[1], discrimination, len(y), 0)\n",
    "\n",
    "    s=0\n",
    "    for d in discrimination:\n",
    "        if d:\n",
    "            s += d\n",
    "    return s\n",
    "sum_discri(clf, X_train, y_train, sensitive_train)"
   ],
   "metadata": {
    "collapsed": false,
    "pycharm": {
     "name": "#%%\n"
    }
   }
  },
  {
   "cell_type": "code",
   "execution_count": 7,
   "outputs": [],
   "source": [],
   "metadata": {
    "collapsed": false,
    "pycharm": {
     "name": "#%%\n"
    }
   }
  }
 ],
 "metadata": {
  "kernelspec": {
   "display_name": "Python 3",
   "language": "python",
   "name": "python3"
  },
  "language_info": {
   "codemirror_mode": {
    "name": "ipython",
    "version": 2
   },
   "file_extension": ".py",
   "mimetype": "text/x-python",
   "name": "python",
   "nbconvert_exporter": "python",
   "pygments_lexer": "ipython2",
   "version": "2.7.6"
  }
 },
 "nbformat": 4,
 "nbformat_minor": 0
}