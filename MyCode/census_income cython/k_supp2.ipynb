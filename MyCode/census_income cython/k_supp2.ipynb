{
 "cells": [
  {
   "cell_type": "code",
   "execution_count": 4,
   "metadata": {
    "collapsed": false,
    "pycharm": {
     "name": "#%%\n"
    }
   },
   "outputs": [],
   "source": [
    "import numpy as np\n",
    "from sklearn.metrics import accuracy_score\n",
    "import time\n",
    "from pydl85 import DL85Classifier\n",
    "import pandas as pd\n",
    "import numpy as np\n",
    "import utils\n",
    "import graphviz\n",
    "import ast\n",
    "from tqdm.notebook import tqdm\n",
    "from multiprocessing import Process, Pool\n",
    "from functools import partial\n",
    "FILE_NAME = \"census_income\""
   ]
  },
  {
   "cell_type": "code",
   "execution_count": 5,
   "metadata": {
    "collapsed": false,
    "pycharm": {
     "name": "#%%\n"
    }
   },
   "outputs": [
    {
     "name": "stdout",
     "output_type": "stream",
     "text": [
      "0.19637403845538565\n",
      "<class 'numpy.int64'>\n",
      "<class 'numpy.int64'>\n",
      "<class 'numpy.int64'>\n",
      "<class 'numpy.int64'>\n"
     ]
    }
   ],
   "source": [
    "import load_data\n",
    "X, y , sensitive = load_data.census()\n",
    "print(utils.discrimination(y, sensitive))\n",
    "X_train, X_test, y_train, y_test, sensitive_train, sensitive_test = utils.train_test_split(1, X, y, sensitive)\n",
    "print(type(sensitive_train[0]))\n",
    "print(type(sensitive_test[0]))\n",
    "print(type(y_train[0]))\n",
    "print(type(y_test[0]))"
   ]
  },
  {
   "cell_type": "code",
   "execution_count": 6,
   "metadata": {
    "collapsed": false,
    "pycharm": {
     "name": "#%%\n"
    }
   },
   "outputs": [
    {
     "data": {
      "application/vnd.jupyter.widget-view+json": {
       "model_id": "f2c06e16a3154574b5f104161bb8591e",
       "version_major": 2,
       "version_minor": 0
      },
      "text/plain": [
       "  0%|          | 0/19 [00:00<?, ?it/s]"
      ]
     },
     "metadata": {},
     "output_type": "display_data"
    },
    {
     "data": {
      "application/vnd.jupyter.widget-view+json": {
       "model_id": "0e34b79d03b94bf1ab065b796159ac10",
       "version_major": 2,
       "version_minor": 0
      },
      "text/plain": [
       "  0%|          | 0/56 [00:00<?, ?it/s]"
      ]
     },
     "metadata": {},
     "output_type": "display_data"
    },
    {
     "data": {
      "application/vnd.jupyter.widget-view+json": {
       "model_id": "8425471c415e4fa79f43407522615546",
       "version_major": 2,
       "version_minor": 0
      },
      "text/plain": [
       "  0%|          | 0/56 [00:00<?, ?it/s]"
      ]
     },
     "metadata": {},
     "output_type": "display_data"
    },
    {
     "data": {
      "application/vnd.jupyter.widget-view+json": {
       "model_id": "39919d6e512543908659c8fd3ef56c28",
       "version_major": 2,
       "version_minor": 0
      },
      "text/plain": [
       "  0%|          | 0/56 [00:00<?, ?it/s]"
      ]
     },
     "metadata": {},
     "output_type": "display_data"
    }
   ],
   "source": [
    "\n",
    "result = pd.DataFrame(columns=\n",
    "                      [\"k\", \"depth\", \"random_state\", \"clf.error_\", \"clf.accuracy_\",\"confusion\", \"accuracy_pred\", \"accuracy_test\", \"sum_misclassified_train\",\n",
    "                        \"discrimination_train\",       \"sum_discrimination_additive_train\",      \"sum_discrimination_additive_train_abs\",\n",
    "                        \"discrimination_train_pred\",  \"sum_discrimination_additive_train_pred\", \"sum_discrimination_additive_train_pred_abs\",\n",
    "                        \"discrimination_test\",        \"sum_discrimination_additive_test_pred\",  \"sum_discrimination_additive_test_pred_abs\",\n",
    "                        \"duration\", \"min_supp\", \"clf.tree_\"])\n",
    "\n",
    "def xx(min_supp, random_state, X_train, X_test, y_train, y_test, sensitive_train, sensitive_test, depth, k):\n",
    "\n",
    "    clf = DL85Classifier(max_depth=depth, error_function=lambda tids: utils.error(list(tids), k, y_train, sensitive_train), min_sup=min_supp, time_limit=600)\n",
    "\n",
    "    start = time.perf_counter()\n",
    "    clf.fit(X_train, y_train)\n",
    "    duration = time.perf_counter() - start\n",
    "    y_pred_train = clf.predict(X_train)\n",
    "    y_pred_test = clf.predict(X_test)\n",
    "    \n",
    "    accuracy_pred = round(accuracy_score(y_train, y_pred_train), 8)\n",
    "    accuracy_test = round(accuracy_score(y_test, y_pred_test), 8)\n",
    "    discrimination_train = round(utils.discrimination(y_train, sensitive_train), 8)\n",
    "    discrimination_train_pred = round(utils.discrimination(y_pred_train, sensitive_train), 8)\n",
    "    discrimination_test = round(utils.discrimination(y_pred_test, sensitive_test), 8)\n",
    "\n",
    "    utils.tree_upgrade(clf.tree_, y_train, np.asarray(y_pred_train), sensitive_train)\n",
    "    sum_discrimination_additive_train_pred = round(utils.sum_elem_tree(ast.literal_eval(str(clf.tree_)), 'discrimination_additive_pred', do_abs=False),8)\n",
    "    sum_discrimination_additive_train_pred_abs = round(utils.sum_elem_tree(ast.literal_eval(str(clf.tree_)), 'discrimination_additive_pred', do_abs=True),8)\n",
    "\n",
    "    sum_discrimination_additive_train = round(utils.sum_elem_tree(ast.literal_eval(str(clf.tree_)), 'discrimination_additive_train', do_abs=False),8)\n",
    "    sum_discrimination_additive_train_abs = round(utils.sum_elem_tree(ast.literal_eval(str(clf.tree_)), 'discrimination_additive_train', do_abs=True),8)\n",
    "    sum_misclassified_train = round(utils.sum_elem_tree(clf.tree_, 'misclassified'),8)\n",
    "\n",
    "    discri_test= list()\n",
    "    utils.get_discri_test(clf.tree_, X_test, y_pred_test, sensitive_test, discri_test, X.columns, path=None)\n",
    "    sum_discrimination_additive_test_pred = sum(discri_test)\n",
    "    sum_discrimination_additive_test_pred_abs = 0\n",
    "    [sum_discrimination_additive_test_pred_abs := sum_discrimination_additive_test_pred_abs + abs(d) for d in discri_test]\n",
    "    #print(f\"### Depth: {depth} state: {random_state} k:{k} ###\")\n",
    "\n",
    "    return [k, depth, random_state, clf.error_, clf.accuracy_, utils.perf_measure(y_train, y_pred_train, sensitive_train), accuracy_pred, accuracy_test, sum_misclassified_train,\n",
    "            discrimination_train,       sum_discrimination_additive_train,      sum_discrimination_additive_train_abs,\n",
    "            discrimination_train_pred,  sum_discrimination_additive_train_pred, sum_discrimination_additive_train_pred_abs,\n",
    "            discrimination_test,        sum_discrimination_additive_test_pred,  sum_discrimination_additive_test_pred_abs,\n",
    "            duration, min_supp, clf.tree_]\n",
    "        \n",
    "\n",
    "pool = Pool()\n",
    "if True:\n",
    "    min_supp = 2\n",
    "    args = []\n",
    "    for depth in [1, 2, 3, 4, 5, 6, 7]:\n",
    "        for k in [0, 1000, 2000, 3000, 4000, 5000, 10000, 100000]:\n",
    "            args.append((depth, k))\n",
    "    for random_state in tqdm(range(16, 101, 5)):\n",
    "        result = pd.DataFrame(columns=\n",
    "                      [\"k\", \"depth\", \"random_state\", \"clf.error_\", \"clf.accuracy_\",\"confusion\", \"accuracy_pred\", \"accuracy_test\", \"sum_misclassified_train\",\n",
    "                        \"discrimination_train\",       \"sum_discrimination_additive_train\",      \"sum_discrimination_additive_train_abs\",\n",
    "                        \"discrimination_train_pred\",  \"sum_discrimination_additive_train_pred\", \"sum_discrimination_additive_train_pred_abs\",\n",
    "                        \"discrimination_test\",        \"sum_discrimination_additive_test_pred\",  \"sum_discrimination_additive_test_pred_abs\",\n",
    "                        \"duration\", \"min_supp\", \"clf.tree_\"])\n",
    "        X_train, X_test, y_train, y_test, sensitive_train, sensitive_test = utils.train_test_split(random_state, X, y, sensitive)\n",
    "        \n",
    "        \n",
    "        for res in pool.starmap(partial(xx, min_supp, random_state, X_train, X_test, y_train, y_test, sensitive_train, sensitive_test), tqdm(args)):\n",
    "            result.loc[len(result.index)] = res\n",
    "\n",
    "\n",
    "        #result = result.sort_values(['k', 'depth', 'min_supp'])\n",
    "        result.to_csv('save/'+FILE_NAME+\"_\"+str(random_state)+'.csv', index=False)"
   ]
  },
  {
   "cell_type": "code",
   "execution_count": null,
   "metadata": {
    "collapsed": false,
    "pycharm": {
     "name": "#%%\n"
    }
   },
   "outputs": [],
   "source": [
    "\n",
    "result = pd.DataFrame(columns=\n",
    "                      [\"k\", \"depth\", \"random_state\", \"clf.error_\", \"clf.accuracy_\",\"confusion\", \"accuracy_pred\", \"accuracy_test\", \"sum_misclassified_train\",\n",
    "                        \"discrimination_train\",       \"sum_discrimination_additive_train\",      \"sum_discrimination_additive_train_abs\",\n",
    "                        \"discrimination_train_pred\",  \"sum_discrimination_additive_train_pred\", \"sum_discrimination_additive_train_pred_abs\",\n",
    "                        \"discrimination_test\",        \"sum_discrimination_additive_test_pred\",  \"sum_discrimination_additive_test_pred_abs\",\n",
    "                        \"duration\", \"min_supp\", \"clf.tree_\"]) \n",
    "for random_state in tqdm(range(1, 101, 5)):\n",
    "  result = pd.concat([result, pd.read_csv('save/'+FILE_NAME+\"_\"+str(random_state)+'.csv')])\n",
    "  result.to_csv('save/'+FILE_NAME+'.csv', index=False)\n",
    "result"
   ]
  },
  {
   "cell_type": "markdown",
   "metadata": {
    "collapsed": false,
    "pycharm": {
     "name": "#%% md\n"
    }
   },
   "source": [
    "# Graphs"
   ]
  },
  {
   "cell_type": "code",
   "execution_count": null,
   "metadata": {
    "collapsed": false,
    "pycharm": {
     "name": "#%%\n"
    }
   },
   "outputs": [],
   "source": [
    "utils.plot_mean(\"depth\", \"discrimination_train_pred\", result, 0, 0.4)"
   ]
  },
  {
   "cell_type": "code",
   "execution_count": null,
   "metadata": {
    "collapsed": false,
    "pycharm": {
     "name": "#%%\n"
    }
   },
   "outputs": [],
   "source": [
    "utils.plot_mean(\"depth\", \"discrimination_test\", result, 0, 0.4)"
   ]
  },
  {
   "cell_type": "code",
   "execution_count": null,
   "metadata": {
    "collapsed": false,
    "pycharm": {
     "name": "#%%\n"
    }
   },
   "outputs": [],
   "source": [
    "utils.plot_mean(\"depth\", \"clf.accuracy_\", result, 0, 2)"
   ]
  },
  {
   "cell_type": "code",
   "execution_count": null,
   "metadata": {
    "collapsed": false,
    "pycharm": {
     "name": "#%%\n"
    }
   },
   "outputs": [],
   "source": [
    "utils.plot_mean(\"depth\", \"accuracy_pred\", result, 0.5, 0.95)"
   ]
  },
  {
   "cell_type": "code",
   "execution_count": null,
   "metadata": {
    "collapsed": false,
    "pycharm": {
     "name": "#%%\n"
    }
   },
   "outputs": [],
   "source": [
    "utils.plot_mean(\"depth\", \"accuracy_test\", result, 0.5, 0.95)"
   ]
  },
  {
   "cell_type": "code",
   "execution_count": null,
   "metadata": {
    "collapsed": false,
    "pycharm": {
     "name": "#%%\n"
    }
   },
   "outputs": [],
   "source": [
    "utils.plot2(\"accuracy_pred\", \"discrimination_train_pred\", result)"
   ]
  },
  {
   "cell_type": "code",
   "execution_count": null,
   "metadata": {
    "collapsed": false,
    "pycharm": {
     "name": "#%%\n"
    }
   },
   "outputs": [],
   "source": [
    "utils.plot2(\"accuracy_test\", \"discrimination_test\", result)"
   ]
  },
  {
   "cell_type": "code",
   "execution_count": null,
   "metadata": {
    "collapsed": false,
    "pycharm": {
     "name": "#%%\n"
    }
   },
   "outputs": [],
   "source": [
    "utils.plot_one_scatter_by_depth(\"accuracy_pred\", \"discrimination_train_pred\", result, (0.6, 1), (0, 0.4))"
   ]
  },
  {
   "cell_type": "code",
   "execution_count": null,
   "metadata": {
    "collapsed": false,
    "pycharm": {
     "name": "#%%\n"
    }
   },
   "outputs": [],
   "source": [
    "utils.plot_one_scatter_by_depth(\"accuracy_test\", \"discrimination_test\", result, (0, 1), (0, 1))"
   ]
  },
  {
   "cell_type": "code",
   "execution_count": null,
   "metadata": {
    "collapsed": false,
    "pycharm": {
     "name": "#%%\n"
    }
   },
   "outputs": [],
   "source": [
    "utils.plot_one_scatter_by_depth(\"clf.error_\", \"discrimination_train_pred\", result, (0, 600), (0, 1))"
   ]
  },
  {
   "cell_type": "code",
   "execution_count": null,
   "metadata": {
    "collapsed": false,
    "pycharm": {
     "name": "#%%\n"
    }
   },
   "outputs": [],
   "source": [
    "utils.plot_one_scatter_by_depth(\"sum_misclassified_train\", \"discrimination_train_pred\", result, (0, 60), (0, 1))"
   ]
  },
  {
   "cell_type": "code",
   "execution_count": null,
   "metadata": {
    "collapsed": false,
    "pycharm": {
     "name": "#%%\n"
    }
   },
   "outputs": [],
   "source": [
    "utils.plot_one_scatter_by_depth(\"sum_discrimination_additive_train_pred\", \"discrimination_train_pred\", result, (0, 1), (0, 1))"
   ]
  },
  {
   "cell_type": "code",
   "execution_count": null,
   "metadata": {
    "collapsed": false,
    "pycharm": {
     "name": "#%%\n"
    }
   },
   "outputs": [],
   "source": [
    "utils.plot_one_scatter_by_depth(\"sum_discrimination_additive_train_pred\", \"accuracy_pred\", result, (0, 1), (0, 1))"
   ]
  },
  {
   "cell_type": "code",
   "execution_count": null,
   "metadata": {
    "collapsed": false,
    "pycharm": {
     "name": "#%%\n"
    }
   },
   "outputs": [],
   "source": [
    "x_lim = (0.84, 0.95)\n",
    "y_lim = (0.2, 0.3)\n",
    "utils.plot_k_depth_mean(\"accuracy_pred\", \"discrimination_train_pred\", result, x_lim, y_lim)\n",
    "utils.plot_each_k_depth_mean(\"accuracy_pred\", \"discrimination_train_pred\", result, x_lim, y_lim)"
   ]
  },
  {
   "cell_type": "code",
   "execution_count": null,
   "metadata": {
    "collapsed": false,
    "pycharm": {
     "name": "#%%\n"
    }
   },
   "outputs": [],
   "source": [
    "x_lim = (0.84, 0.95)\n",
    "y_lim = (0.2, 0.3)\n",
    "utils.plot_k_depth_mean(\"accuracy_test\", \"discrimination_test\", result, x_lim, y_lim)\n",
    "utils.plot_each_k_depth_mean(\"accuracy_test\", \"discrimination_test\", result, x_lim, y_lim)"
   ]
  },
  {
   "cell_type": "code",
   "execution_count": null,
   "metadata": {
    "collapsed": false,
    "pycharm": {
     "name": "#%%\n"
    }
   },
   "outputs": [],
   "source": [
    "x_lim = None\n",
    "y_lim = None\n",
    "utils.plot_k_depth_mean(\"clf.error_\", \"discrimination_train_pred\", result, x_lim, y_lim)\n",
    "utils.plot_each_k_depth_mean(\"clf.error_\", \"discrimination_train_pred\", result, x_lim, y_lim)"
   ]
  },
  {
   "cell_type": "code",
   "execution_count": null,
   "metadata": {
    "collapsed": false,
    "pycharm": {
     "name": "#%%\n"
    }
   },
   "outputs": [],
   "source": [
    "x_lim = None\n",
    "y_lim = None\n",
    "utils.plot_k_depth_mean(\"sum_misclassified_train\", \"discrimination_train_pred\", result, x_lim, y_lim)\n",
    "utils.plot_each_k_depth_mean(\"sum_misclassified_train\", \"discrimination_train_pred\", result, x_lim, y_lim)"
   ]
  },
  {
   "cell_type": "code",
   "execution_count": null,
   "metadata": {
    "collapsed": false,
    "pycharm": {
     "name": "#%%\n"
    }
   },
   "outputs": [],
   "source": [
    "x_lim = None\n",
    "y_lim = None\n",
    "utils.plot_k_depth_mean(\"sum_misclassified_train\", \"discrimination_train_pred\", result, x_lim, y_lim)\n",
    "utils.plot_each_k_depth_mean(\"sum_misclassified_train\", \"discrimination_train_pred\", result, x_lim, y_lim)"
   ]
  },
  {
   "cell_type": "code",
   "execution_count": null,
   "metadata": {
    "collapsed": false,
    "pycharm": {
     "name": "#%%\n"
    }
   },
   "outputs": [],
   "source": [
    "x_lim = None\n",
    "y_lim = None\n",
    "utils.plot_k_depth_mean(\"sum_discrimination_additive_train_pred\", \"discrimination_train_pred\", result, x_lim, y_lim)\n",
    "utils.plot_each_k_depth_mean(\"sum_discrimination_additive_train_pred\", \"discrimination_train_pred\", result, x_lim, y_lim)"
   ]
  },
  {
   "cell_type": "code",
   "execution_count": null,
   "metadata": {
    "collapsed": false,
    "pycharm": {
     "name": "#%%\n"
    }
   },
   "outputs": [],
   "source": [
    "x_lim = None\n",
    "y_lim = None\n",
    "utils.plot_k_depth_mean(\"sum_discrimination_additive_train_pred\", \"sum_discrimination_additive_train_pred_abs\", result, x_lim, y_lim)\n",
    "utils.plot_each_k_depth_mean(\"sum_discrimination_additive_train_pred\", \"sum_discrimination_additive_train_pred_abs\", result, x_lim, y_lim)"
   ]
  },
  {
   "cell_type": "code",
   "execution_count": null,
   "metadata": {
    "collapsed": false,
    "pycharm": {
     "name": "#%%\n"
    }
   },
   "outputs": [],
   "source": []
  }
 ],
 "metadata": {
  "interpreter": {
   "hash": "91b3042644fc76fe48ba76245780156751ae4c80307eab167c6865bf43871907"
  },
  "kernelspec": {
   "display_name": "Python 3.10.4 ('venv': venv)",
   "language": "python",
   "name": "python3"
  },
  "language_info": {
   "codemirror_mode": {
    "name": "ipython",
    "version": 3
   },
   "file_extension": ".py",
   "mimetype": "text/x-python",
   "name": "python",
   "nbconvert_exporter": "python",
   "pygments_lexer": "ipython3",
   "version": "3.10.4"
  },
  "toc": {
   "base_numbering": 1,
   "nav_menu": {},
   "number_sections": false,
   "sideBar": true,
   "skip_h1_title": false,
   "title_cell": "Table of Contents",
   "title_sidebar": "Contents",
   "toc_cell": false,
   "toc_position": {},
   "toc_section_display": true,
   "toc_window_display": false
  }
 },
 "nbformat": 4,
 "nbformat_minor": 4
}
