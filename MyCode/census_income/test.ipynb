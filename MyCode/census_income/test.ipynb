{
 "cells": [
  {
   "cell_type": "code",
   "execution_count": 1,
   "metadata": {
    "collapsed": true
   },
   "outputs": [],
   "source": [
    "import pandas\n",
    "from scipy.io import arff\n",
    "import numpy as np\n",
    "from sklearn.metrics import confusion_matrix\n",
    "from sklearn.model_selection import train_test_split\n",
    "from sklearn.metrics import accuracy_score\n",
    "import time\n",
    "from dl85 import DL85Predictor\n",
    "from dl85 import DL85Classifier\n",
    "import pandas as pd\n",
    "from sklearn.preprocessing import OneHotEncoder\n",
    "import matplotlib.pyplot as plt\n",
    "import numpy as np\n",
    "import utils\n",
    "import graphviz\n",
    "import multiprocessing\n",
    "from concurrent.futures import ThreadPoolExecutor\n",
    "import ast"
   ]
  },
  {
   "cell_type": "code",
   "execution_count": 2,
   "metadata": {
    "collapsed": false,
    "pycharm": {
     "name": "#%%\n"
    }
   },
   "outputs": [
    {
     "name": "stderr",
     "output_type": "stream",
     "text": [
      "/tmp/ipykernel_5601/2977305109.py:5: DeprecationWarning: `np.object` is a deprecated alias for the builtin `object`. To silence this warning, use `object` by itself. Doing this will not modify any behavior and is safe. \n",
      "Deprecated in NumPy 1.20; for more details and guidance: https://numpy.org/devdocs/release/1.20.0-notes.html#deprecations\n",
      "  str_df = df.select_dtypes([np.object])\n"
     ]
    },
    {
     "name": "stdout",
     "output_type": "stream",
     "text": [
      "0.19637403845538565\n"
     ]
    }
   ],
   "source": [
    "\n",
    "FILE_NAME = \"census_income\"\n",
    "\n",
    "data = arff.loadarff('../datasets2/census_income.arff')\n",
    "df = pd.DataFrame(data[0])\n",
    "str_df = df.select_dtypes([np.object])\n",
    "str_df = str_df.stack().str.decode('utf-8').unstack()\n",
    "for col in str_df:\n",
    "    df[col] = str_df[col]\n",
    "for i in range(0,len(df)):\n",
    "    if str(df.at[i, \"sex\"]) == \"Male\":\n",
    "        df.at[i, \"sex\"] = 0\n",
    "    elif str(df.at[i, \"sex\"]) == \"Female\":\n",
    "        df.at[i, \"sex\"] = 1\n",
    "\n",
    "    if str(df.at[i, \"income_class\"]) == \"<=50K\":\n",
    "        df.at[i, \"income_class\"] = 0\n",
    "    elif str(df.at[i, \"income_class\"]) == \">50K\":\n",
    "        df.at[i, \"income_class\"] = 1\n",
    "\n",
    "for col in df.columns:\n",
    "    df = df[ df[col] != \"?\" ]\n",
    "\n",
    "col = ['workclass', 'education', 'marital-status', 'occupation', 'relationship', 'race', 'native-country']\n",
    "df = df.drop(['education-num', 'age', 'capital-gain', 'capital-loss', 'hours-per-week'], axis=1)\n",
    "#df = df.drop(['native-country'], axis=1)\n",
    "df = pd.get_dummies(df, columns=col, drop_first=True)\n",
    "df.reset_index(inplace = True)\n",
    "del df['index']\n",
    "X = df.loc[:, ~df.columns.isin(['income_class', 'sex'])]\n",
    "y = pd.to_numeric(df['income_class'])\n",
    "sensitive = df['sex']\n",
    "print(utils.discrimination(y, sensitive))\n",
    "X_train, X_test, y_train, y_test, sensitive_train, sensitive_test = utils.train_test_split(1, X, y, sensitive)\n"
   ]
  },
  {
   "cell_type": "code",
   "execution_count": 3,
   "metadata": {
    "collapsed": false,
    "pycharm": {
     "name": "#%%\n"
    }
   },
   "outputs": [
    {
     "name": "stdout",
     "output_type": "stream",
     "text": [
      "accuracy_pred = 0.77207835\n",
      "accuracy_test = 0.76626826\n",
      "discrimination_train = 0.19349383\n",
      "discrimination_train_pred = 0.07604061\n",
      "sum discrimination_pred  = 0.07604061\n",
      "sum discrimination_pred abs = 0.07604061\n"
     ]
    },
    {
     "data": {
      "text/plain": [
       "'\\ndot = utils.export_graphviz(clf)\\ngraph = graphviz.Source(dot, format=\"png\")\\ngraph.render(\"plots/\"+FILE_NAME+\"tree\")\\ngraphviz.Source(dot)\\n'"
      ]
     },
     "execution_count": 3,
     "metadata": {},
     "output_type": "execute_result"
    }
   ],
   "source": [
    "X_train, X_test, y_train, y_test, sensitive_train, sensitive_test = utils.train_test_split(97, X, y, sensitive)\n",
    "\n",
    "clf = DL85Classifier(max_depth=7, error_function=lambda tids: utils.error(list(tids), 0, y_train, sensitive_train), min_sup=2, time_limit=600)\n",
    "clf.fit(X_train, list(y_train))\n",
    "y_pred_train = clf.predict(X_train)\n",
    "\n",
    "y_pred_train = clf.predict(X_train)\n",
    "y_pred_test = clf.predict(X_test)\n",
    "print(f'accuracy_pred = {round(accuracy_score(y_train, y_pred_train), 8)}')\n",
    "print(f'accuracy_test = {round(accuracy_score(y_test, y_pred_test), 8)}')\n",
    "print(f'discrimination_train = {round(utils.discrimination(y_train, sensitive_train), 8)}')\n",
    "print(f'discrimination_train_pred = {round(utils.discrimination(y_pred_train, sensitive_train), 8)}')\n",
    "\n",
    "utils.tree_upgrade(clf.tree_, y_train, np.asarray(y_pred_train), sensitive_train)\n",
    "sum_discrimination_additive_train_pred = round(utils.sum_elem_tree(ast.literal_eval(str(clf.tree_)), 'discrimination_additive_pred', do_abs=False),8)\n",
    "sum_discrimination_additive_train_pred_abs = round(utils.sum_elem_tree(ast.literal_eval(str(clf.tree_)), 'discrimination_additive_pred', do_abs=True),8)\n",
    "\n",
    "print(f'sum discrimination_pred  = {round(sum_discrimination_additive_train_pred, 8)}')\n",
    "print(f'sum discrimination_pred abs = {round(sum_discrimination_additive_train_pred_abs, 8)}')\n",
    "\n",
    "dot = utils.export_graphviz(clf)\n",
    "graph = graphviz.Source(dot, format=\"png\")\n",
    "graph.render(\"plots/\"+FILE_NAME+\"tree\")\n",
    "graphviz.Source(dot)\n"
   ]
  },
  {
   "cell_type": "code",
   "execution_count": 4,
   "metadata": {},
   "outputs": [
    {
     "name": "stdout",
     "output_type": "stream",
     "text": [
      "Accuracy DL8.5 on training set = 0.832586\n",
      "Discrimination of classifier on train(pred) 0.158455\n"
     ]
    }
   ],
   "source": [
    "from sklearn.tree import DecisionTreeClassifier\n",
    "X_train, X_test, y_train, y_test, sensitive_train, sensitive_test = utils.train_test_split(97, X, y, sensitive)\n",
    "\n",
    "\n",
    "clf = DecisionTreeClassifier(max_depth=7, random_state=0)\n",
    "clf.fit(X_train, list(y_train))\n",
    "y_pred_train = clf.predict(X_train)\n",
    "accuracy_train = round(accuracy_score(y_train, y_pred_train),6)\n",
    "print(\"Accuracy DL8.5 on training set =\", accuracy_train)\n",
    "discrimation_train_pred = round(utils.discrimination(y_pred_train, sensitive_train), 6)\n",
    "print(\"Discrimination of classifier on train(pred)\", discrimation_train_pred)"
   ]
  },
  {
   "cell_type": "code",
   "execution_count": 5,
   "metadata": {
    "collapsed": false,
    "pycharm": {
     "name": "#%%\n"
    }
   },
   "outputs": [
    {
     "ename": "TypeError",
     "evalue": "argument of type 'sklearn.tree._tree.Tree' is not iterable",
     "output_type": "error",
     "traceback": [
      "\u001b[0;31m---------------------------------------------------------------------------\u001b[0m",
      "\u001b[0;31mTypeError\u001b[0m                                 Traceback (most recent call last)",
      "\u001b[1;32m/home/hadyak/MEGAsync/Master's thesis/Masters-thesis_How-to-find-Decision-Trees-that-are-Optimal/MyCode/census_income/test.ipynb Cell 5'\u001b[0m in \u001b[0;36m<cell line: 3>\u001b[0;34m()\u001b[0m\n\u001b[1;32m      <a href='vscode-notebook-cell:/home/hadyak/MEGAsync/Master%27s%20thesis/Masters-thesis_How-to-find-Decision-Trees-that-are-Optimal/MyCode/census_income/test.ipynb#ch0000003?line=0'>1</a>\u001b[0m \u001b[39mimport\u001b[39;00m \u001b[39mrelabeling_pydl\u001b[39;00m\n\u001b[0;32m----> <a href='vscode-notebook-cell:/home/hadyak/MEGAsync/Master%27s%20thesis/Masters-thesis_How-to-find-Decision-Trees-that-are-Optimal/MyCode/census_income/test.ipynb#ch0000003?line=2'>3</a>\u001b[0m leafs_relab \u001b[39m=\u001b[39m relabeling_pydl\u001b[39m.\u001b[39;49mrelab_leaf_limit(clf\u001b[39m.\u001b[39;49mtree_, y_train, y_pred_train, sensitive_train, \u001b[39m2\u001b[39;49m)\n\u001b[1;32m      <a href='vscode-notebook-cell:/home/hadyak/MEGAsync/Master%27s%20thesis/Masters-thesis_How-to-find-Decision-Trees-that-are-Optimal/MyCode/census_income/test.ipynb#ch0000003?line=3'>4</a>\u001b[0m sum_acc \u001b[39m=\u001b[39m \u001b[39m0\u001b[39m\n\u001b[1;32m      <a href='vscode-notebook-cell:/home/hadyak/MEGAsync/Master%27s%20thesis/Masters-thesis_How-to-find-Decision-Trees-that-are-Optimal/MyCode/census_income/test.ipynb#ch0000003?line=4'>5</a>\u001b[0m sum_disc \u001b[39m=\u001b[39m \u001b[39m0\u001b[39m\n",
      "File \u001b[0;32m~/MEGAsync/Master's thesis/Masters-thesis_How-to-find-Decision-Trees-that-are-Optimal/MyCode/census_income/relabeling_pydl.py:171\u001b[0m, in \u001b[0;36mrelab_leaf_limit\u001b[0;34m(tree, y, y_pred, sensitive, leaf_limit)\u001b[0m\n\u001b[1;32m    <a href='file:///home/hadyak/MEGAsync/Master%27s%20thesis/Masters-thesis_How-to-find-Decision-Trees-that-are-Optimal/MyCode/census_income/relabeling_pydl.py?line=168'>169</a>\u001b[0m \u001b[39m# ℐ := { 𝑙 ∈ ℒ ∣ Δdisc 𝑙 < 0 }\u001b[39;00m\n\u001b[1;32m    <a href='file:///home/hadyak/MEGAsync/Master%27s%20thesis/Masters-thesis_How-to-find-Decision-Trees-that-are-Optimal/MyCode/census_income/relabeling_pydl.py?line=169'>170</a>\u001b[0m I \u001b[39m=\u001b[39m \u001b[39mlist\u001b[39m()\n\u001b[0;32m--> <a href='file:///home/hadyak/MEGAsync/Master%27s%20thesis/Masters-thesis_How-to-find-Decision-Trees-that-are-Optimal/MyCode/census_income/relabeling_pydl.py?line=170'>171</a>\u001b[0m leafs_to_relabel(tree, y, sensitive, cnt[\u001b[39m0\u001b[39;49m], cnt[\u001b[39m1\u001b[39;49m], I, \u001b[39mlen\u001b[39;49m(y))\n\u001b[1;32m    <a href='file:///home/hadyak/MEGAsync/Master%27s%20thesis/Masters-thesis_How-to-find-Decision-Trees-that-are-Optimal/MyCode/census_income/relabeling_pydl.py?line=171'>172</a>\u001b[0m \u001b[39m# 𝐿 := {}\u001b[39;00m\n\u001b[1;32m    <a href='file:///home/hadyak/MEGAsync/Master%27s%20thesis/Masters-thesis_How-to-find-Decision-Trees-that-are-Optimal/MyCode/census_income/relabeling_pydl.py?line=172'>173</a>\u001b[0m L \u001b[39m=\u001b[39m \u001b[39mlist\u001b[39m()\n",
      "File \u001b[0;32m~/MEGAsync/Master's thesis/Masters-thesis_How-to-find-Decision-Trees-that-are-Optimal/MyCode/census_income/relabeling_pydl.py:97\u001b[0m, in \u001b[0;36mleafs_to_relabel\u001b[0;34m(tree, y, sensitive, n_zero, n_one, leafs, length, path)\u001b[0m\n\u001b[1;32m     <a href='file:///home/hadyak/MEGAsync/Master%27s%20thesis/Masters-thesis_How-to-find-Decision-Trees-that-are-Optimal/MyCode/census_income/relabeling_pydl.py?line=95'>96</a>\u001b[0m \u001b[39mdef\u001b[39;00m \u001b[39mleafs_to_relabel\u001b[39m(tree, y, sensitive, n_zero, n_one, leafs, length, path\u001b[39m=\u001b[39m\u001b[39mtuple\u001b[39m()):\n\u001b[0;32m---> <a href='file:///home/hadyak/MEGAsync/Master%27s%20thesis/Masters-thesis_How-to-find-Decision-Trees-that-are-Optimal/MyCode/census_income/relabeling_pydl.py?line=96'>97</a>\u001b[0m     \u001b[39mif\u001b[39;00m \u001b[39m'\u001b[39;49m\u001b[39mfeat\u001b[39;49m\u001b[39m'\u001b[39;49m \u001b[39min\u001b[39;49;00m tree:\n\u001b[1;32m     <a href='file:///home/hadyak/MEGAsync/Master%27s%20thesis/Masters-thesis_How-to-find-Decision-Trees-that-are-Optimal/MyCode/census_income/relabeling_pydl.py?line=97'>98</a>\u001b[0m         tmp \u001b[39m=\u001b[39m path \u001b[39m+\u001b[39m ((tree[\u001b[39m'\u001b[39m\u001b[39mfeat\u001b[39m\u001b[39m'\u001b[39m], \u001b[39m'\u001b[39m\u001b[39mleft\u001b[39m\u001b[39m'\u001b[39m),)\n\u001b[1;32m     <a href='file:///home/hadyak/MEGAsync/Master%27s%20thesis/Masters-thesis_How-to-find-Decision-Trees-that-are-Optimal/MyCode/census_income/relabeling_pydl.py?line=98'>99</a>\u001b[0m         leafs_to_relabel(tree[\u001b[39m'\u001b[39m\u001b[39mleft\u001b[39m\u001b[39m'\u001b[39m], y, sensitive, n_zero, n_one, leafs, length, tmp)\n",
      "\u001b[0;31mTypeError\u001b[0m: argument of type 'sklearn.tree._tree.Tree' is not iterable"
     ]
    }
   ],
   "source": [
    "import relabeling_pydl\n",
    "\n",
    "leafs_relab = relabeling_pydl.relab_leaf_limit(clf.tree_, y_train, y_pred_train, sensitive_train, 2)\n",
    "sum_acc = 0\n",
    "sum_disc = 0\n",
    "for leaf in leafs_relab:\n",
    "    print(leaf)\n",
    "    relabeling_pydl.browse_and_relab(clf.tree_, list(leaf.path), leaf)\n",
    "    sum_acc += leaf.acc\n",
    "    sum_disc += leaf.disc\n",
    "\n",
    "y_pred_train = clf.predict(X_train)\n",
    "y_pred_test = clf.predict(X_test)\n",
    "print(f'accuracy_pred = {round(accuracy_score(y_train, y_pred_train), 8)}')\n",
    "print(f'accuracy_test = {round(accuracy_score(y_test, y_pred_test), 8)}')\n",
    "print(f'discrimination_train = {round(utils.discrimination(y_train, sensitive_train), 8)}')\n",
    "print(f'discrimination_train_pred = {round(utils.discrimination(y_pred_train, sensitive_train), 8)}')\n",
    "\n",
    "utils.tree_upgrade(clf.tree_, y_train, np.asarray(y_pred_train), sensitive_train)\n",
    "sum_discrimination_additive_train_pred = round(utils.sum_elem_tree(ast.literal_eval(str(clf.tree_)), 'discrimination_additive_pred', do_abs=False),8)\n",
    "sum_discrimination_additive_train_pred_abs = round(utils.sum_elem_tree(ast.literal_eval(str(clf.tree_)), 'discrimination_additive_pred', do_abs=True),8)\n",
    "\n",
    "print(f'sum discrimination_pred  = {round(sum_discrimination_additive_train_pred, 8)}')\n",
    "print(f'sum discrimination_pred abs = {round(sum_discrimination_additive_train_pred_abs, 8)}')\n",
    "\n",
    "dot = utils.export_graphviz(clf)\n",
    "graph = graphviz.Source(dot, format=\"png\")\n",
    "graph.render(\"plots/\"+FILE_NAME+\"tree\")\n",
    "graphviz.Source(dot)"
   ]
  },
  {
   "cell_type": "code",
   "execution_count": null,
   "metadata": {
    "collapsed": false,
    "pycharm": {
     "name": "#%%\n"
    }
   },
   "outputs": [
    {
     "ename": "KeyboardInterrupt",
     "evalue": "",
     "output_type": "error",
     "traceback": [
      "\u001b[0;31m---------------------------------------------------------------------------\u001b[0m",
      "\u001b[0;31mKeyboardInterrupt\u001b[0m                         Traceback (most recent call last)",
      "\u001b[1;32m/home/hadyak/MEGAsync/Master's thesis/Masters-thesis_How-to-find-Decision-Trees-that-are-Optimal/MyCode/census_income/test.ipynb Cell 6'\u001b[0m in \u001b[0;36m<lambda>\u001b[0;34m(tids)\u001b[0m\n\u001b[1;32m      <a href='vscode-notebook-cell:/home/hadyak/MEGAsync/Master%27s%20thesis/Masters-thesis_How-to-find-Decision-Trees-that-are-Optimal/MyCode/census_income/test.ipynb#ch0000004?line=0'>1</a>\u001b[0m X_train, X_test, y_train, y_test, sensitive_train, sensitive_test \u001b[39m=\u001b[39m utils\u001b[39m.\u001b[39mtrain_test_split(\u001b[39m1\u001b[39m, X, y, sensitive)\n\u001b[0;32m----> <a href='vscode-notebook-cell:/home/hadyak/MEGAsync/Master%27s%20thesis/Masters-thesis_How-to-find-Decision-Trees-that-are-Optimal/MyCode/census_income/test.ipynb#ch0000004?line=2'>3</a>\u001b[0m clf \u001b[39m=\u001b[39m DL85Classifier(max_depth\u001b[39m=\u001b[39m\u001b[39m3\u001b[39m, error_function\u001b[39m=\u001b[39m\u001b[39mlambda\u001b[39;00m tids: utils\u001b[39m.\u001b[39;49mmisclassified(\u001b[39mlist\u001b[39;49m(tids), y_train), min_sup\u001b[39m=\u001b[39m\u001b[39m1\u001b[39m, time_limit\u001b[39m=\u001b[39m\u001b[39m600\u001b[39m)\n\u001b[1;32m      <a href='vscode-notebook-cell:/home/hadyak/MEGAsync/Master%27s%20thesis/Masters-thesis_How-to-find-Decision-Trees-that-are-Optimal/MyCode/census_income/test.ipynb#ch0000004?line=3'>4</a>\u001b[0m clf\u001b[39m.\u001b[39mfit(X_train, \u001b[39mlist\u001b[39m(y_train))\n\u001b[1;32m      <a href='vscode-notebook-cell:/home/hadyak/MEGAsync/Master%27s%20thesis/Masters-thesis_How-to-find-Decision-Trees-that-are-Optimal/MyCode/census_income/test.ipynb#ch0000004?line=4'>5</a>\u001b[0m y_pred_train \u001b[39m=\u001b[39m clf\u001b[39m.\u001b[39mpredict(X_train)\n",
      "File \u001b[0;32m~/MEGAsync/Master's thesis/Masters-thesis_How-to-find-Decision-Trees-that-are-Optimal/MyCode/census_income/utils.py:97\u001b[0m, in \u001b[0;36mmisclassified\u001b[0;34m(tids, y)\u001b[0m\n\u001b[1;32m     <a href='file:///home/hadyak/MEGAsync/Master%27s%20thesis/Masters-thesis_How-to-find-Decision-Trees-that-are-Optimal/MyCode/census_income/utils.py?line=95'>96</a>\u001b[0m \u001b[39mdef\u001b[39;00m \u001b[39mmisclassified\u001b[39m(tids, y):\n\u001b[0;32m---> <a href='file:///home/hadyak/MEGAsync/Master%27s%20thesis/Masters-thesis_How-to-find-Decision-Trees-that-are-Optimal/MyCode/census_income/utils.py?line=96'>97</a>\u001b[0m     classes, supports \u001b[39m=\u001b[39m np\u001b[39m.\u001b[39;49munique(y\u001b[39m.\u001b[39;49mtake(tids), return_counts\u001b[39m=\u001b[39;49m\u001b[39mTrue\u001b[39;49;00m)\n\u001b[1;32m     <a href='file:///home/hadyak/MEGAsync/Master%27s%20thesis/Masters-thesis_How-to-find-Decision-Trees-that-are-Optimal/MyCode/census_income/utils.py?line=97'>98</a>\u001b[0m     maxindex \u001b[39m=\u001b[39m np\u001b[39m.\u001b[39margmax(supports)\n\u001b[1;32m    <a href='file:///home/hadyak/MEGAsync/Master%27s%20thesis/Masters-thesis_How-to-find-Decision-Trees-that-are-Optimal/MyCode/census_income/utils.py?line=99'>100</a>\u001b[0m     \u001b[39mreturn\u001b[39;00m \u001b[39msum\u001b[39m(supports) \u001b[39m-\u001b[39m supports[maxindex], classes[maxindex]\n",
      "File \u001b[0;32m<__array_function__ internals>:180\u001b[0m, in \u001b[0;36munique\u001b[0;34m(*args, **kwargs)\u001b[0m\n",
      "File \u001b[0;32m~/MEGAsync/Master's thesis/Masters-thesis_How-to-find-Decision-Trees-that-are-Optimal/venv/lib/python3.10/site-packages/numpy/lib/arraysetops.py:272\u001b[0m, in \u001b[0;36munique\u001b[0;34m(ar, return_index, return_inverse, return_counts, axis)\u001b[0m\n\u001b[1;32m    <a href='file:///home/hadyak/MEGAsync/Master%27s%20thesis/Masters-thesis_How-to-find-Decision-Trees-that-are-Optimal/venv/lib/python3.10/site-packages/numpy/lib/arraysetops.py?line=269'>270</a>\u001b[0m ar \u001b[39m=\u001b[39m np\u001b[39m.\u001b[39masanyarray(ar)\n\u001b[1;32m    <a href='file:///home/hadyak/MEGAsync/Master%27s%20thesis/Masters-thesis_How-to-find-Decision-Trees-that-are-Optimal/venv/lib/python3.10/site-packages/numpy/lib/arraysetops.py?line=270'>271</a>\u001b[0m \u001b[39mif\u001b[39;00m axis \u001b[39mis\u001b[39;00m \u001b[39mNone\u001b[39;00m:\n\u001b[0;32m--> <a href='file:///home/hadyak/MEGAsync/Master%27s%20thesis/Masters-thesis_How-to-find-Decision-Trees-that-are-Optimal/venv/lib/python3.10/site-packages/numpy/lib/arraysetops.py?line=271'>272</a>\u001b[0m     ret \u001b[39m=\u001b[39m _unique1d(ar, return_index, return_inverse, return_counts)\n\u001b[1;32m    <a href='file:///home/hadyak/MEGAsync/Master%27s%20thesis/Masters-thesis_How-to-find-Decision-Trees-that-are-Optimal/venv/lib/python3.10/site-packages/numpy/lib/arraysetops.py?line=272'>273</a>\u001b[0m     \u001b[39mreturn\u001b[39;00m _unpack_tuple(ret)\n\u001b[1;32m    <a href='file:///home/hadyak/MEGAsync/Master%27s%20thesis/Masters-thesis_How-to-find-Decision-Trees-that-are-Optimal/venv/lib/python3.10/site-packages/numpy/lib/arraysetops.py?line=274'>275</a>\u001b[0m \u001b[39m# axis was specified and not None\u001b[39;00m\n",
      "File \u001b[0;32m~/MEGAsync/Master's thesis/Masters-thesis_How-to-find-Decision-Trees-that-are-Optimal/venv/lib/python3.10/site-packages/numpy/lib/arraysetops.py:333\u001b[0m, in \u001b[0;36m_unique1d\u001b[0;34m(ar, return_index, return_inverse, return_counts)\u001b[0m\n\u001b[1;32m    <a href='file:///home/hadyak/MEGAsync/Master%27s%20thesis/Masters-thesis_How-to-find-Decision-Trees-that-are-Optimal/venv/lib/python3.10/site-packages/numpy/lib/arraysetops.py?line=330'>331</a>\u001b[0m     aux \u001b[39m=\u001b[39m ar[perm]\n\u001b[1;32m    <a href='file:///home/hadyak/MEGAsync/Master%27s%20thesis/Masters-thesis_How-to-find-Decision-Trees-that-are-Optimal/venv/lib/python3.10/site-packages/numpy/lib/arraysetops.py?line=331'>332</a>\u001b[0m \u001b[39melse\u001b[39;00m:\n\u001b[0;32m--> <a href='file:///home/hadyak/MEGAsync/Master%27s%20thesis/Masters-thesis_How-to-find-Decision-Trees-that-are-Optimal/venv/lib/python3.10/site-packages/numpy/lib/arraysetops.py?line=332'>333</a>\u001b[0m     ar\u001b[39m.\u001b[39;49msort()\n\u001b[1;32m    <a href='file:///home/hadyak/MEGAsync/Master%27s%20thesis/Masters-thesis_How-to-find-Decision-Trees-that-are-Optimal/venv/lib/python3.10/site-packages/numpy/lib/arraysetops.py?line=333'>334</a>\u001b[0m     aux \u001b[39m=\u001b[39m ar\n\u001b[1;32m    <a href='file:///home/hadyak/MEGAsync/Master%27s%20thesis/Masters-thesis_How-to-find-Decision-Trees-that-are-Optimal/venv/lib/python3.10/site-packages/numpy/lib/arraysetops.py?line=334'>335</a>\u001b[0m mask \u001b[39m=\u001b[39m np\u001b[39m.\u001b[39mempty(aux\u001b[39m.\u001b[39mshape, dtype\u001b[39m=\u001b[39mnp\u001b[39m.\u001b[39mbool_)\n",
      "\u001b[0;31mKeyboardInterrupt\u001b[0m: "
     ]
    },
    {
     "ename": "Error",
     "evalue": "Canceled future for execute_request message before replies were done",
     "output_type": "error",
     "traceback": [
      "Error: Canceled future for execute_request message before replies were done",
      "at t.KernelShellFutureHandler.dispose (/home/hadyak/.vscode/extensions/ms-toolsai.jupyter-2022.3.1000901801/out/extension.js:2:1204175)",
      "at /home/hadyak/.vscode/extensions/ms-toolsai.jupyter-2022.3.1000901801/out/extension.js:2:1223227",
      "at Map.forEach (<anonymous>)",
      "at v._clearKernelState (/home/hadyak/.vscode/extensions/ms-toolsai.jupyter-2022.3.1000901801/out/extension.js:2:1223212)",
      "at v.dispose (/home/hadyak/.vscode/extensions/ms-toolsai.jupyter-2022.3.1000901801/out/extension.js:2:1216694)",
      "at /home/hadyak/.vscode/extensions/ms-toolsai.jupyter-2022.3.1000901801/out/extension.js:2:533674",
      "at t.swallowExceptions (/home/hadyak/.vscode/extensions/ms-toolsai.jupyter-2022.3.1000901801/out/extension.js:2:913059)",
      "at dispose (/home/hadyak/.vscode/extensions/ms-toolsai.jupyter-2022.3.1000901801/out/extension.js:2:533652)",
      "at t.RawSession.dispose (/home/hadyak/.vscode/extensions/ms-toolsai.jupyter-2022.3.1000901801/out/extension.js:2:537330)",
      "at runMicrotasks (<anonymous>)",
      "at processTicksAndRejections (node:internal/process/task_queues:96:5)"
     ]
    }
   ],
   "source": [
    "X_train, X_test, y_train, y_test, sensitive_train, sensitive_test = utils.train_test_split(1, X, y, sensitive)\n",
    "\n",
    "clf = DL85Classifier(max_depth=3, error_function=lambda tids: utils.misclassified(list(tids), y_train), min_sup=1, time_limit=600)\n",
    "clf.fit(X_train, list(y_train))\n",
    "y_pred_train = clf.predict(X_train)\n",
    "\n",
    "y_pred_train = clf.predict(X_train)\n",
    "y_pred_test = clf.predict(X_test)\n",
    "print(f'accuracy_pred = {round(accuracy_score(y_train, y_pred_train), 8)}')\n",
    "print(f'accuracy_test = {round(accuracy_score(y_test, y_pred_test), 8)}')\n",
    "print(f'discrimination_train = {round(utils.discrimination(y_train, sensitive_train), 8)}')\n",
    "print(f'discrimination_train_pred = {round(utils.discrimination(y_pred_train, sensitive_train), 8)}')\n",
    "\n",
    "utils.tree_upgrade(clf.tree_, y_train, np.asarray(y_pred_train), sensitive_train)\n",
    "utils.sum_elem_tree(clf.tree_, \"misclassified\")"
   ]
  },
  {
   "cell_type": "code",
   "execution_count": null,
   "metadata": {
    "collapsed": false,
    "pycharm": {
     "name": "#%%\n"
    }
   },
   "outputs": [
    {
     "data": {
      "image/svg+xml": "<?xml version=\"1.0\" encoding=\"UTF-8\" standalone=\"no\"?>\n<!DOCTYPE svg PUBLIC \"-//W3C//DTD SVG 1.1//EN\"\n \"http://www.w3.org/Graphics/SVG/1.1/DTD/svg11.dtd\">\n<!-- Generated by graphviz version 2.43.0 (0)\n -->\n<!-- Title: Tree Pages: 1 -->\n<svg width=\"1895pt\" height=\"328pt\"\n viewBox=\"0.00 0.00 1894.50 328.00\" xmlns=\"http://www.w3.org/2000/svg\" xmlns:xlink=\"http://www.w3.org/1999/xlink\">\n<g id=\"graph0\" class=\"graph\" transform=\"scale(1 1) rotate(0) translate(4 324)\">\n<title>Tree</title>\n<polygon fill=\"white\" stroke=\"transparent\" points=\"-4,4 -4,-324 1890.5,-324 1890.5,4 -4,4\"/>\n<!-- node_e2efd669_f2c8_4d32_ab77_0888e3fe37b4 -->\n<g id=\"node1\" class=\"node\">\n<title>node_e2efd669_f2c8_4d32_ab77_0888e3fe37b4</title>\n<polygon fill=\"none\" stroke=\"black\" points=\"843.5,-283.5 843.5,-319.5 913.5,-319.5 913.5,-283.5 843.5,-283.5\"/>\n<text text-anchor=\"middle\" x=\"865.5\" y=\"-297.8\" font-family=\"Times,serif\" font-size=\"14.00\">feat</text>\n<polyline fill=\"none\" stroke=\"black\" points=\"887.5,-283.5 887.5,-319.5 \"/>\n<text text-anchor=\"middle\" x=\"900.5\" y=\"-297.8\" font-family=\"Times,serif\" font-size=\"14.00\">9</text>\n</g>\n<!-- node_c1d1fd81_7ccf_4d27_b865_ef48d8406397 -->\n<g id=\"node2\" class=\"node\">\n<title>node_c1d1fd81_7ccf_4d27_b865_ef48d8406397</title>\n<polygon fill=\"none\" stroke=\"black\" points=\"606.5,-215.5 606.5,-251.5 676.5,-251.5 676.5,-215.5 606.5,-215.5\"/>\n<text text-anchor=\"middle\" x=\"628.5\" y=\"-229.8\" font-family=\"Times,serif\" font-size=\"14.00\">feat</text>\n<polyline fill=\"none\" stroke=\"black\" points=\"650.5,-215.5 650.5,-251.5 \"/>\n<text text-anchor=\"middle\" x=\"663.5\" y=\"-229.8\" font-family=\"Times,serif\" font-size=\"14.00\">0</text>\n</g>\n<!-- node_e2efd669_f2c8_4d32_ab77_0888e3fe37b4&#45;&gt;node_c1d1fd81_7ccf_4d27_b865_ef48d8406397 -->\n<g id=\"edge1\" class=\"edge\">\n<title>node_e2efd669_f2c8_4d32_ab77_0888e3fe37b4&#45;&gt;node_c1d1fd81_7ccf_4d27_b865_ef48d8406397</title>\n<path fill=\"none\" stroke=\"black\" d=\"M843.27,-290.69C801.56,-279.07 731.99,-259.7 686.43,-247.01\"/>\n<polygon fill=\"black\" stroke=\"black\" points=\"687.1,-243.57 676.53,-244.26 685.23,-250.31 687.1,-243.57\"/>\n<text text-anchor=\"middle\" x=\"786.5\" y=\"-263.8\" font-family=\"Times,serif\" font-size=\"14.00\">1</text>\n</g>\n<!-- node_ea8821f0_7366_4e06_9a06_1d7a3b938934 -->\n<g id=\"node9\" class=\"node\">\n<title>node_ea8821f0_7366_4e06_9a06_1d7a3b938934</title>\n<polygon fill=\"none\" stroke=\"black\" points=\"1138.5,-215.5 1138.5,-251.5 1208.5,-251.5 1208.5,-215.5 1138.5,-215.5\"/>\n<text text-anchor=\"middle\" x=\"1160.5\" y=\"-229.8\" font-family=\"Times,serif\" font-size=\"14.00\">feat</text>\n<polyline fill=\"none\" stroke=\"black\" points=\"1182.5,-215.5 1182.5,-251.5 \"/>\n<text text-anchor=\"middle\" x=\"1195.5\" y=\"-229.8\" font-family=\"Times,serif\" font-size=\"14.00\">8</text>\n</g>\n<!-- node_e2efd669_f2c8_4d32_ab77_0888e3fe37b4&#45;&gt;node_ea8821f0_7366_4e06_9a06_1d7a3b938934 -->\n<g id=\"edge8\" class=\"edge\">\n<title>node_e2efd669_f2c8_4d32_ab77_0888e3fe37b4&#45;&gt;node_ea8821f0_7366_4e06_9a06_1d7a3b938934</title>\n<path fill=\"none\" stroke=\"black\" d=\"M913.79,-292.6C967.43,-280.6 1069.44,-257.78 1128.39,-244.59\"/>\n<polygon fill=\"black\" stroke=\"black\" points=\"1129.17,-248 1138.17,-242.4 1127.65,-241.17 1129.17,-248\"/>\n<text text-anchor=\"middle\" x=\"1057.5\" y=\"-263.8\" font-family=\"Times,serif\" font-size=\"14.00\">0</text>\n</g>\n<!-- node_e649b897_1df2_49a4_a334_c0b2b04da768 -->\n<g id=\"node3\" class=\"node\">\n<title>node_e649b897_1df2_49a4_a334_c0b2b04da768</title>\n<polygon fill=\"none\" stroke=\"black\" points=\"315.5,-147.5 315.5,-183.5 385.5,-183.5 385.5,-147.5 315.5,-147.5\"/>\n<text text-anchor=\"middle\" x=\"337.5\" y=\"-161.8\" font-family=\"Times,serif\" font-size=\"14.00\">feat</text>\n<polyline fill=\"none\" stroke=\"black\" points=\"359.5,-147.5 359.5,-183.5 \"/>\n<text text-anchor=\"middle\" x=\"372.5\" y=\"-161.8\" font-family=\"Times,serif\" font-size=\"14.00\">2</text>\n</g>\n<!-- node_c1d1fd81_7ccf_4d27_b865_ef48d8406397&#45;&gt;node_e649b897_1df2_49a4_a334_c0b2b04da768 -->\n<g id=\"edge2\" class=\"edge\">\n<title>node_c1d1fd81_7ccf_4d27_b865_ef48d8406397&#45;&gt;node_e649b897_1df2_49a4_a334_c0b2b04da768</title>\n<path fill=\"none\" stroke=\"black\" d=\"M606.4,-224.54C553.64,-212.57 453.88,-189.95 395.73,-176.76\"/>\n<polygon fill=\"black\" stroke=\"black\" points=\"396.25,-173.29 385.73,-174.49 394.7,-180.11 396.25,-173.29\"/>\n<text text-anchor=\"middle\" x=\"527.5\" y=\"-195.8\" font-family=\"Times,serif\" font-size=\"14.00\">1</text>\n</g>\n<!-- node_59bba0e9_4ff8_4e68_98fd_9d78597168ec -->\n<g id=\"node6\" class=\"node\">\n<title>node_59bba0e9_4ff8_4e68_98fd_9d78597168ec</title>\n<polygon fill=\"none\" stroke=\"black\" points=\"606.5,-147.5 606.5,-183.5 676.5,-183.5 676.5,-147.5 606.5,-147.5\"/>\n<text text-anchor=\"middle\" x=\"628.5\" y=\"-161.8\" font-family=\"Times,serif\" font-size=\"14.00\">feat</text>\n<polyline fill=\"none\" stroke=\"black\" points=\"650.5,-147.5 650.5,-183.5 \"/>\n<text text-anchor=\"middle\" x=\"663.5\" y=\"-161.8\" font-family=\"Times,serif\" font-size=\"14.00\">1</text>\n</g>\n<!-- node_c1d1fd81_7ccf_4d27_b865_ef48d8406397&#45;&gt;node_59bba0e9_4ff8_4e68_98fd_9d78597168ec -->\n<g id=\"edge5\" class=\"edge\">\n<title>node_c1d1fd81_7ccf_4d27_b865_ef48d8406397&#45;&gt;node_59bba0e9_4ff8_4e68_98fd_9d78597168ec</title>\n<path fill=\"none\" stroke=\"black\" d=\"M641.5,-215.16C641.5,-208.69 641.5,-201.18 641.5,-194.02\"/>\n<polygon fill=\"black\" stroke=\"black\" points=\"645,-193.95 641.5,-183.95 638,-193.95 645,-193.95\"/>\n<text text-anchor=\"middle\" x=\"646.5\" y=\"-195.8\" font-family=\"Times,serif\" font-size=\"14.00\">0</text>\n</g>\n<!-- leaf_3d7d9ca8_fe3c_4c20_b755_cfac4e8e02a1 -->\n<g id=\"node4\" class=\"node\">\n<title>leaf_3d7d9ca8_fe3c_4c20_b755_cfac4e8e02a1</title>\n<polygon fill=\"none\" stroke=\"black\" points=\"0,-0.5 0,-115.5 223,-115.5 223,-0.5 0,-0.5\"/>\n<text text-anchor=\"middle\" x=\"62\" y=\"-100.3\" font-family=\"Times,serif\" font-size=\"14.00\">class</text>\n<polyline fill=\"none\" stroke=\"black\" points=\"124,-92.5 124,-115.5 \"/>\n<text text-anchor=\"middle\" x=\"173.5\" y=\"-100.3\" font-family=\"Times,serif\" font-size=\"14.00\">0</text>\n<polyline fill=\"none\" stroke=\"black\" points=\"0,-92.5 223,-92.5 \"/>\n<text text-anchor=\"middle\" x=\"60\" y=\"-77.3\" font-family=\"Times,serif\" font-size=\"14.00\">error</text>\n<polyline fill=\"none\" stroke=\"black\" points=\"120,-69.5 120,-92.5 \"/>\n<text text-anchor=\"middle\" x=\"171.5\" y=\"-77.3\" font-family=\"Times,serif\" font-size=\"14.00\">12</text>\n<polyline fill=\"none\" stroke=\"black\" points=\"0,-69.5 223,-69.5 \"/>\n<text text-anchor=\"middle\" x=\"74\" y=\"-54.3\" font-family=\"Times,serif\" font-size=\"14.00\">misclassified</text>\n<polyline fill=\"none\" stroke=\"black\" points=\"148,-46.5 148,-69.5 \"/>\n<text text-anchor=\"middle\" x=\"185.5\" y=\"-54.3\" font-family=\"Times,serif\" font-size=\"14.00\">12</text>\n<polyline fill=\"none\" stroke=\"black\" points=\"0,-46.5 223,-46.5 \"/>\n<text text-anchor=\"middle\" x=\"80.5\" y=\"-31.3\" font-family=\"Times,serif\" font-size=\"14.00\">discrimination_train</text>\n<polyline fill=\"none\" stroke=\"black\" points=\"161,-23.5 161,-46.5 \"/>\n<text text-anchor=\"middle\" x=\"192\" y=\"-31.3\" font-family=\"Times,serif\" font-size=\"14.00\">&#45;0.004</text>\n<polyline fill=\"none\" stroke=\"black\" points=\"0,-23.5 223,-23.5 \"/>\n<text text-anchor=\"middle\" x=\"89\" y=\"-8.3\" font-family=\"Times,serif\" font-size=\"14.00\">discrimination_pred</text>\n<polyline fill=\"none\" stroke=\"black\" points=\"178,-0.5 178,-23.5 \"/>\n<text text-anchor=\"middle\" x=\"200.5\" y=\"-8.3\" font-family=\"Times,serif\" font-size=\"14.00\">0</text>\n</g>\n<!-- node_e649b897_1df2_49a4_a334_c0b2b04da768&#45;&gt;leaf_3d7d9ca8_fe3c_4c20_b755_cfac4e8e02a1 -->\n<g id=\"edge3\" class=\"edge\">\n<title>node_e649b897_1df2_49a4_a334_c0b2b04da768&#45;&gt;leaf_3d7d9ca8_fe3c_4c20_b755_cfac4e8e02a1</title>\n<path fill=\"none\" stroke=\"black\" d=\"M315.45,-150.63C291.88,-141.17 260.17,-128.19 232.5,-116 232.4,-115.96 232.31,-115.92 232.21,-115.87\"/>\n<polygon fill=\"black\" stroke=\"black\" points=\"233.71,-112.71 223.15,-111.85 230.87,-119.11 233.71,-112.71\"/>\n<text text-anchor=\"middle\" x=\"289.5\" y=\"-127.8\" font-family=\"Times,serif\" font-size=\"14.00\">1</text>\n</g>\n<!-- leaf_eb446c44_2613_4408_8a4e_6e0070ad396d -->\n<g id=\"node5\" class=\"node\">\n<title>leaf_eb446c44_2613_4408_8a4e_6e0070ad396d</title>\n<polygon fill=\"none\" stroke=\"black\" points=\"241.5,-0.5 241.5,-115.5 459.5,-115.5 459.5,-0.5 241.5,-0.5\"/>\n<text text-anchor=\"middle\" x=\"302.5\" y=\"-100.3\" font-family=\"Times,serif\" font-size=\"14.00\">class</text>\n<polyline fill=\"none\" stroke=\"black\" points=\"363.5,-92.5 363.5,-115.5 \"/>\n<text text-anchor=\"middle\" x=\"411.5\" y=\"-100.3\" font-family=\"Times,serif\" font-size=\"14.00\">1</text>\n<polyline fill=\"none\" stroke=\"black\" points=\"241.5,-92.5 459.5,-92.5 \"/>\n<text text-anchor=\"middle\" x=\"302.5\" y=\"-77.3\" font-family=\"Times,serif\" font-size=\"14.00\">error</text>\n<polyline fill=\"none\" stroke=\"black\" points=\"363.5,-69.5 363.5,-92.5 \"/>\n<text text-anchor=\"middle\" x=\"411.5\" y=\"-77.3\" font-family=\"Times,serif\" font-size=\"14.00\">0</text>\n<polyline fill=\"none\" stroke=\"black\" points=\"241.5,-69.5 459.5,-69.5 \"/>\n<text text-anchor=\"middle\" x=\"316.5\" y=\"-54.3\" font-family=\"Times,serif\" font-size=\"14.00\">misclassified</text>\n<polyline fill=\"none\" stroke=\"black\" points=\"391.5,-46.5 391.5,-69.5 \"/>\n<text text-anchor=\"middle\" x=\"425.5\" y=\"-54.3\" font-family=\"Times,serif\" font-size=\"14.00\">0</text>\n<polyline fill=\"none\" stroke=\"black\" points=\"241.5,-46.5 459.5,-46.5 \"/>\n<text text-anchor=\"middle\" x=\"322\" y=\"-31.3\" font-family=\"Times,serif\" font-size=\"14.00\">discrimination_train</text>\n<polyline fill=\"none\" stroke=\"black\" points=\"402.5,-23.5 402.5,-46.5 \"/>\n<text text-anchor=\"middle\" x=\"431\" y=\"-31.3\" font-family=\"Times,serif\" font-size=\"14.00\">0.128</text>\n<polyline fill=\"none\" stroke=\"black\" points=\"241.5,-23.5 459.5,-23.5 \"/>\n<text text-anchor=\"middle\" x=\"321.5\" y=\"-8.3\" font-family=\"Times,serif\" font-size=\"14.00\">discrimination_pred</text>\n<polyline fill=\"none\" stroke=\"black\" points=\"401.5,-0.5 401.5,-23.5 \"/>\n<text text-anchor=\"middle\" x=\"430.5\" y=\"-8.3\" font-family=\"Times,serif\" font-size=\"14.00\">0.128</text>\n</g>\n<!-- node_e649b897_1df2_49a4_a334_c0b2b04da768&#45;&gt;leaf_eb446c44_2613_4408_8a4e_6e0070ad396d -->\n<g id=\"edge4\" class=\"edge\">\n<title>node_e649b897_1df2_49a4_a334_c0b2b04da768&#45;&gt;leaf_eb446c44_2613_4408_8a4e_6e0070ad396d</title>\n<path fill=\"none\" stroke=\"black\" d=\"M350.5,-147.08C350.5,-140.91 350.5,-133.54 350.5,-125.73\"/>\n<polygon fill=\"black\" stroke=\"black\" points=\"354,-125.66 350.5,-115.66 347,-125.66 354,-125.66\"/>\n<text text-anchor=\"middle\" x=\"355.5\" y=\"-127.8\" font-family=\"Times,serif\" font-size=\"14.00\">0</text>\n</g>\n<!-- leaf_cab26473_8df6_463b_94c0_b8851f0551fe -->\n<g id=\"node7\" class=\"node\">\n<title>leaf_cab26473_8df6_463b_94c0_b8851f0551fe</title>\n<polygon fill=\"none\" stroke=\"black\" points=\"477.5,-0.5 477.5,-115.5 695.5,-115.5 695.5,-0.5 477.5,-0.5\"/>\n<text text-anchor=\"middle\" x=\"538.5\" y=\"-100.3\" font-family=\"Times,serif\" font-size=\"14.00\">class</text>\n<polyline fill=\"none\" stroke=\"black\" points=\"599.5,-92.5 599.5,-115.5 \"/>\n<text text-anchor=\"middle\" x=\"647.5\" y=\"-100.3\" font-family=\"Times,serif\" font-size=\"14.00\">0</text>\n<polyline fill=\"none\" stroke=\"black\" points=\"477.5,-92.5 695.5,-92.5 \"/>\n<text text-anchor=\"middle\" x=\"538.5\" y=\"-77.3\" font-family=\"Times,serif\" font-size=\"14.00\">error</text>\n<polyline fill=\"none\" stroke=\"black\" points=\"599.5,-69.5 599.5,-92.5 \"/>\n<text text-anchor=\"middle\" x=\"647.5\" y=\"-77.3\" font-family=\"Times,serif\" font-size=\"14.00\">3</text>\n<polyline fill=\"none\" stroke=\"black\" points=\"477.5,-69.5 695.5,-69.5 \"/>\n<text text-anchor=\"middle\" x=\"552.5\" y=\"-54.3\" font-family=\"Times,serif\" font-size=\"14.00\">misclassified</text>\n<polyline fill=\"none\" stroke=\"black\" points=\"627.5,-46.5 627.5,-69.5 \"/>\n<text text-anchor=\"middle\" x=\"661.5\" y=\"-54.3\" font-family=\"Times,serif\" font-size=\"14.00\">3</text>\n<polyline fill=\"none\" stroke=\"black\" points=\"477.5,-46.5 695.5,-46.5 \"/>\n<text text-anchor=\"middle\" x=\"558\" y=\"-31.3\" font-family=\"Times,serif\" font-size=\"14.00\">discrimination_train</text>\n<polyline fill=\"none\" stroke=\"black\" points=\"638.5,-23.5 638.5,-46.5 \"/>\n<text text-anchor=\"middle\" x=\"667\" y=\"-31.3\" font-family=\"Times,serif\" font-size=\"14.00\">0.024</text>\n<polyline fill=\"none\" stroke=\"black\" points=\"477.5,-23.5 695.5,-23.5 \"/>\n<text text-anchor=\"middle\" x=\"565\" y=\"-8.3\" font-family=\"Times,serif\" font-size=\"14.00\">discrimination_pred</text>\n<polyline fill=\"none\" stroke=\"black\" points=\"652.5,-0.5 652.5,-23.5 \"/>\n<text text-anchor=\"middle\" x=\"674\" y=\"-8.3\" font-family=\"Times,serif\" font-size=\"14.00\">0</text>\n</g>\n<!-- node_59bba0e9_4ff8_4e68_98fd_9d78597168ec&#45;&gt;leaf_cab26473_8df6_463b_94c0_b8851f0551fe -->\n<g id=\"edge6\" class=\"edge\">\n<title>node_59bba0e9_4ff8_4e68_98fd_9d78597168ec&#45;&gt;leaf_cab26473_8df6_463b_94c0_b8851f0551fe</title>\n<path fill=\"none\" stroke=\"black\" d=\"M632.42,-147.08C629.06,-140.63 625.02,-132.88 620.75,-124.69\"/>\n<polygon fill=\"black\" stroke=\"black\" points=\"623.77,-122.91 616.04,-115.66 617.56,-126.15 623.77,-122.91\"/>\n<text text-anchor=\"middle\" x=\"632.5\" y=\"-127.8\" font-family=\"Times,serif\" font-size=\"14.00\">1</text>\n</g>\n<!-- leaf_2429c43a_1e04_42d0_a756_d193aa811d6f -->\n<g id=\"node8\" class=\"node\">\n<title>leaf_2429c43a_1e04_42d0_a756_d193aa811d6f</title>\n<polygon fill=\"none\" stroke=\"black\" points=\"713.5,-0.5 713.5,-115.5 931.5,-115.5 931.5,-0.5 713.5,-0.5\"/>\n<text text-anchor=\"middle\" x=\"774.5\" y=\"-100.3\" font-family=\"Times,serif\" font-size=\"14.00\">class</text>\n<polyline fill=\"none\" stroke=\"black\" points=\"835.5,-92.5 835.5,-115.5 \"/>\n<text text-anchor=\"middle\" x=\"883.5\" y=\"-100.3\" font-family=\"Times,serif\" font-size=\"14.00\">1</text>\n<polyline fill=\"none\" stroke=\"black\" points=\"713.5,-92.5 931.5,-92.5 \"/>\n<text text-anchor=\"middle\" x=\"774.5\" y=\"-77.3\" font-family=\"Times,serif\" font-size=\"14.00\">error</text>\n<polyline fill=\"none\" stroke=\"black\" points=\"835.5,-69.5 835.5,-92.5 \"/>\n<text text-anchor=\"middle\" x=\"883.5\" y=\"-77.3\" font-family=\"Times,serif\" font-size=\"14.00\">0</text>\n<polyline fill=\"none\" stroke=\"black\" points=\"713.5,-69.5 931.5,-69.5 \"/>\n<text text-anchor=\"middle\" x=\"788.5\" y=\"-54.3\" font-family=\"Times,serif\" font-size=\"14.00\">misclassified</text>\n<polyline fill=\"none\" stroke=\"black\" points=\"863.5,-46.5 863.5,-69.5 \"/>\n<text text-anchor=\"middle\" x=\"897.5\" y=\"-54.3\" font-family=\"Times,serif\" font-size=\"14.00\">0</text>\n<polyline fill=\"none\" stroke=\"black\" points=\"713.5,-46.5 931.5,-46.5 \"/>\n<text text-anchor=\"middle\" x=\"794\" y=\"-31.3\" font-family=\"Times,serif\" font-size=\"14.00\">discrimination_train</text>\n<polyline fill=\"none\" stroke=\"black\" points=\"874.5,-23.5 874.5,-46.5 \"/>\n<text text-anchor=\"middle\" x=\"903\" y=\"-31.3\" font-family=\"Times,serif\" font-size=\"14.00\">0.008</text>\n<polyline fill=\"none\" stroke=\"black\" points=\"713.5,-23.5 931.5,-23.5 \"/>\n<text text-anchor=\"middle\" x=\"793.5\" y=\"-8.3\" font-family=\"Times,serif\" font-size=\"14.00\">discrimination_pred</text>\n<polyline fill=\"none\" stroke=\"black\" points=\"873.5,-0.5 873.5,-23.5 \"/>\n<text text-anchor=\"middle\" x=\"902.5\" y=\"-8.3\" font-family=\"Times,serif\" font-size=\"14.00\">0.008</text>\n</g>\n<!-- node_59bba0e9_4ff8_4e68_98fd_9d78597168ec&#45;&gt;leaf_2429c43a_1e04_42d0_a756_d193aa811d6f -->\n<g id=\"edge7\" class=\"edge\">\n<title>node_59bba0e9_4ff8_4e68_98fd_9d78597168ec&#45;&gt;leaf_2429c43a_1e04_42d0_a756_d193aa811d6f</title>\n<path fill=\"none\" stroke=\"black\" d=\"M670.98,-147.31C683.86,-139.81 699.83,-130.5 716.52,-120.77\"/>\n<polygon fill=\"black\" stroke=\"black\" points=\"718.43,-123.71 725.31,-115.65 714.9,-117.66 718.43,-123.71\"/>\n<text text-anchor=\"middle\" x=\"715.5\" y=\"-127.8\" font-family=\"Times,serif\" font-size=\"14.00\">0</text>\n</g>\n<!-- node_ea4b5fe7_2b49_4ed5_a1af_117ec870463b -->\n<g id=\"node10\" class=\"node\">\n<title>node_ea4b5fe7_2b49_4ed5_a1af_117ec870463b</title>\n<polygon fill=\"none\" stroke=\"black\" points=\"1138.5,-147.5 1138.5,-183.5 1208.5,-183.5 1208.5,-147.5 1138.5,-147.5\"/>\n<text text-anchor=\"middle\" x=\"1160.5\" y=\"-161.8\" font-family=\"Times,serif\" font-size=\"14.00\">feat</text>\n<polyline fill=\"none\" stroke=\"black\" points=\"1182.5,-147.5 1182.5,-183.5 \"/>\n<text text-anchor=\"middle\" x=\"1195.5\" y=\"-161.8\" font-family=\"Times,serif\" font-size=\"14.00\">4</text>\n</g>\n<!-- node_ea8821f0_7366_4e06_9a06_1d7a3b938934&#45;&gt;node_ea4b5fe7_2b49_4ed5_a1af_117ec870463b -->\n<g id=\"edge9\" class=\"edge\">\n<title>node_ea8821f0_7366_4e06_9a06_1d7a3b938934&#45;&gt;node_ea4b5fe7_2b49_4ed5_a1af_117ec870463b</title>\n<path fill=\"none\" stroke=\"black\" d=\"M1173.5,-215.16C1173.5,-208.69 1173.5,-201.18 1173.5,-194.02\"/>\n<polygon fill=\"black\" stroke=\"black\" points=\"1177,-193.95 1173.5,-183.95 1170,-193.95 1177,-193.95\"/>\n<text text-anchor=\"middle\" x=\"1178.5\" y=\"-195.8\" font-family=\"Times,serif\" font-size=\"14.00\">1</text>\n</g>\n<!-- node_ded3a860_dedc_4fb7_bafd_79e0abd0008c -->\n<g id=\"node13\" class=\"node\">\n<title>node_ded3a860_dedc_4fb7_bafd_79e0abd0008c</title>\n<polygon fill=\"none\" stroke=\"black\" points=\"1502,-147.5 1502,-183.5 1581,-183.5 1581,-147.5 1502,-147.5\"/>\n<text text-anchor=\"middle\" x=\"1524\" y=\"-161.8\" font-family=\"Times,serif\" font-size=\"14.00\">feat</text>\n<polyline fill=\"none\" stroke=\"black\" points=\"1546,-147.5 1546,-183.5 \"/>\n<text text-anchor=\"middle\" x=\"1563.5\" y=\"-161.8\" font-family=\"Times,serif\" font-size=\"14.00\">10</text>\n</g>\n<!-- node_ea8821f0_7366_4e06_9a06_1d7a3b938934&#45;&gt;node_ded3a860_dedc_4fb7_bafd_79e0abd0008c -->\n<g id=\"edge12\" class=\"edge\">\n<title>node_ea8821f0_7366_4e06_9a06_1d7a3b938934&#45;&gt;node_ded3a860_dedc_4fb7_bafd_79e0abd0008c</title>\n<path fill=\"none\" stroke=\"black\" d=\"M1208.79,-226.17C1274.59,-214.37 1416.2,-188.97 1491.7,-175.43\"/>\n<polygon fill=\"black\" stroke=\"black\" points=\"1492.68,-178.81 1501.9,-173.6 1491.44,-171.92 1492.68,-178.81\"/>\n<text text-anchor=\"middle\" x=\"1395.5\" y=\"-195.8\" font-family=\"Times,serif\" font-size=\"14.00\">0</text>\n</g>\n<!-- leaf_0ac1fc27_c79d_440c_ae79_14f61408c4a1 -->\n<g id=\"node11\" class=\"node\">\n<title>leaf_0ac1fc27_c79d_440c_ae79_14f61408c4a1</title>\n<polygon fill=\"none\" stroke=\"black\" points=\"950,-0.5 950,-115.5 1173,-115.5 1173,-0.5 950,-0.5\"/>\n<text text-anchor=\"middle\" x=\"1012\" y=\"-100.3\" font-family=\"Times,serif\" font-size=\"14.00\">class</text>\n<polyline fill=\"none\" stroke=\"black\" points=\"1074,-92.5 1074,-115.5 \"/>\n<text text-anchor=\"middle\" x=\"1123.5\" y=\"-100.3\" font-family=\"Times,serif\" font-size=\"14.00\">1</text>\n<polyline fill=\"none\" stroke=\"black\" points=\"950,-92.5 1173,-92.5 \"/>\n<text text-anchor=\"middle\" x=\"1012.5\" y=\"-77.3\" font-family=\"Times,serif\" font-size=\"14.00\">error</text>\n<polyline fill=\"none\" stroke=\"black\" points=\"1075,-69.5 1075,-92.5 \"/>\n<text text-anchor=\"middle\" x=\"1124\" y=\"-77.3\" font-family=\"Times,serif\" font-size=\"14.00\">0</text>\n<polyline fill=\"none\" stroke=\"black\" points=\"950,-69.5 1173,-69.5 \"/>\n<text text-anchor=\"middle\" x=\"1026\" y=\"-54.3\" font-family=\"Times,serif\" font-size=\"14.00\">misclassified</text>\n<polyline fill=\"none\" stroke=\"black\" points=\"1102,-46.5 1102,-69.5 \"/>\n<text text-anchor=\"middle\" x=\"1137.5\" y=\"-54.3\" font-family=\"Times,serif\" font-size=\"14.00\">0</text>\n<polyline fill=\"none\" stroke=\"black\" points=\"950,-46.5 1173,-46.5 \"/>\n<text text-anchor=\"middle\" x=\"1030.5\" y=\"-31.3\" font-family=\"Times,serif\" font-size=\"14.00\">discrimination_train</text>\n<polyline fill=\"none\" stroke=\"black\" points=\"1111,-23.5 1111,-46.5 \"/>\n<text text-anchor=\"middle\" x=\"1142\" y=\"-31.3\" font-family=\"Times,serif\" font-size=\"14.00\">&#45;0.016</text>\n<polyline fill=\"none\" stroke=\"black\" points=\"950,-23.5 1173,-23.5 \"/>\n<text text-anchor=\"middle\" x=\"1030\" y=\"-8.3\" font-family=\"Times,serif\" font-size=\"14.00\">discrimination_pred</text>\n<polyline fill=\"none\" stroke=\"black\" points=\"1110,-0.5 1110,-23.5 \"/>\n<text text-anchor=\"middle\" x=\"1141.5\" y=\"-8.3\" font-family=\"Times,serif\" font-size=\"14.00\">&#45;0.016</text>\n</g>\n<!-- node_ea4b5fe7_2b49_4ed5_a1af_117ec870463b&#45;&gt;leaf_0ac1fc27_c79d_440c_ae79_14f61408c4a1 -->\n<g id=\"edge10\" class=\"edge\">\n<title>node_ea4b5fe7_2b49_4ed5_a1af_117ec870463b&#45;&gt;leaf_0ac1fc27_c79d_440c_ae79_14f61408c4a1</title>\n<path fill=\"none\" stroke=\"black\" d=\"M1155.01,-147.08C1147.58,-140.08 1138.52,-131.55 1129,-122.59\"/>\n<polygon fill=\"black\" stroke=\"black\" points=\"1131.33,-119.97 1121.65,-115.66 1126.53,-125.07 1131.33,-119.97\"/>\n<text text-anchor=\"middle\" x=\"1148.5\" y=\"-127.8\" font-family=\"Times,serif\" font-size=\"14.00\">1</text>\n</g>\n<!-- leaf_53f4e282_d3fc_4ffe_a8e2_fa3d21037c59 -->\n<g id=\"node12\" class=\"node\">\n<title>leaf_53f4e282_d3fc_4ffe_a8e2_fa3d21037c59</title>\n<polygon fill=\"none\" stroke=\"black\" points=\"1191,-0.5 1191,-115.5 1414,-115.5 1414,-0.5 1191,-0.5\"/>\n<text text-anchor=\"middle\" x=\"1253\" y=\"-100.3\" font-family=\"Times,serif\" font-size=\"14.00\">class</text>\n<polyline fill=\"none\" stroke=\"black\" points=\"1315,-92.5 1315,-115.5 \"/>\n<text text-anchor=\"middle\" x=\"1364.5\" y=\"-100.3\" font-family=\"Times,serif\" font-size=\"14.00\">0</text>\n<polyline fill=\"none\" stroke=\"black\" points=\"1191,-92.5 1414,-92.5 \"/>\n<text text-anchor=\"middle\" x=\"1253.5\" y=\"-77.3\" font-family=\"Times,serif\" font-size=\"14.00\">error</text>\n<polyline fill=\"none\" stroke=\"black\" points=\"1316,-69.5 1316,-92.5 \"/>\n<text text-anchor=\"middle\" x=\"1365\" y=\"-77.3\" font-family=\"Times,serif\" font-size=\"14.00\">2</text>\n<polyline fill=\"none\" stroke=\"black\" points=\"1191,-69.5 1414,-69.5 \"/>\n<text text-anchor=\"middle\" x=\"1267\" y=\"-54.3\" font-family=\"Times,serif\" font-size=\"14.00\">misclassified</text>\n<polyline fill=\"none\" stroke=\"black\" points=\"1343,-46.5 1343,-69.5 \"/>\n<text text-anchor=\"middle\" x=\"1378.5\" y=\"-54.3\" font-family=\"Times,serif\" font-size=\"14.00\">2</text>\n<polyline fill=\"none\" stroke=\"black\" points=\"1191,-46.5 1414,-46.5 \"/>\n<text text-anchor=\"middle\" x=\"1271.5\" y=\"-31.3\" font-family=\"Times,serif\" font-size=\"14.00\">discrimination_train</text>\n<polyline fill=\"none\" stroke=\"black\" points=\"1352,-23.5 1352,-46.5 \"/>\n<text text-anchor=\"middle\" x=\"1383\" y=\"-31.3\" font-family=\"Times,serif\" font-size=\"14.00\">&#45;0.004</text>\n<polyline fill=\"none\" stroke=\"black\" points=\"1191,-23.5 1414,-23.5 \"/>\n<text text-anchor=\"middle\" x=\"1280\" y=\"-8.3\" font-family=\"Times,serif\" font-size=\"14.00\">discrimination_pred</text>\n<polyline fill=\"none\" stroke=\"black\" points=\"1369,-0.5 1369,-23.5 \"/>\n<text text-anchor=\"middle\" x=\"1391.5\" y=\"-8.3\" font-family=\"Times,serif\" font-size=\"14.00\">0</text>\n</g>\n<!-- node_ea4b5fe7_2b49_4ed5_a1af_117ec870463b&#45;&gt;leaf_53f4e282_d3fc_4ffe_a8e2_fa3d21037c59 -->\n<g id=\"edge11\" class=\"edge\">\n<title>node_ea4b5fe7_2b49_4ed5_a1af_117ec870463b&#45;&gt;leaf_53f4e282_d3fc_4ffe_a8e2_fa3d21037c59</title>\n<path fill=\"none\" stroke=\"black\" d=\"M1194.51,-147.31C1203.27,-140.15 1214.03,-131.35 1225.34,-122.11\"/>\n<polygon fill=\"black\" stroke=\"black\" points=\"1227.7,-124.69 1233.23,-115.65 1223.27,-119.27 1227.7,-124.69\"/>\n<text text-anchor=\"middle\" x=\"1228.5\" y=\"-127.8\" font-family=\"Times,serif\" font-size=\"14.00\">0</text>\n</g>\n<!-- leaf_bf1877f5_774d_42d4_86bb_9606780fc9f7 -->\n<g id=\"node14\" class=\"node\">\n<title>leaf_bf1877f5_774d_42d4_86bb_9606780fc9f7</title>\n<polygon fill=\"none\" stroke=\"black\" points=\"1432.5,-0.5 1432.5,-115.5 1650.5,-115.5 1650.5,-0.5 1432.5,-0.5\"/>\n<text text-anchor=\"middle\" x=\"1493.5\" y=\"-100.3\" font-family=\"Times,serif\" font-size=\"14.00\">class</text>\n<polyline fill=\"none\" stroke=\"black\" points=\"1554.5,-92.5 1554.5,-115.5 \"/>\n<text text-anchor=\"middle\" x=\"1602.5\" y=\"-100.3\" font-family=\"Times,serif\" font-size=\"14.00\">1</text>\n<polyline fill=\"none\" stroke=\"black\" points=\"1432.5,-92.5 1650.5,-92.5 \"/>\n<text text-anchor=\"middle\" x=\"1493.5\" y=\"-77.3\" font-family=\"Times,serif\" font-size=\"14.00\">error</text>\n<polyline fill=\"none\" stroke=\"black\" points=\"1554.5,-69.5 1554.5,-92.5 \"/>\n<text text-anchor=\"middle\" x=\"1602.5\" y=\"-77.3\" font-family=\"Times,serif\" font-size=\"14.00\">0</text>\n<polyline fill=\"none\" stroke=\"black\" points=\"1432.5,-69.5 1650.5,-69.5 \"/>\n<text text-anchor=\"middle\" x=\"1507.5\" y=\"-54.3\" font-family=\"Times,serif\" font-size=\"14.00\">misclassified</text>\n<polyline fill=\"none\" stroke=\"black\" points=\"1582.5,-46.5 1582.5,-69.5 \"/>\n<text text-anchor=\"middle\" x=\"1616.5\" y=\"-54.3\" font-family=\"Times,serif\" font-size=\"14.00\">0</text>\n<polyline fill=\"none\" stroke=\"black\" points=\"1432.5,-46.5 1650.5,-46.5 \"/>\n<text text-anchor=\"middle\" x=\"1513\" y=\"-31.3\" font-family=\"Times,serif\" font-size=\"14.00\">discrimination_train</text>\n<polyline fill=\"none\" stroke=\"black\" points=\"1593.5,-23.5 1593.5,-46.5 \"/>\n<text text-anchor=\"middle\" x=\"1622\" y=\"-31.3\" font-family=\"Times,serif\" font-size=\"14.00\">0.156</text>\n<polyline fill=\"none\" stroke=\"black\" points=\"1432.5,-23.5 1650.5,-23.5 \"/>\n<text text-anchor=\"middle\" x=\"1512.5\" y=\"-8.3\" font-family=\"Times,serif\" font-size=\"14.00\">discrimination_pred</text>\n<polyline fill=\"none\" stroke=\"black\" points=\"1592.5,-0.5 1592.5,-23.5 \"/>\n<text text-anchor=\"middle\" x=\"1621.5\" y=\"-8.3\" font-family=\"Times,serif\" font-size=\"14.00\">0.156</text>\n</g>\n<!-- node_ded3a860_dedc_4fb7_bafd_79e0abd0008c&#45;&gt;leaf_bf1877f5_774d_42d4_86bb_9606780fc9f7 -->\n<g id=\"edge13\" class=\"edge\">\n<title>node_ded3a860_dedc_4fb7_bafd_79e0abd0008c&#45;&gt;leaf_bf1877f5_774d_42d4_86bb_9606780fc9f7</title>\n<path fill=\"none\" stroke=\"black\" d=\"M1541.5,-147.08C1541.5,-140.91 1541.5,-133.54 1541.5,-125.73\"/>\n<polygon fill=\"black\" stroke=\"black\" points=\"1545,-125.66 1541.5,-115.66 1538,-125.66 1545,-125.66\"/>\n<text text-anchor=\"middle\" x=\"1546.5\" y=\"-127.8\" font-family=\"Times,serif\" font-size=\"14.00\">1</text>\n</g>\n<!-- leaf_6614a446_69af_4bee_9139_2f7a3c7b05d8 -->\n<g id=\"node15\" class=\"node\">\n<title>leaf_6614a446_69af_4bee_9139_2f7a3c7b05d8</title>\n<polygon fill=\"none\" stroke=\"black\" points=\"1668.5,-0.5 1668.5,-115.5 1886.5,-115.5 1886.5,-0.5 1668.5,-0.5\"/>\n<text text-anchor=\"middle\" x=\"1729.5\" y=\"-100.3\" font-family=\"Times,serif\" font-size=\"14.00\">class</text>\n<polyline fill=\"none\" stroke=\"black\" points=\"1790.5,-92.5 1790.5,-115.5 \"/>\n<text text-anchor=\"middle\" x=\"1838.5\" y=\"-100.3\" font-family=\"Times,serif\" font-size=\"14.00\">0</text>\n<polyline fill=\"none\" stroke=\"black\" points=\"1668.5,-92.5 1886.5,-92.5 \"/>\n<text text-anchor=\"middle\" x=\"1729.5\" y=\"-77.3\" font-family=\"Times,serif\" font-size=\"14.00\">error</text>\n<polyline fill=\"none\" stroke=\"black\" points=\"1790.5,-69.5 1790.5,-92.5 \"/>\n<text text-anchor=\"middle\" x=\"1838.5\" y=\"-77.3\" font-family=\"Times,serif\" font-size=\"14.00\">4</text>\n<polyline fill=\"none\" stroke=\"black\" points=\"1668.5,-69.5 1886.5,-69.5 \"/>\n<text text-anchor=\"middle\" x=\"1743.5\" y=\"-54.3\" font-family=\"Times,serif\" font-size=\"14.00\">misclassified</text>\n<polyline fill=\"none\" stroke=\"black\" points=\"1818.5,-46.5 1818.5,-69.5 \"/>\n<text text-anchor=\"middle\" x=\"1852.5\" y=\"-54.3\" font-family=\"Times,serif\" font-size=\"14.00\">4</text>\n<polyline fill=\"none\" stroke=\"black\" points=\"1668.5,-46.5 1886.5,-46.5 \"/>\n<text text-anchor=\"middle\" x=\"1749\" y=\"-31.3\" font-family=\"Times,serif\" font-size=\"14.00\">discrimination_train</text>\n<polyline fill=\"none\" stroke=\"black\" points=\"1829.5,-23.5 1829.5,-46.5 \"/>\n<text text-anchor=\"middle\" x=\"1858\" y=\"-31.3\" font-family=\"Times,serif\" font-size=\"14.00\">0.032</text>\n<polyline fill=\"none\" stroke=\"black\" points=\"1668.5,-23.5 1886.5,-23.5 \"/>\n<text text-anchor=\"middle\" x=\"1756\" y=\"-8.3\" font-family=\"Times,serif\" font-size=\"14.00\">discrimination_pred</text>\n<polyline fill=\"none\" stroke=\"black\" points=\"1843.5,-0.5 1843.5,-23.5 \"/>\n<text text-anchor=\"middle\" x=\"1865\" y=\"-8.3\" font-family=\"Times,serif\" font-size=\"14.00\">0</text>\n</g>\n<!-- node_ded3a860_dedc_4fb7_bafd_79e0abd0008c&#45;&gt;leaf_6614a446_69af_4bee_9139_2f7a3c7b05d8 -->\n<g id=\"edge14\" class=\"edge\">\n<title>node_ded3a860_dedc_4fb7_bafd_79e0abd0008c&#45;&gt;leaf_6614a446_69af_4bee_9139_2f7a3c7b05d8</title>\n<path fill=\"none\" stroke=\"black\" d=\"M1581.08,-148.92C1602.04,-140.51 1628.36,-129.72 1659.09,-116.13\"/>\n<polygon fill=\"black\" stroke=\"black\" points=\"1660.6,-119.29 1668.32,-112.03 1657.76,-112.89 1660.6,-119.29\"/>\n<text text-anchor=\"middle\" x=\"1645.5\" y=\"-127.8\" font-family=\"Times,serif\" font-size=\"14.00\">0</text>\n</g>\n</g>\n</svg>\n",
      "text/plain": [
       "<graphviz.sources.Source at 0x7f37cba83880>"
      ]
     },
     "execution_count": 13,
     "metadata": {},
     "output_type": "execute_result"
    }
   ],
   "source": [
    "dot = utils.export_graphviz(clf)\n",
    "graph = graphviz.Source(dot, format=\"png\")\n",
    "graph.render(\"plots/\"+FILE_NAME+\"tree\")\n",
    "graphviz.Source(dot)"
   ]
  }
 ],
 "metadata": {
  "interpreter": {
   "hash": "91b3042644fc76fe48ba76245780156751ae4c80307eab167c6865bf43871907"
  },
  "kernelspec": {
   "display_name": "Python 3.10.4 ('venv': venv)",
   "language": "python",
   "name": "python3"
  },
  "language_info": {
   "codemirror_mode": {
    "name": "ipython",
    "version": 3
   },
   "file_extension": ".py",
   "mimetype": "text/x-python",
   "name": "python",
   "nbconvert_exporter": "python",
   "pygments_lexer": "ipython3",
   "version": "3.10.4"
  }
 },
 "nbformat": 4,
 "nbformat_minor": 0
}
