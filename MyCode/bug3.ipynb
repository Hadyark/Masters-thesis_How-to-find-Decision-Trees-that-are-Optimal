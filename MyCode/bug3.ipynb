{
 "cells": [
  {
   "cell_type": "code",
   "execution_count": 1,
   "metadata": {
    "collapsed": true
   },
   "outputs": [],
   "source": [
    "import copy\n",
    "\n",
    "import pandas\n",
    "from scipy.io import arff\n",
    "import numpy as np\n",
    "from sklearn.metrics import confusion_matrix\n",
    "from sklearn.model_selection import train_test_split\n",
    "from sklearn.metrics import accuracy_score\n",
    "import time\n",
    "from dl85 import DL85Predictor\n",
    "from dl85 import DL85Classifier\n",
    "import pandas as pd\n",
    "from sklearn.preprocessing import OneHotEncoder\n",
    "import matplotlib.pyplot as plt\n",
    "import numpy as np\n",
    "import MyCode.utils as utils\n",
    "import graphviz\n",
    "from MyCode import relabeling\n",
    "from MyCode.relabeling import Leaf"
   ]
  },
  {
   "cell_type": "code",
   "execution_count": 2,
   "outputs": [
    {
     "name": "stdout",
     "output_type": "stream",
     "text": [
      "<class 'pandas.core.series.Series'>\n"
     ]
    }
   ],
   "source": [
    "pd.set_option('max_columns', None)\n",
    "FILE_NAME = \"relab_Lawsuit\"\n",
    "\n",
    "# src: https://www.kaggle.com/hjmjerry/gender-discrimination\n",
    "df = pandas.read_csv(\"dataset_perso/Lawsuit.csv\")\n",
    "del df['ID']\n",
    "salary_mean = np.mean(np.array(df[\"Sal94\"].tolist(), float))\n",
    "for i in range(0,len(df)):\n",
    "    if df.at[i, \"Sal94\"] >= salary_mean:\n",
    "        df.at[i, \"Salary_mean\"] = 1\n",
    "    else:\n",
    "        df.at[i, \"Salary_mean\"] = 0\n",
    "del df[\"Sal94\"]\n",
    "del df[\"Sal95\"]\n",
    "col = ['Rank', 'Dept']\n",
    "df = df.drop(['Prate', 'Exper'], axis=1)\n",
    "df = pd.get_dummies(df, columns=col)\n",
    "for i in range(0,len(df)):\n",
    "    if df.at[i, \"Gender\"] == 1:\n",
    "        df.at[i, \"Gender\"] = 0\n",
    "    else:\n",
    "        df.at[i, \"Gender\"] = 1\n",
    "X = df.loc[:, ~df.columns.isin(['Gender', 'Salary_mean'])]\n",
    "y = df['Salary_mean']\n",
    "sensitive = df['Gender']\n",
    "print(type(sensitive))"
   ],
   "metadata": {
    "collapsed": false,
    "pycharm": {
     "name": "#%%\n"
    }
   }
  },
  {
   "cell_type": "code",
   "execution_count": 3,
   "outputs": [],
   "source": [
    "\n",
    "k = 0\n",
    "depth = 5\n",
    "random_state = 5\n",
    "min_supp = 2\n",
    "\n",
    "X_train, X_test, y_train, y_test, sensitive_train, sensitive_test = utils.train_test_split(random_state, X, y, sensitive)\n"
   ],
   "metadata": {
    "collapsed": false,
    "pycharm": {
     "name": "#%%\n"
    }
   }
  },
  {
   "cell_type": "code",
   "execution_count": 4,
   "outputs": [
    {
     "name": "stdout",
     "output_type": "stream",
     "text": [
      "Accuracy DL8.5 on training set = 0.9186602871\n",
      "Discrimination of classifier on train(pred) 0.3469368158\n"
     ]
    }
   ],
   "source": [
    "from sklearn.tree import DecisionTreeClassifier\n",
    "\n",
    "clf = DecisionTreeClassifier(max_depth=depth, random_state=0)\n",
    "clf.fit(X_train, list(y_train))\n",
    "y_pred_train = clf.predict(X_train)\n",
    "accuracy_train = round(accuracy_score(y_train, y_pred_train),10)\n",
    "print(\"Accuracy DL8.5 on training set =\", accuracy_train)\n",
    "discrimation_train_pred = round(utils.discrimination(y_pred_train, sensitive_train), 10)\n",
    "print(\"Discrimination of classifier on train(pred)\", discrimation_train_pred)"
   ],
   "metadata": {
    "collapsed": false,
    "pycharm": {
     "name": "#%%\n"
    }
   }
  },
  {
   "cell_type": "code",
   "execution_count": 5,
   "outputs": [
    {
     "name": "stdout",
     "output_type": "stream",
     "text": [
      "Path: format -> (feature, type, node id)\n",
      "((10, 'left', 0), (9, 'left', 1), (4, 'right', 2), (7, 'left', 8), (8, 'right', 9), (-2, 'leaf', 11)) \n",
      "node_id: 11 \n",
      "The effect of relabeling the leaf on accuracy: 0.0\n",
      "The effect of relabeling the leaf on discrimination: -0.004321106203188017 \n",
      "ratio: 4.321106203188017e+35 \n",
      "contingency table: \n",
      "[0.0, 0.004784688995215311]\n",
      "[0.004784688995215311, 0.0]\n",
      "transactions: [94, 102]\n",
      "\n",
      "Path: format -> (feature, type, node id)\n",
      "((10, 'left', 0), (9, 'right', 1), (2, 'right', 15), (1, 'right', 21), (0, 'right', 25), (-2, 'leaf', 27)) \n",
      "node_id: 27 \n",
      "The effect of relabeling the leaf on accuracy: -0.004784688995215308\n",
      "The effect of relabeling the leaf on discrimination: -0.05108507777991164 \n",
      "ratio: 10.67678125600154 \n",
      "contingency table: \n",
      "[0.028708133971291867, 0.019138755980861243]\n",
      "[0.019138755980861243, 0.023923444976076555]\n",
      "transactions: [114, 128, 129, 131, 132, 133, 134, 137, 141, 154, 155, 157, 159, 160, 161, 162, 165, 166, 173]\n",
      "\n",
      "Path: format -> (feature, type, node id)\n",
      "((10, 'left', 0), (9, 'right', 1), (2, 'right', 15), (1, 'left', 21), (0, 'right', 22), (-2, 'leaf', 24)) \n",
      "node_id: 24 \n",
      "The effect of relabeling the leaf on accuracy: -0.02392344497607655\n",
      "The effect of relabeling the leaf on discrimination: -0.04522757826003457 \n",
      "ratio: 1.8905127712694452 \n",
      "contingency table: \n",
      "[0.019138755980861243, 0.004784688995215311]\n",
      "[0.009569377990430622, 0.0]\n",
      "transactions: [139, 150, 153, 163, 164, 167, 169]\n",
      "\n",
      "Path: format -> (feature, type, node id)\n",
      "((10, 'left', 0), (9, 'left', 1), (4, 'left', 2), (8, 'right', 3), (2, 'right', 5), (-2, 'leaf', 7)) \n",
      "node_id: 7 \n",
      "The effect of relabeling the leaf on accuracy: -0.06698564593301436\n",
      "The effect of relabeling the leaf on discrimination: -0.11052429421932015 \n",
      "ratio: 1.649969820845565 \n",
      "contingency table: \n",
      "[0.05263157894736842, 0.0]\n",
      "[0.014354066985645933, 0.0]\n",
      "transactions: [92, 95, 98, 99, 100, 103, 104, 106, 107, 108, 109, 111, 112, 113]\n",
      "\n",
      "Path: format -> (feature, type, node id)\n",
      "((10, 'left', 0), (9, 'left', 1), (4, 'right', 2), (7, 'right', 8), (1, 'right', 12), (-2, 'leaf', 14)) \n",
      "node_id: 14 \n",
      "The effect of relabeling the leaf on accuracy: -0.019138755980861243\n",
      "The effect of relabeling the leaf on discrimination: -0.031496062992125984 \n",
      "ratio: 1.6456692913385826 \n",
      "contingency table: \n",
      "[0.0, 0.0]\n",
      "[0.0, 0.019138755980861243]\n",
      "transactions: [75, 79, 80, 81]\n",
      "\n",
      "Path: format -> (feature, type, node id)\n",
      "((10, 'left', 0), (9, 'right', 1), (2, 'right', 15), (1, 'left', 21), (0, 'left', 22), (-2, 'leaf', 23)) \n",
      "node_id: 23 \n",
      "The effect of relabeling the leaf on accuracy: -0.004784688995215311\n",
      "The effect of relabeling the leaf on discrimination: -0.007874015748031496 \n",
      "ratio: 1.6456692913385826 \n",
      "contingency table: \n",
      "[0.0, 0.0]\n",
      "[0.0, 0.004784688995215311]\n",
      "transactions: [147]\n",
      "\n",
      "Path: format -> (feature, type, node id)\n",
      "((10, 'left', 0), (9, 'left', 1), (4, 'left', 2), (8, 'right', 3), (2, 'left', 5), (-2, 'leaf', 6)) \n",
      "node_id: 6 \n",
      "The effect of relabeling the leaf on accuracy: -0.009569377990430622\n",
      "The effect of relabeling the leaf on discrimination: -0.012963318609564047 \n",
      "ratio: 1.3546667946994428 \n",
      "contingency table: \n",
      "[0.009569377990430622, 0.004784688995215311]\n",
      "[0.009569377990430622, 0.004784688995215311]\n",
      "transactions: [93, 96, 97, 101, 105, 110]\n",
      "\n",
      "Path: format -> (feature, type, node id)\n",
      "((10, 'left', 0), (9, 'right', 1), (2, 'left', 15), (0, 'left', 16), (3, 'left', 17), (-2, 'leaf', 18)) \n",
      "node_id: 18 \n",
      "The effect of relabeling the leaf on accuracy: -0.00956937799043062\n",
      "The effect of relabeling the leaf on discrimination: -0.011426925292874975 \n",
      "ratio: 1.1941136931054352 \n",
      "contingency table: \n",
      "[0.0, 0.004784688995215311]\n",
      "[0.004784688995215311, 0.009569377990430622]\n",
      "transactions: [116, 118, 126, 170]\n",
      "\n",
      "Path: format -> (feature, type, node id)\n",
      "((10, 'left', 0), (9, 'right', 1), (2, 'right', 15), (1, 'right', 21), (0, 'left', 25), (-2, 'leaf', 26)) \n",
      "node_id: 26 \n",
      "The effect of relabeling the leaf on accuracy: -0.014354066985645932\n",
      "The effect of relabeling the leaf on discrimination: -0.01651622815440753 \n",
      "ratio: 1.1506305614237247 \n",
      "contingency table: \n",
      "[0.009569377990430622, 0.0]\n",
      "[0.004784688995215311, 0.0]\n",
      "transactions: [135, 174, 175]\n",
      "\n",
      "Path: format -> (feature, type, node id)\n",
      "((10, 'right', 0), (-2, 'leaf', 28)) \n",
      "node_id: 28 \n",
      "The effect of relabeling the leaf on accuracy: -0.15789473684210525\n",
      "The effect of relabeling the leaf on discrimination: -0.17956596888803533 \n",
      "ratio: 1.1372511362908906 \n",
      "contingency table: \n",
      "[0.0, 0.019138755980861243]\n",
      "[0.0, 0.13875598086124402]\n",
      "transactions: [176, 177, 178, 179, 180, 181, 182, 183, 184, 185, 186, 187, 188, 189, 190, 191, 192, 193, 194, 195, 196, 197, 198, 199, 200, 201, 202, 203, 204, 205, 206, 207, 208]\n",
      "\n"
     ]
    }
   ],
   "source": [
    "from MyCode import relabeling_fairlearn\n",
    "\n",
    "leafs_relab = relabeling_fairlearn.leaves_to_relabel(clf, X_train, y_train, y_pred_train, sensitive_train, 0)\n",
    "leafs_relab = sorted(leafs_relab, key=lambda x: x.ratio, reverse=True)\n",
    "for leaf in leafs_relab:\n",
    "    print(leaf)\n",
    "    print()\n",
    "    relabeling_fairlearn.browse_and_relab(clf, leaf.node_id)"
   ],
   "metadata": {
    "collapsed": false,
    "pycharm": {
     "name": "#%%\n"
    }
   }
  },
  {
   "cell_type": "code",
   "execution_count": 6,
   "outputs": [
    {
     "name": "stdout",
     "output_type": "stream",
     "text": [
      "Accuracy DL8.5 on training set = 0.6076555024\n",
      "Discrimination of classifier on train(pred) -0.1240637603\n"
     ]
    }
   ],
   "source": [
    "y_pred_train = clf.predict(X_train)\n",
    "accuracy_train = round(accuracy_score(y_train, y_pred_train),10)\n",
    "print(\"Accuracy DL8.5 on training set =\", accuracy_train)\n",
    "discrimation_train_pred = round(utils.discrimination(y_pred_train, sensitive_train), 10)\n",
    "print(\"Discrimination of classifier on train(pred)\", discrimation_train_pred)"
   ],
   "metadata": {
    "collapsed": false,
    "pycharm": {
     "name": "#%%\n"
    }
   }
  },
  {
   "cell_type": "markdown",
   "source": [],
   "metadata": {
    "collapsed": false,
    "pycharm": {
     "name": "#%% md\n"
    }
   }
  }
 ],
 "metadata": {
  "kernelspec": {
   "display_name": "Python 3",
   "language": "python",
   "name": "python3"
  },
  "language_info": {
   "codemirror_mode": {
    "name": "ipython",
    "version": 2
   },
   "file_extension": ".py",
   "mimetype": "text/x-python",
   "name": "python",
   "nbconvert_exporter": "python",
   "pygments_lexer": "ipython2",
   "version": "2.7.6"
  }
 },
 "nbformat": 4,
 "nbformat_minor": 0
}