{
 "cells": [
  {
   "cell_type": "code",
   "execution_count": 41,
   "metadata": {
    "collapsed": true
   },
   "outputs": [],
   "source": [
    "import copy\n",
    "\n",
    "import pandas\n",
    "from scipy.io import arff\n",
    "import numpy as np\n",
    "from sklearn.metrics import confusion_matrix\n",
    "from sklearn.model_selection import train_test_split\n",
    "from sklearn.metrics import accuracy_score\n",
    "import time\n",
    "from dl85 import DL85Predictor\n",
    "from dl85 import DL85Classifier\n",
    "import pandas as pd\n",
    "from sklearn.preprocessing import OneHotEncoder\n",
    "import matplotlib.pyplot as plt\n",
    "import numpy as np\n",
    "import MyCode.utils as utils\n",
    "import graphviz\n",
    "from MyCode import relabeling_sklearn"
   ]
  },
  {
   "cell_type": "code",
   "execution_count": 42,
   "outputs": [],
   "source": [
    "df = pandas.read_csv(\"dataset_perso/Lawsuit.csv\")\n",
    "FILE_NAME = \"lawsuit_k_supp2_relab_sklearn\"\n",
    "\n",
    "del df['ID']\n",
    "salary_mean = np.mean(np.array(df[\"Sal94\"].tolist(), float))\n",
    "for i in range(0,len(df)):\n",
    "    if df.at[i, \"Sal94\"] >= salary_mean:\n",
    "        df.at[i, \"Salary_mean\"] = 1\n",
    "    else:\n",
    "        df.at[i, \"Salary_mean\"] = 0\n",
    "del df[\"Sal94\"]\n",
    "del df[\"Sal95\"]\n",
    "col = ['Rank', 'Dept']\n",
    "df = df.drop(['Prate', 'Exper'], axis=1)\n",
    "df = pd.get_dummies(df, columns=col)\n",
    "\n",
    "for i in range(0,len(df)):\n",
    "    if df.at[i, \"Gender\"] == 1:\n",
    "        df.at[i, \"Gender\"] = 0\n",
    "    else:\n",
    "        df.at[i, \"Gender\"] = 1\n",
    "\n",
    "\n",
    "X = df.loc[:, ~df.columns.isin(['Gender', 'Salary_mean'])]\n",
    "y = df['Salary_mean']\n",
    "sensitive = df['Gender']\n",
    "X_train, X_test, y_train, y_test, sensitive_train, sensitive_test = utils.train_test_split(1, X, y, sensitive)"
   ],
   "metadata": {
    "collapsed": false,
    "pycharm": {
     "name": "#%%\n"
    }
   }
  },
  {
   "cell_type": "code",
   "execution_count": 43,
   "outputs": [],
   "source": [
    "pd.set_option('max_columns', None)\n"
   ],
   "metadata": {
    "collapsed": false,
    "pycharm": {
     "name": "#%%\n"
    }
   }
  },
  {
   "cell_type": "code",
   "execution_count": 44,
   "outputs": [],
   "source": [
    "def leafs_discimination(tree, x, y, sensitive, n_zero, n_one, discriminations, length, node_id, path=tuple()):\n",
    "    feature = tree.feature[node_id]\n",
    "\n",
    "    if feature >= 0:\n",
    "        tmp = path + ((feature, 'left', node_id),)\n",
    "        leafs_discimination(tree, x, y, sensitive, n_zero, n_one, discriminations, length, tree.children_left[node_id], tmp)\n",
    "        tmp = path + ((feature, 'right', node_id),)\n",
    "        leafs_discimination(tree, x, y, sensitive, n_zero, n_one, discriminations, length, tree.children_right[node_id], tmp)\n",
    "    else:\n",
    "        transactions = relabeling_sklearn.get_transactions(path, x)\n",
    "        discriminations[node_id] = utils.discr_add(transactions, y, sensitive)\n",
    "\n",
    "def sum_discri(clf, X, y, sensitive, do_abs = False):\n",
    "    cnt = np.unique(sensitive, return_counts=True)[1]\n",
    "\n",
    "    discrimination = [None] * len(clf.tree_.value)\n",
    "    leafs_discimination(clf.tree_, X, y, sensitive, cnt[0], cnt[1], discrimination, len(y), 0)\n",
    "\n",
    "    s=0\n",
    "    for d in discrimination:\n",
    "        if d:\n",
    "            if do_abs:\n",
    "                s += abs(d)\n",
    "            else:\n",
    "                s += d\n",
    "    return s"
   ],
   "metadata": {
    "collapsed": false,
    "pycharm": {
     "name": "#%%\n"
    }
   }
  },
  {
   "cell_type": "code",
   "execution_count": 45,
   "outputs": [
    {
     "name": "stderr",
     "output_type": "stream",
     "text": [
      " 38%|███▊      | 19/50 [00:49<01:20,  2.60s/it]\n"
     ]
    },
    {
     "ename": "KeyboardInterrupt",
     "evalue": "",
     "output_type": "error",
     "traceback": [
      "\u001B[0;31m---------------------------------------------------------------------------\u001B[0m",
      "\u001B[0;31mKeyboardInterrupt\u001B[0m                         Traceback (most recent call last)",
      "\u001B[0;32m/tmp/ipykernel_5766/1533439367.py\u001B[0m in \u001B[0;36m<module>\u001B[0;34m\u001B[0m\n\u001B[1;32m    100\u001B[0m                 \u001B[0mresult\u001B[0m\u001B[0;34m.\u001B[0m\u001B[0mat\u001B[0m\u001B[0;34m[\u001B[0m\u001B[0mindex\u001B[0m\u001B[0;34m,\u001B[0m \u001B[0;34m'accuracy_relab_test_'\u001B[0m\u001B[0;34m+\u001B[0m\u001B[0mstr\u001B[0m\u001B[0;34m(\u001B[0m\u001B[0mleaf_limit\u001B[0m\u001B[0;34m)\u001B[0m\u001B[0;34m]\u001B[0m \u001B[0;34m=\u001B[0m \u001B[0mround_down\u001B[0m\u001B[0;34m(\u001B[0m\u001B[0maccuracy_score\u001B[0m\u001B[0;34m(\u001B[0m\u001B[0my_test\u001B[0m\u001B[0;34m,\u001B[0m \u001B[0my_pred_test_relab\u001B[0m\u001B[0;34m)\u001B[0m\u001B[0;34m,\u001B[0m \u001B[0;36m4\u001B[0m\u001B[0;34m)\u001B[0m\u001B[0;34m\u001B[0m\u001B[0;34m\u001B[0m\u001B[0m\n\u001B[1;32m    101\u001B[0m                 \u001B[0mresult\u001B[0m\u001B[0;34m.\u001B[0m\u001B[0mat\u001B[0m\u001B[0;34m[\u001B[0m\u001B[0mindex\u001B[0m\u001B[0;34m,\u001B[0m \u001B[0;34m'discrimination_relab_test_'\u001B[0m\u001B[0;34m+\u001B[0m\u001B[0mstr\u001B[0m\u001B[0;34m(\u001B[0m\u001B[0mleaf_limit\u001B[0m\u001B[0;34m)\u001B[0m\u001B[0;34m]\u001B[0m \u001B[0;34m=\u001B[0m \u001B[0mround_down\u001B[0m\u001B[0;34m(\u001B[0m\u001B[0mrelabeling_sklearn\u001B[0m\u001B[0;34m.\u001B[0m\u001B[0mdiscrimination\u001B[0m\u001B[0;34m(\u001B[0m\u001B[0my_test\u001B[0m\u001B[0;34m,\u001B[0m \u001B[0my_pred_test_relab\u001B[0m\u001B[0;34m,\u001B[0m \u001B[0msensitive_test\u001B[0m\u001B[0;34m)\u001B[0m\u001B[0;34m)\u001B[0m\u001B[0;34m\u001B[0m\u001B[0;34m\u001B[0m\u001B[0m\n\u001B[0;32m--> 102\u001B[0;31m                 \u001B[0mresult\u001B[0m\u001B[0;34m.\u001B[0m\u001B[0mat\u001B[0m\u001B[0;34m[\u001B[0m\u001B[0mindex\u001B[0m\u001B[0;34m,\u001B[0m \u001B[0;34m'discrimination_relab_test_abs_'\u001B[0m\u001B[0;34m+\u001B[0m\u001B[0mstr\u001B[0m\u001B[0;34m(\u001B[0m\u001B[0mleaf_limit\u001B[0m\u001B[0;34m)\u001B[0m\u001B[0;34m]\u001B[0m \u001B[0;34m=\u001B[0m \u001B[0msum_discri\u001B[0m\u001B[0;34m(\u001B[0m\u001B[0mclf\u001B[0m\u001B[0;34m,\u001B[0m \u001B[0mX_test\u001B[0m\u001B[0;34m,\u001B[0m \u001B[0my_pred_test_relab\u001B[0m\u001B[0;34m,\u001B[0m \u001B[0msensitive_test\u001B[0m\u001B[0;34m,\u001B[0m \u001B[0;32mTrue\u001B[0m\u001B[0;34m)\u001B[0m\u001B[0;34m\u001B[0m\u001B[0;34m\u001B[0m\u001B[0m\n\u001B[0m\u001B[1;32m    103\u001B[0m \u001B[0;34m\u001B[0m\u001B[0m\n\u001B[1;32m    104\u001B[0m             \u001B[0;32mfor\u001B[0m \u001B[0mthreshold\u001B[0m \u001B[0;32min\u001B[0m \u001B[0;34m[\u001B[0m\u001B[0;36m0.0\u001B[0m\u001B[0;34m,\u001B[0m \u001B[0;36m0.1\u001B[0m\u001B[0;34m,\u001B[0m \u001B[0;36m0.2\u001B[0m\u001B[0;34m,\u001B[0m \u001B[0;36m0.3\u001B[0m\u001B[0;34m]\u001B[0m\u001B[0;34m:\u001B[0m\u001B[0;34m\u001B[0m\u001B[0;34m\u001B[0m\u001B[0m\n",
      "\u001B[0;32m/tmp/ipykernel_5766/732776169.py\u001B[0m in \u001B[0;36msum_discri\u001B[0;34m(clf, X, y, sensitive, do_abs)\u001B[0m\n\u001B[1;32m     15\u001B[0m \u001B[0;34m\u001B[0m\u001B[0m\n\u001B[1;32m     16\u001B[0m     \u001B[0mdiscrimination\u001B[0m \u001B[0;34m=\u001B[0m \u001B[0;34m[\u001B[0m\u001B[0;32mNone\u001B[0m\u001B[0;34m]\u001B[0m \u001B[0;34m*\u001B[0m \u001B[0mlen\u001B[0m\u001B[0;34m(\u001B[0m\u001B[0mclf\u001B[0m\u001B[0;34m.\u001B[0m\u001B[0mtree_\u001B[0m\u001B[0;34m.\u001B[0m\u001B[0mvalue\u001B[0m\u001B[0;34m)\u001B[0m\u001B[0;34m\u001B[0m\u001B[0;34m\u001B[0m\u001B[0m\n\u001B[0;32m---> 17\u001B[0;31m     \u001B[0mleafs_discimination\u001B[0m\u001B[0;34m(\u001B[0m\u001B[0mclf\u001B[0m\u001B[0;34m.\u001B[0m\u001B[0mtree_\u001B[0m\u001B[0;34m,\u001B[0m \u001B[0mX\u001B[0m\u001B[0;34m,\u001B[0m \u001B[0my\u001B[0m\u001B[0;34m,\u001B[0m \u001B[0msensitive\u001B[0m\u001B[0;34m,\u001B[0m \u001B[0mcnt\u001B[0m\u001B[0;34m[\u001B[0m\u001B[0;36m0\u001B[0m\u001B[0;34m]\u001B[0m\u001B[0;34m,\u001B[0m \u001B[0mcnt\u001B[0m\u001B[0;34m[\u001B[0m\u001B[0;36m1\u001B[0m\u001B[0;34m]\u001B[0m\u001B[0;34m,\u001B[0m \u001B[0mdiscrimination\u001B[0m\u001B[0;34m,\u001B[0m \u001B[0mlen\u001B[0m\u001B[0;34m(\u001B[0m\u001B[0my\u001B[0m\u001B[0;34m)\u001B[0m\u001B[0;34m,\u001B[0m \u001B[0;36m0\u001B[0m\u001B[0;34m)\u001B[0m\u001B[0;34m\u001B[0m\u001B[0;34m\u001B[0m\u001B[0m\n\u001B[0m\u001B[1;32m     18\u001B[0m \u001B[0;34m\u001B[0m\u001B[0m\n\u001B[1;32m     19\u001B[0m     \u001B[0ms\u001B[0m\u001B[0;34m=\u001B[0m\u001B[0;36m0\u001B[0m\u001B[0;34m\u001B[0m\u001B[0;34m\u001B[0m\u001B[0m\n",
      "\u001B[0;32m/tmp/ipykernel_5766/732776169.py\u001B[0m in \u001B[0;36mleafs_discimination\u001B[0;34m(tree, x, y, sensitive, n_zero, n_one, discriminations, length, node_id, path)\u001B[0m\n\u001B[1;32m      4\u001B[0m     \u001B[0;32mif\u001B[0m \u001B[0mfeature\u001B[0m \u001B[0;34m>=\u001B[0m \u001B[0;36m0\u001B[0m\u001B[0;34m:\u001B[0m\u001B[0;34m\u001B[0m\u001B[0;34m\u001B[0m\u001B[0m\n\u001B[1;32m      5\u001B[0m         \u001B[0mtmp\u001B[0m \u001B[0;34m=\u001B[0m \u001B[0mpath\u001B[0m \u001B[0;34m+\u001B[0m \u001B[0;34m(\u001B[0m\u001B[0;34m(\u001B[0m\u001B[0mfeature\u001B[0m\u001B[0;34m,\u001B[0m \u001B[0;34m'left'\u001B[0m\u001B[0;34m,\u001B[0m \u001B[0mnode_id\u001B[0m\u001B[0;34m)\u001B[0m\u001B[0;34m,\u001B[0m\u001B[0;34m)\u001B[0m\u001B[0;34m\u001B[0m\u001B[0;34m\u001B[0m\u001B[0m\n\u001B[0;32m----> 6\u001B[0;31m         \u001B[0mleafs_discimination\u001B[0m\u001B[0;34m(\u001B[0m\u001B[0mtree\u001B[0m\u001B[0;34m,\u001B[0m \u001B[0mx\u001B[0m\u001B[0;34m,\u001B[0m \u001B[0my\u001B[0m\u001B[0;34m,\u001B[0m \u001B[0msensitive\u001B[0m\u001B[0;34m,\u001B[0m \u001B[0mn_zero\u001B[0m\u001B[0;34m,\u001B[0m \u001B[0mn_one\u001B[0m\u001B[0;34m,\u001B[0m \u001B[0mdiscriminations\u001B[0m\u001B[0;34m,\u001B[0m \u001B[0mlength\u001B[0m\u001B[0;34m,\u001B[0m \u001B[0mtree\u001B[0m\u001B[0;34m.\u001B[0m\u001B[0mchildren_left\u001B[0m\u001B[0;34m[\u001B[0m\u001B[0mnode_id\u001B[0m\u001B[0;34m]\u001B[0m\u001B[0;34m,\u001B[0m \u001B[0mtmp\u001B[0m\u001B[0;34m)\u001B[0m\u001B[0;34m\u001B[0m\u001B[0;34m\u001B[0m\u001B[0m\n\u001B[0m\u001B[1;32m      7\u001B[0m         \u001B[0mtmp\u001B[0m \u001B[0;34m=\u001B[0m \u001B[0mpath\u001B[0m \u001B[0;34m+\u001B[0m \u001B[0;34m(\u001B[0m\u001B[0;34m(\u001B[0m\u001B[0mfeature\u001B[0m\u001B[0;34m,\u001B[0m \u001B[0;34m'right'\u001B[0m\u001B[0;34m,\u001B[0m \u001B[0mnode_id\u001B[0m\u001B[0;34m)\u001B[0m\u001B[0;34m,\u001B[0m\u001B[0;34m)\u001B[0m\u001B[0;34m\u001B[0m\u001B[0;34m\u001B[0m\u001B[0m\n\u001B[1;32m      8\u001B[0m         \u001B[0mleafs_discimination\u001B[0m\u001B[0;34m(\u001B[0m\u001B[0mtree\u001B[0m\u001B[0;34m,\u001B[0m \u001B[0mx\u001B[0m\u001B[0;34m,\u001B[0m \u001B[0my\u001B[0m\u001B[0;34m,\u001B[0m \u001B[0msensitive\u001B[0m\u001B[0;34m,\u001B[0m \u001B[0mn_zero\u001B[0m\u001B[0;34m,\u001B[0m \u001B[0mn_one\u001B[0m\u001B[0;34m,\u001B[0m \u001B[0mdiscriminations\u001B[0m\u001B[0;34m,\u001B[0m \u001B[0mlength\u001B[0m\u001B[0;34m,\u001B[0m \u001B[0mtree\u001B[0m\u001B[0;34m.\u001B[0m\u001B[0mchildren_right\u001B[0m\u001B[0;34m[\u001B[0m\u001B[0mnode_id\u001B[0m\u001B[0;34m]\u001B[0m\u001B[0;34m,\u001B[0m \u001B[0mtmp\u001B[0m\u001B[0;34m)\u001B[0m\u001B[0;34m\u001B[0m\u001B[0;34m\u001B[0m\u001B[0m\n",
      "\u001B[0;32m/tmp/ipykernel_5766/732776169.py\u001B[0m in \u001B[0;36mleafs_discimination\u001B[0;34m(tree, x, y, sensitive, n_zero, n_one, discriminations, length, node_id, path)\u001B[0m\n\u001B[1;32m      4\u001B[0m     \u001B[0;32mif\u001B[0m \u001B[0mfeature\u001B[0m \u001B[0;34m>=\u001B[0m \u001B[0;36m0\u001B[0m\u001B[0;34m:\u001B[0m\u001B[0;34m\u001B[0m\u001B[0;34m\u001B[0m\u001B[0m\n\u001B[1;32m      5\u001B[0m         \u001B[0mtmp\u001B[0m \u001B[0;34m=\u001B[0m \u001B[0mpath\u001B[0m \u001B[0;34m+\u001B[0m \u001B[0;34m(\u001B[0m\u001B[0;34m(\u001B[0m\u001B[0mfeature\u001B[0m\u001B[0;34m,\u001B[0m \u001B[0;34m'left'\u001B[0m\u001B[0;34m,\u001B[0m \u001B[0mnode_id\u001B[0m\u001B[0;34m)\u001B[0m\u001B[0;34m,\u001B[0m\u001B[0;34m)\u001B[0m\u001B[0;34m\u001B[0m\u001B[0;34m\u001B[0m\u001B[0m\n\u001B[0;32m----> 6\u001B[0;31m         \u001B[0mleafs_discimination\u001B[0m\u001B[0;34m(\u001B[0m\u001B[0mtree\u001B[0m\u001B[0;34m,\u001B[0m \u001B[0mx\u001B[0m\u001B[0;34m,\u001B[0m \u001B[0my\u001B[0m\u001B[0;34m,\u001B[0m \u001B[0msensitive\u001B[0m\u001B[0;34m,\u001B[0m \u001B[0mn_zero\u001B[0m\u001B[0;34m,\u001B[0m \u001B[0mn_one\u001B[0m\u001B[0;34m,\u001B[0m \u001B[0mdiscriminations\u001B[0m\u001B[0;34m,\u001B[0m \u001B[0mlength\u001B[0m\u001B[0;34m,\u001B[0m \u001B[0mtree\u001B[0m\u001B[0;34m.\u001B[0m\u001B[0mchildren_left\u001B[0m\u001B[0;34m[\u001B[0m\u001B[0mnode_id\u001B[0m\u001B[0;34m]\u001B[0m\u001B[0;34m,\u001B[0m \u001B[0mtmp\u001B[0m\u001B[0;34m)\u001B[0m\u001B[0;34m\u001B[0m\u001B[0;34m\u001B[0m\u001B[0m\n\u001B[0m\u001B[1;32m      7\u001B[0m         \u001B[0mtmp\u001B[0m \u001B[0;34m=\u001B[0m \u001B[0mpath\u001B[0m \u001B[0;34m+\u001B[0m \u001B[0;34m(\u001B[0m\u001B[0;34m(\u001B[0m\u001B[0mfeature\u001B[0m\u001B[0;34m,\u001B[0m \u001B[0;34m'right'\u001B[0m\u001B[0;34m,\u001B[0m \u001B[0mnode_id\u001B[0m\u001B[0;34m)\u001B[0m\u001B[0;34m,\u001B[0m\u001B[0;34m)\u001B[0m\u001B[0;34m\u001B[0m\u001B[0;34m\u001B[0m\u001B[0m\n\u001B[1;32m      8\u001B[0m         \u001B[0mleafs_discimination\u001B[0m\u001B[0;34m(\u001B[0m\u001B[0mtree\u001B[0m\u001B[0;34m,\u001B[0m \u001B[0mx\u001B[0m\u001B[0;34m,\u001B[0m \u001B[0my\u001B[0m\u001B[0;34m,\u001B[0m \u001B[0msensitive\u001B[0m\u001B[0;34m,\u001B[0m \u001B[0mn_zero\u001B[0m\u001B[0;34m,\u001B[0m \u001B[0mn_one\u001B[0m\u001B[0;34m,\u001B[0m \u001B[0mdiscriminations\u001B[0m\u001B[0;34m,\u001B[0m \u001B[0mlength\u001B[0m\u001B[0;34m,\u001B[0m \u001B[0mtree\u001B[0m\u001B[0;34m.\u001B[0m\u001B[0mchildren_right\u001B[0m\u001B[0;34m[\u001B[0m\u001B[0mnode_id\u001B[0m\u001B[0;34m]\u001B[0m\u001B[0;34m,\u001B[0m \u001B[0mtmp\u001B[0m\u001B[0;34m)\u001B[0m\u001B[0;34m\u001B[0m\u001B[0;34m\u001B[0m\u001B[0m\n",
      "\u001B[0;32m/tmp/ipykernel_5766/732776169.py\u001B[0m in \u001B[0;36mleafs_discimination\u001B[0;34m(tree, x, y, sensitive, n_zero, n_one, discriminations, length, node_id, path)\u001B[0m\n\u001B[1;32m      6\u001B[0m         \u001B[0mleafs_discimination\u001B[0m\u001B[0;34m(\u001B[0m\u001B[0mtree\u001B[0m\u001B[0;34m,\u001B[0m \u001B[0mx\u001B[0m\u001B[0;34m,\u001B[0m \u001B[0my\u001B[0m\u001B[0;34m,\u001B[0m \u001B[0msensitive\u001B[0m\u001B[0;34m,\u001B[0m \u001B[0mn_zero\u001B[0m\u001B[0;34m,\u001B[0m \u001B[0mn_one\u001B[0m\u001B[0;34m,\u001B[0m \u001B[0mdiscriminations\u001B[0m\u001B[0;34m,\u001B[0m \u001B[0mlength\u001B[0m\u001B[0;34m,\u001B[0m \u001B[0mtree\u001B[0m\u001B[0;34m.\u001B[0m\u001B[0mchildren_left\u001B[0m\u001B[0;34m[\u001B[0m\u001B[0mnode_id\u001B[0m\u001B[0;34m]\u001B[0m\u001B[0;34m,\u001B[0m \u001B[0mtmp\u001B[0m\u001B[0;34m)\u001B[0m\u001B[0;34m\u001B[0m\u001B[0;34m\u001B[0m\u001B[0m\n\u001B[1;32m      7\u001B[0m         \u001B[0mtmp\u001B[0m \u001B[0;34m=\u001B[0m \u001B[0mpath\u001B[0m \u001B[0;34m+\u001B[0m \u001B[0;34m(\u001B[0m\u001B[0;34m(\u001B[0m\u001B[0mfeature\u001B[0m\u001B[0;34m,\u001B[0m \u001B[0;34m'right'\u001B[0m\u001B[0;34m,\u001B[0m \u001B[0mnode_id\u001B[0m\u001B[0;34m)\u001B[0m\u001B[0;34m,\u001B[0m\u001B[0;34m)\u001B[0m\u001B[0;34m\u001B[0m\u001B[0;34m\u001B[0m\u001B[0m\n\u001B[0;32m----> 8\u001B[0;31m         \u001B[0mleafs_discimination\u001B[0m\u001B[0;34m(\u001B[0m\u001B[0mtree\u001B[0m\u001B[0;34m,\u001B[0m \u001B[0mx\u001B[0m\u001B[0;34m,\u001B[0m \u001B[0my\u001B[0m\u001B[0;34m,\u001B[0m \u001B[0msensitive\u001B[0m\u001B[0;34m,\u001B[0m \u001B[0mn_zero\u001B[0m\u001B[0;34m,\u001B[0m \u001B[0mn_one\u001B[0m\u001B[0;34m,\u001B[0m \u001B[0mdiscriminations\u001B[0m\u001B[0;34m,\u001B[0m \u001B[0mlength\u001B[0m\u001B[0;34m,\u001B[0m \u001B[0mtree\u001B[0m\u001B[0;34m.\u001B[0m\u001B[0mchildren_right\u001B[0m\u001B[0;34m[\u001B[0m\u001B[0mnode_id\u001B[0m\u001B[0;34m]\u001B[0m\u001B[0;34m,\u001B[0m \u001B[0mtmp\u001B[0m\u001B[0;34m)\u001B[0m\u001B[0;34m\u001B[0m\u001B[0;34m\u001B[0m\u001B[0m\n\u001B[0m\u001B[1;32m      9\u001B[0m     \u001B[0;32melse\u001B[0m\u001B[0;34m:\u001B[0m\u001B[0;34m\u001B[0m\u001B[0;34m\u001B[0m\u001B[0m\n\u001B[1;32m     10\u001B[0m         \u001B[0mtransactions\u001B[0m \u001B[0;34m=\u001B[0m \u001B[0mrelabeling_sklearn\u001B[0m\u001B[0;34m.\u001B[0m\u001B[0mget_transactions\u001B[0m\u001B[0;34m(\u001B[0m\u001B[0mpath\u001B[0m\u001B[0;34m,\u001B[0m \u001B[0mx\u001B[0m\u001B[0;34m)\u001B[0m\u001B[0;34m\u001B[0m\u001B[0;34m\u001B[0m\u001B[0m\n",
      "\u001B[0;32m/tmp/ipykernel_5766/732776169.py\u001B[0m in \u001B[0;36mleafs_discimination\u001B[0;34m(tree, x, y, sensitive, n_zero, n_one, discriminations, length, node_id, path)\u001B[0m\n\u001B[1;32m      4\u001B[0m     \u001B[0;32mif\u001B[0m \u001B[0mfeature\u001B[0m \u001B[0;34m>=\u001B[0m \u001B[0;36m0\u001B[0m\u001B[0;34m:\u001B[0m\u001B[0;34m\u001B[0m\u001B[0;34m\u001B[0m\u001B[0m\n\u001B[1;32m      5\u001B[0m         \u001B[0mtmp\u001B[0m \u001B[0;34m=\u001B[0m \u001B[0mpath\u001B[0m \u001B[0;34m+\u001B[0m \u001B[0;34m(\u001B[0m\u001B[0;34m(\u001B[0m\u001B[0mfeature\u001B[0m\u001B[0;34m,\u001B[0m \u001B[0;34m'left'\u001B[0m\u001B[0;34m,\u001B[0m \u001B[0mnode_id\u001B[0m\u001B[0;34m)\u001B[0m\u001B[0;34m,\u001B[0m\u001B[0;34m)\u001B[0m\u001B[0;34m\u001B[0m\u001B[0;34m\u001B[0m\u001B[0m\n\u001B[0;32m----> 6\u001B[0;31m         \u001B[0mleafs_discimination\u001B[0m\u001B[0;34m(\u001B[0m\u001B[0mtree\u001B[0m\u001B[0;34m,\u001B[0m \u001B[0mx\u001B[0m\u001B[0;34m,\u001B[0m \u001B[0my\u001B[0m\u001B[0;34m,\u001B[0m \u001B[0msensitive\u001B[0m\u001B[0;34m,\u001B[0m \u001B[0mn_zero\u001B[0m\u001B[0;34m,\u001B[0m \u001B[0mn_one\u001B[0m\u001B[0;34m,\u001B[0m \u001B[0mdiscriminations\u001B[0m\u001B[0;34m,\u001B[0m \u001B[0mlength\u001B[0m\u001B[0;34m,\u001B[0m \u001B[0mtree\u001B[0m\u001B[0;34m.\u001B[0m\u001B[0mchildren_left\u001B[0m\u001B[0;34m[\u001B[0m\u001B[0mnode_id\u001B[0m\u001B[0;34m]\u001B[0m\u001B[0;34m,\u001B[0m \u001B[0mtmp\u001B[0m\u001B[0;34m)\u001B[0m\u001B[0;34m\u001B[0m\u001B[0;34m\u001B[0m\u001B[0m\n\u001B[0m\u001B[1;32m      7\u001B[0m         \u001B[0mtmp\u001B[0m \u001B[0;34m=\u001B[0m \u001B[0mpath\u001B[0m \u001B[0;34m+\u001B[0m \u001B[0;34m(\u001B[0m\u001B[0;34m(\u001B[0m\u001B[0mfeature\u001B[0m\u001B[0;34m,\u001B[0m \u001B[0;34m'right'\u001B[0m\u001B[0;34m,\u001B[0m \u001B[0mnode_id\u001B[0m\u001B[0;34m)\u001B[0m\u001B[0;34m,\u001B[0m\u001B[0;34m)\u001B[0m\u001B[0;34m\u001B[0m\u001B[0;34m\u001B[0m\u001B[0m\n\u001B[1;32m      8\u001B[0m         \u001B[0mleafs_discimination\u001B[0m\u001B[0;34m(\u001B[0m\u001B[0mtree\u001B[0m\u001B[0;34m,\u001B[0m \u001B[0mx\u001B[0m\u001B[0;34m,\u001B[0m \u001B[0my\u001B[0m\u001B[0;34m,\u001B[0m \u001B[0msensitive\u001B[0m\u001B[0;34m,\u001B[0m \u001B[0mn_zero\u001B[0m\u001B[0;34m,\u001B[0m \u001B[0mn_one\u001B[0m\u001B[0;34m,\u001B[0m \u001B[0mdiscriminations\u001B[0m\u001B[0;34m,\u001B[0m \u001B[0mlength\u001B[0m\u001B[0;34m,\u001B[0m \u001B[0mtree\u001B[0m\u001B[0;34m.\u001B[0m\u001B[0mchildren_right\u001B[0m\u001B[0;34m[\u001B[0m\u001B[0mnode_id\u001B[0m\u001B[0;34m]\u001B[0m\u001B[0;34m,\u001B[0m \u001B[0mtmp\u001B[0m\u001B[0;34m)\u001B[0m\u001B[0;34m\u001B[0m\u001B[0;34m\u001B[0m\u001B[0m\n",
      "\u001B[0;32m/tmp/ipykernel_5766/732776169.py\u001B[0m in \u001B[0;36mleafs_discimination\u001B[0;34m(tree, x, y, sensitive, n_zero, n_one, discriminations, length, node_id, path)\u001B[0m\n\u001B[1;32m      6\u001B[0m         \u001B[0mleafs_discimination\u001B[0m\u001B[0;34m(\u001B[0m\u001B[0mtree\u001B[0m\u001B[0;34m,\u001B[0m \u001B[0mx\u001B[0m\u001B[0;34m,\u001B[0m \u001B[0my\u001B[0m\u001B[0;34m,\u001B[0m \u001B[0msensitive\u001B[0m\u001B[0;34m,\u001B[0m \u001B[0mn_zero\u001B[0m\u001B[0;34m,\u001B[0m \u001B[0mn_one\u001B[0m\u001B[0;34m,\u001B[0m \u001B[0mdiscriminations\u001B[0m\u001B[0;34m,\u001B[0m \u001B[0mlength\u001B[0m\u001B[0;34m,\u001B[0m \u001B[0mtree\u001B[0m\u001B[0;34m.\u001B[0m\u001B[0mchildren_left\u001B[0m\u001B[0;34m[\u001B[0m\u001B[0mnode_id\u001B[0m\u001B[0;34m]\u001B[0m\u001B[0;34m,\u001B[0m \u001B[0mtmp\u001B[0m\u001B[0;34m)\u001B[0m\u001B[0;34m\u001B[0m\u001B[0;34m\u001B[0m\u001B[0m\n\u001B[1;32m      7\u001B[0m         \u001B[0mtmp\u001B[0m \u001B[0;34m=\u001B[0m \u001B[0mpath\u001B[0m \u001B[0;34m+\u001B[0m \u001B[0;34m(\u001B[0m\u001B[0;34m(\u001B[0m\u001B[0mfeature\u001B[0m\u001B[0;34m,\u001B[0m \u001B[0;34m'right'\u001B[0m\u001B[0;34m,\u001B[0m \u001B[0mnode_id\u001B[0m\u001B[0;34m)\u001B[0m\u001B[0;34m,\u001B[0m\u001B[0;34m)\u001B[0m\u001B[0;34m\u001B[0m\u001B[0;34m\u001B[0m\u001B[0m\n\u001B[0;32m----> 8\u001B[0;31m         \u001B[0mleafs_discimination\u001B[0m\u001B[0;34m(\u001B[0m\u001B[0mtree\u001B[0m\u001B[0;34m,\u001B[0m \u001B[0mx\u001B[0m\u001B[0;34m,\u001B[0m \u001B[0my\u001B[0m\u001B[0;34m,\u001B[0m \u001B[0msensitive\u001B[0m\u001B[0;34m,\u001B[0m \u001B[0mn_zero\u001B[0m\u001B[0;34m,\u001B[0m \u001B[0mn_one\u001B[0m\u001B[0;34m,\u001B[0m \u001B[0mdiscriminations\u001B[0m\u001B[0;34m,\u001B[0m \u001B[0mlength\u001B[0m\u001B[0;34m,\u001B[0m \u001B[0mtree\u001B[0m\u001B[0;34m.\u001B[0m\u001B[0mchildren_right\u001B[0m\u001B[0;34m[\u001B[0m\u001B[0mnode_id\u001B[0m\u001B[0;34m]\u001B[0m\u001B[0;34m,\u001B[0m \u001B[0mtmp\u001B[0m\u001B[0;34m)\u001B[0m\u001B[0;34m\u001B[0m\u001B[0;34m\u001B[0m\u001B[0m\n\u001B[0m\u001B[1;32m      9\u001B[0m     \u001B[0;32melse\u001B[0m\u001B[0;34m:\u001B[0m\u001B[0;34m\u001B[0m\u001B[0;34m\u001B[0m\u001B[0m\n\u001B[1;32m     10\u001B[0m         \u001B[0mtransactions\u001B[0m \u001B[0;34m=\u001B[0m \u001B[0mrelabeling_sklearn\u001B[0m\u001B[0;34m.\u001B[0m\u001B[0mget_transactions\u001B[0m\u001B[0;34m(\u001B[0m\u001B[0mpath\u001B[0m\u001B[0;34m,\u001B[0m \u001B[0mx\u001B[0m\u001B[0;34m)\u001B[0m\u001B[0;34m\u001B[0m\u001B[0;34m\u001B[0m\u001B[0m\n",
      "\u001B[0;32m/tmp/ipykernel_5766/732776169.py\u001B[0m in \u001B[0;36mleafs_discimination\u001B[0;34m(tree, x, y, sensitive, n_zero, n_one, discriminations, length, node_id, path)\u001B[0m\n\u001B[1;32m      8\u001B[0m         \u001B[0mleafs_discimination\u001B[0m\u001B[0;34m(\u001B[0m\u001B[0mtree\u001B[0m\u001B[0;34m,\u001B[0m \u001B[0mx\u001B[0m\u001B[0;34m,\u001B[0m \u001B[0my\u001B[0m\u001B[0;34m,\u001B[0m \u001B[0msensitive\u001B[0m\u001B[0;34m,\u001B[0m \u001B[0mn_zero\u001B[0m\u001B[0;34m,\u001B[0m \u001B[0mn_one\u001B[0m\u001B[0;34m,\u001B[0m \u001B[0mdiscriminations\u001B[0m\u001B[0;34m,\u001B[0m \u001B[0mlength\u001B[0m\u001B[0;34m,\u001B[0m \u001B[0mtree\u001B[0m\u001B[0;34m.\u001B[0m\u001B[0mchildren_right\u001B[0m\u001B[0;34m[\u001B[0m\u001B[0mnode_id\u001B[0m\u001B[0;34m]\u001B[0m\u001B[0;34m,\u001B[0m \u001B[0mtmp\u001B[0m\u001B[0;34m)\u001B[0m\u001B[0;34m\u001B[0m\u001B[0;34m\u001B[0m\u001B[0m\n\u001B[1;32m      9\u001B[0m     \u001B[0;32melse\u001B[0m\u001B[0;34m:\u001B[0m\u001B[0;34m\u001B[0m\u001B[0;34m\u001B[0m\u001B[0m\n\u001B[0;32m---> 10\u001B[0;31m         \u001B[0mtransactions\u001B[0m \u001B[0;34m=\u001B[0m \u001B[0mrelabeling_sklearn\u001B[0m\u001B[0;34m.\u001B[0m\u001B[0mget_transactions\u001B[0m\u001B[0;34m(\u001B[0m\u001B[0mpath\u001B[0m\u001B[0;34m,\u001B[0m \u001B[0mx\u001B[0m\u001B[0;34m)\u001B[0m\u001B[0;34m\u001B[0m\u001B[0;34m\u001B[0m\u001B[0m\n\u001B[0m\u001B[1;32m     11\u001B[0m         \u001B[0mdiscriminations\u001B[0m\u001B[0;34m[\u001B[0m\u001B[0mnode_id\u001B[0m\u001B[0;34m]\u001B[0m \u001B[0;34m=\u001B[0m \u001B[0mutils\u001B[0m\u001B[0;34m.\u001B[0m\u001B[0mdiscr_add\u001B[0m\u001B[0;34m(\u001B[0m\u001B[0mtransactions\u001B[0m\u001B[0;34m,\u001B[0m \u001B[0my\u001B[0m\u001B[0;34m,\u001B[0m \u001B[0msensitive\u001B[0m\u001B[0;34m)\u001B[0m\u001B[0;34m\u001B[0m\u001B[0;34m\u001B[0m\u001B[0m\n\u001B[1;32m     12\u001B[0m \u001B[0;34m\u001B[0m\u001B[0m\n",
      "\u001B[0;32m~/Bureau/Lien vers MEGA/MEGAsync/Master's thesis/Masters-thesis_How-to-find-Decision-Trees-that-are-Optimal/MyCode/relabeling_sklearn.py\u001B[0m in \u001B[0;36mget_transactions\u001B[0;34m(path, x)\u001B[0m\n\u001B[1;32m    167\u001B[0m             \u001B[0mfiltered\u001B[0m \u001B[0;34m=\u001B[0m \u001B[0mfiltered\u001B[0m\u001B[0;34m.\u001B[0m\u001B[0mloc\u001B[0m\u001B[0;34m[\u001B[0m\u001B[0mfiltered\u001B[0m\u001B[0;34m[\u001B[0m\u001B[0mcol\u001B[0m\u001B[0;34m]\u001B[0m \u001B[0;34m==\u001B[0m \u001B[0;36m0\u001B[0m\u001B[0;34m]\u001B[0m\u001B[0;34m\u001B[0m\u001B[0;34m\u001B[0m\u001B[0m\n\u001B[1;32m    168\u001B[0m         \u001B[0;32melse\u001B[0m\u001B[0;34m:\u001B[0m\u001B[0;34m\u001B[0m\u001B[0;34m\u001B[0m\u001B[0m\n\u001B[0;32m--> 169\u001B[0;31m             \u001B[0mfiltered\u001B[0m \u001B[0;34m=\u001B[0m \u001B[0mfiltered\u001B[0m\u001B[0;34m.\u001B[0m\u001B[0mloc\u001B[0m\u001B[0;34m[\u001B[0m\u001B[0mfiltered\u001B[0m\u001B[0;34m[\u001B[0m\u001B[0mcol\u001B[0m\u001B[0;34m]\u001B[0m \u001B[0;34m==\u001B[0m \u001B[0;36m1\u001B[0m\u001B[0;34m]\u001B[0m\u001B[0;34m\u001B[0m\u001B[0;34m\u001B[0m\u001B[0m\n\u001B[0m\u001B[1;32m    170\u001B[0m     \u001B[0;32mreturn\u001B[0m \u001B[0mlist\u001B[0m\u001B[0;34m(\u001B[0m\u001B[0mfiltered\u001B[0m\u001B[0;34m.\u001B[0m\u001B[0mindex\u001B[0m\u001B[0;34m)\u001B[0m\u001B[0;34m\u001B[0m\u001B[0;34m\u001B[0m\u001B[0m\n\u001B[1;32m    171\u001B[0m \u001B[0;34m\u001B[0m\u001B[0m\n",
      "\u001B[0;32m~/python-virtual-environments/vpython3.8/lib/python3.8/site-packages/pandas/core/ops/common.py\u001B[0m in \u001B[0;36mnew_method\u001B[0;34m(self, other)\u001B[0m\n\u001B[1;32m     67\u001B[0m         \u001B[0mother\u001B[0m \u001B[0;34m=\u001B[0m \u001B[0mitem_from_zerodim\u001B[0m\u001B[0;34m(\u001B[0m\u001B[0mother\u001B[0m\u001B[0;34m)\u001B[0m\u001B[0;34m\u001B[0m\u001B[0;34m\u001B[0m\u001B[0m\n\u001B[1;32m     68\u001B[0m \u001B[0;34m\u001B[0m\u001B[0m\n\u001B[0;32m---> 69\u001B[0;31m         \u001B[0;32mreturn\u001B[0m \u001B[0mmethod\u001B[0m\u001B[0;34m(\u001B[0m\u001B[0mself\u001B[0m\u001B[0;34m,\u001B[0m \u001B[0mother\u001B[0m\u001B[0;34m)\u001B[0m\u001B[0;34m\u001B[0m\u001B[0;34m\u001B[0m\u001B[0m\n\u001B[0m\u001B[1;32m     70\u001B[0m \u001B[0;34m\u001B[0m\u001B[0m\n\u001B[1;32m     71\u001B[0m     \u001B[0;32mreturn\u001B[0m \u001B[0mnew_method\u001B[0m\u001B[0;34m\u001B[0m\u001B[0;34m\u001B[0m\u001B[0m\n",
      "\u001B[0;32m~/python-virtual-environments/vpython3.8/lib/python3.8/site-packages/pandas/core/arraylike.py\u001B[0m in \u001B[0;36m__eq__\u001B[0;34m(self, other)\u001B[0m\n\u001B[1;32m     30\u001B[0m     \u001B[0;34m@\u001B[0m\u001B[0munpack_zerodim_and_defer\u001B[0m\u001B[0;34m(\u001B[0m\u001B[0;34m\"__eq__\"\u001B[0m\u001B[0;34m)\u001B[0m\u001B[0;34m\u001B[0m\u001B[0;34m\u001B[0m\u001B[0m\n\u001B[1;32m     31\u001B[0m     \u001B[0;32mdef\u001B[0m \u001B[0m__eq__\u001B[0m\u001B[0;34m(\u001B[0m\u001B[0mself\u001B[0m\u001B[0;34m,\u001B[0m \u001B[0mother\u001B[0m\u001B[0;34m)\u001B[0m\u001B[0;34m:\u001B[0m\u001B[0;34m\u001B[0m\u001B[0;34m\u001B[0m\u001B[0m\n\u001B[0;32m---> 32\u001B[0;31m         \u001B[0;32mreturn\u001B[0m \u001B[0mself\u001B[0m\u001B[0;34m.\u001B[0m\u001B[0m_cmp_method\u001B[0m\u001B[0;34m(\u001B[0m\u001B[0mother\u001B[0m\u001B[0;34m,\u001B[0m \u001B[0moperator\u001B[0m\u001B[0;34m.\u001B[0m\u001B[0meq\u001B[0m\u001B[0;34m)\u001B[0m\u001B[0;34m\u001B[0m\u001B[0;34m\u001B[0m\u001B[0m\n\u001B[0m\u001B[1;32m     33\u001B[0m \u001B[0;34m\u001B[0m\u001B[0m\n\u001B[1;32m     34\u001B[0m     \u001B[0;34m@\u001B[0m\u001B[0munpack_zerodim_and_defer\u001B[0m\u001B[0;34m(\u001B[0m\u001B[0;34m\"__ne__\"\u001B[0m\u001B[0;34m)\u001B[0m\u001B[0;34m\u001B[0m\u001B[0;34m\u001B[0m\u001B[0m\n",
      "\u001B[0;32m~/python-virtual-environments/vpython3.8/lib/python3.8/site-packages/pandas/core/series.py\u001B[0m in \u001B[0;36m_cmp_method\u001B[0;34m(self, other, op)\u001B[0m\n\u001B[1;32m   5502\u001B[0m             \u001B[0mres_values\u001B[0m \u001B[0;34m=\u001B[0m \u001B[0mops\u001B[0m\u001B[0;34m.\u001B[0m\u001B[0mcomparison_op\u001B[0m\u001B[0;34m(\u001B[0m\u001B[0mlvalues\u001B[0m\u001B[0;34m,\u001B[0m \u001B[0mrvalues\u001B[0m\u001B[0;34m,\u001B[0m \u001B[0mop\u001B[0m\u001B[0;34m)\u001B[0m\u001B[0;34m\u001B[0m\u001B[0;34m\u001B[0m\u001B[0m\n\u001B[1;32m   5503\u001B[0m \u001B[0;34m\u001B[0m\u001B[0m\n\u001B[0;32m-> 5504\u001B[0;31m         \u001B[0;32mreturn\u001B[0m \u001B[0mself\u001B[0m\u001B[0;34m.\u001B[0m\u001B[0m_construct_result\u001B[0m\u001B[0;34m(\u001B[0m\u001B[0mres_values\u001B[0m\u001B[0;34m,\u001B[0m \u001B[0mname\u001B[0m\u001B[0;34m=\u001B[0m\u001B[0mres_name\u001B[0m\u001B[0;34m)\u001B[0m\u001B[0;34m\u001B[0m\u001B[0;34m\u001B[0m\u001B[0m\n\u001B[0m\u001B[1;32m   5505\u001B[0m \u001B[0;34m\u001B[0m\u001B[0m\n\u001B[1;32m   5506\u001B[0m     \u001B[0;32mdef\u001B[0m \u001B[0m_logical_method\u001B[0m\u001B[0;34m(\u001B[0m\u001B[0mself\u001B[0m\u001B[0;34m,\u001B[0m \u001B[0mother\u001B[0m\u001B[0;34m,\u001B[0m \u001B[0mop\u001B[0m\u001B[0;34m)\u001B[0m\u001B[0;34m:\u001B[0m\u001B[0;34m\u001B[0m\u001B[0;34m\u001B[0m\u001B[0m\n",
      "\u001B[0;32m~/python-virtual-environments/vpython3.8/lib/python3.8/site-packages/pandas/core/series.py\u001B[0m in \u001B[0;36m_construct_result\u001B[0;34m(self, result, name)\u001B[0m\n\u001B[1;32m   2943\u001B[0m         \u001B[0;31m# We do not pass dtype to ensure that the Series constructor\u001B[0m\u001B[0;34m\u001B[0m\u001B[0;34m\u001B[0m\u001B[0;34m\u001B[0m\u001B[0m\n\u001B[1;32m   2944\u001B[0m         \u001B[0;31m#  does inference in the case where `result` has object-dtype.\u001B[0m\u001B[0;34m\u001B[0m\u001B[0;34m\u001B[0m\u001B[0;34m\u001B[0m\u001B[0m\n\u001B[0;32m-> 2945\u001B[0;31m         \u001B[0mout\u001B[0m \u001B[0;34m=\u001B[0m \u001B[0mself\u001B[0m\u001B[0;34m.\u001B[0m\u001B[0m_constructor\u001B[0m\u001B[0;34m(\u001B[0m\u001B[0mresult\u001B[0m\u001B[0;34m,\u001B[0m \u001B[0mindex\u001B[0m\u001B[0;34m=\u001B[0m\u001B[0mself\u001B[0m\u001B[0;34m.\u001B[0m\u001B[0mindex\u001B[0m\u001B[0;34m)\u001B[0m\u001B[0;34m\u001B[0m\u001B[0;34m\u001B[0m\u001B[0m\n\u001B[0m\u001B[1;32m   2946\u001B[0m         \u001B[0mout\u001B[0m \u001B[0;34m=\u001B[0m \u001B[0mout\u001B[0m\u001B[0;34m.\u001B[0m\u001B[0m__finalize__\u001B[0m\u001B[0;34m(\u001B[0m\u001B[0mself\u001B[0m\u001B[0;34m)\u001B[0m\u001B[0;34m\u001B[0m\u001B[0;34m\u001B[0m\u001B[0m\n\u001B[1;32m   2947\u001B[0m \u001B[0;34m\u001B[0m\u001B[0m\n",
      "\u001B[0;32m~/python-virtual-environments/vpython3.8/lib/python3.8/site-packages/pandas/core/series.py\u001B[0m in \u001B[0;36m__init__\u001B[0;34m(self, data, index, dtype, name, copy, fastpath)\u001B[0m\n\u001B[1;32m    353\u001B[0m             \u001B[0mname\u001B[0m \u001B[0;34m=\u001B[0m \u001B[0mibase\u001B[0m\u001B[0;34m.\u001B[0m\u001B[0mmaybe_extract_name\u001B[0m\u001B[0;34m(\u001B[0m\u001B[0mname\u001B[0m\u001B[0;34m,\u001B[0m \u001B[0mdata\u001B[0m\u001B[0;34m,\u001B[0m \u001B[0mtype\u001B[0m\u001B[0;34m(\u001B[0m\u001B[0mself\u001B[0m\u001B[0;34m)\u001B[0m\u001B[0;34m)\u001B[0m\u001B[0;34m\u001B[0m\u001B[0;34m\u001B[0m\u001B[0m\n\u001B[1;32m    354\u001B[0m \u001B[0;34m\u001B[0m\u001B[0m\n\u001B[0;32m--> 355\u001B[0;31m             \u001B[0;32mif\u001B[0m \u001B[0mis_empty_data\u001B[0m\u001B[0;34m(\u001B[0m\u001B[0mdata\u001B[0m\u001B[0;34m)\u001B[0m \u001B[0;32mand\u001B[0m \u001B[0mdtype\u001B[0m \u001B[0;32mis\u001B[0m \u001B[0;32mNone\u001B[0m\u001B[0;34m:\u001B[0m\u001B[0;34m\u001B[0m\u001B[0;34m\u001B[0m\u001B[0m\n\u001B[0m\u001B[1;32m    356\u001B[0m                 \u001B[0;31m# gh-17261\u001B[0m\u001B[0;34m\u001B[0m\u001B[0;34m\u001B[0m\u001B[0;34m\u001B[0m\u001B[0m\n\u001B[1;32m    357\u001B[0m                 warnings.warn(\n",
      "\u001B[0;31mKeyboardInterrupt\u001B[0m: "
     ]
    }
   ],
   "source": [
    "from tqdm import tqdm\n",
    "import math\n",
    "from sklearn.tree import DecisionTreeClassifier\n",
    "import ast\n",
    "\n",
    "result = pd.DataFrame(columns=[\"k\", \"depth\", \"random_state\", \"accuracy_pred\", \"accuracy_test\",  \"discrimination_train\", \"discrimination_train_pred\", \"discrimination_test\", \"sum_discrimination_additive_train\", \"sum_discrimination_additive_train_pred\", \"sum_discrimination_additive_test_pred\", \"sum_discrimination_additive_train_abs\", \"sum_discrimination_additive_train_pred_abs\", \"sum_discrimination_additive_test_pred_abs\", \"min_supp\", \"clf.tree_\"])\n",
    "\n",
    "for leaf_limit in range (1, 4):\n",
    "    result['accuracy_relab_'+str(leaf_limit)] = np.nan\n",
    "    result['discrimination_relab_'+str(leaf_limit)] = np.nan\n",
    "    result['discrimination_relab_abs_'+str(leaf_limit)] = np.nan\n",
    "    result['accuracy_relab_test_'+str(leaf_limit)] = np.nan\n",
    "    result['discrimination_relab_test_'+str(leaf_limit)] = np.nan\n",
    "    result['discrimination_relab_test_abs_'+str(leaf_limit)] = np.nan\n",
    "\n",
    "for threshold in [0.0, 0.1, 0.2, 0.3]:\n",
    "    result['accuracy_relab_'+str(threshold)] = np.nan\n",
    "    result['discrimination_relab_'+str(threshold)] = np.nan\n",
    "    result['discrimination_relab_abs_'+str(threshold)] = np.nan\n",
    "    result['accuracy_relab_test_'+str(threshold)] = np.nan\n",
    "    result['discrimination_relab_test_'+str(threshold)] = np.nan\n",
    "    result['discrimination_relab_test_abs_'+str(threshold)] = np.nan\n",
    "\n",
    "dl = DL85Classifier()\n",
    "dl.fit(X_train, list(y_train))\n",
    "\n",
    "def round_down(a, exp=11):\n",
    "    dec = 10**exp\n",
    "    return round(a * dec)/float(dec)\n",
    "\n",
    "cnt_error = 0\n",
    "total_iter = 0\n",
    "if True:\n",
    "    min_supp = 2\n",
    "    for random_state in tqdm(range(1, 101, 2)):\n",
    "    #or random_state in range(1, 10, 2):\n",
    "        if random_state in [17, 35, 43, 71, 91]:\n",
    "            continue\n",
    "        X_train, X_test, y_train, y_test, sensitive_train, sensitive_test = utils.train_test_split(random_state, X, y, sensitive)\n",
    "\n",
    "        for depth in [1, 2, 3, 4, 5, 6, 7]:\n",
    "\n",
    "            index = len(result.index)\n",
    "            clf = DecisionTreeClassifier(max_depth=depth, random_state=0)\n",
    "            clf.fit(X_train, list(y_train))\n",
    "\n",
    "            y_pred_train = clf.predict(X_train)\n",
    "            y_pred_test = clf.predict(X_test)\n",
    "\n",
    "            accuracy_train = round_down(accuracy_score(y_train, y_pred_train))\n",
    "            accuracy_test = round_down(accuracy_score(y_test, y_pred_test))\n",
    "\n",
    "            discrimination_train = round_down(utils.discrimination(y_train, sensitive_train))\n",
    "            discrimination_train_pred = round_down(utils.discrimination(y_pred_train, sensitive_train))\n",
    "            discrimination_test = round_down(utils.discrimination(y_pred_test, sensitive_test))\n",
    "\n",
    "            sum_discrimination_additive_train = sum_discri(clf, X_train, y_train, sensitive_train, False)\n",
    "            sum_discrimination_additive_train_abs = sum_discri(clf, X_train, y_train, sensitive_train, True)\n",
    "\n",
    "            sum_discrimination_additive_train_pred = sum_discri(clf, X_train, y_pred_train, sensitive_train, False)\n",
    "            sum_discrimination_additive_train_pred_abs = sum_discri(clf, X_train, y_pred_train, sensitive_train, True)\n",
    "\n",
    "            sum_discrimination_additive_test_pred = sum_discri(clf, X_test, y_pred_test, sensitive_test, False)\n",
    "            sum_discrimination_additive_test_pred_abs = sum_discri(clf, X_test, y_pred_test, sensitive_test, True)\n",
    "\n",
    "            result.at[index, 'k'] = 0\n",
    "            result.at[index, 'depth'] = depth\n",
    "            result.at[index, 'random_state'] = random_state\n",
    "            result.at[index, 'accuracy_pred'] = accuracy_train\n",
    "            result.at[index, 'accuracy_test'] = accuracy_test\n",
    "            result.at[index, 'discrimination_train'] = discrimination_train\n",
    "            result.at[index, 'discrimination_train_pred'] = discrimination_train_pred\n",
    "            result.at[index, 'discrimination_test'] = discrimination_test\n",
    "            result.at[index, 'sum_discrimination_additive_train'] = sum_discrimination_additive_train\n",
    "            result.at[index, 'sum_discrimination_additive_train_pred'] = sum_discrimination_additive_train_pred\n",
    "            result.at[index, 'sum_discrimination_additive_test_pred'] = sum_discrimination_additive_test_pred\n",
    "            result.at[index, 'sum_discrimination_additive_train_abs'] = sum_discrimination_additive_train_abs\n",
    "            result.at[index, 'sum_discrimination_additive_train_pred_abs'] = sum_discrimination_additive_train_pred_abs\n",
    "            result.at[index, 'sum_discrimination_additive_test_pred_abs'] = sum_discrimination_additive_test_pred_abs\n",
    "            result.at[index, 'min_supp'] = min_supp\n",
    "            result.at[index, 'clf.tree_'] = clf.tree_\n",
    "\n",
    "            clf_original = copy.deepcopy(clf)\n",
    "\n",
    "            # RELAB\n",
    "            for leaf_limit in range (1, 4):\n",
    "                clf = copy.deepcopy(clf_original)\n",
    "                leafs = list()\n",
    "\n",
    "                leafs_relab = relabeling_sklearn.relab_leaf_limit(clf.tree_, X_train, y_train, y_pred_train, sensitive_train, leaf_limit)\n",
    "                for leaf in leafs_relab:\n",
    "                    relabeling_sklearn.browse_and_relab(clf, leaf.node_id)\n",
    "\n",
    "                # NEW PREDICT\n",
    "                y_pred_train_relab = clf.predict(X_train)\n",
    "                y_pred_test_relab = clf.predict(X_test)\n",
    "                result.at[index, 'accuracy_relab_'+str(leaf_limit)] = round_down(accuracy_score(y_train, y_pred_train_relab), 4)\n",
    "                result.at[index, 'discrimination_relab_'+str(leaf_limit)] = round_down(relabeling_sklearn.discrimination(y_train, y_pred_train_relab, sensitive_train))\n",
    "                result.at[index, 'discrimination_relab_abs_'+str(leaf_limit)] = sum_discri(clf, X_train, y_pred_train_relab, sensitive_train, True)\n",
    "                result.at[index, 'accuracy_relab_test_'+str(leaf_limit)] = round_down(accuracy_score(y_test, y_pred_test_relab), 4)\n",
    "                result.at[index, 'discrimination_relab_test_'+str(leaf_limit)] = round_down(relabeling_sklearn.discrimination(y_test, y_pred_test_relab, sensitive_test))\n",
    "                result.at[index, 'discrimination_relab_test_abs_'+str(leaf_limit)] = sum_discri(clf, X_test, y_pred_test_relab, sensitive_test, True)\n",
    "\n",
    "            for threshold in [0.0, 0.1, 0.2, 0.3]:\n",
    "                clf = copy.deepcopy(clf_original)\n",
    "                leafs = list()\n",
    "                leafs_relab = relabeling_sklearn.relab(clf.tree_, X_train, y_train, y_pred_train, sensitive_train, threshold)\n",
    "                for leaf in leafs_relab:\n",
    "                    relabeling_sklearn.browse_and_relab(clf, leaf.node_id)\n",
    "\n",
    "                # NEW PREDICT\n",
    "                y_pred_train_relab = clf.predict(X_train)\n",
    "                y_pred_test_relab = clf.predict(X_test)\n",
    "                result.at[index, 'accuracy_relab_'+str(threshold)] = round_down(accuracy_score(y_train, y_pred_train_relab), 4)\n",
    "                result.at[index, 'discrimination_relab_'+str(threshold)] = round_down(relabeling_sklearn.discrimination(y_train, y_pred_train_relab, sensitive_train))\n",
    "                result.at[index, 'discrimination_relab_abs_'+str(threshold)] = sum_discri(clf, X_train, y_pred_train_relab, sensitive_train, True)\n",
    "                result.at[index, 'accuracy_relab_test_'+str(threshold)] = round_down(accuracy_score(y_test, y_pred_test_relab), 4)\n",
    "                result.at[index, 'discrimination_relab_test_'+str(threshold)] = round_down(relabeling_sklearn.discrimination(y_test, y_pred_test_relab, sensitive_test))\n",
    "                result.at[index, 'discrimination_relab_test_abs_'+str(threshold)] = sum_discri(clf, X_test, y_pred_test_relab, sensitive_test, True)\n",
    "\n",
    "\n",
    "                sum_acc = 0\n",
    "                sum_disc = 0\n",
    "                for leaf in leafs_relab:\n",
    "                    sum_acc += leaf.acc\n",
    "                    sum_disc += leaf.disc\n",
    "                new_acc= round_down(accuracy_train+sum_acc)\n",
    "                new_disc = round_down(discrimination_train_pred+sum_disc)\n",
    "                accuracy_train_relab = round_down(accuracy_score(y_train, y_pred_train_relab))\n",
    "                discrimation_train_pred_relab = round_down(utils.discrimination(y_pred_train_relab, sensitive_train))\n",
    "                sum_acc = round_down(sum_acc)\n",
    "                sum_disc = round_down(sum_disc)\n",
    "\n",
    "                if not (relabeling_sklearn.discrimination(y_train, y_pred_train_relab, sensitive_train) <= threshold\n",
    "                    and max(new_acc, accuracy_train_relab) - min(new_acc, accuracy_train_relab) < 1/(10**10)\n",
    "                    and max(new_disc, discrimation_train_pred_relab) - min(new_disc, discrimation_train_pred_relab) < 1/(10**10)):\n",
    "                    print(result.iloc[index])\n",
    "                    print(f\"thresh: {str(threshold)}\")\n",
    "                    print(f\"{relabeling_sklearn.discrimination(y_train, y_pred_train_relab, sensitive_train)} <= {threshold}\")\n",
    "                    print()\n",
    "                    leafs_relab = list(leafs_relab)\n",
    "                    leafs_relab = sorted(leafs_relab, key=lambda x: str(x.path))\n",
    "                    for leaf in leafs_relab:\n",
    "                        print(leaf)\n",
    "                        print()\n",
    "\n",
    "                    print(f\"Accuracy:\\n\"\n",
    "                          f\"    Before      : {accuracy_train}\\n\"\n",
    "                          f\"    Leafs       : {sum_acc}\\n\"\n",
    "                          f\"    After       : {accuracy_train_relab}\\n\"\n",
    "                          f\"    Expected    : {new_acc}\\n\"\n",
    "                          f\"    Check       : {new_acc == accuracy_train_relab}\")\n",
    "                    print(f\"Discrim:\\n\"\n",
    "                          f\"    Before      : {discrimination_train_pred}\\n\"\n",
    "                          f\"    Leafs       : {sum_disc }\\n\"\n",
    "                          f\"    After       : {discrimation_train_pred_relab}\\n\"\n",
    "                          f\"    Expected    : {new_disc}\\n\"\n",
    "                          f\"    Check       : {new_disc== discrimation_train_pred_relab}\")\n",
    "                    assert(relabeling_sklearn.discrimination(y_train, y_pred_train_relab, sensitive_train) <= threshold)\n",
    "                    assert(max(new_acc, accuracy_train_relab) - min(new_acc, accuracy_train_relab) < 1/(10**10))\n",
    "                    assert(max(new_disc, discrimation_train_pred_relab) - min(new_disc, discrimation_train_pred_relab) < 1/(10**10))\n",
    "    result.to_csv('save/'+FILE_NAME+'.csv', index=False)\n"
   ],
   "metadata": {
    "collapsed": false,
    "pycharm": {
     "name": "#%%\n"
    }
   }
  },
  {
   "cell_type": "code",
   "execution_count": null,
   "outputs": [],
   "source": [
    "df = pd.read_csv('save/'+FILE_NAME+\".csv\")\n",
    "df = df.sort_values(['depth', 'random_state'])\n",
    "df"
   ],
   "metadata": {
    "collapsed": false,
    "pycharm": {
     "name": "#%%\n"
    }
   }
  },
  {
   "cell_type": "code",
   "execution_count": null,
   "outputs": [],
   "source": [
    "_COLORS4 = ['#ff0000', '#00ff00', '#0000ff', '#87cefa']\n",
    "_COLORS5 = ['#008080', '#ffa500', '#00ff00', '#0000ff', '#ff1493']\n",
    "_COLORS7 = ['#2e8b57', '#ff0000', '#ffd700', '#c71585', '#00ff00', '#0000ff', '#1e90ff']\n",
    "_COLORS10 = ['#006400', '#00008b', '#b03060', '#ff4500', '#ffd700', '#7cfc00', '#00ffff', '#ff00ff', '#6495ed',\n",
    "          '#ffdab9']\n",
    "_COLORS11 = ['#8b4513', '#006400', '#4682b4', '#4b0082', '#ff0000', '#00ff7f', '#00ffff', '#0000ff', '#ffff54',\n",
    "             '#ff1493', '#ffe4c4']"
   ],
   "metadata": {
    "collapsed": false,
    "pycharm": {
     "name": "#%%\n"
    }
   }
  },
  {
   "cell_type": "markdown",
   "source": [
    "# Train"
   ],
   "metadata": {
    "collapsed": false,
    "pycharm": {
     "name": "#%% md\n"
    }
   }
  },
  {
   "cell_type": "markdown",
   "source": [
    "## Train: Accuracy/Discimination (leaf)"
   ],
   "metadata": {
    "collapsed": false,
    "pycharm": {
     "name": "#%% md\n"
    }
   }
  },
  {
   "cell_type": "code",
   "execution_count": null,
   "outputs": [],
   "source": [
    "legends = ['no relab', 'relab 1 leaf', 'relab 2 leafs', 'relab 3 leafs']\n",
    "fig, axes = plt.subplots()\n",
    "colors11 = _COLORS11.copy()\n",
    "colors4 = _COLORS4.copy()\n",
    "for depth in df['depth'].unique():\n",
    "    index_legends = 0\n",
    "    for x_axe, y_axe in [('accuracy_pred', 'discrimination_train_pred'), ('accuracy_relab_1', 'discrimination_relab_1'), ('accuracy_relab_2', 'discrimination_relab_2'), ('accuracy_relab_3', 'discrimination_relab_3')]:\n",
    "        index_color = 0\n",
    "        y_values = list()\n",
    "        x_values = list()\n",
    "        for k in df['k'].unique():\n",
    "            tmp = df.loc[(df[\"k\"] == k) & (df[\"depth\"] == depth)]\n",
    "            x_values.append(tmp[x_axe].mean())\n",
    "            y_values.append(tmp[y_axe].mean())\n",
    "\n",
    "            plt.scatter(tmp[x_axe].mean(), tmp[y_axe].mean(), c=colors4[index_legends])\n",
    "\n",
    "            index_color +=1\n",
    "\n",
    "        plt.plot(x_values, y_values, label=legends[index_legends], c=colors4[index_legends])\n",
    "        index_legends +=1\n",
    "    plt.rcParams.update({'figure.figsize':(10,8), 'figure.dpi':100})\n",
    "    plt.title(f'Depth {depth}')\n",
    "    plt.ylabel('discrimination')\n",
    "    plt.xlabel('accuracy')\n",
    "    #plt.ylim(-0.2, 0.3)\n",
    "    #plt.xlim(0, 1)\n",
    "    plt.legend()\n",
    "\n",
    "    plt.show()"
   ],
   "metadata": {
    "collapsed": false,
    "pycharm": {
     "name": "#%%\n"
    }
   }
  },
  {
   "cell_type": "markdown",
   "source": [
    "## Train: Accuracy/Discimination (threshold)"
   ],
   "metadata": {
    "collapsed": false,
    "pycharm": {
     "name": "#%% md\n"
    }
   }
  },
  {
   "cell_type": "code",
   "execution_count": null,
   "outputs": [],
   "source": [
    "colors11 = _COLORS11.copy()\n",
    "colors4 = _COLORS5.copy()\n",
    "legends = ['relab discrim < 0', 'relab discrim < 0.1', 'relab discrim < 0.2', 'relab discrim < 0.3', 'no relab']\n",
    "fig, axes = plt.subplots()\n",
    "for depth in df['depth'].unique():\n",
    "    index_legends = 0\n",
    "    for x_axe, y_axe in [('accuracy_relab_0.0', 'discrimination_relab_0.0'), ('accuracy_relab_0.1', 'discrimination_relab_0.1'), ('accuracy_relab_0.2', 'discrimination_relab_0.2'), ('accuracy_relab_0.3', 'discrimination_relab_0.3'), ('accuracy_pred', 'discrimination_train_pred')]:\n",
    "        index_color = 0\n",
    "        y_values = list()\n",
    "        x_values = list()\n",
    "        for k in df['k'].unique():\n",
    "            tmp = df.loc[(df[\"k\"] == k) & (df[\"depth\"] == depth)]\n",
    "            x_values.append(tmp[x_axe].mean())\n",
    "            y_values.append(tmp[y_axe].mean())\n",
    "\n",
    "            plt.scatter(tmp[x_axe].mean(), tmp[y_axe].mean(), c=colors4[index_legends])\n",
    "\n",
    "            index_color +=1\n",
    "\n",
    "        plt.plot(x_values, y_values, label=legends[index_legends], c=colors4[index_legends])\n",
    "        index_legends +=1\n",
    "    plt.rcParams.update({'figure.figsize':(10,8), 'figure.dpi':100})\n",
    "    plt.title(f'Depth {depth}')\n",
    "    plt.ylabel('discrimination')\n",
    "    plt.xlabel('accuracy')\n",
    "    #plt.ylim(-0.2, 0.3)\n",
    "    #plt.xlim(0, 1)\n",
    "    plt.legend()\n",
    "\n",
    "    plt.show()"
   ],
   "metadata": {
    "collapsed": false,
    "pycharm": {
     "name": "#%%\n"
    }
   }
  },
  {
   "cell_type": "markdown",
   "source": [
    "## Train: Accuracy/Discimination (Leaf)"
   ],
   "metadata": {
    "collapsed": false,
    "pycharm": {
     "name": "#%% md\n"
    }
   }
  },
  {
   "cell_type": "code",
   "execution_count": null,
   "outputs": [],
   "source": [
    "colors = _COLORS7.copy()\n",
    "legends = ['Depth 1', 'Depth 2', 'Depth 3', 'Depth 4', 'Depth 5', 'Depth 6', 'Depth 7']\n",
    "markers = ['o', 'x', 's', 'd', 'p', '8', 's', 'p', '*', 'h', 'H', 'D', 'd', 'P', 'X']\n",
    "\n",
    "index_legend = 0\n",
    "index_color = 0\n",
    "\n",
    "\n",
    "fig, axes = plt.subplots()\n",
    "k=0\n",
    "for depth in df['depth'].unique():\n",
    "    y_values = list()\n",
    "    x_values = list()\n",
    "    index_marker = 0\n",
    "    for x_axe, y_axe in [('accuracy_pred', 'discrimination_train_pred'), ('accuracy_relab_1', 'discrimination_relab_1'), ('accuracy_relab_2', 'discrimination_relab_2'), ('accuracy_relab_3', 'discrimination_relab_3')]:\n",
    "\n",
    "        tmp = df.loc[(df[\"k\"] == k) & (df[\"depth\"] == depth)]\n",
    "        x_values.append(tmp[x_axe].mean())\n",
    "        y_values.append(tmp[y_axe].mean())\n",
    "\n",
    "        plt.scatter(tmp[x_axe].mean(), tmp[y_axe].mean(), c=colors[index_color], marker=markers[index_marker])\n",
    "        index_marker +=1\n",
    "\n",
    "    plt.plot(x_values, y_values, label=legends[index_legend], c=colors[index_color])\n",
    "    index_color +=1\n",
    "    index_legend +=1\n",
    "\n",
    "plt.rcParams.update({'figure.figsize':(10,8), 'figure.dpi':100})\n",
    "plt.title(f'Leaf-Depth')\n",
    "plt.ylabel('discrimination')\n",
    "plt.xlabel('accuracy')\n",
    "plt.ylim(-0.2, 0.3)\n",
    "plt.xlim(0, 1)\n",
    "plt.legend()\n",
    "\n",
    "plt.show()"
   ],
   "metadata": {
    "collapsed": false,
    "pycharm": {
     "name": "#%%\n"
    }
   }
  },
  {
   "cell_type": "markdown",
   "source": [
    "## Train: Accuracy/Discimination (Threshold)"
   ],
   "metadata": {
    "collapsed": false,
    "pycharm": {
     "name": "#%% md\n"
    }
   }
  },
  {
   "cell_type": "code",
   "execution_count": null,
   "outputs": [],
   "source": [
    "colors = _COLORS7.copy()\n",
    "legends = ['Depth 1', 'Depth 2', 'Depth 3', 'Depth 4', 'Depth 5', 'Depth 6', 'Depth 7']\n",
    "markers = ['o', 'x', 's', 'd', 'p', '8', 's', 'p', '*', 'h', 'H', 'D', 'd', 'P', 'X']\n",
    "\n",
    "index_legend = 0\n",
    "index_color = 0\n",
    "\n",
    "\n",
    "fig, axes = plt.subplots()\n",
    "k=0\n",
    "for depth in df['depth'].unique():\n",
    "    y_values = list()\n",
    "    x_values = list()\n",
    "    index_marker = 0\n",
    "    for x_axe, y_axe in [('accuracy_relab_0.0', 'discrimination_relab_0.0'), ('accuracy_relab_0.1', 'discrimination_relab_0.1'), ('accuracy_relab_0.2', 'discrimination_relab_0.2'), ('accuracy_relab_0.3', 'discrimination_relab_0.3'), ('accuracy_pred', 'discrimination_train_pred')]:\n",
    "\n",
    "        tmp = df.loc[(df[\"k\"] == k) & (df[\"depth\"] == depth)]\n",
    "        x_values.append(tmp[x_axe].mean())\n",
    "        y_values.append(tmp[y_axe].mean())\n",
    "\n",
    "        plt.scatter(tmp[x_axe].mean(), tmp[y_axe].mean(), c=colors[index_color], marker=markers[index_marker])\n",
    "        index_marker +=1\n",
    "\n",
    "    plt.plot(x_values, y_values, label=legends[index_legend], c=colors[index_color])\n",
    "    index_color +=1\n",
    "    index_legend +=1\n",
    "\n",
    "plt.rcParams.update({'figure.figsize':(10,8), 'figure.dpi':100})\n",
    "plt.title(f'Threshold-Depth')\n",
    "plt.ylabel('discrimination')\n",
    "plt.xlabel('accuracy')\n",
    "plt.ylim(-0.2, 0.3)\n",
    "plt.xlim(0, 1)\n",
    "plt.legend()\n",
    "\n",
    "plt.show()"
   ],
   "metadata": {
    "collapsed": false,
    "pycharm": {
     "name": "#%%\n"
    }
   }
  },
  {
   "cell_type": "code",
   "execution_count": null,
   "outputs": [],
   "source": [
    "pydl = pandas.read_csv('save/'+\"lawsuit_k_supp2_relab\"+'.csv')"
   ],
   "metadata": {
    "collapsed": false,
    "pycharm": {
     "name": "#%%\n"
    }
   }
  },
  {
   "cell_type": "code",
   "execution_count": null,
   "outputs": [],
   "source": [
    "colors11 = _COLORS11.copy()\n",
    "colors4 = _COLORS5.copy()\n",
    "legends = ['relab discrim < 0', 'relab discrim < 0.1', 'relab discrim < 0.2', 'relab discrim < 0.3', 'no relab']\n",
    "fig, axes = plt.subplots()\n",
    "for depth in df['depth'].unique():\n",
    "    index_legends = 0\n",
    "    y_values = list()\n",
    "    x_values = list()\n",
    "    y_values_pydl = list()\n",
    "    x_values_pydl = list()\n",
    "    for x_axe, y_axe in [('accuracy_relab_0.0', 'discrimination_relab_0.0'), ('accuracy_relab_0.1', 'discrimination_relab_0.1'), ('accuracy_relab_0.2', 'discrimination_relab_0.2'), ('accuracy_relab_0.3', 'discrimination_relab_0.3'), ('accuracy_pred', 'discrimination_train_pred')]:\n",
    "        index_color = 0\n",
    "        for k in df['k'].unique():\n",
    "            tmp = df.loc[(df[\"k\"] == k) & (df[\"depth\"] == depth)]\n",
    "            x_values.append(tmp[x_axe].mean())\n",
    "            y_values.append(tmp[y_axe].mean())\n",
    "\n",
    "            plt.scatter(tmp[x_axe].mean(), tmp[y_axe].mean(), c=colors4[index_legends])\n",
    "\n",
    "            tmp = pydl.loc[(pydl[\"k\"] == k) & (pydl[\"depth\"] == depth)]\n",
    "            x_values_pydl.append(tmp[x_axe].mean())\n",
    "            y_values_pydl.append(tmp[y_axe].mean())\n",
    "\n",
    "            plt.scatter(tmp[x_axe].mean(), tmp[y_axe].mean(), c=colors4[index_legends])\n",
    "\n",
    "            index_color +=1\n",
    "        index_legends +=1\n",
    "    plt.plot(x_values, y_values, label=\"Sklearn\", c=\"red\")\n",
    "    plt.plot(x_values_pydl, y_values_pydl, label=\"Pydl\", c=\"green\")\n",
    "\n",
    "    plt.rcParams.update({'figure.figsize':(10,8), 'figure.dpi':100})\n",
    "    plt.title(f'Depth {depth}')\n",
    "    plt.ylabel('discrimination')\n",
    "    plt.xlabel('accuracy')\n",
    "    plt.ylim(-0.2, 0.4)\n",
    "    plt.xlim(0, 1)\n",
    "    plt.legend()\n",
    "\n",
    "    plt.show()"
   ],
   "metadata": {
    "collapsed": false,
    "pycharm": {
     "name": "#%%\n"
    }
   }
  },
  {
   "cell_type": "code",
   "execution_count": null,
   "outputs": [],
   "source": [
    "colors11 = _COLORS11.copy()\n",
    "colors4 = _COLORS5.copy()\n",
    "legends = ['relab discrim < 0', 'relab discrim < 0.1', 'relab discrim < 0.2', 'relab discrim < 0.3', 'no relab']\n",
    "fig, axes = plt.subplots()\n",
    "for depth in df['depth'].unique():\n",
    "    index_legends = 0\n",
    "    y_values = list()\n",
    "    x_values = list()\n",
    "    y_values_pydl = list()\n",
    "    x_values_pydl = list()\n",
    "    for x_axe, y_axe in [('accuracy_pred', 'discrimination_train_pred'), ('accuracy_relab_1', 'discrimination_relab_1'), ('accuracy_relab_2', 'discrimination_relab_2'), ('accuracy_relab_3', 'discrimination_relab_3')]:\n",
    "        index_color = 0\n",
    "        for k in df['k'].unique():\n",
    "            tmp = df.loc[(df[\"k\"] == k) & (df[\"depth\"] == depth)]\n",
    "            x_values.append(tmp[x_axe].mean())\n",
    "            y_values.append(tmp[y_axe].mean())\n",
    "\n",
    "            plt.scatter(tmp[x_axe].mean(), tmp[y_axe].mean(), c=colors4[index_legends])\n",
    "\n",
    "            tmp = pydl.loc[(pydl[\"k\"] == k) & (pydl[\"depth\"] == depth)]\n",
    "            x_values_pydl.append(tmp[x_axe].mean())\n",
    "            y_values_pydl.append(tmp[y_axe].mean())\n",
    "\n",
    "            plt.scatter(tmp[x_axe].mean(), tmp[y_axe].mean(), c=colors4[index_legends])\n",
    "\n",
    "            index_color +=1\n",
    "        index_legends +=1\n",
    "    plt.plot(x_values, y_values, label=\"Sklearn\", c=\"red\")\n",
    "    plt.plot(x_values_pydl, y_values_pydl, label=\"Pydl\", c=\"green\")\n",
    "\n",
    "    plt.rcParams.update({'figure.figsize':(10,8), 'figure.dpi':100})\n",
    "    plt.title(f'Depth {depth}')\n",
    "    plt.ylabel('discrimination')\n",
    "    plt.xlabel('accuracy')\n",
    "    plt.ylim(-0.2, 0.4)\n",
    "    plt.xlim(0, 1)\n",
    "    plt.legend()\n",
    "\n",
    "    plt.show()"
   ],
   "metadata": {
    "collapsed": false,
    "pycharm": {
     "name": "#%%\n"
    }
   }
  },
  {
   "cell_type": "code",
   "execution_count": null,
   "outputs": [],
   "source": [
    "colors11 = _COLORS11.copy()\n",
    "colors4 = _COLORS5.copy()\n",
    "legends = ['relab discrim < 0', 'relab discrim < 0.1', 'relab discrim < 0.2', 'relab discrim < 0.3', 'no relab']\n",
    "fig, axes = plt.subplots()\n",
    "for depth in df['depth'].unique():\n",
    "    index_legends = 0\n",
    "    y_values = list()\n",
    "    x_values = list()\n",
    "    y_values_pydl = list()\n",
    "    x_values_pydl = list()\n",
    "    for x_axe, y_axe in [('accuracy_relab_0.0', 'discrimination_relab_abs_0.0'), ('accuracy_relab_0.1', 'discrimination_relab_abs_0.1'), ('accuracy_relab_0.2', 'discrimination_relab_abs_0.2'), ('accuracy_relab_0.3', 'discrimination_relab_abs_0.3'), ('accuracy_pred', 'discrimination_train_pred')]:\n",
    "        index_color = 0\n",
    "        for k in df['k'].unique():\n",
    "            tmp = df.loc[(df[\"k\"] == k) & (df[\"depth\"] == depth)]\n",
    "            x_values.append(tmp[x_axe].mean())\n",
    "            y_values.append(tmp[y_axe].mean())\n",
    "\n",
    "            plt.scatter(tmp[x_axe].mean(), tmp[y_axe].mean(), c=colors4[index_legends])\n",
    "\n",
    "            tmp = pydl.loc[(pydl[\"k\"] == k) & (pydl[\"depth\"] == depth)]\n",
    "            x_values_pydl.append(tmp[x_axe].mean())\n",
    "            y_values_pydl.append(tmp[y_axe].mean())\n",
    "\n",
    "            plt.scatter(tmp[x_axe].mean(), tmp[y_axe].mean(), c=colors4[index_legends])\n",
    "\n",
    "            index_color +=1\n",
    "        index_legends +=1\n",
    "    plt.plot(x_values, y_values, label=\"Sklearn\", c=\"red\")\n",
    "    plt.plot(x_values_pydl, y_values_pydl, label=\"Pydl\", c=\"green\")\n",
    "\n",
    "    plt.rcParams.update({'figure.figsize':(10,8), 'figure.dpi':100})\n",
    "    plt.title(f'Depth {depth}')\n",
    "    plt.ylabel('discrimination')\n",
    "    plt.xlabel('accuracy')\n",
    "    plt.ylim(-0.2, 1)\n",
    "    plt.xlim(0, 1)\n",
    "    plt.legend()\n",
    "\n",
    "    plt.show()"
   ],
   "metadata": {
    "collapsed": false,
    "pycharm": {
     "name": "#%%\n"
    }
   }
  }
 ],
 "metadata": {
  "kernelspec": {
   "display_name": "Python 3",
   "language": "python",
   "name": "python3"
  },
  "language_info": {
   "codemirror_mode": {
    "name": "ipython",
    "version": 2
   },
   "file_extension": ".py",
   "mimetype": "text/x-python",
   "name": "python",
   "nbconvert_exporter": "python",
   "pygments_lexer": "ipython2",
   "version": "2.7.6"
  }
 },
 "nbformat": 4,
 "nbformat_minor": 0
}