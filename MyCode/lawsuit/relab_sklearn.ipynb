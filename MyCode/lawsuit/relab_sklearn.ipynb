{
 "cells": [
  {
   "cell_type": "code",
   "execution_count": 1,
   "metadata": {
    "collapsed": true,
    "pycharm": {
     "name": "#%%\n"
    }
   },
   "outputs": [],
   "source": [
    "import pandas\n",
    "from scipy.io import arff\n",
    "import numpy as np\n",
    "from sklearn.metrics import confusion_matrix\n",
    "from sklearn.model_selection import train_test_split\n",
    "from sklearn.metrics import accuracy_score\n",
    "import time\n",
    "from pydl85 import DL85Predictor\n",
    "from pydl85 import DL85Classifier\n",
    "import pandas as pd\n",
    "from sklearn.preprocessing import OneHotEncoder\n",
    "import matplotlib.pyplot as plt\n",
    "import numpy as np\n",
    "import utils as utils\n",
    "import graphviz\n",
    "import relabeling_fairlearn"
   ]
  },
  {
   "cell_type": "code",
   "execution_count": 2,
   "metadata": {
    "collapsed": false,
    "pycharm": {
     "name": "#%%\n"
    }
   },
   "outputs": [
    {
     "data": {
      "text/html": [
       "<div>\n",
       "<style scoped>\n",
       "    .dataframe tbody tr th:only-of-type {\n",
       "        vertical-align: middle;\n",
       "    }\n",
       "\n",
       "    .dataframe tbody tr th {\n",
       "        vertical-align: top;\n",
       "    }\n",
       "\n",
       "    .dataframe thead th {\n",
       "        text-align: right;\n",
       "    }\n",
       "</style>\n",
       "<table border=\"1\" class=\"dataframe\">\n",
       "  <thead>\n",
       "    <tr style=\"text-align: right;\">\n",
       "      <th></th>\n",
       "      <th>Dept</th>\n",
       "      <th>Gender</th>\n",
       "      <th>Clin</th>\n",
       "      <th>Cert</th>\n",
       "      <th>Prate</th>\n",
       "      <th>Exper</th>\n",
       "      <th>Rank</th>\n",
       "      <th>Sal94</th>\n",
       "      <th>Sal95</th>\n",
       "    </tr>\n",
       "  </thead>\n",
       "  <tbody>\n",
       "    <tr>\n",
       "      <th>0</th>\n",
       "      <td>1</td>\n",
       "      <td>1</td>\n",
       "      <td>0</td>\n",
       "      <td>0</td>\n",
       "      <td>7.4</td>\n",
       "      <td>9</td>\n",
       "      <td>3</td>\n",
       "      <td>77836</td>\n",
       "      <td>84612</td>\n",
       "    </tr>\n",
       "    <tr>\n",
       "      <th>1</th>\n",
       "      <td>1</td>\n",
       "      <td>1</td>\n",
       "      <td>0</td>\n",
       "      <td>0</td>\n",
       "      <td>6.7</td>\n",
       "      <td>10</td>\n",
       "      <td>2</td>\n",
       "      <td>69994</td>\n",
       "      <td>78497</td>\n",
       "    </tr>\n",
       "    <tr>\n",
       "      <th>2</th>\n",
       "      <td>1</td>\n",
       "      <td>1</td>\n",
       "      <td>0</td>\n",
       "      <td>0</td>\n",
       "      <td>8.1</td>\n",
       "      <td>6</td>\n",
       "      <td>1</td>\n",
       "      <td>62872</td>\n",
       "      <td>67756</td>\n",
       "    </tr>\n",
       "    <tr>\n",
       "      <th>3</th>\n",
       "      <td>1</td>\n",
       "      <td>1</td>\n",
       "      <td>1</td>\n",
       "      <td>1</td>\n",
       "      <td>5.1</td>\n",
       "      <td>27</td>\n",
       "      <td>3</td>\n",
       "      <td>155196</td>\n",
       "      <td>173220</td>\n",
       "    </tr>\n",
       "    <tr>\n",
       "      <th>4</th>\n",
       "      <td>1</td>\n",
       "      <td>1</td>\n",
       "      <td>0</td>\n",
       "      <td>0</td>\n",
       "      <td>7.0</td>\n",
       "      <td>10</td>\n",
       "      <td>3</td>\n",
       "      <td>89268</td>\n",
       "      <td>96099</td>\n",
       "    </tr>\n",
       "    <tr>\n",
       "      <th>...</th>\n",
       "      <td>...</td>\n",
       "      <td>...</td>\n",
       "      <td>...</td>\n",
       "      <td>...</td>\n",
       "      <td>...</td>\n",
       "      <td>...</td>\n",
       "      <td>...</td>\n",
       "      <td>...</td>\n",
       "      <td>...</td>\n",
       "    </tr>\n",
       "    <tr>\n",
       "      <th>256</th>\n",
       "      <td>6</td>\n",
       "      <td>0</td>\n",
       "      <td>1</td>\n",
       "      <td>1</td>\n",
       "      <td>2.9</td>\n",
       "      <td>8</td>\n",
       "      <td>2</td>\n",
       "      <td>297174</td>\n",
       "      <td>323699</td>\n",
       "    </tr>\n",
       "    <tr>\n",
       "      <th>257</th>\n",
       "      <td>6</td>\n",
       "      <td>0</td>\n",
       "      <td>1</td>\n",
       "      <td>1</td>\n",
       "      <td>2.6</td>\n",
       "      <td>9</td>\n",
       "      <td>3</td>\n",
       "      <td>308081</td>\n",
       "      <td>339664</td>\n",
       "    </tr>\n",
       "    <tr>\n",
       "      <th>258</th>\n",
       "      <td>6</td>\n",
       "      <td>0</td>\n",
       "      <td>1</td>\n",
       "      <td>1</td>\n",
       "      <td>2.8</td>\n",
       "      <td>8</td>\n",
       "      <td>1</td>\n",
       "      <td>211269</td>\n",
       "      <td>241577</td>\n",
       "    </tr>\n",
       "    <tr>\n",
       "      <th>259</th>\n",
       "      <td>6</td>\n",
       "      <td>0</td>\n",
       "      <td>1</td>\n",
       "      <td>1</td>\n",
       "      <td>2.4</td>\n",
       "      <td>2</td>\n",
       "      <td>1</td>\n",
       "      <td>210801</td>\n",
       "      <td>233905</td>\n",
       "    </tr>\n",
       "    <tr>\n",
       "      <th>260</th>\n",
       "      <td>6</td>\n",
       "      <td>0</td>\n",
       "      <td>1</td>\n",
       "      <td>1</td>\n",
       "      <td>3.2</td>\n",
       "      <td>5</td>\n",
       "      <td>1</td>\n",
       "      <td>244551</td>\n",
       "      <td>265502</td>\n",
       "    </tr>\n",
       "  </tbody>\n",
       "</table>\n",
       "<p>261 rows × 9 columns</p>\n",
       "</div>"
      ],
      "text/plain": [
       "     Dept  Gender  Clin  Cert  Prate  Exper  Rank   Sal94   Sal95\n",
       "0       1       1     0     0    7.4      9     3   77836   84612\n",
       "1       1       1     0     0    6.7     10     2   69994   78497\n",
       "2       1       1     0     0    8.1      6     1   62872   67756\n",
       "3       1       1     1     1    5.1     27     3  155196  173220\n",
       "4       1       1     0     0    7.0     10     3   89268   96099\n",
       "..    ...     ...   ...   ...    ...    ...   ...     ...     ...\n",
       "256     6       0     1     1    2.9      8     2  297174  323699\n",
       "257     6       0     1     1    2.6      9     3  308081  339664\n",
       "258     6       0     1     1    2.8      8     1  211269  241577\n",
       "259     6       0     1     1    2.4      2     1  210801  233905\n",
       "260     6       0     1     1    3.2      5     1  244551  265502\n",
       "\n",
       "[261 rows x 9 columns]"
      ]
     },
     "execution_count": 2,
     "metadata": {},
     "output_type": "execute_result"
    }
   ],
   "source": [
    "FILE_NAME = \"relab_Lawsuit\"\n",
    "\n",
    "# src: https://www.kaggle.com/hjmjerry/gender-discrimination\n",
    "df = pandas.read_csv(\"../dataset_perso/Lawsuit.csv\")\n",
    "del df['ID']\n",
    "df"
   ]
  },
  {
   "cell_type": "code",
   "execution_count": 3,
   "metadata": {
    "collapsed": false,
    "pycharm": {
     "name": "#%%\n"
    }
   },
   "outputs": [
    {
     "data": {
      "text/html": [
       "<div>\n",
       "<style scoped>\n",
       "    .dataframe tbody tr th:only-of-type {\n",
       "        vertical-align: middle;\n",
       "    }\n",
       "\n",
       "    .dataframe tbody tr th {\n",
       "        vertical-align: top;\n",
       "    }\n",
       "\n",
       "    .dataframe thead th {\n",
       "        text-align: right;\n",
       "    }\n",
       "</style>\n",
       "<table border=\"1\" class=\"dataframe\">\n",
       "  <thead>\n",
       "    <tr style=\"text-align: right;\">\n",
       "      <th></th>\n",
       "      <th>Dept</th>\n",
       "      <th>Gender</th>\n",
       "      <th>Clin</th>\n",
       "      <th>Cert</th>\n",
       "      <th>Prate</th>\n",
       "      <th>Exper</th>\n",
       "      <th>Rank</th>\n",
       "      <th>Salary_mean</th>\n",
       "    </tr>\n",
       "  </thead>\n",
       "  <tbody>\n",
       "    <tr>\n",
       "      <th>0</th>\n",
       "      <td>1</td>\n",
       "      <td>1</td>\n",
       "      <td>0</td>\n",
       "      <td>0</td>\n",
       "      <td>7.4</td>\n",
       "      <td>9</td>\n",
       "      <td>3</td>\n",
       "      <td>0.0</td>\n",
       "    </tr>\n",
       "    <tr>\n",
       "      <th>1</th>\n",
       "      <td>1</td>\n",
       "      <td>1</td>\n",
       "      <td>0</td>\n",
       "      <td>0</td>\n",
       "      <td>6.7</td>\n",
       "      <td>10</td>\n",
       "      <td>2</td>\n",
       "      <td>0.0</td>\n",
       "    </tr>\n",
       "    <tr>\n",
       "      <th>2</th>\n",
       "      <td>1</td>\n",
       "      <td>1</td>\n",
       "      <td>0</td>\n",
       "      <td>0</td>\n",
       "      <td>8.1</td>\n",
       "      <td>6</td>\n",
       "      <td>1</td>\n",
       "      <td>0.0</td>\n",
       "    </tr>\n",
       "    <tr>\n",
       "      <th>3</th>\n",
       "      <td>1</td>\n",
       "      <td>1</td>\n",
       "      <td>1</td>\n",
       "      <td>1</td>\n",
       "      <td>5.1</td>\n",
       "      <td>27</td>\n",
       "      <td>3</td>\n",
       "      <td>1.0</td>\n",
       "    </tr>\n",
       "    <tr>\n",
       "      <th>4</th>\n",
       "      <td>1</td>\n",
       "      <td>1</td>\n",
       "      <td>0</td>\n",
       "      <td>0</td>\n",
       "      <td>7.0</td>\n",
       "      <td>10</td>\n",
       "      <td>3</td>\n",
       "      <td>0.0</td>\n",
       "    </tr>\n",
       "    <tr>\n",
       "      <th>...</th>\n",
       "      <td>...</td>\n",
       "      <td>...</td>\n",
       "      <td>...</td>\n",
       "      <td>...</td>\n",
       "      <td>...</td>\n",
       "      <td>...</td>\n",
       "      <td>...</td>\n",
       "      <td>...</td>\n",
       "    </tr>\n",
       "    <tr>\n",
       "      <th>256</th>\n",
       "      <td>6</td>\n",
       "      <td>0</td>\n",
       "      <td>1</td>\n",
       "      <td>1</td>\n",
       "      <td>2.9</td>\n",
       "      <td>8</td>\n",
       "      <td>2</td>\n",
       "      <td>1.0</td>\n",
       "    </tr>\n",
       "    <tr>\n",
       "      <th>257</th>\n",
       "      <td>6</td>\n",
       "      <td>0</td>\n",
       "      <td>1</td>\n",
       "      <td>1</td>\n",
       "      <td>2.6</td>\n",
       "      <td>9</td>\n",
       "      <td>3</td>\n",
       "      <td>1.0</td>\n",
       "    </tr>\n",
       "    <tr>\n",
       "      <th>258</th>\n",
       "      <td>6</td>\n",
       "      <td>0</td>\n",
       "      <td>1</td>\n",
       "      <td>1</td>\n",
       "      <td>2.8</td>\n",
       "      <td>8</td>\n",
       "      <td>1</td>\n",
       "      <td>1.0</td>\n",
       "    </tr>\n",
       "    <tr>\n",
       "      <th>259</th>\n",
       "      <td>6</td>\n",
       "      <td>0</td>\n",
       "      <td>1</td>\n",
       "      <td>1</td>\n",
       "      <td>2.4</td>\n",
       "      <td>2</td>\n",
       "      <td>1</td>\n",
       "      <td>1.0</td>\n",
       "    </tr>\n",
       "    <tr>\n",
       "      <th>260</th>\n",
       "      <td>6</td>\n",
       "      <td>0</td>\n",
       "      <td>1</td>\n",
       "      <td>1</td>\n",
       "      <td>3.2</td>\n",
       "      <td>5</td>\n",
       "      <td>1</td>\n",
       "      <td>1.0</td>\n",
       "    </tr>\n",
       "  </tbody>\n",
       "</table>\n",
       "<p>261 rows × 8 columns</p>\n",
       "</div>"
      ],
      "text/plain": [
       "     Dept  Gender  Clin  Cert  Prate  Exper  Rank  Salary_mean\n",
       "0       1       1     0     0    7.4      9     3          0.0\n",
       "1       1       1     0     0    6.7     10     2          0.0\n",
       "2       1       1     0     0    8.1      6     1          0.0\n",
       "3       1       1     1     1    5.1     27     3          1.0\n",
       "4       1       1     0     0    7.0     10     3          0.0\n",
       "..    ...     ...   ...   ...    ...    ...   ...          ...\n",
       "256     6       0     1     1    2.9      8     2          1.0\n",
       "257     6       0     1     1    2.6      9     3          1.0\n",
       "258     6       0     1     1    2.8      8     1          1.0\n",
       "259     6       0     1     1    2.4      2     1          1.0\n",
       "260     6       0     1     1    3.2      5     1          1.0\n",
       "\n",
       "[261 rows x 8 columns]"
      ]
     },
     "execution_count": 3,
     "metadata": {},
     "output_type": "execute_result"
    }
   ],
   "source": [
    "salary_mean = np.mean(np.array(df[\"Sal94\"].tolist(), float))\n",
    "for i in range(0,len(df)):\n",
    "    if df.at[i, \"Sal94\"] >= salary_mean:\n",
    "        df.at[i, \"Salary_mean\"] = 1\n",
    "    else:\n",
    "        df.at[i, \"Salary_mean\"] = 0\n",
    "del df[\"Sal94\"]\n",
    "del df[\"Sal95\"]\n",
    "df"
   ]
  },
  {
   "cell_type": "code",
   "execution_count": 4,
   "metadata": {
    "collapsed": false,
    "pycharm": {
     "name": "#%%\n"
    }
   },
   "outputs": [
    {
     "data": {
      "text/html": [
       "<div>\n",
       "<style scoped>\n",
       "    .dataframe tbody tr th:only-of-type {\n",
       "        vertical-align: middle;\n",
       "    }\n",
       "\n",
       "    .dataframe tbody tr th {\n",
       "        vertical-align: top;\n",
       "    }\n",
       "\n",
       "    .dataframe thead th {\n",
       "        text-align: right;\n",
       "    }\n",
       "</style>\n",
       "<table border=\"1\" class=\"dataframe\">\n",
       "  <thead>\n",
       "    <tr style=\"text-align: right;\">\n",
       "      <th></th>\n",
       "      <th>Gender</th>\n",
       "      <th>Clin</th>\n",
       "      <th>Cert</th>\n",
       "      <th>Salary_mean</th>\n",
       "      <th>Rank_1</th>\n",
       "      <th>Rank_2</th>\n",
       "      <th>Rank_3</th>\n",
       "      <th>Dept_1</th>\n",
       "      <th>Dept_2</th>\n",
       "      <th>Dept_3</th>\n",
       "      <th>Dept_4</th>\n",
       "      <th>Dept_5</th>\n",
       "      <th>Dept_6</th>\n",
       "    </tr>\n",
       "  </thead>\n",
       "  <tbody>\n",
       "    <tr>\n",
       "      <th>0</th>\n",
       "      <td>1</td>\n",
       "      <td>0</td>\n",
       "      <td>0</td>\n",
       "      <td>0.0</td>\n",
       "      <td>0</td>\n",
       "      <td>0</td>\n",
       "      <td>1</td>\n",
       "      <td>1</td>\n",
       "      <td>0</td>\n",
       "      <td>0</td>\n",
       "      <td>0</td>\n",
       "      <td>0</td>\n",
       "      <td>0</td>\n",
       "    </tr>\n",
       "    <tr>\n",
       "      <th>1</th>\n",
       "      <td>1</td>\n",
       "      <td>0</td>\n",
       "      <td>0</td>\n",
       "      <td>0.0</td>\n",
       "      <td>0</td>\n",
       "      <td>1</td>\n",
       "      <td>0</td>\n",
       "      <td>1</td>\n",
       "      <td>0</td>\n",
       "      <td>0</td>\n",
       "      <td>0</td>\n",
       "      <td>0</td>\n",
       "      <td>0</td>\n",
       "    </tr>\n",
       "    <tr>\n",
       "      <th>2</th>\n",
       "      <td>1</td>\n",
       "      <td>0</td>\n",
       "      <td>0</td>\n",
       "      <td>0.0</td>\n",
       "      <td>1</td>\n",
       "      <td>0</td>\n",
       "      <td>0</td>\n",
       "      <td>1</td>\n",
       "      <td>0</td>\n",
       "      <td>0</td>\n",
       "      <td>0</td>\n",
       "      <td>0</td>\n",
       "      <td>0</td>\n",
       "    </tr>\n",
       "    <tr>\n",
       "      <th>3</th>\n",
       "      <td>1</td>\n",
       "      <td>1</td>\n",
       "      <td>1</td>\n",
       "      <td>1.0</td>\n",
       "      <td>0</td>\n",
       "      <td>0</td>\n",
       "      <td>1</td>\n",
       "      <td>1</td>\n",
       "      <td>0</td>\n",
       "      <td>0</td>\n",
       "      <td>0</td>\n",
       "      <td>0</td>\n",
       "      <td>0</td>\n",
       "    </tr>\n",
       "    <tr>\n",
       "      <th>4</th>\n",
       "      <td>1</td>\n",
       "      <td>0</td>\n",
       "      <td>0</td>\n",
       "      <td>0.0</td>\n",
       "      <td>0</td>\n",
       "      <td>0</td>\n",
       "      <td>1</td>\n",
       "      <td>1</td>\n",
       "      <td>0</td>\n",
       "      <td>0</td>\n",
       "      <td>0</td>\n",
       "      <td>0</td>\n",
       "      <td>0</td>\n",
       "    </tr>\n",
       "    <tr>\n",
       "      <th>...</th>\n",
       "      <td>...</td>\n",
       "      <td>...</td>\n",
       "      <td>...</td>\n",
       "      <td>...</td>\n",
       "      <td>...</td>\n",
       "      <td>...</td>\n",
       "      <td>...</td>\n",
       "      <td>...</td>\n",
       "      <td>...</td>\n",
       "      <td>...</td>\n",
       "      <td>...</td>\n",
       "      <td>...</td>\n",
       "      <td>...</td>\n",
       "    </tr>\n",
       "    <tr>\n",
       "      <th>256</th>\n",
       "      <td>0</td>\n",
       "      <td>1</td>\n",
       "      <td>1</td>\n",
       "      <td>1.0</td>\n",
       "      <td>0</td>\n",
       "      <td>1</td>\n",
       "      <td>0</td>\n",
       "      <td>0</td>\n",
       "      <td>0</td>\n",
       "      <td>0</td>\n",
       "      <td>0</td>\n",
       "      <td>0</td>\n",
       "      <td>1</td>\n",
       "    </tr>\n",
       "    <tr>\n",
       "      <th>257</th>\n",
       "      <td>0</td>\n",
       "      <td>1</td>\n",
       "      <td>1</td>\n",
       "      <td>1.0</td>\n",
       "      <td>0</td>\n",
       "      <td>0</td>\n",
       "      <td>1</td>\n",
       "      <td>0</td>\n",
       "      <td>0</td>\n",
       "      <td>0</td>\n",
       "      <td>0</td>\n",
       "      <td>0</td>\n",
       "      <td>1</td>\n",
       "    </tr>\n",
       "    <tr>\n",
       "      <th>258</th>\n",
       "      <td>0</td>\n",
       "      <td>1</td>\n",
       "      <td>1</td>\n",
       "      <td>1.0</td>\n",
       "      <td>1</td>\n",
       "      <td>0</td>\n",
       "      <td>0</td>\n",
       "      <td>0</td>\n",
       "      <td>0</td>\n",
       "      <td>0</td>\n",
       "      <td>0</td>\n",
       "      <td>0</td>\n",
       "      <td>1</td>\n",
       "    </tr>\n",
       "    <tr>\n",
       "      <th>259</th>\n",
       "      <td>0</td>\n",
       "      <td>1</td>\n",
       "      <td>1</td>\n",
       "      <td>1.0</td>\n",
       "      <td>1</td>\n",
       "      <td>0</td>\n",
       "      <td>0</td>\n",
       "      <td>0</td>\n",
       "      <td>0</td>\n",
       "      <td>0</td>\n",
       "      <td>0</td>\n",
       "      <td>0</td>\n",
       "      <td>1</td>\n",
       "    </tr>\n",
       "    <tr>\n",
       "      <th>260</th>\n",
       "      <td>0</td>\n",
       "      <td>1</td>\n",
       "      <td>1</td>\n",
       "      <td>1.0</td>\n",
       "      <td>1</td>\n",
       "      <td>0</td>\n",
       "      <td>0</td>\n",
       "      <td>0</td>\n",
       "      <td>0</td>\n",
       "      <td>0</td>\n",
       "      <td>0</td>\n",
       "      <td>0</td>\n",
       "      <td>1</td>\n",
       "    </tr>\n",
       "  </tbody>\n",
       "</table>\n",
       "<p>261 rows × 13 columns</p>\n",
       "</div>"
      ],
      "text/plain": [
       "     Gender  Clin  Cert  Salary_mean  Rank_1  Rank_2  Rank_3  Dept_1  Dept_2  \\\n",
       "0         1     0     0          0.0       0       0       1       1       0   \n",
       "1         1     0     0          0.0       0       1       0       1       0   \n",
       "2         1     0     0          0.0       1       0       0       1       0   \n",
       "3         1     1     1          1.0       0       0       1       1       0   \n",
       "4         1     0     0          0.0       0       0       1       1       0   \n",
       "..      ...   ...   ...          ...     ...     ...     ...     ...     ...   \n",
       "256       0     1     1          1.0       0       1       0       0       0   \n",
       "257       0     1     1          1.0       0       0       1       0       0   \n",
       "258       0     1     1          1.0       1       0       0       0       0   \n",
       "259       0     1     1          1.0       1       0       0       0       0   \n",
       "260       0     1     1          1.0       1       0       0       0       0   \n",
       "\n",
       "     Dept_3  Dept_4  Dept_5  Dept_6  \n",
       "0         0       0       0       0  \n",
       "1         0       0       0       0  \n",
       "2         0       0       0       0  \n",
       "3         0       0       0       0  \n",
       "4         0       0       0       0  \n",
       "..      ...     ...     ...     ...  \n",
       "256       0       0       0       1  \n",
       "257       0       0       0       1  \n",
       "258       0       0       0       1  \n",
       "259       0       0       0       1  \n",
       "260       0       0       0       1  \n",
       "\n",
       "[261 rows x 13 columns]"
      ]
     },
     "execution_count": 4,
     "metadata": {},
     "output_type": "execute_result"
    }
   ],
   "source": [
    "col = ['Rank', 'Dept']\n",
    "df = df.drop(['Prate', 'Exper'], axis=1)\n",
    "df = pd.get_dummies(df, columns=col)\n",
    "df"
   ]
  },
  {
   "cell_type": "code",
   "execution_count": 5,
   "metadata": {
    "collapsed": false,
    "pycharm": {
     "name": "#%%\n"
    }
   },
   "outputs": [
    {
     "data": {
      "text/plain": [
       "-0.31205112598904444"
      ]
     },
     "execution_count": 5,
     "metadata": {},
     "output_type": "execute_result"
    }
   ],
   "source": [
    "X = df.loc[:, ~df.columns.isin(['Gender', 'Salary_mean'])]\n",
    "y = df['Salary_mean']\n",
    "sensitive = df['Gender']\n",
    "utils.discrimination(y, sensitive)"
   ]
  },
  {
   "cell_type": "code",
   "execution_count": 6,
   "metadata": {
    "collapsed": false,
    "pycharm": {
     "name": "#%%\n"
    }
   },
   "outputs": [
    {
     "data": {
      "text/plain": [
       "0.31205112598904444"
      ]
     },
     "execution_count": 6,
     "metadata": {},
     "output_type": "execute_result"
    }
   ],
   "source": [
    "for i in range(0,len(df)):\n",
    "    if df.at[i, \"Gender\"] == 1:\n",
    "        df.at[i, \"Gender\"] = 0\n",
    "    else:\n",
    "        df.at[i, \"Gender\"] = 1\n",
    "utils.discrimination(y, sensitive)"
   ]
  },
  {
   "cell_type": "code",
   "execution_count": 7,
   "metadata": {
    "collapsed": false,
    "pycharm": {
     "name": "#%%\n"
    }
   },
   "outputs": [],
   "source": [
    "X_train, X_test, y_train, y_test, sensitive_train, sensitive_test = utils.train_test_split(1, X, y, sensitive)"
   ]
  },
  {
   "cell_type": "code",
   "execution_count": 8,
   "metadata": {
    "collapsed": false,
    "pycharm": {
     "name": "#%%\n"
    }
   },
   "outputs": [
    {
     "name": "stdout",
     "output_type": "stream",
     "text": [
      "Accuracy DL8.5 on training set = 0.923445\n",
      "Discrimination of classifier on train(pred) 0.294\n"
     ]
    }
   ],
   "source": [
    "from sklearn.tree import DecisionTreeClassifier\n",
    "\n",
    "clf = DecisionTreeClassifier(max_depth=7, random_state=0)\n",
    "clf.fit(X_train, list(y_train))\n",
    "y_pred_train = clf.predict(X_train)\n",
    "accuracy_train = round(accuracy_score(y_train, y_pred_train),6)\n",
    "print(\"Accuracy DL8.5 on training set =\", accuracy_train)\n",
    "discrimation_train_pred = round(utils.discrimination(y_pred_train, sensitive_train), 6)\n",
    "print(\"Discrimination of classifier on train(pred)\", discrimation_train_pred)"
   ]
  },
  {
   "cell_type": "code",
   "execution_count": 9,
   "metadata": {
    "collapsed": false,
    "pycharm": {
     "name": "#%%\n"
    }
   },
   "outputs": [
    {
     "data": {
      "text/plain": [
       "[Text(0.4880952380952381, 0.9375, 'X[10] <= 0.5\\ngini = 0.479\\nsamples = 209\\nvalue = [126, 83]'),\n",
       " Text(0.44047619047619047, 0.8125, 'X[9] <= 0.5\\ngini = 0.41\\nsamples = 177\\nvalue = [126, 51]'),\n",
       " Text(0.19047619047619047, 0.6875, 'X[1] <= 0.5\\ngini = 0.147\\nsamples = 113\\nvalue = [104, 9]'),\n",
       " Text(0.14285714285714285, 0.5625, 'gini = 0.0\\nsamples = 52\\nvalue = [52, 0]'),\n",
       " Text(0.23809523809523808, 0.5625, 'X[4] <= 0.5\\ngini = 0.252\\nsamples = 61\\nvalue = [52, 9]'),\n",
       " Text(0.14285714285714285, 0.4375, 'X[2] <= 0.5\\ngini = 0.102\\nsamples = 37\\nvalue = [35, 2]'),\n",
       " Text(0.09523809523809523, 0.3125, 'X[8] <= 0.5\\ngini = 0.219\\nsamples = 16\\nvalue = [14, 2]'),\n",
       " Text(0.047619047619047616, 0.1875, 'gini = 0.0\\nsamples = 10\\nvalue = [10, 0]'),\n",
       " Text(0.14285714285714285, 0.1875, 'gini = 0.444\\nsamples = 6\\nvalue = [4, 2]'),\n",
       " Text(0.19047619047619047, 0.3125, 'gini = 0.0\\nsamples = 21\\nvalue = [21, 0]'),\n",
       " Text(0.3333333333333333, 0.4375, 'X[8] <= 0.5\\ngini = 0.413\\nsamples = 24\\nvalue = [17, 7]'),\n",
       " Text(0.2857142857142857, 0.3125, 'X[7] <= 0.5\\ngini = 0.308\\nsamples = 21\\nvalue = [17, 4]'),\n",
       " Text(0.23809523809523808, 0.1875, 'X[0] <= 0.5\\ngini = 0.105\\nsamples = 18\\nvalue = [17, 1]'),\n",
       " Text(0.19047619047619047, 0.0625, 'gini = 0.0\\nsamples = 10\\nvalue = [10, 0]'),\n",
       " Text(0.2857142857142857, 0.0625, 'gini = 0.219\\nsamples = 8\\nvalue = [7, 1]'),\n",
       " Text(0.3333333333333333, 0.1875, 'gini = 0.0\\nsamples = 3\\nvalue = [0, 3]'),\n",
       " Text(0.38095238095238093, 0.3125, 'gini = 0.0\\nsamples = 3\\nvalue = [0, 3]'),\n",
       " Text(0.6904761904761905, 0.6875, 'X[2] <= 0.5\\ngini = 0.451\\nsamples = 64\\nvalue = [22, 42]'),\n",
       " Text(0.5714285714285714, 0.5625, 'X[0] <= 0.5\\ngini = 0.17\\nsamples = 32\\nvalue = [3, 29]'),\n",
       " Text(0.5238095238095238, 0.4375, 'X[3] <= 0.5\\ngini = 0.5\\nsamples = 6\\nvalue = [3, 3]'),\n",
       " Text(0.47619047619047616, 0.3125, 'gini = 0.444\\nsamples = 3\\nvalue = [1, 2]'),\n",
       " Text(0.5714285714285714, 0.3125, 'gini = 0.444\\nsamples = 3\\nvalue = [2, 1]'),\n",
       " Text(0.6190476190476191, 0.4375, 'gini = 0.0\\nsamples = 26\\nvalue = [0, 26]'),\n",
       " Text(0.8095238095238095, 0.5625, 'X[1] <= 0.5\\ngini = 0.482\\nsamples = 32\\nvalue = [19, 13]'),\n",
       " Text(0.7142857142857143, 0.4375, 'X[0] <= 0.5\\ngini = 0.375\\nsamples = 8\\nvalue = [6, 2]'),\n",
       " Text(0.6666666666666666, 0.3125, 'gini = 0.0\\nsamples = 1\\nvalue = [0, 1]'),\n",
       " Text(0.7619047619047619, 0.3125, 'gini = 0.245\\nsamples = 7\\nvalue = [6, 1]'),\n",
       " Text(0.9047619047619048, 0.4375, 'X[0] <= 0.5\\ngini = 0.497\\nsamples = 24\\nvalue = [13, 11]'),\n",
       " Text(0.8571428571428571, 0.3125, 'gini = 0.0\\nsamples = 3\\nvalue = [3, 0]'),\n",
       " Text(0.9523809523809523, 0.3125, 'gini = 0.499\\nsamples = 21\\nvalue = [10, 11]'),\n",
       " Text(0.5357142857142857, 0.8125, 'gini = 0.0\\nsamples = 32\\nvalue = [0, 32]')]"
      ]
     },
     "execution_count": 9,
     "metadata": {},
     "output_type": "execute_result"
    },
    {
     "data": {
      "image/png": "[encoded data removed]",
      "text/plain": [
       "<Figure size 648x432 with 1 Axes>"
      ]
     },
     "metadata": {
      "needs_background": "light"
     },
     "output_type": "display_data"
    }
   ],
   "source": [
    "from sklearn import tree\n",
    "tree.plot_tree(clf)"
   ]
  },
  {
   "cell_type": "code",
   "execution_count": 10,
   "metadata": {
    "collapsed": false,
    "pycharm": {
     "name": "#%%\n"
    }
   },
   "outputs": [],
   "source": [
    "leafs = list()\n",
    "cnt = np.unique(sensitive_train, return_counts=True)[1]\n",
    "relabeling_fairlearn.get_leaves_candidates(clf, X_train, y_train, sensitive_train, cnt, len(y_train), leafs)\n"
   ]
  },
  {
   "cell_type": "code",
   "execution_count": 11,
   "metadata": {
    "collapsed": false,
    "pycharm": {
     "name": "#%%\n"
    }
   },
   "outputs": [
    {
     "name": "stdout",
     "output_type": "stream",
     "text": [
      "\n",
      "Path: format -> (node id, feature, way)\n",
      "((0, 10, 'left'), (1, 9, 'right'), (17, 2, 'right'), (23, 1, 'left'), (24, 0, 'right'), (26, -2, 'leaf')) \n",
      "node_id: 26 \n",
      "The effect of relabeling the leaf on accuracy: -0.02392344497607655\n",
      "The effect of relabeling the leaf on discrimination: -0.04352380952380953 \n",
      "ratio: 1.8192952380952385 \n",
      "contingency table: \n",
      "[0.019138755980861243, 0.004784688995215311]\n",
      "[0.009569377990430622, 0.0]\n",
      "transactions: [138, 150, 155, 163, 164, 170, 172]\n",
      "\n",
      "Path: format -> (node id, feature, way)\n",
      "((0, 10, 'left'), (1, 9, 'right'), (17, 2, 'left'), (18, 0, 'left'), (19, 3, 'left'), (20, -2, 'leaf')) \n",
      "node_id: 20 \n",
      "The effect of relabeling the leaf on accuracy: -0.004784688995215311\n",
      "The effect of relabeling the leaf on discrimination: -0.023999999999999997 \n",
      "ratio: 5.016 \n",
      "contingency table: \n",
      "[0.0, 0.0]\n",
      "[0.004784688995215311, 0.009569377990430622]\n",
      "transactions: [114, 116, 145]\n",
      "\n",
      "Path: format -> (node id, feature, way)\n",
      "((0, 10, 'left'), (1, 9, 'right'), (17, 2, 'right'), (23, 1, 'left'), (24, 0, 'left'), (25, -2, 'leaf')) \n",
      "node_id: 25 \n",
      "The effect of relabeling the leaf on accuracy: -0.004784688995215311\n",
      "The effect of relabeling the leaf on discrimination: -0.008 \n",
      "ratio: 1.6720000000000002 \n",
      "contingency table: \n",
      "[0.0, 0.0]\n",
      "[0.0, 0.004784688995215311]\n",
      "transactions: [147]\n",
      "\n",
      "Path: format -> (node id, feature, way)\n",
      "((0, 10, 'left'), (1, 9, 'left'), (2, 1, 'right'), (4, 4, 'left'), (5, 2, 'right'), (9, -2, 'leaf')) \n",
      "node_id: 9 \n",
      "The effect of relabeling the leaf on accuracy: -0.10047846889952153\n",
      "The effect of relabeling the leaf on discrimination: -0.15047619047619046 \n",
      "ratio: 1.497596371882086 \n",
      "contingency table: \n",
      "[0.07655502392344497, 0.0]\n",
      "[0.023923444976076555, 0.0]\n",
      "transactions: [25, 33, 34, 35, 40, 41, 61, 67, 74, 80, 91, 95, 99, 100, 101, 103, 105, 107, 109, 111, 112]\n",
      "\n",
      "Path: format -> (node id, feature, way)\n",
      "((0, 10, 'left'), (1, 9, 'left'), (2, 1, 'right'), (4, 4, 'right'), (10, 8, 'left'), (11, 7, 'right'), (15, -2, 'leaf')) \n",
      "node_id: 15 \n",
      "The effect of relabeling the leaf on accuracy: -0.014354066985645933\n",
      "The effect of relabeling the leaf on discrimination: -0.024 \n",
      "ratio: 1.672 \n",
      "contingency table: \n",
      "[0.0, 0.0]\n",
      "[0.0, 0.014354066985645933]\n",
      "transactions: [72, 76, 77]\n",
      "\n"
     ]
    }
   ],
   "source": [
    "leafs_relab = relabeling_fairlearn.leaves_to_relabel(clf, X_train, y_train, y_pred_train, sensitive_train, 0.1)\n",
    "print()\n",
    "sum_acc = 0\n",
    "sum_disc = 0\n",
    "for l in leafs_relab:\n",
    "    print(l)\n",
    "    print()\n",
    "    sum_acc += l.acc\n",
    "    sum_disc += l.disc\n",
    "sum_acc = round(sum_acc, 6)\n",
    "sum_disc = round(sum_disc, 6)"
   ]
  },
  {
   "cell_type": "code",
   "execution_count": 12,
   "metadata": {
    "collapsed": false,
    "pycharm": {
     "name": "#%%\n"
    }
   },
   "outputs": [
    {
     "data": {
      "text/plain": [
       "array([[52.,  9.]])"
      ]
     },
     "execution_count": 12,
     "metadata": {},
     "output_type": "execute_result"
    }
   ],
   "source": [
    "clf.tree_.value[4]"
   ]
  },
  {
   "cell_type": "code",
   "execution_count": 13,
   "metadata": {
    "collapsed": false,
    "pycharm": {
     "name": "#%%\n"
    }
   },
   "outputs": [],
   "source": [
    "for leaf in leafs_relab:\n",
    "    relabeling_fairlearn.browse_and_relab(clf, leaf.node_id)\n"
   ]
  },
  {
   "cell_type": "code",
   "execution_count": 14,
   "metadata": {
    "collapsed": false,
    "pycharm": {
     "name": "#%%\n"
    }
   },
   "outputs": [
    {
     "name": "stdout",
     "output_type": "stream",
     "text": [
      "Accuracy:\n",
      "    Before      : 0.923445\n",
      "    Leafs       : -0.148325\n",
      "    After       : 0.77512\n",
      "    Expected    : 0.77512\n",
      "    Check       : True\n",
      "Discrim:\n",
      "    Before      : 0.294\n",
      "    Leafs       : -0.25\n",
      "    After       : 0.044\n",
      "    Expected    : 0.044\n",
      "    Check       : True\n"
     ]
    }
   ],
   "source": [
    "\n",
    "y_pred_train = clf.predict(X_train)\n",
    "accuracy_train_relab = round(accuracy_score(y_train, y_pred_train), 6)\n",
    "discrimation_train_pred_relab = round(utils.discrimination(y_pred_train, sensitive_train), 6)\n",
    "new_acc= round(accuracy_train+sum_acc, 6)\n",
    "new_disc = round(discrimation_train_pred+sum_disc, 6)\n",
    "print(f\"Accuracy:\\n\"\n",
    "    f\"    Before      : {accuracy_train}\\n\"\n",
    "    f\"    Leafs       : {sum_acc}\\n\"\n",
    "    f\"    After       : {accuracy_train_relab}\\n\"\n",
    "    f\"    Expected    : {new_acc}\\n\"\n",
    "    f\"    Check       : {new_acc == accuracy_train_relab}\")\n",
    "print(f\"Discrim:\\n\"\n",
    "    f\"    Before      : {discrimation_train_pred}\\n\"\n",
    "    f\"    Leafs       : {sum_disc }\\n\"\n",
    "    f\"    After       : {discrimation_train_pred_relab}\\n\"\n",
    "    f\"    Expected    : {new_disc}\\n\"\n",
    "    f\"    Check       : {new_disc== discrimation_train_pred_relab}\")"
   ]
  },
  {
   "cell_type": "code",
   "execution_count": 15,
   "metadata": {
    "collapsed": false,
    "pycharm": {
     "name": "#%%\n"
    }
   },
   "outputs": [
    {
     "data": {
      "text/plain": [
       "[Text(0.4880952380952381, 0.9375, 'X[10] <= 0.5\\ngini = 0.479\\nsamples = 209\\nvalue = [126, 83]'),\n",
       " Text(0.44047619047619047, 0.8125, 'X[9] <= 0.5\\ngini = 0.41\\nsamples = 177\\nvalue = [126, 51]'),\n",
       " Text(0.19047619047619047, 0.6875, 'X[1] <= 0.5\\ngini = 0.147\\nsamples = 113\\nvalue = [104, 9]'),\n",
       " Text(0.14285714285714285, 0.5625, 'gini = 0.0\\nsamples = 52\\nvalue = [52, 0]'),\n",
       " Text(0.23809523809523808, 0.5625, 'X[4] <= 0.5\\ngini = 0.252\\nsamples = 61\\nvalue = [52, 9]'),\n",
       " Text(0.14285714285714285, 0.4375, 'X[2] <= 0.5\\ngini = 0.102\\nsamples = 37\\nvalue = [35, 2]'),\n",
       " Text(0.09523809523809523, 0.3125, 'X[8] <= 0.5\\ngini = 0.219\\nsamples = 16\\nvalue = [14, 2]'),\n",
       " Text(0.047619047619047616, 0.1875, 'gini = 0.0\\nsamples = 10\\nvalue = [10, 0]'),\n",
       " Text(0.14285714285714285, 0.1875, 'gini = 0.444\\nsamples = 6\\nvalue = [4, 2]'),\n",
       " Text(0.19047619047619047, 0.3125, 'gini = 0.0\\nsamples = 21\\nvalue = [0, 21]'),\n",
       " Text(0.3333333333333333, 0.4375, 'X[8] <= 0.5\\ngini = 0.413\\nsamples = 24\\nvalue = [17, 7]'),\n",
       " Text(0.2857142857142857, 0.3125, 'X[7] <= 0.5\\ngini = 0.308\\nsamples = 21\\nvalue = [17, 4]'),\n",
       " Text(0.23809523809523808, 0.1875, 'X[0] <= 0.5\\ngini = 0.105\\nsamples = 18\\nvalue = [17, 1]'),\n",
       " Text(0.19047619047619047, 0.0625, 'gini = 0.0\\nsamples = 10\\nvalue = [10, 0]'),\n",
       " Text(0.2857142857142857, 0.0625, 'gini = 0.219\\nsamples = 8\\nvalue = [7, 1]'),\n",
       " Text(0.3333333333333333, 0.1875, 'gini = 0.0\\nsamples = 3\\nvalue = [3, 0]'),\n",
       " Text(0.38095238095238093, 0.3125, 'gini = 0.0\\nsamples = 3\\nvalue = [0, 3]'),\n",
       " Text(0.6904761904761905, 0.6875, 'X[2] <= 0.5\\ngini = 0.451\\nsamples = 64\\nvalue = [22, 42]'),\n",
       " Text(0.5714285714285714, 0.5625, 'X[0] <= 0.5\\ngini = 0.17\\nsamples = 32\\nvalue = [3, 29]'),\n",
       " Text(0.5238095238095238, 0.4375, 'X[3] <= 0.5\\ngini = 0.5\\nsamples = 6\\nvalue = [3, 3]'),\n",
       " Text(0.47619047619047616, 0.3125, 'gini = 0.444\\nsamples = 3\\nvalue = [2, 1]'),\n",
       " Text(0.5714285714285714, 0.3125, 'gini = 0.444\\nsamples = 3\\nvalue = [2, 1]'),\n",
       " Text(0.6190476190476191, 0.4375, 'gini = 0.0\\nsamples = 26\\nvalue = [0, 26]'),\n",
       " Text(0.8095238095238095, 0.5625, 'X[1] <= 0.5\\ngini = 0.482\\nsamples = 32\\nvalue = [19, 13]'),\n",
       " Text(0.7142857142857143, 0.4375, 'X[0] <= 0.5\\ngini = 0.375\\nsamples = 8\\nvalue = [6, 2]'),\n",
       " Text(0.6666666666666666, 0.3125, 'gini = 0.0\\nsamples = 1\\nvalue = [1, 0]'),\n",
       " Text(0.7619047619047619, 0.3125, 'gini = 0.245\\nsamples = 7\\nvalue = [1, 6]'),\n",
       " Text(0.9047619047619048, 0.4375, 'X[0] <= 0.5\\ngini = 0.497\\nsamples = 24\\nvalue = [13, 11]'),\n",
       " Text(0.8571428571428571, 0.3125, 'gini = 0.0\\nsamples = 3\\nvalue = [3, 0]'),\n",
       " Text(0.9523809523809523, 0.3125, 'gini = 0.499\\nsamples = 21\\nvalue = [10, 11]'),\n",
       " Text(0.5357142857142857, 0.8125, 'gini = 0.0\\nsamples = 32\\nvalue = [0, 32]')]"
      ]
     },
     "execution_count": 15,
     "metadata": {},
     "output_type": "execute_result"
    },
    {
     "data": {
      "image/png": "[encoded data removed]",
      "text/plain": [
       "<Figure size 648x432 with 1 Axes>"
      ]
     },
     "metadata": {
      "needs_background": "light"
     },
     "output_type": "display_data"
    }
   ],
   "source": [
    "tree.plot_tree(clf)"
   ]
  },
  {
   "cell_type": "code",
   "execution_count": 16,
   "metadata": {
    "collapsed": false,
    "pycharm": {
     "name": "#%%\n"
    }
   },
   "outputs": [
    {
     "name": "stdout",
     "output_type": "stream",
     "text": [
      "Accuracy DL8.5 on training set = 0.923445\n",
      "Discrimination of classifier on train(pred) 0.294\n"
     ]
    }
   ],
   "source": [
    "clf = DecisionTreeClassifier(max_depth=7, random_state=0)\n",
    "clf.fit(X_train, list(y_train))\n",
    "y_pred_train = clf.predict(X_train)\n",
    "accuracy_train = round(accuracy_score(y_train, y_pred_train),6)\n",
    "print(\"Accuracy DL8.5 on training set =\", accuracy_train)\n",
    "discrimation_train_pred = round(utils.discrimination(y_pred_train, sensitive_train), 6)\n",
    "print(\"Discrimination of classifier on train(pred)\", discrimation_train_pred)"
   ]
  },
  {
   "cell_type": "code",
   "execution_count": 17,
   "metadata": {
    "collapsed": false,
    "pycharm": {
     "name": "#%%\n"
    }
   },
   "outputs": [],
   "source": [
    "pydl = dict()\n",
    "utils.sklearn_to_pydl(clf, pydl, 0)\n",
    "#pydl"
   ]
  },
  {
   "cell_type": "code",
   "execution_count": 18,
   "metadata": {
    "collapsed": false,
    "pycharm": {
     "name": "#%%\n"
    }
   },
   "outputs": [
    {
     "name": "stdout",
     "output_type": "stream",
     "text": [
      "Accuracy DL8.5 on training set = 0.899522\n",
      "Discrimination of classifier on train(pred) 0.277048\n"
     ]
    }
   ],
   "source": [
    "clf = DL85Classifier(max_depth=3, error_function=lambda tids: utils.misclassified(list(tids), y_train), min_sup=1, time_limit=600)\n",
    "clf.fit(X_train, list(y_train))\n",
    "y_pred_train = clf.predict(X_train)\n",
    "accuracy_train = round(accuracy_score(y_train, y_pred_train),6)\n",
    "print(\"Accuracy DL8.5 on training set =\", accuracy_train)\n",
    "discrimation_train_pred = round(utils.discrimination(y_pred_train, sensitive_train), 6)\n",
    "print(\"Discrimination of classifier on train(pred)\", discrimation_train_pred)"
   ]
  },
  {
   "cell_type": "code",
   "execution_count": 19,
   "metadata": {
    "collapsed": false,
    "pycharm": {
     "name": "#%%\n"
    }
   },
   "outputs": [
    {
     "name": "stdout",
     "output_type": "stream",
     "text": [
      "Accuracy DL8.5 on training set = 0.923445\n",
      "Discrimination of classifier on train(pred) 0.294\n"
     ]
    }
   ],
   "source": [
    "clf.tree_ = pydl\n",
    "y_pred_train = clf.predict(X_train)\n",
    "accuracy_train = round(accuracy_score(y_train, y_pred_train),6)\n",
    "print(\"Accuracy DL8.5 on training set =\", accuracy_train)\n",
    "discrimation_train_pred = round(utils.discrimination(y_pred_train, sensitive_train), 6)\n",
    "print(\"Discrimination of classifier on train(pred)\", discrimation_train_pred)"
   ]
  },
  {
   "cell_type": "code",
   "execution_count": 20,
   "metadata": {
    "collapsed": false,
    "pycharm": {
     "name": "#%%\n"
    }
   },
   "outputs": [
    {
     "data": {
      "image/svg+xml": "<?xml version=\"1.0\" encoding=\"UTF-8\" standalone=\"no\"?>\n<!DOCTYPE svg PUBLIC \"-//W3C//DTD SVG 1.1//EN\"\n \"http://www.w3.org/Graphics/SVG/1.1/DTD/svg11.dtd\">\n<!-- Generated by graphviz version 2.43.0 (0)\n -->\n<!-- Title: Tree Pages: 1 -->\n<svg width=\"1029pt\" height=\"581pt\"\n viewBox=\"0.00 0.00 1029.00 581.00\" xmlns=\"http://www.w3.org/2000/svg\" xmlns:xlink=\"http://www.w3.org/1999/xlink\">\n<g id=\"graph0\" class=\"graph\" transform=\"scale(1 1) rotate(0) translate(4 577)\">\n<title>Tree</title>\n<polygon fill=\"white\" stroke=\"transparent\" points=\"-4,4 -4,-577 1025,-577 1025,4 -4,4\"/>\n<!-- node_05ccee2f_9704_49a1_ad3e_e56c54cd3ba2 -->\n<g id=\"node1\" class=\"node\">\n<title>node_05ccee2f_9704_49a1_ad3e_e56c54cd3ba2</title>\n<polygon fill=\"none\" stroke=\"black\" points=\"440,-536.5 440,-572.5 519,-572.5 519,-536.5 440,-536.5\"/>\n<text text-anchor=\"middle\" x=\"462\" y=\"-550.8\" font-family=\"Times,serif\" font-size=\"14.00\">feat</text>\n<polyline fill=\"none\" stroke=\"black\" points=\"484,-536.5 484,-572.5 \"/>\n<text text-anchor=\"middle\" x=\"501.5\" y=\"-550.8\" font-family=\"Times,serif\" font-size=\"14.00\">10</text>\n</g>\n<!-- leaf_8fca557d_5286_4705_9bc3_d77398020937 -->\n<g id=\"node2\" class=\"node\">\n<title>leaf_8fca557d_5286_4705_9bc3_d77398020937</title>\n<polygon fill=\"none\" stroke=\"black\" points=\"424,-458.5 424,-504.5 503,-504.5 503,-458.5 424,-458.5\"/>\n<text text-anchor=\"middle\" x=\"450\" y=\"-489.3\" font-family=\"Times,serif\" font-size=\"14.00\">class</text>\n<polyline fill=\"none\" stroke=\"black\" points=\"476,-481.5 476,-504.5 \"/>\n<text text-anchor=\"middle\" x=\"489.5\" y=\"-489.3\" font-family=\"Times,serif\" font-size=\"14.00\">1</text>\n<polyline fill=\"none\" stroke=\"black\" points=\"424,-481.5 503,-481.5 \"/>\n<text text-anchor=\"middle\" x=\"450.5\" y=\"-466.3\" font-family=\"Times,serif\" font-size=\"14.00\">error</text>\n<polyline fill=\"none\" stroke=\"black\" points=\"477,-458.5 477,-481.5 \"/>\n<text text-anchor=\"middle\" x=\"490\" y=\"-466.3\" font-family=\"Times,serif\" font-size=\"14.00\">0</text>\n</g>\n<!-- node_05ccee2f_9704_49a1_ad3e_e56c54cd3ba2&#45;&gt;leaf_8fca557d_5286_4705_9bc3_d77398020937 -->\n<g id=\"edge1\" class=\"edge\">\n<title>node_05ccee2f_9704_49a1_ad3e_e56c54cd3ba2&#45;&gt;leaf_8fca557d_5286_4705_9bc3_d77398020937</title>\n<path fill=\"none\" stroke=\"black\" d=\"M475.63,-536.31C474.15,-529.77 472.42,-522.08 470.73,-514.59\"/>\n<polygon fill=\"black\" stroke=\"black\" points=\"474.1,-513.62 468.49,-504.64 467.27,-515.16 474.1,-513.62\"/>\n<text text-anchor=\"middle\" x=\"478.5\" y=\"-516.8\" font-family=\"Times,serif\" font-size=\"14.00\">1</text>\n</g>\n<!-- node_d2f6bd2d_3f12_4f0a_ab08_5da5dc69f3f1 -->\n<g id=\"node3\" class=\"node\">\n<title>node_d2f6bd2d_3f12_4f0a_ab08_5da5dc69f3f1</title>\n<polygon fill=\"none\" stroke=\"black\" points=\"521.5,-463.5 521.5,-499.5 591.5,-499.5 591.5,-463.5 521.5,-463.5\"/>\n<text text-anchor=\"middle\" x=\"543.5\" y=\"-477.8\" font-family=\"Times,serif\" font-size=\"14.00\">feat</text>\n<polyline fill=\"none\" stroke=\"black\" points=\"565.5,-463.5 565.5,-499.5 \"/>\n<text text-anchor=\"middle\" x=\"578.5\" y=\"-477.8\" font-family=\"Times,serif\" font-size=\"14.00\">9</text>\n</g>\n<!-- node_05ccee2f_9704_49a1_ad3e_e56c54cd3ba2&#45;&gt;node_d2f6bd2d_3f12_4f0a_ab08_5da5dc69f3f1 -->\n<g id=\"edge2\" class=\"edge\">\n<title>node_05ccee2f_9704_49a1_ad3e_e56c54cd3ba2&#45;&gt;node_d2f6bd2d_3f12_4f0a_ab08_5da5dc69f3f1</title>\n<path fill=\"none\" stroke=\"black\" d=\"M498.14,-536.31C507.88,-527.33 519.96,-516.19 530.6,-506.39\"/>\n<polygon fill=\"black\" stroke=\"black\" points=\"533.05,-508.88 538.03,-499.53 528.31,-503.73 533.05,-508.88\"/>\n<text text-anchor=\"middle\" x=\"528.5\" y=\"-516.8\" font-family=\"Times,serif\" font-size=\"14.00\">0</text>\n</g>\n<!-- node_2ef56c18_dd47_493f_8d49_829b5766fe43 -->\n<g id=\"node4\" class=\"node\">\n<title>node_2ef56c18_dd47_493f_8d49_829b5766fe43</title>\n<polygon fill=\"none\" stroke=\"black\" points=\"346.5,-390.5 346.5,-426.5 416.5,-426.5 416.5,-390.5 346.5,-390.5\"/>\n<text text-anchor=\"middle\" x=\"368.5\" y=\"-404.8\" font-family=\"Times,serif\" font-size=\"14.00\">feat</text>\n<polyline fill=\"none\" stroke=\"black\" points=\"390.5,-390.5 390.5,-426.5 \"/>\n<text text-anchor=\"middle\" x=\"403.5\" y=\"-404.8\" font-family=\"Times,serif\" font-size=\"14.00\">2</text>\n</g>\n<!-- node_d2f6bd2d_3f12_4f0a_ab08_5da5dc69f3f1&#45;&gt;node_2ef56c18_dd47_493f_8d49_829b5766fe43 -->\n<g id=\"edge3\" class=\"edge\">\n<title>node_d2f6bd2d_3f12_4f0a_ab08_5da5dc69f3f1&#45;&gt;node_2ef56c18_dd47_493f_8d49_829b5766fe43</title>\n<path fill=\"none\" stroke=\"black\" d=\"M523.27,-463.39C519.33,-461.51 515.34,-459.67 511.5,-458 483.61,-445.87 451.62,-433.91 426.35,-424.9\"/>\n<polygon fill=\"black\" stroke=\"black\" points=\"427.26,-421.51 416.66,-421.47 424.92,-428.11 427.26,-421.51\"/>\n<text text-anchor=\"middle\" x=\"496.5\" y=\"-438.8\" font-family=\"Times,serif\" font-size=\"14.00\">1</text>\n</g>\n<!-- node_f8894cae_a47e_4743_a7c4_b5cf9ff0eb5f -->\n<g id=\"node17\" class=\"node\">\n<title>node_f8894cae_a47e_4743_a7c4_b5cf9ff0eb5f</title>\n<polygon fill=\"none\" stroke=\"black\" points=\"617.5,-390.5 617.5,-426.5 687.5,-426.5 687.5,-390.5 617.5,-390.5\"/>\n<text text-anchor=\"middle\" x=\"639.5\" y=\"-404.8\" font-family=\"Times,serif\" font-size=\"14.00\">feat</text>\n<polyline fill=\"none\" stroke=\"black\" points=\"661.5,-390.5 661.5,-426.5 \"/>\n<text text-anchor=\"middle\" x=\"674.5\" y=\"-404.8\" font-family=\"Times,serif\" font-size=\"14.00\">1</text>\n</g>\n<!-- node_d2f6bd2d_3f12_4f0a_ab08_5da5dc69f3f1&#45;&gt;node_f8894cae_a47e_4743_a7c4_b5cf9ff0eb5f -->\n<g id=\"edge16\" class=\"edge\">\n<title>node_d2f6bd2d_3f12_4f0a_ab08_5da5dc69f3f1&#45;&gt;node_f8894cae_a47e_4743_a7c4_b5cf9ff0eb5f</title>\n<path fill=\"none\" stroke=\"black\" d=\"M579.74,-463.31C592.24,-454.07 607.82,-442.54 621.36,-432.53\"/>\n<polygon fill=\"black\" stroke=\"black\" points=\"623.52,-435.29 629.48,-426.53 619.35,-429.66 623.52,-435.29\"/>\n<text text-anchor=\"middle\" x=\"621.5\" y=\"-438.8\" font-family=\"Times,serif\" font-size=\"14.00\">0</text>\n</g>\n<!-- node_b272fb0f_6134_4dc7_a07a_6817bc0deeb7 -->\n<g id=\"node5\" class=\"node\">\n<title>node_b272fb0f_6134_4dc7_a07a_6817bc0deeb7</title>\n<polygon fill=\"none\" stroke=\"black\" points=\"218.5,-317.5 218.5,-353.5 288.5,-353.5 288.5,-317.5 218.5,-317.5\"/>\n<text text-anchor=\"middle\" x=\"240.5\" y=\"-331.8\" font-family=\"Times,serif\" font-size=\"14.00\">feat</text>\n<polyline fill=\"none\" stroke=\"black\" points=\"262.5,-317.5 262.5,-353.5 \"/>\n<text text-anchor=\"middle\" x=\"275.5\" y=\"-331.8\" font-family=\"Times,serif\" font-size=\"14.00\">1</text>\n</g>\n<!-- node_2ef56c18_dd47_493f_8d49_829b5766fe43&#45;&gt;node_b272fb0f_6134_4dc7_a07a_6817bc0deeb7 -->\n<g id=\"edge4\" class=\"edge\">\n<title>node_2ef56c18_dd47_493f_8d49_829b5766fe43&#45;&gt;node_b272fb0f_6134_4dc7_a07a_6817bc0deeb7</title>\n<path fill=\"none\" stroke=\"black\" d=\"M350.84,-390.49C333.55,-380.9 311.76,-368.82 293.18,-358.51\"/>\n<polygon fill=\"black\" stroke=\"black\" points=\"294.8,-355.4 284.35,-353.61 291.4,-361.52 294.8,-355.4\"/>\n<text text-anchor=\"middle\" x=\"338.5\" y=\"-370.8\" font-family=\"Times,serif\" font-size=\"14.00\">1</text>\n</g>\n<!-- node_1713b018_ad8d_4df0_9a35_b74475d24e69 -->\n<g id=\"node12\" class=\"node\">\n<title>node_1713b018_ad8d_4df0_9a35_b74475d24e69</title>\n<polygon fill=\"none\" stroke=\"black\" points=\"346.5,-317.5 346.5,-353.5 416.5,-353.5 416.5,-317.5 346.5,-317.5\"/>\n<text text-anchor=\"middle\" x=\"368.5\" y=\"-331.8\" font-family=\"Times,serif\" font-size=\"14.00\">feat</text>\n<polyline fill=\"none\" stroke=\"black\" points=\"390.5,-317.5 390.5,-353.5 \"/>\n<text text-anchor=\"middle\" x=\"403.5\" y=\"-331.8\" font-family=\"Times,serif\" font-size=\"14.00\">0</text>\n</g>\n<!-- node_2ef56c18_dd47_493f_8d49_829b5766fe43&#45;&gt;node_1713b018_ad8d_4df0_9a35_b74475d24e69 -->\n<g id=\"edge11\" class=\"edge\">\n<title>node_2ef56c18_dd47_493f_8d49_829b5766fe43&#45;&gt;node_1713b018_ad8d_4df0_9a35_b74475d24e69</title>\n<path fill=\"none\" stroke=\"black\" d=\"M381.5,-390.31C381.5,-382.29 381.5,-372.55 381.5,-363.57\"/>\n<polygon fill=\"black\" stroke=\"black\" points=\"385,-363.53 381.5,-353.53 378,-363.53 385,-363.53\"/>\n<text text-anchor=\"middle\" x=\"386.5\" y=\"-370.8\" font-family=\"Times,serif\" font-size=\"14.00\">0</text>\n</g>\n<!-- node_cd613b39_daaa_4f90_bf9c_fa7ecc7d9eb6 -->\n<g id=\"node6\" class=\"node\">\n<title>node_cd613b39_daaa_4f90_bf9c_fa7ecc7d9eb6</title>\n<polygon fill=\"none\" stroke=\"black\" points=\"101.5,-239.5 101.5,-275.5 171.5,-275.5 171.5,-239.5 101.5,-239.5\"/>\n<text text-anchor=\"middle\" x=\"123.5\" y=\"-253.8\" font-family=\"Times,serif\" font-size=\"14.00\">feat</text>\n<polyline fill=\"none\" stroke=\"black\" points=\"145.5,-239.5 145.5,-275.5 \"/>\n<text text-anchor=\"middle\" x=\"158.5\" y=\"-253.8\" font-family=\"Times,serif\" font-size=\"14.00\">0</text>\n</g>\n<!-- node_b272fb0f_6134_4dc7_a07a_6817bc0deeb7&#45;&gt;node_cd613b39_daaa_4f90_bf9c_fa7ecc7d9eb6 -->\n<g id=\"edge5\" class=\"edge\">\n<title>node_b272fb0f_6134_4dc7_a07a_6817bc0deeb7&#45;&gt;node_cd613b39_daaa_4f90_bf9c_fa7ecc7d9eb6</title>\n<path fill=\"none\" stroke=\"black\" d=\"M227.24,-317.44C210.8,-306.76 189.41,-292.87 171.53,-281.26\"/>\n<polygon fill=\"black\" stroke=\"black\" points=\"173.37,-278.27 163.07,-275.76 169.55,-284.14 173.37,-278.27\"/>\n<text text-anchor=\"middle\" x=\"210.5\" y=\"-292.8\" font-family=\"Times,serif\" font-size=\"14.00\">1</text>\n</g>\n<!-- node_5ce76b00_ab18_4b0d_b03e_ea5e71e9e5bc -->\n<g id=\"node9\" class=\"node\">\n<title>node_5ce76b00_ab18_4b0d_b03e_ea5e71e9e5bc</title>\n<polygon fill=\"none\" stroke=\"black\" points=\"218.5,-239.5 218.5,-275.5 288.5,-275.5 288.5,-239.5 218.5,-239.5\"/>\n<text text-anchor=\"middle\" x=\"240.5\" y=\"-253.8\" font-family=\"Times,serif\" font-size=\"14.00\">feat</text>\n<polyline fill=\"none\" stroke=\"black\" points=\"262.5,-239.5 262.5,-275.5 \"/>\n<text text-anchor=\"middle\" x=\"275.5\" y=\"-253.8\" font-family=\"Times,serif\" font-size=\"14.00\">0</text>\n</g>\n<!-- node_b272fb0f_6134_4dc7_a07a_6817bc0deeb7&#45;&gt;node_5ce76b00_ab18_4b0d_b03e_ea5e71e9e5bc -->\n<g id=\"edge8\" class=\"edge\">\n<title>node_b272fb0f_6134_4dc7_a07a_6817bc0deeb7&#45;&gt;node_5ce76b00_ab18_4b0d_b03e_ea5e71e9e5bc</title>\n<path fill=\"none\" stroke=\"black\" d=\"M253.5,-317.25C253.5,-308.02 253.5,-296.43 253.5,-285.99\"/>\n<polygon fill=\"black\" stroke=\"black\" points=\"257,-285.68 253.5,-275.68 250,-285.68 257,-285.68\"/>\n<text text-anchor=\"middle\" x=\"258.5\" y=\"-292.8\" font-family=\"Times,serif\" font-size=\"14.00\">0</text>\n</g>\n<!-- leaf_33eb0693_9c78_487a_aa81_3fc539f03691 -->\n<g id=\"node7\" class=\"node\">\n<title>leaf_33eb0693_9c78_487a_aa81_3fc539f03691</title>\n<polygon fill=\"none\" stroke=\"black\" points=\"0,-156.5 0,-202.5 79,-202.5 79,-156.5 0,-156.5\"/>\n<text text-anchor=\"middle\" x=\"26\" y=\"-187.3\" font-family=\"Times,serif\" font-size=\"14.00\">class</text>\n<polyline fill=\"none\" stroke=\"black\" points=\"52,-179.5 52,-202.5 \"/>\n<text text-anchor=\"middle\" x=\"65.5\" y=\"-187.3\" font-family=\"Times,serif\" font-size=\"14.00\">1</text>\n<polyline fill=\"none\" stroke=\"black\" points=\"0,-179.5 79,-179.5 \"/>\n<text text-anchor=\"middle\" x=\"26.5\" y=\"-164.3\" font-family=\"Times,serif\" font-size=\"14.00\">error</text>\n<polyline fill=\"none\" stroke=\"black\" points=\"53,-156.5 53,-179.5 \"/>\n<text text-anchor=\"middle\" x=\"66\" y=\"-164.3\" font-family=\"Times,serif\" font-size=\"14.00\">0</text>\n</g>\n<!-- node_cd613b39_daaa_4f90_bf9c_fa7ecc7d9eb6&#45;&gt;leaf_33eb0693_9c78_487a_aa81_3fc539f03691 -->\n<g id=\"edge6\" class=\"edge\">\n<title>node_cd613b39_daaa_4f90_bf9c_fa7ecc7d9eb6&#45;&gt;leaf_33eb0693_9c78_487a_aa81_3fc539f03691</title>\n<path fill=\"none\" stroke=\"black\" d=\"M114.49,-239.25C103.01,-230.26 88.67,-219.03 75.62,-208.8\"/>\n<polygon fill=\"black\" stroke=\"black\" points=\"77.73,-206 67.69,-202.59 73.41,-211.51 77.73,-206\"/>\n<text text-anchor=\"middle\" x=\"102.5\" y=\"-214.8\" font-family=\"Times,serif\" font-size=\"14.00\">1</text>\n</g>\n<!-- leaf_14babae6_b26d_4f92_bf36_6a66d4770291 -->\n<g id=\"node8\" class=\"node\">\n<title>leaf_14babae6_b26d_4f92_bf36_6a66d4770291</title>\n<polygon fill=\"none\" stroke=\"black\" points=\"97,-156.5 97,-202.5 176,-202.5 176,-156.5 97,-156.5\"/>\n<text text-anchor=\"middle\" x=\"123\" y=\"-187.3\" font-family=\"Times,serif\" font-size=\"14.00\">class</text>\n<polyline fill=\"none\" stroke=\"black\" points=\"149,-179.5 149,-202.5 \"/>\n<text text-anchor=\"middle\" x=\"162.5\" y=\"-187.3\" font-family=\"Times,serif\" font-size=\"14.00\">0</text>\n<polyline fill=\"none\" stroke=\"black\" points=\"97,-179.5 176,-179.5 \"/>\n<text text-anchor=\"middle\" x=\"123.5\" y=\"-164.3\" font-family=\"Times,serif\" font-size=\"14.00\">error</text>\n<polyline fill=\"none\" stroke=\"black\" points=\"150,-156.5 150,-179.5 \"/>\n<text text-anchor=\"middle\" x=\"163\" y=\"-164.3\" font-family=\"Times,serif\" font-size=\"14.00\">0</text>\n</g>\n<!-- node_cd613b39_daaa_4f90_bf9c_fa7ecc7d9eb6&#45;&gt;leaf_14babae6_b26d_4f92_bf36_6a66d4770291 -->\n<g id=\"edge7\" class=\"edge\">\n<title>node_cd613b39_daaa_4f90_bf9c_fa7ecc7d9eb6&#45;&gt;leaf_14babae6_b26d_4f92_bf36_6a66d4770291</title>\n<path fill=\"none\" stroke=\"black\" d=\"M136.5,-239.25C136.5,-231.36 136.5,-221.75 136.5,-212.6\"/>\n<polygon fill=\"black\" stroke=\"black\" points=\"140,-212.59 136.5,-202.59 133,-212.59 140,-212.59\"/>\n<text text-anchor=\"middle\" x=\"141.5\" y=\"-214.8\" font-family=\"Times,serif\" font-size=\"14.00\">0</text>\n</g>\n<!-- leaf_6fd3fbea_c8a7_4304_bec1_e0db2edb4d9f -->\n<g id=\"node10\" class=\"node\">\n<title>leaf_6fd3fbea_c8a7_4304_bec1_e0db2edb4d9f</title>\n<polygon fill=\"none\" stroke=\"black\" points=\"194,-156.5 194,-202.5 273,-202.5 273,-156.5 194,-156.5\"/>\n<text text-anchor=\"middle\" x=\"220\" y=\"-187.3\" font-family=\"Times,serif\" font-size=\"14.00\">class</text>\n<polyline fill=\"none\" stroke=\"black\" points=\"246,-179.5 246,-202.5 \"/>\n<text text-anchor=\"middle\" x=\"259.5\" y=\"-187.3\" font-family=\"Times,serif\" font-size=\"14.00\">0</text>\n<polyline fill=\"none\" stroke=\"black\" points=\"194,-179.5 273,-179.5 \"/>\n<text text-anchor=\"middle\" x=\"220.5\" y=\"-164.3\" font-family=\"Times,serif\" font-size=\"14.00\">error</text>\n<polyline fill=\"none\" stroke=\"black\" points=\"247,-156.5 247,-179.5 \"/>\n<text text-anchor=\"middle\" x=\"260\" y=\"-164.3\" font-family=\"Times,serif\" font-size=\"14.00\">0</text>\n</g>\n<!-- node_5ce76b00_ab18_4b0d_b03e_ea5e71e9e5bc&#45;&gt;leaf_6fd3fbea_c8a7_4304_bec1_e0db2edb4d9f -->\n<g id=\"edge9\" class=\"edge\">\n<title>node_5ce76b00_ab18_4b0d_b03e_ea5e71e9e5bc&#45;&gt;leaf_6fd3fbea_c8a7_4304_bec1_e0db2edb4d9f</title>\n<path fill=\"none\" stroke=\"black\" d=\"M248.96,-239.25C246.86,-231.28 244.3,-221.54 241.87,-212.31\"/>\n<polygon fill=\"black\" stroke=\"black\" points=\"245.24,-211.37 239.31,-202.59 238.47,-213.15 245.24,-211.37\"/>\n<text text-anchor=\"middle\" x=\"250.5\" y=\"-214.8\" font-family=\"Times,serif\" font-size=\"14.00\">1</text>\n</g>\n<!-- leaf_079a9fb2_096d_4fb8_a0d4_f0bba2b7b1bd -->\n<g id=\"node11\" class=\"node\">\n<title>leaf_079a9fb2_096d_4fb8_a0d4_f0bba2b7b1bd</title>\n<polygon fill=\"none\" stroke=\"black\" points=\"291,-156.5 291,-202.5 370,-202.5 370,-156.5 291,-156.5\"/>\n<text text-anchor=\"middle\" x=\"317\" y=\"-187.3\" font-family=\"Times,serif\" font-size=\"14.00\">class</text>\n<polyline fill=\"none\" stroke=\"black\" points=\"343,-179.5 343,-202.5 \"/>\n<text text-anchor=\"middle\" x=\"356.5\" y=\"-187.3\" font-family=\"Times,serif\" font-size=\"14.00\">1</text>\n<polyline fill=\"none\" stroke=\"black\" points=\"291,-179.5 370,-179.5 \"/>\n<text text-anchor=\"middle\" x=\"317.5\" y=\"-164.3\" font-family=\"Times,serif\" font-size=\"14.00\">error</text>\n<polyline fill=\"none\" stroke=\"black\" points=\"344,-156.5 344,-179.5 \"/>\n<text text-anchor=\"middle\" x=\"357\" y=\"-164.3\" font-family=\"Times,serif\" font-size=\"14.00\">0</text>\n</g>\n<!-- node_5ce76b00_ab18_4b0d_b03e_ea5e71e9e5bc&#45;&gt;leaf_079a9fb2_096d_4fb8_a0d4_f0bba2b7b1bd -->\n<g id=\"edge10\" class=\"edge\">\n<title>node_5ce76b00_ab18_4b0d_b03e_ea5e71e9e5bc&#45;&gt;leaf_079a9fb2_096d_4fb8_a0d4_f0bba2b7b1bd</title>\n<path fill=\"none\" stroke=\"black\" d=\"M270.97,-239.25C279.83,-230.51 290.82,-219.66 300.95,-209.67\"/>\n<polygon fill=\"black\" stroke=\"black\" points=\"303.46,-212.11 308.12,-202.59 298.54,-207.12 303.46,-212.11\"/>\n<text text-anchor=\"middle\" x=\"304.5\" y=\"-214.8\" font-family=\"Times,serif\" font-size=\"14.00\">0</text>\n</g>\n<!-- leaf_875d51cf_774f_4d09_b636_06ed7ff5b763 -->\n<g id=\"node13\" class=\"node\">\n<title>leaf_875d51cf_774f_4d09_b636_06ed7ff5b763</title>\n<polygon fill=\"none\" stroke=\"black\" points=\"311,-234.5 311,-280.5 390,-280.5 390,-234.5 311,-234.5\"/>\n<text text-anchor=\"middle\" x=\"337\" y=\"-265.3\" font-family=\"Times,serif\" font-size=\"14.00\">class</text>\n<polyline fill=\"none\" stroke=\"black\" points=\"363,-257.5 363,-280.5 \"/>\n<text text-anchor=\"middle\" x=\"376.5\" y=\"-265.3\" font-family=\"Times,serif\" font-size=\"14.00\">1</text>\n<polyline fill=\"none\" stroke=\"black\" points=\"311,-257.5 390,-257.5 \"/>\n<text text-anchor=\"middle\" x=\"337.5\" y=\"-242.3\" font-family=\"Times,serif\" font-size=\"14.00\">error</text>\n<polyline fill=\"none\" stroke=\"black\" points=\"364,-234.5 364,-257.5 \"/>\n<text text-anchor=\"middle\" x=\"377\" y=\"-242.3\" font-family=\"Times,serif\" font-size=\"14.00\">0</text>\n</g>\n<!-- node_1713b018_ad8d_4df0_9a35_b74475d24e69&#45;&gt;leaf_875d51cf_774f_4d09_b636_06ed7ff5b763 -->\n<g id=\"edge12\" class=\"edge\">\n<title>node_1713b018_ad8d_4df0_9a35_b74475d24e69&#45;&gt;leaf_875d51cf_774f_4d09_b636_06ed7ff5b763</title>\n<path fill=\"none\" stroke=\"black\" d=\"M374.47,-317.25C371.18,-309.19 367.16,-299.33 363.35,-290.01\"/>\n<polygon fill=\"black\" stroke=\"black\" points=\"366.53,-288.53 359.51,-280.59 360.05,-291.17 366.53,-288.53\"/>\n<text text-anchor=\"middle\" x=\"374.5\" y=\"-292.8\" font-family=\"Times,serif\" font-size=\"14.00\">1</text>\n</g>\n<!-- node_e6cc8aaa_88af_45b1_abe8_2ec68de899c7 -->\n<g id=\"node14\" class=\"node\">\n<title>node_e6cc8aaa_88af_45b1_abe8_2ec68de899c7</title>\n<polygon fill=\"none\" stroke=\"black\" points=\"408.5,-239.5 408.5,-275.5 478.5,-275.5 478.5,-239.5 408.5,-239.5\"/>\n<text text-anchor=\"middle\" x=\"430.5\" y=\"-253.8\" font-family=\"Times,serif\" font-size=\"14.00\">feat</text>\n<polyline fill=\"none\" stroke=\"black\" points=\"452.5,-239.5 452.5,-275.5 \"/>\n<text text-anchor=\"middle\" x=\"465.5\" y=\"-253.8\" font-family=\"Times,serif\" font-size=\"14.00\">3</text>\n</g>\n<!-- node_1713b018_ad8d_4df0_9a35_b74475d24e69&#45;&gt;node_e6cc8aaa_88af_45b1_abe8_2ec68de899c7 -->\n<g id=\"edge13\" class=\"edge\">\n<title>node_1713b018_ad8d_4df0_9a35_b74475d24e69&#45;&gt;node_e6cc8aaa_88af_45b1_abe8_2ec68de899c7</title>\n<path fill=\"none\" stroke=\"black\" d=\"M395.57,-317.25C403.65,-307.34 413.96,-294.71 422.94,-283.71\"/>\n<polygon fill=\"black\" stroke=\"black\" points=\"425.88,-285.64 429.49,-275.68 420.45,-281.21 425.88,-285.64\"/>\n<text text-anchor=\"middle\" x=\"423.5\" y=\"-292.8\" font-family=\"Times,serif\" font-size=\"14.00\">0</text>\n</g>\n<!-- leaf_cd94c118_7c76_41e0_a8f8_02f1e9b23ff6 -->\n<g id=\"node15\" class=\"node\">\n<title>leaf_cd94c118_7c76_41e0_a8f8_02f1e9b23ff6</title>\n<polygon fill=\"none\" stroke=\"black\" points=\"388,-156.5 388,-202.5 467,-202.5 467,-156.5 388,-156.5\"/>\n<text text-anchor=\"middle\" x=\"414\" y=\"-187.3\" font-family=\"Times,serif\" font-size=\"14.00\">class</text>\n<polyline fill=\"none\" stroke=\"black\" points=\"440,-179.5 440,-202.5 \"/>\n<text text-anchor=\"middle\" x=\"453.5\" y=\"-187.3\" font-family=\"Times,serif\" font-size=\"14.00\">0</text>\n<polyline fill=\"none\" stroke=\"black\" points=\"388,-179.5 467,-179.5 \"/>\n<text text-anchor=\"middle\" x=\"414.5\" y=\"-164.3\" font-family=\"Times,serif\" font-size=\"14.00\">error</text>\n<polyline fill=\"none\" stroke=\"black\" points=\"441,-156.5 441,-179.5 \"/>\n<text text-anchor=\"middle\" x=\"454\" y=\"-164.3\" font-family=\"Times,serif\" font-size=\"14.00\">0</text>\n</g>\n<!-- node_e6cc8aaa_88af_45b1_abe8_2ec68de899c7&#45;&gt;leaf_cd94c118_7c76_41e0_a8f8_02f1e9b23ff6 -->\n<g id=\"edge14\" class=\"edge\">\n<title>node_e6cc8aaa_88af_45b1_abe8_2ec68de899c7&#45;&gt;leaf_cd94c118_7c76_41e0_a8f8_02f1e9b23ff6</title>\n<path fill=\"none\" stroke=\"black\" d=\"M439.87,-239.25C438.21,-231.36 436.18,-221.75 434.26,-212.6\"/>\n<polygon fill=\"black\" stroke=\"black\" points=\"437.64,-211.66 432.15,-202.59 430.79,-213.1 437.64,-211.66\"/>\n<text text-anchor=\"middle\" x=\"442.5\" y=\"-214.8\" font-family=\"Times,serif\" font-size=\"14.00\">1</text>\n</g>\n<!-- leaf_3ba85f79_e2ae_4d85_8c7a_7e47ed1fb1f1 -->\n<g id=\"node16\" class=\"node\">\n<title>leaf_3ba85f79_e2ae_4d85_8c7a_7e47ed1fb1f1</title>\n<polygon fill=\"none\" stroke=\"black\" points=\"485,-156.5 485,-202.5 564,-202.5 564,-156.5 485,-156.5\"/>\n<text text-anchor=\"middle\" x=\"511\" y=\"-187.3\" font-family=\"Times,serif\" font-size=\"14.00\">class</text>\n<polyline fill=\"none\" stroke=\"black\" points=\"537,-179.5 537,-202.5 \"/>\n<text text-anchor=\"middle\" x=\"550.5\" y=\"-187.3\" font-family=\"Times,serif\" font-size=\"14.00\">1</text>\n<polyline fill=\"none\" stroke=\"black\" points=\"485,-179.5 564,-179.5 \"/>\n<text text-anchor=\"middle\" x=\"511.5\" y=\"-164.3\" font-family=\"Times,serif\" font-size=\"14.00\">error</text>\n<polyline fill=\"none\" stroke=\"black\" points=\"538,-156.5 538,-179.5 \"/>\n<text text-anchor=\"middle\" x=\"551\" y=\"-164.3\" font-family=\"Times,serif\" font-size=\"14.00\">0</text>\n</g>\n<!-- node_e6cc8aaa_88af_45b1_abe8_2ec68de899c7&#45;&gt;leaf_3ba85f79_e2ae_4d85_8c7a_7e47ed1fb1f1 -->\n<g id=\"edge15\" class=\"edge\">\n<title>node_e6cc8aaa_88af_45b1_abe8_2ec68de899c7&#45;&gt;leaf_3ba85f79_e2ae_4d85_8c7a_7e47ed1fb1f1</title>\n<path fill=\"none\" stroke=\"black\" d=\"M461.88,-239.25C471.2,-230.51 482.76,-219.66 493.41,-209.67\"/>\n<polygon fill=\"black\" stroke=\"black\" points=\"496.06,-211.99 500.96,-202.59 491.27,-206.88 496.06,-211.99\"/>\n<text text-anchor=\"middle\" x=\"496.5\" y=\"-214.8\" font-family=\"Times,serif\" font-size=\"14.00\">0</text>\n</g>\n<!-- node_9fcbb16f_95d6_4d0d_b0ac_5ce79b6e2c33 -->\n<g id=\"node18\" class=\"node\">\n<title>node_9fcbb16f_95d6_4d0d_b0ac_5ce79b6e2c33</title>\n<polygon fill=\"none\" stroke=\"black\" points=\"617.5,-317.5 617.5,-353.5 687.5,-353.5 687.5,-317.5 617.5,-317.5\"/>\n<text text-anchor=\"middle\" x=\"639.5\" y=\"-331.8\" font-family=\"Times,serif\" font-size=\"14.00\">feat</text>\n<polyline fill=\"none\" stroke=\"black\" points=\"661.5,-317.5 661.5,-353.5 \"/>\n<text text-anchor=\"middle\" x=\"674.5\" y=\"-331.8\" font-family=\"Times,serif\" font-size=\"14.00\">4</text>\n</g>\n<!-- node_f8894cae_a47e_4743_a7c4_b5cf9ff0eb5f&#45;&gt;node_9fcbb16f_95d6_4d0d_b0ac_5ce79b6e2c33 -->\n<g id=\"edge17\" class=\"edge\">\n<title>node_f8894cae_a47e_4743_a7c4_b5cf9ff0eb5f&#45;&gt;node_9fcbb16f_95d6_4d0d_b0ac_5ce79b6e2c33</title>\n<path fill=\"none\" stroke=\"black\" d=\"M652.5,-390.31C652.5,-382.29 652.5,-372.55 652.5,-363.57\"/>\n<polygon fill=\"black\" stroke=\"black\" points=\"656,-363.53 652.5,-353.53 649,-363.53 656,-363.53\"/>\n<text text-anchor=\"middle\" x=\"657.5\" y=\"-370.8\" font-family=\"Times,serif\" font-size=\"14.00\">1</text>\n</g>\n<!-- leaf_5293dd41_7141_4a1f_bf31_121c9364cac6 -->\n<g id=\"node31\" class=\"node\">\n<title>leaf_5293dd41_7141_4a1f_bf31_121c9364cac6</title>\n<polygon fill=\"none\" stroke=\"black\" points=\"706,-312.5 706,-358.5 785,-358.5 785,-312.5 706,-312.5\"/>\n<text text-anchor=\"middle\" x=\"732\" y=\"-343.3\" font-family=\"Times,serif\" font-size=\"14.00\">class</text>\n<polyline fill=\"none\" stroke=\"black\" points=\"758,-335.5 758,-358.5 \"/>\n<text text-anchor=\"middle\" x=\"771.5\" y=\"-343.3\" font-family=\"Times,serif\" font-size=\"14.00\">0</text>\n<polyline fill=\"none\" stroke=\"black\" points=\"706,-335.5 785,-335.5 \"/>\n<text text-anchor=\"middle\" x=\"732.5\" y=\"-320.3\" font-family=\"Times,serif\" font-size=\"14.00\">error</text>\n<polyline fill=\"none\" stroke=\"black\" points=\"759,-312.5 759,-335.5 \"/>\n<text text-anchor=\"middle\" x=\"772\" y=\"-320.3\" font-family=\"Times,serif\" font-size=\"14.00\">0</text>\n</g>\n<!-- node_f8894cae_a47e_4743_a7c4_b5cf9ff0eb5f&#45;&gt;leaf_5293dd41_7141_4a1f_bf31_121c9364cac6 -->\n<g id=\"edge30\" class=\"edge\">\n<title>node_f8894cae_a47e_4743_a7c4_b5cf9ff0eb5f&#45;&gt;leaf_5293dd41_7141_4a1f_bf31_121c9364cac6</title>\n<path fill=\"none\" stroke=\"black\" d=\"M675.01,-390.31C685.05,-382.65 697.14,-373.42 708.45,-364.79\"/>\n<polygon fill=\"black\" stroke=\"black\" points=\"710.68,-367.49 716.5,-358.64 706.43,-361.92 710.68,-367.49\"/>\n<text text-anchor=\"middle\" x=\"710.5\" y=\"-370.8\" font-family=\"Times,serif\" font-size=\"14.00\">0</text>\n</g>\n<!-- node_3a01e43c_4b7b_4bed_b3ee_931804b6ccb8 -->\n<g id=\"node19\" class=\"node\">\n<title>node_3a01e43c_4b7b_4bed_b3ee_931804b6ccb8</title>\n<polygon fill=\"none\" stroke=\"black\" points=\"617.5,-239.5 617.5,-275.5 687.5,-275.5 687.5,-239.5 617.5,-239.5\"/>\n<text text-anchor=\"middle\" x=\"639.5\" y=\"-253.8\" font-family=\"Times,serif\" font-size=\"14.00\">feat</text>\n<polyline fill=\"none\" stroke=\"black\" points=\"661.5,-239.5 661.5,-275.5 \"/>\n<text text-anchor=\"middle\" x=\"674.5\" y=\"-253.8\" font-family=\"Times,serif\" font-size=\"14.00\">8</text>\n</g>\n<!-- node_9fcbb16f_95d6_4d0d_b0ac_5ce79b6e2c33&#45;&gt;node_3a01e43c_4b7b_4bed_b3ee_931804b6ccb8 -->\n<g id=\"edge18\" class=\"edge\">\n<title>node_9fcbb16f_95d6_4d0d_b0ac_5ce79b6e2c33&#45;&gt;node_3a01e43c_4b7b_4bed_b3ee_931804b6ccb8</title>\n<path fill=\"none\" stroke=\"black\" d=\"M652.5,-317.25C652.5,-308.02 652.5,-296.43 652.5,-285.99\"/>\n<polygon fill=\"black\" stroke=\"black\" points=\"656,-285.68 652.5,-275.68 649,-285.68 656,-285.68\"/>\n<text text-anchor=\"middle\" x=\"657.5\" y=\"-292.8\" font-family=\"Times,serif\" font-size=\"14.00\">1</text>\n</g>\n<!-- node_30d627d6_8577_40c5_90d3_155a6410e440 -->\n<g id=\"node26\" class=\"node\">\n<title>node_30d627d6_8577_40c5_90d3_155a6410e440</title>\n<polygon fill=\"none\" stroke=\"black\" points=\"772.5,-239.5 772.5,-275.5 842.5,-275.5 842.5,-239.5 772.5,-239.5\"/>\n<text text-anchor=\"middle\" x=\"794.5\" y=\"-253.8\" font-family=\"Times,serif\" font-size=\"14.00\">feat</text>\n<polyline fill=\"none\" stroke=\"black\" points=\"816.5,-239.5 816.5,-275.5 \"/>\n<text text-anchor=\"middle\" x=\"829.5\" y=\"-253.8\" font-family=\"Times,serif\" font-size=\"14.00\">2</text>\n</g>\n<!-- node_9fcbb16f_95d6_4d0d_b0ac_5ce79b6e2c33&#45;&gt;node_30d627d6_8577_40c5_90d3_155a6410e440 -->\n<g id=\"edge25\" class=\"edge\">\n<title>node_9fcbb16f_95d6_4d0d_b0ac_5ce79b6e2c33&#45;&gt;node_30d627d6_8577_40c5_90d3_155a6410e440</title>\n<path fill=\"none\" stroke=\"black\" d=\"M685.61,-317.46C689.28,-315.61 692.97,-313.76 696.5,-312 718.43,-301.11 742.94,-289.26 763.34,-279.49\"/>\n<polygon fill=\"black\" stroke=\"black\" points=\"764.89,-282.63 772.4,-275.16 761.87,-276.31 764.89,-282.63\"/>\n<text text-anchor=\"middle\" x=\"747.5\" y=\"-292.8\" font-family=\"Times,serif\" font-size=\"14.00\">0</text>\n</g>\n<!-- leaf_cb7a7a99_bbce_4de5_b113_2a2c46026cca -->\n<g id=\"node20\" class=\"node\">\n<title>leaf_cb7a7a99_bbce_4de5_b113_2a2c46026cca</title>\n<polygon fill=\"none\" stroke=\"black\" points=\"582,-156.5 582,-202.5 661,-202.5 661,-156.5 582,-156.5\"/>\n<text text-anchor=\"middle\" x=\"608\" y=\"-187.3\" font-family=\"Times,serif\" font-size=\"14.00\">class</text>\n<polyline fill=\"none\" stroke=\"black\" points=\"634,-179.5 634,-202.5 \"/>\n<text text-anchor=\"middle\" x=\"647.5\" y=\"-187.3\" font-family=\"Times,serif\" font-size=\"14.00\">1</text>\n<polyline fill=\"none\" stroke=\"black\" points=\"582,-179.5 661,-179.5 \"/>\n<text text-anchor=\"middle\" x=\"608.5\" y=\"-164.3\" font-family=\"Times,serif\" font-size=\"14.00\">error</text>\n<polyline fill=\"none\" stroke=\"black\" points=\"635,-156.5 635,-179.5 \"/>\n<text text-anchor=\"middle\" x=\"648\" y=\"-164.3\" font-family=\"Times,serif\" font-size=\"14.00\">0</text>\n</g>\n<!-- node_3a01e43c_4b7b_4bed_b3ee_931804b6ccb8&#45;&gt;leaf_cb7a7a99_bbce_4de5_b113_2a2c46026cca -->\n<g id=\"edge19\" class=\"edge\">\n<title>node_3a01e43c_4b7b_4bed_b3ee_931804b6ccb8&#45;&gt;leaf_cb7a7a99_bbce_4de5_b113_2a2c46026cca</title>\n<path fill=\"none\" stroke=\"black\" d=\"M645.47,-239.25C642.18,-231.19 638.16,-221.33 634.35,-212.01\"/>\n<polygon fill=\"black\" stroke=\"black\" points=\"637.53,-210.53 630.51,-202.59 631.05,-213.17 637.53,-210.53\"/>\n<text text-anchor=\"middle\" x=\"645.5\" y=\"-214.8\" font-family=\"Times,serif\" font-size=\"14.00\">1</text>\n</g>\n<!-- node_03556370_5ce2_4d1c_884d_2526f103b611 -->\n<g id=\"node21\" class=\"node\">\n<title>node_03556370_5ce2_4d1c_884d_2526f103b611</title>\n<polygon fill=\"none\" stroke=\"black\" points=\"679.5,-161.5 679.5,-197.5 749.5,-197.5 749.5,-161.5 679.5,-161.5\"/>\n<text text-anchor=\"middle\" x=\"701.5\" y=\"-175.8\" font-family=\"Times,serif\" font-size=\"14.00\">feat</text>\n<polyline fill=\"none\" stroke=\"black\" points=\"723.5,-161.5 723.5,-197.5 \"/>\n<text text-anchor=\"middle\" x=\"736.5\" y=\"-175.8\" font-family=\"Times,serif\" font-size=\"14.00\">7</text>\n</g>\n<!-- node_3a01e43c_4b7b_4bed_b3ee_931804b6ccb8&#45;&gt;node_03556370_5ce2_4d1c_884d_2526f103b611 -->\n<g id=\"edge20\" class=\"edge\">\n<title>node_3a01e43c_4b7b_4bed_b3ee_931804b6ccb8&#45;&gt;node_03556370_5ce2_4d1c_884d_2526f103b611</title>\n<path fill=\"none\" stroke=\"black\" d=\"M666.57,-239.25C674.65,-229.34 684.96,-216.71 693.94,-205.71\"/>\n<polygon fill=\"black\" stroke=\"black\" points=\"696.88,-207.64 700.49,-197.68 691.45,-203.21 696.88,-207.64\"/>\n<text text-anchor=\"middle\" x=\"694.5\" y=\"-214.8\" font-family=\"Times,serif\" font-size=\"14.00\">0</text>\n</g>\n<!-- leaf_49c6e138_c328_4d01_9859_d2d37c7d47dc -->\n<g id=\"node22\" class=\"node\">\n<title>leaf_49c6e138_c328_4d01_9859_d2d37c7d47dc</title>\n<polygon fill=\"none\" stroke=\"black\" points=\"628,-78.5 628,-124.5 707,-124.5 707,-78.5 628,-78.5\"/>\n<text text-anchor=\"middle\" x=\"654\" y=\"-109.3\" font-family=\"Times,serif\" font-size=\"14.00\">class</text>\n<polyline fill=\"none\" stroke=\"black\" points=\"680,-101.5 680,-124.5 \"/>\n<text text-anchor=\"middle\" x=\"693.5\" y=\"-109.3\" font-family=\"Times,serif\" font-size=\"14.00\">1</text>\n<polyline fill=\"none\" stroke=\"black\" points=\"628,-101.5 707,-101.5 \"/>\n<text text-anchor=\"middle\" x=\"654.5\" y=\"-86.3\" font-family=\"Times,serif\" font-size=\"14.00\">error</text>\n<polyline fill=\"none\" stroke=\"black\" points=\"681,-78.5 681,-101.5 \"/>\n<text text-anchor=\"middle\" x=\"694\" y=\"-86.3\" font-family=\"Times,serif\" font-size=\"14.00\">0</text>\n</g>\n<!-- node_03556370_5ce2_4d1c_884d_2526f103b611&#45;&gt;leaf_49c6e138_c328_4d01_9859_d2d37c7d47dc -->\n<g id=\"edge21\" class=\"edge\">\n<title>node_03556370_5ce2_4d1c_884d_2526f103b611&#45;&gt;leaf_49c6e138_c328_4d01_9859_d2d37c7d47dc</title>\n<path fill=\"none\" stroke=\"black\" d=\"M703.83,-161.25C698.69,-152.94 692.37,-142.71 686.44,-133.13\"/>\n<polygon fill=\"black\" stroke=\"black\" points=\"689.4,-131.25 681.16,-124.59 683.44,-134.94 689.4,-131.25\"/>\n<text text-anchor=\"middle\" x=\"700.5\" y=\"-136.8\" font-family=\"Times,serif\" font-size=\"14.00\">1</text>\n</g>\n<!-- node_bbe38071_23b0_428f_98eb_cf54740a3c6c -->\n<g id=\"node23\" class=\"node\">\n<title>node_bbe38071_23b0_428f_98eb_cf54740a3c6c</title>\n<polygon fill=\"none\" stroke=\"black\" points=\"725.5,-83.5 725.5,-119.5 795.5,-119.5 795.5,-83.5 725.5,-83.5\"/>\n<text text-anchor=\"middle\" x=\"747.5\" y=\"-97.8\" font-family=\"Times,serif\" font-size=\"14.00\">feat</text>\n<polyline fill=\"none\" stroke=\"black\" points=\"769.5,-83.5 769.5,-119.5 \"/>\n<text text-anchor=\"middle\" x=\"782.5\" y=\"-97.8\" font-family=\"Times,serif\" font-size=\"14.00\">0</text>\n</g>\n<!-- node_03556370_5ce2_4d1c_884d_2526f103b611&#45;&gt;node_bbe38071_23b0_428f_98eb_cf54740a3c6c -->\n<g id=\"edge22\" class=\"edge\">\n<title>node_03556370_5ce2_4d1c_884d_2526f103b611&#45;&gt;node_bbe38071_23b0_428f_98eb_cf54740a3c6c</title>\n<path fill=\"none\" stroke=\"black\" d=\"M724.94,-161.25C730.82,-151.54 738.28,-139.21 744.85,-128.36\"/>\n<polygon fill=\"black\" stroke=\"black\" points=\"747.92,-130.04 750.1,-119.68 741.93,-126.42 747.92,-130.04\"/>\n<text text-anchor=\"middle\" x=\"747.5\" y=\"-136.8\" font-family=\"Times,serif\" font-size=\"14.00\">0</text>\n</g>\n<!-- leaf_16f1549f_2dc8_4a65_bb16_2b6ca5edf64c -->\n<g id=\"node24\" class=\"node\">\n<title>leaf_16f1549f_2dc8_4a65_bb16_2b6ca5edf64c</title>\n<polygon fill=\"none\" stroke=\"black\" points=\"672,-0.5 672,-46.5 751,-46.5 751,-0.5 672,-0.5\"/>\n<text text-anchor=\"middle\" x=\"698\" y=\"-31.3\" font-family=\"Times,serif\" font-size=\"14.00\">class</text>\n<polyline fill=\"none\" stroke=\"black\" points=\"724,-23.5 724,-46.5 \"/>\n<text text-anchor=\"middle\" x=\"737.5\" y=\"-31.3\" font-family=\"Times,serif\" font-size=\"14.00\">0</text>\n<polyline fill=\"none\" stroke=\"black\" points=\"672,-23.5 751,-23.5 \"/>\n<text text-anchor=\"middle\" x=\"698.5\" y=\"-8.3\" font-family=\"Times,serif\" font-size=\"14.00\">error</text>\n<polyline fill=\"none\" stroke=\"black\" points=\"725,-0.5 725,-23.5 \"/>\n<text text-anchor=\"middle\" x=\"738\" y=\"-8.3\" font-family=\"Times,serif\" font-size=\"14.00\">0</text>\n</g>\n<!-- node_bbe38071_23b0_428f_98eb_cf54740a3c6c&#45;&gt;leaf_16f1549f_2dc8_4a65_bb16_2b6ca5edf64c -->\n<g id=\"edge23\" class=\"edge\">\n<title>node_bbe38071_23b0_428f_98eb_cf54740a3c6c&#45;&gt;leaf_16f1549f_2dc8_4a65_bb16_2b6ca5edf64c</title>\n<path fill=\"none\" stroke=\"black\" d=\"M749.38,-83.25C744.02,-74.94 737.43,-64.71 731.25,-55.13\"/>\n<polygon fill=\"black\" stroke=\"black\" points=\"734.1,-53.1 725.74,-46.59 728.22,-56.89 734.1,-53.1\"/>\n<text text-anchor=\"middle\" x=\"745.5\" y=\"-58.8\" font-family=\"Times,serif\" font-size=\"14.00\">1</text>\n</g>\n<!-- leaf_44e83f8d_d9cb_4ee2_91a1_6dec1c9eda1c -->\n<g id=\"node25\" class=\"node\">\n<title>leaf_44e83f8d_d9cb_4ee2_91a1_6dec1c9eda1c</title>\n<polygon fill=\"none\" stroke=\"black\" points=\"769,-0.5 769,-46.5 848,-46.5 848,-0.5 769,-0.5\"/>\n<text text-anchor=\"middle\" x=\"795\" y=\"-31.3\" font-family=\"Times,serif\" font-size=\"14.00\">class</text>\n<polyline fill=\"none\" stroke=\"black\" points=\"821,-23.5 821,-46.5 \"/>\n<text text-anchor=\"middle\" x=\"834.5\" y=\"-31.3\" font-family=\"Times,serif\" font-size=\"14.00\">0</text>\n<polyline fill=\"none\" stroke=\"black\" points=\"769,-23.5 848,-23.5 \"/>\n<text text-anchor=\"middle\" x=\"795.5\" y=\"-8.3\" font-family=\"Times,serif\" font-size=\"14.00\">error</text>\n<polyline fill=\"none\" stroke=\"black\" points=\"822,-0.5 822,-23.5 \"/>\n<text text-anchor=\"middle\" x=\"835\" y=\"-8.3\" font-family=\"Times,serif\" font-size=\"14.00\">0</text>\n</g>\n<!-- node_bbe38071_23b0_428f_98eb_cf54740a3c6c&#45;&gt;leaf_44e83f8d_d9cb_4ee2_91a1_6dec1c9eda1c -->\n<g id=\"edge24\" class=\"edge\">\n<title>node_bbe38071_23b0_428f_98eb_cf54740a3c6c&#45;&gt;leaf_44e83f8d_d9cb_4ee2_91a1_6dec1c9eda1c</title>\n<path fill=\"none\" stroke=\"black\" d=\"M771.39,-83.25C776.64,-74.94 783.1,-64.71 789.15,-55.13\"/>\n<polygon fill=\"black\" stroke=\"black\" points=\"792.17,-56.91 794.55,-46.59 786.25,-53.18 792.17,-56.91\"/>\n<text text-anchor=\"middle\" x=\"794.5\" y=\"-58.8\" font-family=\"Times,serif\" font-size=\"14.00\">0</text>\n</g>\n<!-- leaf_52c5e815_f809_4615_8ba5_db3afd4f10c3 -->\n<g id=\"node27\" class=\"node\">\n<title>leaf_52c5e815_f809_4615_8ba5_db3afd4f10c3</title>\n<polygon fill=\"none\" stroke=\"black\" points=\"768,-156.5 768,-202.5 847,-202.5 847,-156.5 768,-156.5\"/>\n<text text-anchor=\"middle\" x=\"794\" y=\"-187.3\" font-family=\"Times,serif\" font-size=\"14.00\">class</text>\n<polyline fill=\"none\" stroke=\"black\" points=\"820,-179.5 820,-202.5 \"/>\n<text text-anchor=\"middle\" x=\"833.5\" y=\"-187.3\" font-family=\"Times,serif\" font-size=\"14.00\">0</text>\n<polyline fill=\"none\" stroke=\"black\" points=\"768,-179.5 847,-179.5 \"/>\n<text text-anchor=\"middle\" x=\"794.5\" y=\"-164.3\" font-family=\"Times,serif\" font-size=\"14.00\">error</text>\n<polyline fill=\"none\" stroke=\"black\" points=\"821,-156.5 821,-179.5 \"/>\n<text text-anchor=\"middle\" x=\"834\" y=\"-164.3\" font-family=\"Times,serif\" font-size=\"14.00\">0</text>\n</g>\n<!-- node_30d627d6_8577_40c5_90d3_155a6410e440&#45;&gt;leaf_52c5e815_f809_4615_8ba5_db3afd4f10c3 -->\n<g id=\"edge26\" class=\"edge\">\n<title>node_30d627d6_8577_40c5_90d3_155a6410e440&#45;&gt;leaf_52c5e815_f809_4615_8ba5_db3afd4f10c3</title>\n<path fill=\"none\" stroke=\"black\" d=\"M807.5,-239.25C807.5,-231.36 807.5,-221.75 807.5,-212.6\"/>\n<polygon fill=\"black\" stroke=\"black\" points=\"811,-212.59 807.5,-202.59 804,-212.59 811,-212.59\"/>\n<text text-anchor=\"middle\" x=\"812.5\" y=\"-214.8\" font-family=\"Times,serif\" font-size=\"14.00\">1</text>\n</g>\n<!-- node_33d114cc_64b9_4cd8_9ece_ddcc79c42f8f -->\n<g id=\"node28\" class=\"node\">\n<title>node_33d114cc_64b9_4cd8_9ece_ddcc79c42f8f</title>\n<polygon fill=\"none\" stroke=\"black\" points=\"865.5,-161.5 865.5,-197.5 935.5,-197.5 935.5,-161.5 865.5,-161.5\"/>\n<text text-anchor=\"middle\" x=\"887.5\" y=\"-175.8\" font-family=\"Times,serif\" font-size=\"14.00\">feat</text>\n<polyline fill=\"none\" stroke=\"black\" points=\"909.5,-161.5 909.5,-197.5 \"/>\n<text text-anchor=\"middle\" x=\"922.5\" y=\"-175.8\" font-family=\"Times,serif\" font-size=\"14.00\">8</text>\n</g>\n<!-- node_30d627d6_8577_40c5_90d3_155a6410e440&#45;&gt;node_33d114cc_64b9_4cd8_9ece_ddcc79c42f8f -->\n<g id=\"edge27\" class=\"edge\">\n<title>node_30d627d6_8577_40c5_90d3_155a6410e440&#45;&gt;node_33d114cc_64b9_4cd8_9ece_ddcc79c42f8f</title>\n<path fill=\"none\" stroke=\"black\" d=\"M828.6,-239.25C841.33,-228.86 857.71,-215.47 871.62,-204.1\"/>\n<polygon fill=\"black\" stroke=\"black\" points=\"873.95,-206.72 879.48,-197.68 869.52,-201.3 873.95,-206.72\"/>\n<text text-anchor=\"middle\" x=\"867.5\" y=\"-214.8\" font-family=\"Times,serif\" font-size=\"14.00\">0</text>\n</g>\n<!-- leaf_bfa50e7a_4f6b_4079_927b_5f0a240ea330 -->\n<g id=\"node29\" class=\"node\">\n<title>leaf_bfa50e7a_4f6b_4079_927b_5f0a240ea330</title>\n<polygon fill=\"none\" stroke=\"black\" points=\"845,-78.5 845,-124.5 924,-124.5 924,-78.5 845,-78.5\"/>\n<text text-anchor=\"middle\" x=\"871\" y=\"-109.3\" font-family=\"Times,serif\" font-size=\"14.00\">class</text>\n<polyline fill=\"none\" stroke=\"black\" points=\"897,-101.5 897,-124.5 \"/>\n<text text-anchor=\"middle\" x=\"910.5\" y=\"-109.3\" font-family=\"Times,serif\" font-size=\"14.00\">0</text>\n<polyline fill=\"none\" stroke=\"black\" points=\"845,-101.5 924,-101.5 \"/>\n<text text-anchor=\"middle\" x=\"871.5\" y=\"-86.3\" font-family=\"Times,serif\" font-size=\"14.00\">error</text>\n<polyline fill=\"none\" stroke=\"black\" points=\"898,-78.5 898,-101.5 \"/>\n<text text-anchor=\"middle\" x=\"911\" y=\"-86.3\" font-family=\"Times,serif\" font-size=\"14.00\">0</text>\n</g>\n<!-- node_33d114cc_64b9_4cd8_9ece_ddcc79c42f8f&#45;&gt;leaf_bfa50e7a_4f6b_4079_927b_5f0a240ea330 -->\n<g id=\"edge28\" class=\"edge\">\n<title>node_33d114cc_64b9_4cd8_9ece_ddcc79c42f8f&#45;&gt;leaf_bfa50e7a_4f6b_4079_927b_5f0a240ea330</title>\n<path fill=\"none\" stroke=\"black\" d=\"M896.87,-161.25C895.21,-153.36 893.18,-143.75 891.26,-134.6\"/>\n<polygon fill=\"black\" stroke=\"black\" points=\"894.64,-133.66 889.15,-124.59 887.79,-135.1 894.64,-133.66\"/>\n<text text-anchor=\"middle\" x=\"899.5\" y=\"-136.8\" font-family=\"Times,serif\" font-size=\"14.00\">1</text>\n</g>\n<!-- leaf_6a491cfa_b815_471b_b777_381dad566cee -->\n<g id=\"node30\" class=\"node\">\n<title>leaf_6a491cfa_b815_471b_b777_381dad566cee</title>\n<polygon fill=\"none\" stroke=\"black\" points=\"942,-78.5 942,-124.5 1021,-124.5 1021,-78.5 942,-78.5\"/>\n<text text-anchor=\"middle\" x=\"968\" y=\"-109.3\" font-family=\"Times,serif\" font-size=\"14.00\">class</text>\n<polyline fill=\"none\" stroke=\"black\" points=\"994,-101.5 994,-124.5 \"/>\n<text text-anchor=\"middle\" x=\"1007.5\" y=\"-109.3\" font-family=\"Times,serif\" font-size=\"14.00\">0</text>\n<polyline fill=\"none\" stroke=\"black\" points=\"942,-101.5 1021,-101.5 \"/>\n<text text-anchor=\"middle\" x=\"968.5\" y=\"-86.3\" font-family=\"Times,serif\" font-size=\"14.00\">error</text>\n<polyline fill=\"none\" stroke=\"black\" points=\"995,-78.5 995,-101.5 \"/>\n<text text-anchor=\"middle\" x=\"1008\" y=\"-86.3\" font-family=\"Times,serif\" font-size=\"14.00\">0</text>\n</g>\n<!-- node_33d114cc_64b9_4cd8_9ece_ddcc79c42f8f&#45;&gt;leaf_6a491cfa_b815_471b_b777_381dad566cee -->\n<g id=\"edge29\" class=\"edge\">\n<title>node_33d114cc_64b9_4cd8_9ece_ddcc79c42f8f&#45;&gt;leaf_6a491cfa_b815_471b_b777_381dad566cee</title>\n<path fill=\"none\" stroke=\"black\" d=\"M918.88,-161.25C928.2,-152.51 939.76,-141.66 950.41,-131.67\"/>\n<polygon fill=\"black\" stroke=\"black\" points=\"953.06,-133.99 957.96,-124.59 948.27,-128.88 953.06,-133.99\"/>\n<text text-anchor=\"middle\" x=\"953.5\" y=\"-136.8\" font-family=\"Times,serif\" font-size=\"14.00\">0</text>\n</g>\n</g>\n</svg>\n",
      "text/plain": [
       "<graphviz.sources.Source at 0x7ff6d01e4370>"
      ]
     },
     "execution_count": 20,
     "metadata": {},
     "output_type": "execute_result"
    }
   ],
   "source": [
    "dot = clf.export_graphviz()\n",
    "graphviz.Source(dot)"
   ]
  },
  {
   "cell_type": "code",
   "execution_count": 22,
   "metadata": {
    "collapsed": false,
    "pycharm": {
     "name": "#%%\n"
    }
   },
   "outputs": [],
   "source": [
    "import uuid\n",
    "from sklearn.exceptions import NotFittedError\n",
    "from pydl85.errors.errors import TreeNotFoundError, SearchFailedError\n",
    "\n",
    "\n",
    "def get_dot_body(treedict, parent=None, left=True):\n",
    "    gstring = \"\"\n",
    "    id = str(uuid.uuid4())\n",
    "    id = id.replace('-', '_')\n",
    "\n",
    "    if \"feat\" in treedict.keys():\n",
    "        feat = treedict[\"feat\"]\n",
    "        if parent is None:\n",
    "            gstring += \"node_\" + id + \" [label=\\\"{{feat|\" + str(feat) + \"}}\\\"];\\n\"\n",
    "            gstring += get_dot_body(treedict[\"left\"], id)\n",
    "            gstring += get_dot_body(treedict[\"right\"], id, False)\n",
    "        else:\n",
    "            gstring += \"node_\" + id + \" [label=\\\"{{feat|\" + str(feat) + \"}}\\\"];\\n\"\n",
    "            gstring += \"node_\" + parent + \" -> node_\" + id + \" [label=\" + str(int(left)) + \"];\\n\"\n",
    "            gstring += get_dot_body(treedict[\"left\"], id)\n",
    "            gstring += get_dot_body(treedict[\"right\"], id, False)\n",
    "    else:\n",
    "        val = str(int(treedict[\"value\"])) if treedict[\"value\"] - int(treedict[\"value\"]) == 0 else str(\n",
    "            round(treedict[\"value\"], 3))\n",
    "        err = str(int(treedict[\"error\"])) if treedict[\"error\"] - int(treedict[\"error\"]) == 0 else str(\n",
    "            round(treedict[\"error\"], 3))\n",
    "        values = str(treedict[\"values\"])\n",
    "\n",
    "        gstring += \"leaf_\" + id + \" [label=\\\"{{class|\" + val + \"}|{error|\" + err + \"}|{values|\" + values + \"}}\\\"];\\n\"\n",
    "        #+ \"}|{true positive|\" + true_pos + \"}|{false positive|\" + false_pos + \"}|{true negative|\" + true_neg + \"}|{false negative|\" + false_neg \\\n",
    "\n",
    "        gstring += \"node_\" + parent + \" -> leaf_\" + id + \" [label=\" + str(int(left)) + \"];\\n\"\n",
    "    return gstring\n",
    "\n",
    "\n",
    "def export_graphviz(clf):\n",
    "    if clf.is_fitted_ is False:  # fit method has not been called\n",
    "        raise NotFittedError(\"Call fit method first\" % {'name': type(clf).__name__})\n",
    "\n",
    "    if clf.tree_ is None:\n",
    "        raise TreeNotFoundError(\"predict(): \", \"Tree not found during training by DL8.5 - \"\n",
    "                                               \"Check fitting message for more info.\")\n",
    "\n",
    "    if hasattr(clf, 'tree_') is False:  # normally this case is not possible.\n",
    "        raise SearchFailedError(\"PredictionError: \", \"DL8.5 training has failed. Please contact the developers \"\n",
    "                                                     \"if the problem is in the scope supported by the tool.\")\n",
    "\n",
    "    # initialize the header\n",
    "    graph_string = \"digraph Tree { \\n \" \\\n",
    "                   \"graph [ranksep=0]; \\n \" \\\n",
    "                   \"node [shape=record]; \\n\"\n",
    "\n",
    "    # build the body\n",
    "    graph_string += get_dot_body(clf.tree_)\n",
    "\n",
    "    # end by the footer\n",
    "    graph_string += \"}\"\n",
    "\n",
    "    return graph_string"
   ]
  },
  {
   "cell_type": "code",
   "execution_count": 23,
   "metadata": {
    "collapsed": false,
    "pycharm": {
     "name": "#%%\n"
    }
   },
   "outputs": [
    {
     "data": {
      "image/svg+xml": "<?xml version=\"1.0\" encoding=\"UTF-8\" standalone=\"no\"?>\n<!DOCTYPE svg PUBLIC \"-//W3C//DTD SVG 1.1//EN\"\n \"http://www.w3.org/Graphics/SVG/1.1/DTD/svg11.dtd\">\n<!-- Generated by graphviz version 2.43.0 (0)\n -->\n<!-- Title: Tree Pages: 1 -->\n<svg width=\"1667pt\" height=\"719pt\"\n viewBox=\"0.00 0.00 1666.50 719.00\" xmlns=\"http://www.w3.org/2000/svg\" xmlns:xlink=\"http://www.w3.org/1999/xlink\">\n<g id=\"graph0\" class=\"graph\" transform=\"scale(1 1) rotate(0) translate(4 715)\">\n<title>Tree</title>\n<polygon fill=\"white\" stroke=\"transparent\" points=\"-4,4 -4,-715 1662.5,-715 1662.5,4 -4,4\"/>\n<!-- node_8dce9701_b168_4b44_af1a_5c7439430960 -->\n<g id=\"node1\" class=\"node\">\n<title>node_8dce9701_b168_4b44_af1a_5c7439430960</title>\n<polygon fill=\"none\" stroke=\"black\" points=\"801,-674.5 801,-710.5 880,-710.5 880,-674.5 801,-674.5\"/>\n<text text-anchor=\"middle\" x=\"823\" y=\"-688.8\" font-family=\"Times,serif\" font-size=\"14.00\">feat</text>\n<polyline fill=\"none\" stroke=\"black\" points=\"845,-674.5 845,-710.5 \"/>\n<text text-anchor=\"middle\" x=\"862.5\" y=\"-688.8\" font-family=\"Times,serif\" font-size=\"14.00\">10</text>\n</g>\n<!-- leaf_1c9b9df7_72ac_4645_b7f7_9e3276a1dfc9 -->\n<g id=\"node2\" class=\"node\">\n<title>leaf_1c9b9df7_72ac_4645_b7f7_9e3276a1dfc9</title>\n<polygon fill=\"none\" stroke=\"black\" points=\"748.5,-573.5 748.5,-642.5 900.5,-642.5 900.5,-573.5 748.5,-573.5\"/>\n<text text-anchor=\"middle\" x=\"793\" y=\"-627.3\" font-family=\"Times,serif\" font-size=\"14.00\">class</text>\n<polyline fill=\"none\" stroke=\"black\" points=\"837.5,-619.5 837.5,-642.5 \"/>\n<text text-anchor=\"middle\" x=\"869\" y=\"-627.3\" font-family=\"Times,serif\" font-size=\"14.00\">1</text>\n<polyline fill=\"none\" stroke=\"black\" points=\"748.5,-619.5 900.5,-619.5 \"/>\n<text text-anchor=\"middle\" x=\"793\" y=\"-604.3\" font-family=\"Times,serif\" font-size=\"14.00\">error</text>\n<polyline fill=\"none\" stroke=\"black\" points=\"837.5,-596.5 837.5,-619.5 \"/>\n<text text-anchor=\"middle\" x=\"869\" y=\"-604.3\" font-family=\"Times,serif\" font-size=\"14.00\">0</text>\n<polyline fill=\"none\" stroke=\"black\" points=\"748.5,-596.5 900.5,-596.5 \"/>\n<text text-anchor=\"middle\" x=\"779.5\" y=\"-581.3\" font-family=\"Times,serif\" font-size=\"14.00\">values</text>\n<polyline fill=\"none\" stroke=\"black\" points=\"810.5,-573.5 810.5,-596.5 \"/>\n<text text-anchor=\"middle\" x=\"855.5\" y=\"-581.3\" font-family=\"Times,serif\" font-size=\"14.00\">[0.0, 32.0]</text>\n</g>\n<!-- node_8dce9701_b168_4b44_af1a_5c7439430960&#45;&gt;leaf_1c9b9df7_72ac_4645_b7f7_9e3276a1dfc9 -->\n<g id=\"edge1\" class=\"edge\">\n<title>node_8dce9701_b168_4b44_af1a_5c7439430960&#45;&gt;leaf_1c9b9df7_72ac_4645_b7f7_9e3276a1dfc9</title>\n<path fill=\"none\" stroke=\"black\" d=\"M837.18,-674.41C835.95,-668.04 834.49,-660.49 833,-652.82\"/>\n<polygon fill=\"black\" stroke=\"black\" points=\"836.39,-651.91 831.05,-642.75 829.51,-653.24 836.39,-651.91\"/>\n<text text-anchor=\"middle\" x=\"840.5\" y=\"-654.8\" font-family=\"Times,serif\" font-size=\"14.00\">1</text>\n</g>\n<!-- node_8a8268f7_7c40_4b5f_9a9b_20bb74137dea -->\n<g id=\"node3\" class=\"node\">\n<title>node_8a8268f7_7c40_4b5f_9a9b_20bb74137dea</title>\n<polygon fill=\"none\" stroke=\"black\" points=\"918.5,-590 918.5,-626 988.5,-626 988.5,-590 918.5,-590\"/>\n<text text-anchor=\"middle\" x=\"940.5\" y=\"-604.3\" font-family=\"Times,serif\" font-size=\"14.00\">feat</text>\n<polyline fill=\"none\" stroke=\"black\" points=\"962.5,-590 962.5,-626 \"/>\n<text text-anchor=\"middle\" x=\"975.5\" y=\"-604.3\" font-family=\"Times,serif\" font-size=\"14.00\">9</text>\n</g>\n<!-- node_8dce9701_b168_4b44_af1a_5c7439430960&#45;&gt;node_8a8268f7_7c40_4b5f_9a9b_20bb74137dea -->\n<g id=\"edge2\" class=\"edge\">\n<title>node_8dce9701_b168_4b44_af1a_5c7439430960&#45;&gt;node_8a8268f7_7c40_4b5f_9a9b_20bb74137dea</title>\n<path fill=\"none\" stroke=\"black\" d=\"M865.28,-674.48C878.51,-665.3 895,-653.69 909.5,-643 914.07,-639.63 918.85,-636.02 923.52,-632.46\"/>\n<polygon fill=\"black\" stroke=\"black\" points=\"925.93,-635.02 931.72,-626.15 921.66,-629.47 925.93,-635.02\"/>\n<text text-anchor=\"middle\" x=\"903.5\" y=\"-654.8\" font-family=\"Times,serif\" font-size=\"14.00\">0</text>\n</g>\n<!-- node_3bcb0c7e_4632_4f2a_a1fd_add49e7a0146 -->\n<g id=\"node4\" class=\"node\">\n<title>node_3bcb0c7e_4632_4f2a_a1fd_add49e7a0146</title>\n<polygon fill=\"none\" stroke=\"black\" points=\"641.5,-505.5 641.5,-541.5 711.5,-541.5 711.5,-505.5 641.5,-505.5\"/>\n<text text-anchor=\"middle\" x=\"663.5\" y=\"-519.8\" font-family=\"Times,serif\" font-size=\"14.00\">feat</text>\n<polyline fill=\"none\" stroke=\"black\" points=\"685.5,-505.5 685.5,-541.5 \"/>\n<text text-anchor=\"middle\" x=\"698.5\" y=\"-519.8\" font-family=\"Times,serif\" font-size=\"14.00\">2</text>\n</g>\n<!-- node_8a8268f7_7c40_4b5f_9a9b_20bb74137dea&#45;&gt;node_3bcb0c7e_4632_4f2a_a1fd_add49e7a0146 -->\n<g id=\"edge3\" class=\"edge\">\n<title>node_8a8268f7_7c40_4b5f_9a9b_20bb74137dea&#45;&gt;node_3bcb0c7e_4632_4f2a_a1fd_add49e7a0146</title>\n<path fill=\"none\" stroke=\"black\" d=\"M935.03,-589.72C927.59,-583.6 918.62,-577.2 909.5,-573 848.14,-544.74 770.11,-532.8 721.74,-527.85\"/>\n<polygon fill=\"black\" stroke=\"black\" points=\"721.88,-524.35 711.59,-526.87 721.21,-531.32 721.88,-524.35\"/>\n<text text-anchor=\"middle\" x=\"891.5\" y=\"-553.8\" font-family=\"Times,serif\" font-size=\"14.00\">1</text>\n</g>\n<!-- node_02e32fef_3a11_4de0_b5a8_23319d0b122e -->\n<g id=\"node17\" class=\"node\">\n<title>node_02e32fef_3a11_4de0_b5a8_23319d0b122e</title>\n<polygon fill=\"none\" stroke=\"black\" points=\"1059.5,-505.5 1059.5,-541.5 1129.5,-541.5 1129.5,-505.5 1059.5,-505.5\"/>\n<text text-anchor=\"middle\" x=\"1081.5\" y=\"-519.8\" font-family=\"Times,serif\" font-size=\"14.00\">feat</text>\n<polyline fill=\"none\" stroke=\"black\" points=\"1103.5,-505.5 1103.5,-541.5 \"/>\n<text text-anchor=\"middle\" x=\"1116.5\" y=\"-519.8\" font-family=\"Times,serif\" font-size=\"14.00\">1</text>\n</g>\n<!-- node_8a8268f7_7c40_4b5f_9a9b_20bb74137dea&#45;&gt;node_02e32fef_3a11_4de0_b5a8_23319d0b122e -->\n<g id=\"edge16\" class=\"edge\">\n<title>node_8a8268f7_7c40_4b5f_9a9b_20bb74137dea&#45;&gt;node_02e32fef_3a11_4de0_b5a8_23319d0b122e</title>\n<path fill=\"none\" stroke=\"black\" d=\"M982.72,-589.91C1004.08,-577.41 1033.25,-560.34 1056.44,-546.77\"/>\n<polygon fill=\"black\" stroke=\"black\" points=\"1058.46,-549.64 1065.32,-541.57 1054.92,-543.6 1058.46,-549.64\"/>\n<text text-anchor=\"middle\" x=\"1054.5\" y=\"-553.8\" font-family=\"Times,serif\" font-size=\"14.00\">0</text>\n</g>\n<!-- node_554f5c15_c2a9_4bcb_b1a1_e2c7d485e86a -->\n<g id=\"node5\" class=\"node\">\n<title>node_554f5c15_c2a9_4bcb_b1a1_e2c7d485e86a</title>\n<polygon fill=\"none\" stroke=\"black\" points=\"440.5,-421 440.5,-457 510.5,-457 510.5,-421 440.5,-421\"/>\n<text text-anchor=\"middle\" x=\"462.5\" y=\"-435.3\" font-family=\"Times,serif\" font-size=\"14.00\">feat</text>\n<polyline fill=\"none\" stroke=\"black\" points=\"484.5,-421 484.5,-457 \"/>\n<text text-anchor=\"middle\" x=\"497.5\" y=\"-435.3\" font-family=\"Times,serif\" font-size=\"14.00\">1</text>\n</g>\n<!-- node_3bcb0c7e_4632_4f2a_a1fd_add49e7a0146&#45;&gt;node_554f5c15_c2a9_4bcb_b1a1_e2c7d485e86a -->\n<g id=\"edge4\" class=\"edge\">\n<title>node_3bcb0c7e_4632_4f2a_a1fd_add49e7a0146&#45;&gt;node_554f5c15_c2a9_4bcb_b1a1_e2c7d485e86a</title>\n<path fill=\"none\" stroke=\"black\" d=\"M641.49,-508.13C607.83,-494.31 556.81,-473.37 520.22,-458.36\"/>\n<polygon fill=\"black\" stroke=\"black\" points=\"521.36,-455.04 510.78,-454.48 518.71,-461.52 521.36,-455.04\"/>\n<text text-anchor=\"middle\" x=\"616.5\" y=\"-485.8\" font-family=\"Times,serif\" font-size=\"14.00\">1</text>\n</g>\n<!-- node_08d9c725_9cfc_46a5_92b8_291359b3a50f -->\n<g id=\"node12\" class=\"node\">\n<title>node_08d9c725_9cfc_46a5_92b8_291359b3a50f</title>\n<polygon fill=\"none\" stroke=\"black\" points=\"641.5,-421 641.5,-457 711.5,-457 711.5,-421 641.5,-421\"/>\n<text text-anchor=\"middle\" x=\"663.5\" y=\"-435.3\" font-family=\"Times,serif\" font-size=\"14.00\">feat</text>\n<polyline fill=\"none\" stroke=\"black\" points=\"685.5,-421 685.5,-457 \"/>\n<text text-anchor=\"middle\" x=\"698.5\" y=\"-435.3\" font-family=\"Times,serif\" font-size=\"14.00\">0</text>\n</g>\n<!-- node_3bcb0c7e_4632_4f2a_a1fd_add49e7a0146&#45;&gt;node_08d9c725_9cfc_46a5_92b8_291359b3a50f -->\n<g id=\"edge11\" class=\"edge\">\n<title>node_3bcb0c7e_4632_4f2a_a1fd_add49e7a0146&#45;&gt;node_08d9c725_9cfc_46a5_92b8_291359b3a50f</title>\n<path fill=\"none\" stroke=\"black\" d=\"M676.5,-505.41C676.5,-494.34 676.5,-479.7 676.5,-467.08\"/>\n<polygon fill=\"black\" stroke=\"black\" points=\"680,-467.07 676.5,-457.07 673,-467.07 680,-467.07\"/>\n<text text-anchor=\"middle\" x=\"681.5\" y=\"-485.8\" font-family=\"Times,serif\" font-size=\"14.00\">0</text>\n</g>\n<!-- node_b2954823_a61e_43fa_944d_7a8a859a92a0 -->\n<g id=\"node6\" class=\"node\">\n<title>node_b2954823_a61e_43fa_944d_7a8a859a92a0</title>\n<polygon fill=\"none\" stroke=\"black\" points=\"215.5,-320 215.5,-356 285.5,-356 285.5,-320 215.5,-320\"/>\n<text text-anchor=\"middle\" x=\"237.5\" y=\"-334.3\" font-family=\"Times,serif\" font-size=\"14.00\">feat</text>\n<polyline fill=\"none\" stroke=\"black\" points=\"259.5,-320 259.5,-356 \"/>\n<text text-anchor=\"middle\" x=\"272.5\" y=\"-334.3\" font-family=\"Times,serif\" font-size=\"14.00\">0</text>\n</g>\n<!-- node_554f5c15_c2a9_4bcb_b1a1_e2c7d485e86a&#45;&gt;node_b2954823_a61e_43fa_944d_7a8a859a92a0 -->\n<g id=\"edge5\" class=\"edge\">\n<title>node_554f5c15_c2a9_4bcb_b1a1_e2c7d485e86a&#45;&gt;node_b2954823_a61e_43fa_944d_7a8a859a92a0</title>\n<path fill=\"none\" stroke=\"black\" d=\"M440.34,-422.53C401.16,-405.29 337.72,-377.38 295.08,-358.61\"/>\n<polygon fill=\"black\" stroke=\"black\" points=\"296.34,-355.35 285.78,-354.52 293.52,-361.75 296.34,-355.35\"/>\n<text text-anchor=\"middle\" x=\"381.5\" y=\"-384.8\" font-family=\"Times,serif\" font-size=\"14.00\">1</text>\n</g>\n<!-- node_ba2b2c7e_8ed5_480c_80d2_7d0daa37b333 -->\n<g id=\"node9\" class=\"node\">\n<title>node_ba2b2c7e_8ed5_480c_80d2_7d0daa37b333</title>\n<polygon fill=\"none\" stroke=\"black\" points=\"440.5,-320 440.5,-356 510.5,-356 510.5,-320 440.5,-320\"/>\n<text text-anchor=\"middle\" x=\"462.5\" y=\"-334.3\" font-family=\"Times,serif\" font-size=\"14.00\">feat</text>\n<polyline fill=\"none\" stroke=\"black\" points=\"484.5,-320 484.5,-356 \"/>\n<text text-anchor=\"middle\" x=\"497.5\" y=\"-334.3\" font-family=\"Times,serif\" font-size=\"14.00\">0</text>\n</g>\n<!-- node_554f5c15_c2a9_4bcb_b1a1_e2c7d485e86a&#45;&gt;node_ba2b2c7e_8ed5_480c_80d2_7d0daa37b333 -->\n<g id=\"edge8\" class=\"edge\">\n<title>node_554f5c15_c2a9_4bcb_b1a1_e2c7d485e86a&#45;&gt;node_ba2b2c7e_8ed5_480c_80d2_7d0daa37b333</title>\n<path fill=\"none\" stroke=\"black\" d=\"M475.5,-420.76C475.5,-405.71 475.5,-383.62 475.5,-366.19\"/>\n<polygon fill=\"black\" stroke=\"black\" points=\"479,-366.05 475.5,-356.05 472,-366.05 479,-366.05\"/>\n<text text-anchor=\"middle\" x=\"480.5\" y=\"-384.8\" font-family=\"Times,serif\" font-size=\"14.00\">0</text>\n</g>\n<!-- leaf_a45c3665_84ca_4fc0_9890_e5e11650ca23 -->\n<g id=\"node7\" class=\"node\">\n<title>leaf_a45c3665_84ca_4fc0_9890_e5e11650ca23</title>\n<polygon fill=\"none\" stroke=\"black\" points=\"0,-202.5 0,-271.5 161,-271.5 161,-202.5 0,-202.5\"/>\n<text text-anchor=\"middle\" x=\"46.5\" y=\"-256.3\" font-family=\"Times,serif\" font-size=\"14.00\">class</text>\n<polyline fill=\"none\" stroke=\"black\" points=\"93,-248.5 93,-271.5 \"/>\n<text text-anchor=\"middle\" x=\"127\" y=\"-256.3\" font-family=\"Times,serif\" font-size=\"14.00\">1</text>\n<polyline fill=\"none\" stroke=\"black\" points=\"0,-248.5 161,-248.5 \"/>\n<text text-anchor=\"middle\" x=\"47\" y=\"-233.3\" font-family=\"Times,serif\" font-size=\"14.00\">error</text>\n<polyline fill=\"none\" stroke=\"black\" points=\"94,-225.5 94,-248.5 \"/>\n<text text-anchor=\"middle\" x=\"127.5\" y=\"-233.3\" font-family=\"Times,serif\" font-size=\"14.00\">0</text>\n<polyline fill=\"none\" stroke=\"black\" points=\"0,-225.5 161,-225.5 \"/>\n<text text-anchor=\"middle\" x=\"31\" y=\"-210.3\" font-family=\"Times,serif\" font-size=\"14.00\">values</text>\n<polyline fill=\"none\" stroke=\"black\" points=\"62,-202.5 62,-225.5 \"/>\n<text text-anchor=\"middle\" x=\"111.5\" y=\"-210.3\" font-family=\"Times,serif\" font-size=\"14.00\">[10.0, 11.0]</text>\n</g>\n<!-- node_b2954823_a61e_43fa_944d_7a8a859a92a0&#45;&gt;leaf_a45c3665_84ca_4fc0_9890_e5e11650ca23 -->\n<g id=\"edge6\" class=\"edge\">\n<title>node_b2954823_a61e_43fa_944d_7a8a859a92a0&#45;&gt;leaf_a45c3665_84ca_4fc0_9890_e5e11650ca23</title>\n<path fill=\"none\" stroke=\"black\" d=\"M221.28,-319.98C200.9,-308.11 172.85,-291.78 147.16,-276.82\"/>\n<polygon fill=\"black\" stroke=\"black\" points=\"148.59,-273.6 138.19,-271.59 145.07,-279.65 148.59,-273.6\"/>\n<text text-anchor=\"middle\" x=\"181.5\" y=\"-283.8\" font-family=\"Times,serif\" font-size=\"14.00\">1</text>\n</g>\n<!-- leaf_fa1aae61_e727_4697_ad38_9dc8e5ea36d8 -->\n<g id=\"node8\" class=\"node\">\n<title>leaf_fa1aae61_e727_4697_ad38_9dc8e5ea36d8</title>\n<polygon fill=\"none\" stroke=\"black\" points=\"179,-202.5 179,-271.5 322,-271.5 322,-202.5 179,-202.5\"/>\n<text text-anchor=\"middle\" x=\"221\" y=\"-256.3\" font-family=\"Times,serif\" font-size=\"14.00\">class</text>\n<polyline fill=\"none\" stroke=\"black\" points=\"263,-248.5 263,-271.5 \"/>\n<text text-anchor=\"middle\" x=\"292.5\" y=\"-256.3\" font-family=\"Times,serif\" font-size=\"14.00\">0</text>\n<polyline fill=\"none\" stroke=\"black\" points=\"179,-248.5 322,-248.5 \"/>\n<text text-anchor=\"middle\" x=\"221.5\" y=\"-233.3\" font-family=\"Times,serif\" font-size=\"14.00\">error</text>\n<polyline fill=\"none\" stroke=\"black\" points=\"264,-225.5 264,-248.5 \"/>\n<text text-anchor=\"middle\" x=\"293\" y=\"-233.3\" font-family=\"Times,serif\" font-size=\"14.00\">0</text>\n<polyline fill=\"none\" stroke=\"black\" points=\"179,-225.5 322,-225.5 \"/>\n<text text-anchor=\"middle\" x=\"210\" y=\"-210.3\" font-family=\"Times,serif\" font-size=\"14.00\">values</text>\n<polyline fill=\"none\" stroke=\"black\" points=\"241,-202.5 241,-225.5 \"/>\n<text text-anchor=\"middle\" x=\"281.5\" y=\"-210.3\" font-family=\"Times,serif\" font-size=\"14.00\">[3.0, 0.0]</text>\n</g>\n<!-- node_b2954823_a61e_43fa_944d_7a8a859a92a0&#45;&gt;leaf_fa1aae61_e727_4697_ad38_9dc8e5ea36d8 -->\n<g id=\"edge7\" class=\"edge\">\n<title>node_b2954823_a61e_43fa_944d_7a8a859a92a0&#45;&gt;leaf_fa1aae61_e727_4697_ad38_9dc8e5ea36d8</title>\n<path fill=\"none\" stroke=\"black\" d=\"M250.5,-319.76C250.5,-309.25 250.5,-295.31 250.5,-281.92\"/>\n<polygon fill=\"black\" stroke=\"black\" points=\"254,-281.85 250.5,-271.85 247,-281.85 254,-281.85\"/>\n<text text-anchor=\"middle\" x=\"255.5\" y=\"-283.8\" font-family=\"Times,serif\" font-size=\"14.00\">0</text>\n</g>\n<!-- leaf_702f9db2_7279_4faa_9494_95491228a2e3 -->\n<g id=\"node10\" class=\"node\">\n<title>leaf_702f9db2_7279_4faa_9494_95491228a2e3</title>\n<polygon fill=\"none\" stroke=\"black\" points=\"340,-202.5 340,-271.5 483,-271.5 483,-202.5 340,-202.5\"/>\n<text text-anchor=\"middle\" x=\"382\" y=\"-256.3\" font-family=\"Times,serif\" font-size=\"14.00\">class</text>\n<polyline fill=\"none\" stroke=\"black\" points=\"424,-248.5 424,-271.5 \"/>\n<text text-anchor=\"middle\" x=\"453.5\" y=\"-256.3\" font-family=\"Times,serif\" font-size=\"14.00\">0</text>\n<polyline fill=\"none\" stroke=\"black\" points=\"340,-248.5 483,-248.5 \"/>\n<text text-anchor=\"middle\" x=\"382.5\" y=\"-233.3\" font-family=\"Times,serif\" font-size=\"14.00\">error</text>\n<polyline fill=\"none\" stroke=\"black\" points=\"425,-225.5 425,-248.5 \"/>\n<text text-anchor=\"middle\" x=\"454\" y=\"-233.3\" font-family=\"Times,serif\" font-size=\"14.00\">0</text>\n<polyline fill=\"none\" stroke=\"black\" points=\"340,-225.5 483,-225.5 \"/>\n<text text-anchor=\"middle\" x=\"371\" y=\"-210.3\" font-family=\"Times,serif\" font-size=\"14.00\">values</text>\n<polyline fill=\"none\" stroke=\"black\" points=\"402,-202.5 402,-225.5 \"/>\n<text text-anchor=\"middle\" x=\"442.5\" y=\"-210.3\" font-family=\"Times,serif\" font-size=\"14.00\">[6.0, 1.0]</text>\n</g>\n<!-- node_ba2b2c7e_8ed5_480c_80d2_7d0daa37b333&#45;&gt;leaf_702f9db2_7279_4faa_9494_95491228a2e3 -->\n<g id=\"edge9\" class=\"edge\">\n<title>node_ba2b2c7e_8ed5_480c_80d2_7d0daa37b333&#45;&gt;leaf_702f9db2_7279_4faa_9494_95491228a2e3</title>\n<path fill=\"none\" stroke=\"black\" d=\"M464.35,-319.76C457.29,-308.84 447.84,-294.21 438.88,-280.35\"/>\n<polygon fill=\"black\" stroke=\"black\" points=\"441.75,-278.35 433.39,-271.85 435.88,-282.15 441.75,-278.35\"/>\n<text text-anchor=\"middle\" x=\"452.5\" y=\"-283.8\" font-family=\"Times,serif\" font-size=\"14.00\">1</text>\n</g>\n<!-- leaf_e4a02128_eeda_451f_993a_8bd1e5fb14b8 -->\n<g id=\"node11\" class=\"node\">\n<title>leaf_e4a02128_eeda_451f_993a_8bd1e5fb14b8</title>\n<polygon fill=\"none\" stroke=\"black\" points=\"501,-202.5 501,-271.5 644,-271.5 644,-202.5 501,-202.5\"/>\n<text text-anchor=\"middle\" x=\"543\" y=\"-256.3\" font-family=\"Times,serif\" font-size=\"14.00\">class</text>\n<polyline fill=\"none\" stroke=\"black\" points=\"585,-248.5 585,-271.5 \"/>\n<text text-anchor=\"middle\" x=\"614.5\" y=\"-256.3\" font-family=\"Times,serif\" font-size=\"14.00\">1</text>\n<polyline fill=\"none\" stroke=\"black\" points=\"501,-248.5 644,-248.5 \"/>\n<text text-anchor=\"middle\" x=\"543.5\" y=\"-233.3\" font-family=\"Times,serif\" font-size=\"14.00\">error</text>\n<polyline fill=\"none\" stroke=\"black\" points=\"586,-225.5 586,-248.5 \"/>\n<text text-anchor=\"middle\" x=\"615\" y=\"-233.3\" font-family=\"Times,serif\" font-size=\"14.00\">0</text>\n<polyline fill=\"none\" stroke=\"black\" points=\"501,-225.5 644,-225.5 \"/>\n<text text-anchor=\"middle\" x=\"532\" y=\"-210.3\" font-family=\"Times,serif\" font-size=\"14.00\">values</text>\n<polyline fill=\"none\" stroke=\"black\" points=\"563,-202.5 563,-225.5 \"/>\n<text text-anchor=\"middle\" x=\"603.5\" y=\"-210.3\" font-family=\"Times,serif\" font-size=\"14.00\">[0.0, 1.0]</text>\n</g>\n<!-- node_ba2b2c7e_8ed5_480c_80d2_7d0daa37b333&#45;&gt;leaf_e4a02128_eeda_451f_993a_8bd1e5fb14b8 -->\n<g id=\"edge10\" class=\"edge\">\n<title>node_ba2b2c7e_8ed5_480c_80d2_7d0daa37b333&#45;&gt;leaf_e4a02128_eeda_451f_993a_8bd1e5fb14b8</title>\n<path fill=\"none\" stroke=\"black\" d=\"M492.4,-319.76C503.4,-308.53 518.24,-293.38 532.16,-279.17\"/>\n<polygon fill=\"black\" stroke=\"black\" points=\"534.83,-281.45 539.33,-271.85 529.83,-276.55 534.83,-281.45\"/>\n<text text-anchor=\"middle\" x=\"535.5\" y=\"-283.8\" font-family=\"Times,serif\" font-size=\"14.00\">0</text>\n</g>\n<!-- leaf_aff48d41_a30c_4833_abc1_6170f9905881 -->\n<g id=\"node13\" class=\"node\">\n<title>leaf_aff48d41_a30c_4833_abc1_6170f9905881</title>\n<polygon fill=\"none\" stroke=\"black\" points=\"560.5,-303.5 560.5,-372.5 712.5,-372.5 712.5,-303.5 560.5,-303.5\"/>\n<text text-anchor=\"middle\" x=\"605\" y=\"-357.3\" font-family=\"Times,serif\" font-size=\"14.00\">class</text>\n<polyline fill=\"none\" stroke=\"black\" points=\"649.5,-349.5 649.5,-372.5 \"/>\n<text text-anchor=\"middle\" x=\"681\" y=\"-357.3\" font-family=\"Times,serif\" font-size=\"14.00\">1</text>\n<polyline fill=\"none\" stroke=\"black\" points=\"560.5,-349.5 712.5,-349.5 \"/>\n<text text-anchor=\"middle\" x=\"605\" y=\"-334.3\" font-family=\"Times,serif\" font-size=\"14.00\">error</text>\n<polyline fill=\"none\" stroke=\"black\" points=\"649.5,-326.5 649.5,-349.5 \"/>\n<text text-anchor=\"middle\" x=\"681\" y=\"-334.3\" font-family=\"Times,serif\" font-size=\"14.00\">0</text>\n<polyline fill=\"none\" stroke=\"black\" points=\"560.5,-326.5 712.5,-326.5 \"/>\n<text text-anchor=\"middle\" x=\"591.5\" y=\"-311.3\" font-family=\"Times,serif\" font-size=\"14.00\">values</text>\n<polyline fill=\"none\" stroke=\"black\" points=\"622.5,-303.5 622.5,-326.5 \"/>\n<text text-anchor=\"middle\" x=\"667.5\" y=\"-311.3\" font-family=\"Times,serif\" font-size=\"14.00\">[0.0, 26.0]</text>\n</g>\n<!-- node_08d9c725_9cfc_46a5_92b8_291359b3a50f&#45;&gt;leaf_aff48d41_a30c_4833_abc1_6170f9905881 -->\n<g id=\"edge12\" class=\"edge\">\n<title>node_08d9c725_9cfc_46a5_92b8_291359b3a50f&#45;&gt;leaf_aff48d41_a30c_4833_abc1_6170f9905881</title>\n<path fill=\"none\" stroke=\"black\" d=\"M669.53,-420.76C665.2,-410.04 659.43,-395.76 653.93,-382.13\"/>\n<polygon fill=\"black\" stroke=\"black\" points=\"657.17,-380.81 650.18,-372.85 650.68,-383.44 657.17,-380.81\"/>\n<text text-anchor=\"middle\" x=\"664.5\" y=\"-384.8\" font-family=\"Times,serif\" font-size=\"14.00\">1</text>\n</g>\n<!-- node_f1b02eaa_291f_4488_8673_778b4735d0ad -->\n<g id=\"node14\" class=\"node\">\n<title>node_f1b02eaa_291f_4488_8673_778b4735d0ad</title>\n<polygon fill=\"none\" stroke=\"black\" points=\"730.5,-320 730.5,-356 800.5,-356 800.5,-320 730.5,-320\"/>\n<text text-anchor=\"middle\" x=\"752.5\" y=\"-334.3\" font-family=\"Times,serif\" font-size=\"14.00\">feat</text>\n<polyline fill=\"none\" stroke=\"black\" points=\"774.5,-320 774.5,-356 \"/>\n<text text-anchor=\"middle\" x=\"787.5\" y=\"-334.3\" font-family=\"Times,serif\" font-size=\"14.00\">3</text>\n</g>\n<!-- node_08d9c725_9cfc_46a5_92b8_291359b3a50f&#45;&gt;node_f1b02eaa_291f_4488_8673_778b4735d0ad -->\n<g id=\"edge13\" class=\"edge\">\n<title>node_08d9c725_9cfc_46a5_92b8_291359b3a50f&#45;&gt;node_f1b02eaa_291f_4488_8673_778b4735d0ad</title>\n<path fill=\"none\" stroke=\"black\" d=\"M692,-420.76C706.17,-405 727.28,-381.52 743.24,-363.76\"/>\n<polygon fill=\"black\" stroke=\"black\" points=\"746.09,-365.82 750.18,-356.05 740.89,-361.14 746.09,-365.82\"/>\n<text text-anchor=\"middle\" x=\"731.5\" y=\"-384.8\" font-family=\"Times,serif\" font-size=\"14.00\">0</text>\n</g>\n<!-- leaf_3136a514_0f55_4e49_aaf0_72f4bc7f7fea -->\n<g id=\"node15\" class=\"node\">\n<title>leaf_3136a514_0f55_4e49_aaf0_72f4bc7f7fea</title>\n<polygon fill=\"none\" stroke=\"black\" points=\"662,-202.5 662,-271.5 805,-271.5 805,-202.5 662,-202.5\"/>\n<text text-anchor=\"middle\" x=\"704\" y=\"-256.3\" font-family=\"Times,serif\" font-size=\"14.00\">class</text>\n<polyline fill=\"none\" stroke=\"black\" points=\"746,-248.5 746,-271.5 \"/>\n<text text-anchor=\"middle\" x=\"775.5\" y=\"-256.3\" font-family=\"Times,serif\" font-size=\"14.00\">0</text>\n<polyline fill=\"none\" stroke=\"black\" points=\"662,-248.5 805,-248.5 \"/>\n<text text-anchor=\"middle\" x=\"704.5\" y=\"-233.3\" font-family=\"Times,serif\" font-size=\"14.00\">error</text>\n<polyline fill=\"none\" stroke=\"black\" points=\"747,-225.5 747,-248.5 \"/>\n<text text-anchor=\"middle\" x=\"776\" y=\"-233.3\" font-family=\"Times,serif\" font-size=\"14.00\">0</text>\n<polyline fill=\"none\" stroke=\"black\" points=\"662,-225.5 805,-225.5 \"/>\n<text text-anchor=\"middle\" x=\"693\" y=\"-210.3\" font-family=\"Times,serif\" font-size=\"14.00\">values</text>\n<polyline fill=\"none\" stroke=\"black\" points=\"724,-202.5 724,-225.5 \"/>\n<text text-anchor=\"middle\" x=\"764.5\" y=\"-210.3\" font-family=\"Times,serif\" font-size=\"14.00\">[2.0, 1.0]</text>\n</g>\n<!-- node_f1b02eaa_291f_4488_8673_778b4735d0ad&#45;&gt;leaf_3136a514_0f55_4e49_aaf0_72f4bc7f7fea -->\n<g id=\"edge14\" class=\"edge\">\n<title>node_f1b02eaa_291f_4488_8673_778b4735d0ad&#45;&gt;leaf_3136a514_0f55_4e49_aaf0_72f4bc7f7fea</title>\n<path fill=\"none\" stroke=\"black\" d=\"M759.93,-319.76C756.5,-309.15 751.94,-295.03 747.57,-281.53\"/>\n<polygon fill=\"black\" stroke=\"black\" points=\"750.85,-280.29 744.44,-271.85 744.19,-282.45 750.85,-280.29\"/>\n<text text-anchor=\"middle\" x=\"756.5\" y=\"-283.8\" font-family=\"Times,serif\" font-size=\"14.00\">1</text>\n</g>\n<!-- leaf_86838dde_b6f8_41a8_aa46_83fc7341c4c5 -->\n<g id=\"node16\" class=\"node\">\n<title>leaf_86838dde_b6f8_41a8_aa46_83fc7341c4c5</title>\n<polygon fill=\"none\" stroke=\"black\" points=\"823,-202.5 823,-271.5 966,-271.5 966,-202.5 823,-202.5\"/>\n<text text-anchor=\"middle\" x=\"865\" y=\"-256.3\" font-family=\"Times,serif\" font-size=\"14.00\">class</text>\n<polyline fill=\"none\" stroke=\"black\" points=\"907,-248.5 907,-271.5 \"/>\n<text text-anchor=\"middle\" x=\"936.5\" y=\"-256.3\" font-family=\"Times,serif\" font-size=\"14.00\">1</text>\n<polyline fill=\"none\" stroke=\"black\" points=\"823,-248.5 966,-248.5 \"/>\n<text text-anchor=\"middle\" x=\"865.5\" y=\"-233.3\" font-family=\"Times,serif\" font-size=\"14.00\">error</text>\n<polyline fill=\"none\" stroke=\"black\" points=\"908,-225.5 908,-248.5 \"/>\n<text text-anchor=\"middle\" x=\"937\" y=\"-233.3\" font-family=\"Times,serif\" font-size=\"14.00\">0</text>\n<polyline fill=\"none\" stroke=\"black\" points=\"823,-225.5 966,-225.5 \"/>\n<text text-anchor=\"middle\" x=\"854\" y=\"-210.3\" font-family=\"Times,serif\" font-size=\"14.00\">values</text>\n<polyline fill=\"none\" stroke=\"black\" points=\"885,-202.5 885,-225.5 \"/>\n<text text-anchor=\"middle\" x=\"925.5\" y=\"-210.3\" font-family=\"Times,serif\" font-size=\"14.00\">[1.0, 2.0]</text>\n</g>\n<!-- node_f1b02eaa_291f_4488_8673_778b4735d0ad&#45;&gt;leaf_86838dde_b6f8_41a8_aa46_83fc7341c4c5 -->\n<g id=\"edge15\" class=\"edge\">\n<title>node_f1b02eaa_291f_4488_8673_778b4735d0ad&#45;&gt;leaf_86838dde_b6f8_41a8_aa46_83fc7341c4c5</title>\n<path fill=\"none\" stroke=\"black\" d=\"M787.68,-319.98C802.8,-308.37 823.49,-292.49 842.64,-277.8\"/>\n<polygon fill=\"black\" stroke=\"black\" points=\"844.92,-280.46 850.73,-271.59 840.66,-274.91 844.92,-280.46\"/>\n<text text-anchor=\"middle\" x=\"843.5\" y=\"-283.8\" font-family=\"Times,serif\" font-size=\"14.00\">0</text>\n</g>\n<!-- node_2366ef9e_1441_480b_88cc_9a403436015c -->\n<g id=\"node18\" class=\"node\">\n<title>node_2366ef9e_1441_480b_88cc_9a403436015c</title>\n<polygon fill=\"none\" stroke=\"black\" points=\"1059.5,-421 1059.5,-457 1129.5,-457 1129.5,-421 1059.5,-421\"/>\n<text text-anchor=\"middle\" x=\"1081.5\" y=\"-435.3\" font-family=\"Times,serif\" font-size=\"14.00\">feat</text>\n<polyline fill=\"none\" stroke=\"black\" points=\"1103.5,-421 1103.5,-457 \"/>\n<text text-anchor=\"middle\" x=\"1116.5\" y=\"-435.3\" font-family=\"Times,serif\" font-size=\"14.00\">4</text>\n</g>\n<!-- node_02e32fef_3a11_4de0_b5a8_23319d0b122e&#45;&gt;node_2366ef9e_1441_480b_88cc_9a403436015c -->\n<g id=\"edge17\" class=\"edge\">\n<title>node_02e32fef_3a11_4de0_b5a8_23319d0b122e&#45;&gt;node_2366ef9e_1441_480b_88cc_9a403436015c</title>\n<path fill=\"none\" stroke=\"black\" d=\"M1094.5,-505.41C1094.5,-494.34 1094.5,-479.7 1094.5,-467.08\"/>\n<polygon fill=\"black\" stroke=\"black\" points=\"1098,-467.07 1094.5,-457.07 1091,-467.07 1098,-467.07\"/>\n<text text-anchor=\"middle\" x=\"1099.5\" y=\"-485.8\" font-family=\"Times,serif\" font-size=\"14.00\">1</text>\n</g>\n<!-- leaf_14dbe3ac_bfc6_4cc0_882a_feefaac90fd6 -->\n<g id=\"node31\" class=\"node\">\n<title>leaf_14dbe3ac_bfc6_4cc0_882a_feefaac90fd6</title>\n<polygon fill=\"none\" stroke=\"black\" points=\"1147.5,-404.5 1147.5,-473.5 1299.5,-473.5 1299.5,-404.5 1147.5,-404.5\"/>\n<text text-anchor=\"middle\" x=\"1192\" y=\"-458.3\" font-family=\"Times,serif\" font-size=\"14.00\">class</text>\n<polyline fill=\"none\" stroke=\"black\" points=\"1236.5,-450.5 1236.5,-473.5 \"/>\n<text text-anchor=\"middle\" x=\"1268\" y=\"-458.3\" font-family=\"Times,serif\" font-size=\"14.00\">0</text>\n<polyline fill=\"none\" stroke=\"black\" points=\"1147.5,-450.5 1299.5,-450.5 \"/>\n<text text-anchor=\"middle\" x=\"1192\" y=\"-435.3\" font-family=\"Times,serif\" font-size=\"14.00\">error</text>\n<polyline fill=\"none\" stroke=\"black\" points=\"1236.5,-427.5 1236.5,-450.5 \"/>\n<text text-anchor=\"middle\" x=\"1268\" y=\"-435.3\" font-family=\"Times,serif\" font-size=\"14.00\">0</text>\n<polyline fill=\"none\" stroke=\"black\" points=\"1147.5,-427.5 1299.5,-427.5 \"/>\n<text text-anchor=\"middle\" x=\"1178.5\" y=\"-412.3\" font-family=\"Times,serif\" font-size=\"14.00\">values</text>\n<polyline fill=\"none\" stroke=\"black\" points=\"1209.5,-404.5 1209.5,-427.5 \"/>\n<text text-anchor=\"middle\" x=\"1254.5\" y=\"-412.3\" font-family=\"Times,serif\" font-size=\"14.00\">[52.0, 0.0]</text>\n</g>\n<!-- node_02e32fef_3a11_4de0_b5a8_23319d0b122e&#45;&gt;leaf_14dbe3ac_bfc6_4cc0_882a_feefaac90fd6 -->\n<g id=\"edge30\" class=\"edge\">\n<title>node_02e32fef_3a11_4de0_b5a8_23319d0b122e&#45;&gt;leaf_14dbe3ac_bfc6_4cc0_882a_feefaac90fd6</title>\n<path fill=\"none\" stroke=\"black\" d=\"M1121.23,-505.41C1133.26,-497.71 1147.99,-488.29 1162.49,-479.01\"/>\n<polygon fill=\"black\" stroke=\"black\" points=\"1164.44,-481.92 1170.98,-473.59 1160.67,-476.03 1164.44,-481.92\"/>\n<text text-anchor=\"middle\" x=\"1160.5\" y=\"-485.8\" font-family=\"Times,serif\" font-size=\"14.00\">0</text>\n</g>\n<!-- node_574ea89e_cc79_402a_879e_b499cde1f841 -->\n<g id=\"node19\" class=\"node\">\n<title>node_574ea89e_cc79_402a_879e_b499cde1f841</title>\n<polygon fill=\"none\" stroke=\"black\" points=\"1059.5,-320 1059.5,-356 1129.5,-356 1129.5,-320 1059.5,-320\"/>\n<text text-anchor=\"middle\" x=\"1081.5\" y=\"-334.3\" font-family=\"Times,serif\" font-size=\"14.00\">feat</text>\n<polyline fill=\"none\" stroke=\"black\" points=\"1103.5,-320 1103.5,-356 \"/>\n<text text-anchor=\"middle\" x=\"1116.5\" y=\"-334.3\" font-family=\"Times,serif\" font-size=\"14.00\">8</text>\n</g>\n<!-- node_2366ef9e_1441_480b_88cc_9a403436015c&#45;&gt;node_574ea89e_cc79_402a_879e_b499cde1f841 -->\n<g id=\"edge18\" class=\"edge\">\n<title>node_2366ef9e_1441_480b_88cc_9a403436015c&#45;&gt;node_574ea89e_cc79_402a_879e_b499cde1f841</title>\n<path fill=\"none\" stroke=\"black\" d=\"M1094.5,-420.76C1094.5,-405.71 1094.5,-383.62 1094.5,-366.19\"/>\n<polygon fill=\"black\" stroke=\"black\" points=\"1098,-366.05 1094.5,-356.05 1091,-366.05 1098,-366.05\"/>\n<text text-anchor=\"middle\" x=\"1099.5\" y=\"-384.8\" font-family=\"Times,serif\" font-size=\"14.00\">1</text>\n</g>\n<!-- node_02d82d04_64f8_468c_979f_cc4442202fe3 -->\n<g id=\"node26\" class=\"node\">\n<title>node_02d82d04_64f8_468c_979f_cc4442202fe3</title>\n<polygon fill=\"none\" stroke=\"black\" points=\"1274.5,-320 1274.5,-356 1344.5,-356 1344.5,-320 1274.5,-320\"/>\n<text text-anchor=\"middle\" x=\"1296.5\" y=\"-334.3\" font-family=\"Times,serif\" font-size=\"14.00\">feat</text>\n<polyline fill=\"none\" stroke=\"black\" points=\"1318.5,-320 1318.5,-356 \"/>\n<text text-anchor=\"middle\" x=\"1331.5\" y=\"-334.3\" font-family=\"Times,serif\" font-size=\"14.00\">2</text>\n</g>\n<!-- node_2366ef9e_1441_480b_88cc_9a403436015c&#45;&gt;node_02d82d04_64f8_468c_979f_cc4442202fe3 -->\n<g id=\"edge25\" class=\"edge\">\n<title>node_2366ef9e_1441_480b_88cc_9a403436015c&#45;&gt;node_02d82d04_64f8_468c_979f_cc4442202fe3</title>\n<path fill=\"none\" stroke=\"black\" d=\"M1114.22,-420.77C1121.52,-414.94 1130.08,-408.72 1138.5,-404 1179.15,-381.23 1229.37,-363.21 1264.84,-351.98\"/>\n<polygon fill=\"black\" stroke=\"black\" points=\"1265.92,-355.3 1274.43,-348.99 1263.84,-348.62 1265.92,-355.3\"/>\n<text text-anchor=\"middle\" x=\"1189.5\" y=\"-384.8\" font-family=\"Times,serif\" font-size=\"14.00\">0</text>\n</g>\n<!-- leaf_58455453_51ff_4f50_a39d_a02adf70f9fa -->\n<g id=\"node20\" class=\"node\">\n<title>leaf_58455453_51ff_4f50_a39d_a02adf70f9fa</title>\n<polygon fill=\"none\" stroke=\"black\" points=\"984,-202.5 984,-271.5 1127,-271.5 1127,-202.5 984,-202.5\"/>\n<text text-anchor=\"middle\" x=\"1026\" y=\"-256.3\" font-family=\"Times,serif\" font-size=\"14.00\">class</text>\n<polyline fill=\"none\" stroke=\"black\" points=\"1068,-248.5 1068,-271.5 \"/>\n<text text-anchor=\"middle\" x=\"1097.5\" y=\"-256.3\" font-family=\"Times,serif\" font-size=\"14.00\">1</text>\n<polyline fill=\"none\" stroke=\"black\" points=\"984,-248.5 1127,-248.5 \"/>\n<text text-anchor=\"middle\" x=\"1026.5\" y=\"-233.3\" font-family=\"Times,serif\" font-size=\"14.00\">error</text>\n<polyline fill=\"none\" stroke=\"black\" points=\"1069,-225.5 1069,-248.5 \"/>\n<text text-anchor=\"middle\" x=\"1098\" y=\"-233.3\" font-family=\"Times,serif\" font-size=\"14.00\">0</text>\n<polyline fill=\"none\" stroke=\"black\" points=\"984,-225.5 1127,-225.5 \"/>\n<text text-anchor=\"middle\" x=\"1015\" y=\"-210.3\" font-family=\"Times,serif\" font-size=\"14.00\">values</text>\n<polyline fill=\"none\" stroke=\"black\" points=\"1046,-202.5 1046,-225.5 \"/>\n<text text-anchor=\"middle\" x=\"1086.5\" y=\"-210.3\" font-family=\"Times,serif\" font-size=\"14.00\">[0.0, 3.0]</text>\n</g>\n<!-- node_574ea89e_cc79_402a_879e_b499cde1f841&#45;&gt;leaf_58455453_51ff_4f50_a39d_a02adf70f9fa -->\n<g id=\"edge19\" class=\"edge\">\n<title>node_574ea89e_cc79_402a_879e_b499cde1f841&#45;&gt;leaf_58455453_51ff_4f50_a39d_a02adf70f9fa</title>\n<path fill=\"none\" stroke=\"black\" d=\"M1087.71,-319.76C1083.53,-309.15 1077.97,-295.03 1072.65,-281.53\"/>\n<polygon fill=\"black\" stroke=\"black\" points=\"1075.76,-279.88 1068.84,-271.85 1069.25,-282.44 1075.76,-279.88\"/>\n<text text-anchor=\"middle\" x=\"1082.5\" y=\"-283.8\" font-family=\"Times,serif\" font-size=\"14.00\">1</text>\n</g>\n<!-- node_a919225c_a359_42db_9f8c_67bc3faf9d3a -->\n<g id=\"node21\" class=\"node\">\n<title>node_a919225c_a359_42db_9f8c_67bc3faf9d3a</title>\n<polygon fill=\"none\" stroke=\"black\" points=\"1145.5,-219 1145.5,-255 1215.5,-255 1215.5,-219 1145.5,-219\"/>\n<text text-anchor=\"middle\" x=\"1167.5\" y=\"-233.3\" font-family=\"Times,serif\" font-size=\"14.00\">feat</text>\n<polyline fill=\"none\" stroke=\"black\" points=\"1189.5,-219 1189.5,-255 \"/>\n<text text-anchor=\"middle\" x=\"1202.5\" y=\"-233.3\" font-family=\"Times,serif\" font-size=\"14.00\">7</text>\n</g>\n<!-- node_574ea89e_cc79_402a_879e_b499cde1f841&#45;&gt;node_a919225c_a359_42db_9f8c_67bc3faf9d3a -->\n<g id=\"edge20\" class=\"edge\">\n<title>node_574ea89e_cc79_402a_879e_b499cde1f841&#45;&gt;node_a919225c_a359_42db_9f8c_67bc3faf9d3a</title>\n<path fill=\"none\" stroke=\"black\" d=\"M1109.48,-319.76C1123.17,-304 1143.57,-280.52 1158.99,-262.76\"/>\n<polygon fill=\"black\" stroke=\"black\" points=\"1161.78,-264.89 1165.69,-255.05 1156.49,-260.3 1161.78,-264.89\"/>\n<text text-anchor=\"middle\" x=\"1148.5\" y=\"-283.8\" font-family=\"Times,serif\" font-size=\"14.00\">0</text>\n</g>\n<!-- leaf_1a8f348a_5078_49a2_8aa4_062515bfde17 -->\n<g id=\"node22\" class=\"node\">\n<title>leaf_1a8f348a_5078_49a2_8aa4_062515bfde17</title>\n<polygon fill=\"none\" stroke=\"black\" points=\"1052,-101.5 1052,-170.5 1195,-170.5 1195,-101.5 1052,-101.5\"/>\n<text text-anchor=\"middle\" x=\"1094\" y=\"-155.3\" font-family=\"Times,serif\" font-size=\"14.00\">class</text>\n<polyline fill=\"none\" stroke=\"black\" points=\"1136,-147.5 1136,-170.5 \"/>\n<text text-anchor=\"middle\" x=\"1165.5\" y=\"-155.3\" font-family=\"Times,serif\" font-size=\"14.00\">1</text>\n<polyline fill=\"none\" stroke=\"black\" points=\"1052,-147.5 1195,-147.5 \"/>\n<text text-anchor=\"middle\" x=\"1094.5\" y=\"-132.3\" font-family=\"Times,serif\" font-size=\"14.00\">error</text>\n<polyline fill=\"none\" stroke=\"black\" points=\"1137,-124.5 1137,-147.5 \"/>\n<text text-anchor=\"middle\" x=\"1166\" y=\"-132.3\" font-family=\"Times,serif\" font-size=\"14.00\">0</text>\n<polyline fill=\"none\" stroke=\"black\" points=\"1052,-124.5 1195,-124.5 \"/>\n<text text-anchor=\"middle\" x=\"1083\" y=\"-109.3\" font-family=\"Times,serif\" font-size=\"14.00\">values</text>\n<polyline fill=\"none\" stroke=\"black\" points=\"1114,-101.5 1114,-124.5 \"/>\n<text text-anchor=\"middle\" x=\"1154.5\" y=\"-109.3\" font-family=\"Times,serif\" font-size=\"14.00\">[0.0, 3.0]</text>\n</g>\n<!-- node_a919225c_a359_42db_9f8c_67bc3faf9d3a&#45;&gt;leaf_1a8f348a_5078_49a2_8aa4_062515bfde17 -->\n<g id=\"edge21\" class=\"edge\">\n<title>node_a919225c_a359_42db_9f8c_67bc3faf9d3a&#45;&gt;leaf_1a8f348a_5078_49a2_8aa4_062515bfde17</title>\n<path fill=\"none\" stroke=\"black\" d=\"M1170.57,-218.76C1164.34,-207.94 1156.02,-193.49 1148.11,-179.74\"/>\n<polygon fill=\"black\" stroke=\"black\" points=\"1151.01,-177.77 1142.99,-170.85 1144.95,-181.27 1151.01,-177.77\"/>\n<text text-anchor=\"middle\" x=\"1160.5\" y=\"-182.8\" font-family=\"Times,serif\" font-size=\"14.00\">1</text>\n</g>\n<!-- node_7dc32d8c_ff55_4a76_ba6c_960d4b7ba02d -->\n<g id=\"node23\" class=\"node\">\n<title>node_7dc32d8c_ff55_4a76_ba6c_960d4b7ba02d</title>\n<polygon fill=\"none\" stroke=\"black\" points=\"1213.5,-118 1213.5,-154 1283.5,-154 1283.5,-118 1213.5,-118\"/>\n<text text-anchor=\"middle\" x=\"1235.5\" y=\"-132.3\" font-family=\"Times,serif\" font-size=\"14.00\">feat</text>\n<polyline fill=\"none\" stroke=\"black\" points=\"1257.5,-118 1257.5,-154 \"/>\n<text text-anchor=\"middle\" x=\"1270.5\" y=\"-132.3\" font-family=\"Times,serif\" font-size=\"14.00\">0</text>\n</g>\n<!-- node_a919225c_a359_42db_9f8c_67bc3faf9d3a&#45;&gt;node_7dc32d8c_ff55_4a76_ba6c_960d4b7ba02d -->\n<g id=\"edge22\" class=\"edge\">\n<title>node_a919225c_a359_42db_9f8c_67bc3faf9d3a&#45;&gt;node_7dc32d8c_ff55_4a76_ba6c_960d4b7ba02d</title>\n<path fill=\"none\" stroke=\"black\" d=\"M1192.34,-218.76C1202.97,-203.28 1218.72,-180.36 1230.83,-162.72\"/>\n<polygon fill=\"black\" stroke=\"black\" points=\"1234.01,-164.27 1236.79,-154.05 1228.24,-160.31 1234.01,-164.27\"/>\n<text text-anchor=\"middle\" x=\"1224.5\" y=\"-182.8\" font-family=\"Times,serif\" font-size=\"14.00\">0</text>\n</g>\n<!-- leaf_947ffe72_0d5e_4605_bb04_84c104a14a80 -->\n<g id=\"node24\" class=\"node\">\n<title>leaf_947ffe72_0d5e_4605_bb04_84c104a14a80</title>\n<polygon fill=\"none\" stroke=\"black\" points=\"1094,-0.5 1094,-69.5 1237,-69.5 1237,-0.5 1094,-0.5\"/>\n<text text-anchor=\"middle\" x=\"1136\" y=\"-54.3\" font-family=\"Times,serif\" font-size=\"14.00\">class</text>\n<polyline fill=\"none\" stroke=\"black\" points=\"1178,-46.5 1178,-69.5 \"/>\n<text text-anchor=\"middle\" x=\"1207.5\" y=\"-54.3\" font-family=\"Times,serif\" font-size=\"14.00\">0</text>\n<polyline fill=\"none\" stroke=\"black\" points=\"1094,-46.5 1237,-46.5 \"/>\n<text text-anchor=\"middle\" x=\"1136.5\" y=\"-31.3\" font-family=\"Times,serif\" font-size=\"14.00\">error</text>\n<polyline fill=\"none\" stroke=\"black\" points=\"1179,-23.5 1179,-46.5 \"/>\n<text text-anchor=\"middle\" x=\"1208\" y=\"-31.3\" font-family=\"Times,serif\" font-size=\"14.00\">0</text>\n<polyline fill=\"none\" stroke=\"black\" points=\"1094,-23.5 1237,-23.5 \"/>\n<text text-anchor=\"middle\" x=\"1125\" y=\"-8.3\" font-family=\"Times,serif\" font-size=\"14.00\">values</text>\n<polyline fill=\"none\" stroke=\"black\" points=\"1156,-0.5 1156,-23.5 \"/>\n<text text-anchor=\"middle\" x=\"1196.5\" y=\"-8.3\" font-family=\"Times,serif\" font-size=\"14.00\">[7.0, 1.0]</text>\n</g>\n<!-- node_7dc32d8c_ff55_4a76_ba6c_960d4b7ba02d&#45;&gt;leaf_947ffe72_0d5e_4605_bb04_84c104a14a80 -->\n<g id=\"edge23\" class=\"edge\">\n<title>node_7dc32d8c_ff55_4a76_ba6c_960d4b7ba02d&#45;&gt;leaf_947ffe72_0d5e_4605_bb04_84c104a14a80</title>\n<path fill=\"none\" stroke=\"black\" d=\"M1234.04,-117.76C1224.72,-106.63 1212.16,-91.66 1200.35,-77.56\"/>\n<polygon fill=\"black\" stroke=\"black\" points=\"1202.99,-75.27 1193.88,-69.85 1197.63,-79.77 1202.99,-75.27\"/>\n<text text-anchor=\"middle\" x=\"1217.5\" y=\"-81.8\" font-family=\"Times,serif\" font-size=\"14.00\">1</text>\n</g>\n<!-- leaf_86520520_5b92_4d22_930b_1eaa3a6e71ed -->\n<g id=\"node25\" class=\"node\">\n<title>leaf_86520520_5b92_4d22_930b_1eaa3a6e71ed</title>\n<polygon fill=\"none\" stroke=\"black\" points=\"1255.5,-0.5 1255.5,-69.5 1407.5,-69.5 1407.5,-0.5 1255.5,-0.5\"/>\n<text text-anchor=\"middle\" x=\"1300\" y=\"-54.3\" font-family=\"Times,serif\" font-size=\"14.00\">class</text>\n<polyline fill=\"none\" stroke=\"black\" points=\"1344.5,-46.5 1344.5,-69.5 \"/>\n<text text-anchor=\"middle\" x=\"1376\" y=\"-54.3\" font-family=\"Times,serif\" font-size=\"14.00\">0</text>\n<polyline fill=\"none\" stroke=\"black\" points=\"1255.5,-46.5 1407.5,-46.5 \"/>\n<text text-anchor=\"middle\" x=\"1300\" y=\"-31.3\" font-family=\"Times,serif\" font-size=\"14.00\">error</text>\n<polyline fill=\"none\" stroke=\"black\" points=\"1344.5,-23.5 1344.5,-46.5 \"/>\n<text text-anchor=\"middle\" x=\"1376\" y=\"-31.3\" font-family=\"Times,serif\" font-size=\"14.00\">0</text>\n<polyline fill=\"none\" stroke=\"black\" points=\"1255.5,-23.5 1407.5,-23.5 \"/>\n<text text-anchor=\"middle\" x=\"1286.5\" y=\"-8.3\" font-family=\"Times,serif\" font-size=\"14.00\">values</text>\n<polyline fill=\"none\" stroke=\"black\" points=\"1317.5,-0.5 1317.5,-23.5 \"/>\n<text text-anchor=\"middle\" x=\"1362.5\" y=\"-8.3\" font-family=\"Times,serif\" font-size=\"14.00\">[10.0, 0.0]</text>\n</g>\n<!-- node_7dc32d8c_ff55_4a76_ba6c_960d4b7ba02d&#45;&gt;leaf_86520520_5b92_4d22_930b_1eaa3a6e71ed -->\n<g id=\"edge24\" class=\"edge\">\n<title>node_7dc32d8c_ff55_4a76_ba6c_960d4b7ba02d&#45;&gt;leaf_86520520_5b92_4d22_930b_1eaa3a6e71ed</title>\n<path fill=\"none\" stroke=\"black\" d=\"M1262.96,-117.76C1272.28,-106.63 1284.84,-91.66 1296.65,-77.56\"/>\n<polygon fill=\"black\" stroke=\"black\" points=\"1299.37,-79.77 1303.12,-69.85 1294.01,-75.27 1299.37,-79.77\"/>\n<text text-anchor=\"middle\" x=\"1300.5\" y=\"-81.8\" font-family=\"Times,serif\" font-size=\"14.00\">0</text>\n</g>\n<!-- leaf_22a37fec_2469_4abf_96bd_cf437f7a5e52 -->\n<g id=\"node27\" class=\"node\">\n<title>leaf_22a37fec_2469_4abf_96bd_cf437f7a5e52</title>\n<polygon fill=\"none\" stroke=\"black\" points=\"1233.5,-202.5 1233.5,-271.5 1385.5,-271.5 1385.5,-202.5 1233.5,-202.5\"/>\n<text text-anchor=\"middle\" x=\"1278\" y=\"-256.3\" font-family=\"Times,serif\" font-size=\"14.00\">class</text>\n<polyline fill=\"none\" stroke=\"black\" points=\"1322.5,-248.5 1322.5,-271.5 \"/>\n<text text-anchor=\"middle\" x=\"1354\" y=\"-256.3\" font-family=\"Times,serif\" font-size=\"14.00\">0</text>\n<polyline fill=\"none\" stroke=\"black\" points=\"1233.5,-248.5 1385.5,-248.5 \"/>\n<text text-anchor=\"middle\" x=\"1278\" y=\"-233.3\" font-family=\"Times,serif\" font-size=\"14.00\">error</text>\n<polyline fill=\"none\" stroke=\"black\" points=\"1322.5,-225.5 1322.5,-248.5 \"/>\n<text text-anchor=\"middle\" x=\"1354\" y=\"-233.3\" font-family=\"Times,serif\" font-size=\"14.00\">0</text>\n<polyline fill=\"none\" stroke=\"black\" points=\"1233.5,-225.5 1385.5,-225.5 \"/>\n<text text-anchor=\"middle\" x=\"1264.5\" y=\"-210.3\" font-family=\"Times,serif\" font-size=\"14.00\">values</text>\n<polyline fill=\"none\" stroke=\"black\" points=\"1295.5,-202.5 1295.5,-225.5 \"/>\n<text text-anchor=\"middle\" x=\"1340.5\" y=\"-210.3\" font-family=\"Times,serif\" font-size=\"14.00\">[21.0, 0.0]</text>\n</g>\n<!-- node_02d82d04_64f8_468c_979f_cc4442202fe3&#45;&gt;leaf_22a37fec_2469_4abf_96bd_cf437f7a5e52 -->\n<g id=\"edge26\" class=\"edge\">\n<title>node_02d82d04_64f8_468c_979f_cc4442202fe3&#45;&gt;leaf_22a37fec_2469_4abf_96bd_cf437f7a5e52</title>\n<path fill=\"none\" stroke=\"black\" d=\"M1309.5,-319.76C1309.5,-309.25 1309.5,-295.31 1309.5,-281.92\"/>\n<polygon fill=\"black\" stroke=\"black\" points=\"1313,-281.85 1309.5,-271.85 1306,-281.85 1313,-281.85\"/>\n<text text-anchor=\"middle\" x=\"1314.5\" y=\"-283.8\" font-family=\"Times,serif\" font-size=\"14.00\">1</text>\n</g>\n<!-- node_1620f8d2_672a_4eee_857e_9458ea51f93a -->\n<g id=\"node28\" class=\"node\">\n<title>node_1620f8d2_672a_4eee_857e_9458ea51f93a</title>\n<polygon fill=\"none\" stroke=\"black\" points=\"1403.5,-219 1403.5,-255 1473.5,-255 1473.5,-219 1403.5,-219\"/>\n<text text-anchor=\"middle\" x=\"1425.5\" y=\"-233.3\" font-family=\"Times,serif\" font-size=\"14.00\">feat</text>\n<polyline fill=\"none\" stroke=\"black\" points=\"1447.5,-219 1447.5,-255 \"/>\n<text text-anchor=\"middle\" x=\"1460.5\" y=\"-233.3\" font-family=\"Times,serif\" font-size=\"14.00\">8</text>\n</g>\n<!-- node_02d82d04_64f8_468c_979f_cc4442202fe3&#45;&gt;node_1620f8d2_672a_4eee_857e_9458ea51f93a -->\n<g id=\"edge27\" class=\"edge\">\n<title>node_02d82d04_64f8_468c_979f_cc4442202fe3&#45;&gt;node_1620f8d2_672a_4eee_857e_9458ea51f93a</title>\n<path fill=\"none\" stroke=\"black\" d=\"M1331.89,-319.92C1349.05,-306.83 1373.29,-288.3 1394.5,-272 1398.9,-268.62 1403.54,-265.04 1408.1,-261.52\"/>\n<polygon fill=\"black\" stroke=\"black\" points=\"1410.36,-264.2 1416.13,-255.32 1406.08,-258.66 1410.36,-264.2\"/>\n<text text-anchor=\"middle\" x=\"1388.5\" y=\"-283.8\" font-family=\"Times,serif\" font-size=\"14.00\">0</text>\n</g>\n<!-- leaf_a3d6e7a1_0161_4ba1_9b2a_1be59d3e9756 -->\n<g id=\"node29\" class=\"node\">\n<title>leaf_a3d6e7a1_0161_4ba1_9b2a_1be59d3e9756</title>\n<polygon fill=\"none\" stroke=\"black\" points=\"1345,-101.5 1345,-170.5 1488,-170.5 1488,-101.5 1345,-101.5\"/>\n<text text-anchor=\"middle\" x=\"1387\" y=\"-155.3\" font-family=\"Times,serif\" font-size=\"14.00\">class</text>\n<polyline fill=\"none\" stroke=\"black\" points=\"1429,-147.5 1429,-170.5 \"/>\n<text text-anchor=\"middle\" x=\"1458.5\" y=\"-155.3\" font-family=\"Times,serif\" font-size=\"14.00\">0</text>\n<polyline fill=\"none\" stroke=\"black\" points=\"1345,-147.5 1488,-147.5 \"/>\n<text text-anchor=\"middle\" x=\"1387.5\" y=\"-132.3\" font-family=\"Times,serif\" font-size=\"14.00\">error</text>\n<polyline fill=\"none\" stroke=\"black\" points=\"1430,-124.5 1430,-147.5 \"/>\n<text text-anchor=\"middle\" x=\"1459\" y=\"-132.3\" font-family=\"Times,serif\" font-size=\"14.00\">0</text>\n<polyline fill=\"none\" stroke=\"black\" points=\"1345,-124.5 1488,-124.5 \"/>\n<text text-anchor=\"middle\" x=\"1376\" y=\"-109.3\" font-family=\"Times,serif\" font-size=\"14.00\">values</text>\n<polyline fill=\"none\" stroke=\"black\" points=\"1407,-101.5 1407,-124.5 \"/>\n<text text-anchor=\"middle\" x=\"1447.5\" y=\"-109.3\" font-family=\"Times,serif\" font-size=\"14.00\">[4.0, 2.0]</text>\n</g>\n<!-- node_1620f8d2_672a_4eee_857e_9458ea51f93a&#45;&gt;leaf_a3d6e7a1_0161_4ba1_9b2a_1be59d3e9756 -->\n<g id=\"edge28\" class=\"edge\">\n<title>node_1620f8d2_672a_4eee_857e_9458ea51f93a&#45;&gt;leaf_a3d6e7a1_0161_4ba1_9b2a_1be59d3e9756</title>\n<path fill=\"none\" stroke=\"black\" d=\"M1434.67,-218.76C1432.33,-208.25 1429.24,-194.31 1426.26,-180.92\"/>\n<polygon fill=\"black\" stroke=\"black\" points=\"1429.61,-179.86 1424.02,-170.85 1422.78,-181.37 1429.61,-179.86\"/>\n<text text-anchor=\"middle\" x=\"1434.5\" y=\"-182.8\" font-family=\"Times,serif\" font-size=\"14.00\">1</text>\n</g>\n<!-- leaf_a867add4_3554_4699_8bad_eb989357e5ee -->\n<g id=\"node30\" class=\"node\">\n<title>leaf_a867add4_3554_4699_8bad_eb989357e5ee</title>\n<polygon fill=\"none\" stroke=\"black\" points=\"1506.5,-101.5 1506.5,-170.5 1658.5,-170.5 1658.5,-101.5 1506.5,-101.5\"/>\n<text text-anchor=\"middle\" x=\"1551\" y=\"-155.3\" font-family=\"Times,serif\" font-size=\"14.00\">class</text>\n<polyline fill=\"none\" stroke=\"black\" points=\"1595.5,-147.5 1595.5,-170.5 \"/>\n<text text-anchor=\"middle\" x=\"1627\" y=\"-155.3\" font-family=\"Times,serif\" font-size=\"14.00\">0</text>\n<polyline fill=\"none\" stroke=\"black\" points=\"1506.5,-147.5 1658.5,-147.5 \"/>\n<text text-anchor=\"middle\" x=\"1551\" y=\"-132.3\" font-family=\"Times,serif\" font-size=\"14.00\">error</text>\n<polyline fill=\"none\" stroke=\"black\" points=\"1595.5,-124.5 1595.5,-147.5 \"/>\n<text text-anchor=\"middle\" x=\"1627\" y=\"-132.3\" font-family=\"Times,serif\" font-size=\"14.00\">0</text>\n<polyline fill=\"none\" stroke=\"black\" points=\"1506.5,-124.5 1658.5,-124.5 \"/>\n<text text-anchor=\"middle\" x=\"1537.5\" y=\"-109.3\" font-family=\"Times,serif\" font-size=\"14.00\">values</text>\n<polyline fill=\"none\" stroke=\"black\" points=\"1568.5,-101.5 1568.5,-124.5 \"/>\n<text text-anchor=\"middle\" x=\"1613.5\" y=\"-109.3\" font-family=\"Times,serif\" font-size=\"14.00\">[10.0, 0.0]</text>\n</g>\n<!-- node_1620f8d2_672a_4eee_857e_9458ea51f93a&#45;&gt;leaf_a867add4_3554_4699_8bad_eb989357e5ee -->\n<g id=\"edge29\" class=\"edge\">\n<title>node_1620f8d2_672a_4eee_857e_9458ea51f93a&#45;&gt;leaf_a867add4_3554_4699_8bad_eb989357e5ee</title>\n<path fill=\"none\" stroke=\"black\" d=\"M1463.25,-218.98C1480.29,-207.27 1503.65,-191.21 1525.18,-176.41\"/>\n<polygon fill=\"black\" stroke=\"black\" points=\"1527.38,-179.14 1533.64,-170.59 1523.41,-173.38 1527.38,-179.14\"/>\n<text text-anchor=\"middle\" x=\"1524.5\" y=\"-182.8\" font-family=\"Times,serif\" font-size=\"14.00\">0</text>\n</g>\n</g>\n</svg>\n",
      "text/plain": [
       "<graphviz.sources.Source at 0x7ff6f1ef5bd0>"
      ]
     },
     "execution_count": 23,
     "metadata": {},
     "output_type": "execute_result"
    }
   ],
   "source": [
    "dot = export_graphviz(clf)\n",
    "graphviz.Source(dot)"
   ]
  },
  {
   "cell_type": "code",
   "execution_count": 24,
   "metadata": {
    "collapsed": false,
    "pycharm": {
     "name": "#%%\n"
    }
   },
   "outputs": [
    {
     "name": "stdout",
     "output_type": "stream",
     "text": [
      "Accuracy:\n",
      "    Before      : 0.923445\n",
      "    Leafs       : -0.148325\n",
      "    After       : 0.77512\n",
      "    Expected    : 0.77512\n",
      "    Check       : True\n",
      "Discrim:\n",
      "    Before      : 0.294\n",
      "    Leafs       : -0.25\n",
      "    After       : 0.044\n",
      "    Expected    : 0.044\n",
      "    Check       : True\n"
     ]
    }
   ],
   "source": [
    "clf = DecisionTreeClassifier(max_depth=7, random_state=0)\n",
    "clf.fit(X_train, list(y_train))\n",
    "y_pred_train = clf.predict(X_train)\n",
    "accuracy_train = round(accuracy_score(y_train, y_pred_train),6)\n",
    "discrimation_train_pred = round(utils.discrimination(y_pred_train, sensitive_train), 6)\n",
    "leafs = list()\n",
    "cnt = np.unique(sensitive, return_counts=True)[1]\n",
    "relabeling_fairlearn.get_leaves_candidates(clf, X_train, y_train, sensitive_train, cnt, len(y_train), leafs)\n",
    "leafs_relab = relabeling_fairlearn.leaves_to_relabel(clf, X_train, y_train, y_pred_train, sensitive_train, 0.1)\n",
    "for leaf in leafs_relab:\n",
    "    relabeling_fairlearn.browse_and_relab(clf, leaf.node_id)\n",
    "y_pred_train = clf.predict(X_train)\n",
    "accuracy_train_relab = round(accuracy_score(y_train, y_pred_train), 6)\n",
    "discrimation_train_pred_relab = round(utils.discrimination(y_pred_train, sensitive_train), 6)\n",
    "new_acc= round(accuracy_train+sum_acc, 6)\n",
    "new_disc = round(discrimation_train_pred+sum_disc, 6)\n",
    "print(f\"Accuracy:\\n\"\n",
    "      f\"    Before      : {accuracy_train}\\n\"\n",
    "      f\"    Leafs       : {sum_acc}\\n\"\n",
    "      f\"    After       : {accuracy_train_relab}\\n\"\n",
    "      f\"    Expected    : {new_acc}\\n\"\n",
    "      f\"    Check       : {new_acc == accuracy_train_relab}\")\n",
    "print(f\"Discrim:\\n\"\n",
    "      f\"    Before      : {discrimation_train_pred}\\n\"\n",
    "      f\"    Leafs       : {sum_disc }\\n\"\n",
    "      f\"    After       : {discrimation_train_pred_relab}\\n\"\n",
    "      f\"    Expected    : {new_disc}\\n\"\n",
    "      f\"    Check       : {new_disc== discrimation_train_pred_relab}\")"
   ]
  },
  {
   "cell_type": "code",
   "execution_count": 25,
   "metadata": {
    "collapsed": false,
    "pycharm": {
     "name": "#%%\n"
    }
   },
   "outputs": [],
   "source": [
    "pydl = dict()\n",
    "utils.sklearn_to_pydl(clf, pydl, 0)"
   ]
  },
  {
   "cell_type": "code",
   "execution_count": 26,
   "metadata": {
    "collapsed": false,
    "pycharm": {
     "name": "#%%\n"
    }
   },
   "outputs": [
    {
     "name": "stdout",
     "output_type": "stream",
     "text": [
      "Accuracy:\n",
      "    Before      : 0.923445\n",
      "    Leafs       : -0.148325\n",
      "    After       : 0.77512\n",
      "    Expected    : 0.77512\n",
      "    Check       : True\n",
      "Discrim:\n",
      "    Before      : 0.294\n",
      "    Leafs       : -0.25\n",
      "    After       : 0.277048\n",
      "    Expected    : 0.044\n",
      "    Check       : False\n"
     ]
    }
   ],
   "source": [
    "clf = DL85Classifier(max_depth=3, error_function=lambda tids: utils.misclassified(list(tids), y_train), min_sup=1, time_limit=600)\n",
    "clf.fit(X_train, list(y_train))\n",
    "y_pred_train = clf.predict(X_train)\n",
    "clf.tree_ = pydl\n",
    "discrimation_train_pred_relab = round(utils.discrimination(y_pred_train, sensitive_train), 6)\n",
    "new_acc= round(accuracy_train+sum_acc, 6)\n",
    "new_disc = round(discrimation_train_pred+sum_disc, 6)\n",
    "print(f\"Accuracy:\\n\"\n",
    "      f\"    Before      : {accuracy_train}\\n\"\n",
    "      f\"    Leafs       : {sum_acc}\\n\"\n",
    "      f\"    After       : {accuracy_train_relab}\\n\"\n",
    "      f\"    Expected    : {new_acc}\\n\"\n",
    "      f\"    Check       : {new_acc == accuracy_train_relab}\")\n",
    "print(f\"Discrim:\\n\"\n",
    "      f\"    Before      : {discrimation_train_pred}\\n\"\n",
    "      f\"    Leafs       : {sum_disc }\\n\"\n",
    "      f\"    After       : {discrimation_train_pred_relab}\\n\"\n",
    "      f\"    Expected    : {new_disc}\\n\"\n",
    "      f\"    Check       : {new_disc== discrimation_train_pred_relab}\")"
   ]
  },
  {
   "cell_type": "code",
   "execution_count": null,
   "metadata": {
    "collapsed": false,
    "pycharm": {
     "name": "#%%\n"
    }
   },
   "outputs": [],
   "source": []
  }
 ],
 "metadata": {
  "kernelspec": {
   "display_name": "Python 3.10.4 ('venv': venv)",
   "language": "python",
   "name": "python3"
  },
  "language_info": {
   "codemirror_mode": {
    "name": "ipython",
    "version": 3
   },
   "file_extension": ".py",
   "mimetype": "text/x-python",
   "name": "python",
   "nbconvert_exporter": "python",
   "pygments_lexer": "ipython3",
   "version": "3.10.4"
  },
  "vscode": {
   "interpreter": {
    "hash": "91b3042644fc76fe48ba76245780156751ae4c80307eab167c6865bf43871907"
   }
  }
 },
 "nbformat": 4,
 "nbformat_minor": 0
}
