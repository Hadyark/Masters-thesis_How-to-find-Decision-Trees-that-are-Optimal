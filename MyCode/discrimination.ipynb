{
 "cells": [
  {
   "cell_type": "code",
   "execution_count": 6,
   "metadata": {},
   "outputs": [
    {
     "data": {
      "text/plain": "      0    1  Class  Sensitive\n0   0.0  0.0    0.0        1.0\n1   0.0  0.0    0.0        1.0\n2   0.0  0.0    0.0        1.0\n3   0.0  0.0    0.0        1.0\n4   0.0  0.0    0.0        1.0\n5   0.0  1.0    0.0        1.0\n6   0.0  1.0    0.0        0.0\n7   0.0  1.0    0.0        0.0\n8   0.0  1.0    1.0        0.0\n9   0.0  1.0    1.0        0.0\n10  1.0  0.0    0.0        0.0\n11  1.0  0.0    0.0        1.0\n12  1.0  0.0    1.0        1.0\n13  1.0  0.0    1.0        1.0\n14  1.0  0.0    1.0        1.0\n15  1.0  1.0    1.0        1.0\n16  1.0  1.0    1.0        1.0\n17  1.0  1.0    1.0        1.0\n18  1.0  1.0    1.0        0.0\n19  1.0  1.0    1.0        0.0",
      "text/html": "<div>\n<style scoped>\n    .dataframe tbody tr th:only-of-type {\n        vertical-align: middle;\n    }\n\n    .dataframe tbody tr th {\n        vertical-align: top;\n    }\n\n    .dataframe thead th {\n        text-align: right;\n    }\n</style>\n<table border=\"1\" class=\"dataframe\">\n  <thead>\n    <tr style=\"text-align: right;\">\n      <th></th>\n      <th>0</th>\n      <th>1</th>\n      <th>Class</th>\n      <th>Sensitive</th>\n    </tr>\n  </thead>\n  <tbody>\n    <tr>\n      <th>0</th>\n      <td>0.0</td>\n      <td>0.0</td>\n      <td>0.0</td>\n      <td>1.0</td>\n    </tr>\n    <tr>\n      <th>1</th>\n      <td>0.0</td>\n      <td>0.0</td>\n      <td>0.0</td>\n      <td>1.0</td>\n    </tr>\n    <tr>\n      <th>2</th>\n      <td>0.0</td>\n      <td>0.0</td>\n      <td>0.0</td>\n      <td>1.0</td>\n    </tr>\n    <tr>\n      <th>3</th>\n      <td>0.0</td>\n      <td>0.0</td>\n      <td>0.0</td>\n      <td>1.0</td>\n    </tr>\n    <tr>\n      <th>4</th>\n      <td>0.0</td>\n      <td>0.0</td>\n      <td>0.0</td>\n      <td>1.0</td>\n    </tr>\n    <tr>\n      <th>5</th>\n      <td>0.0</td>\n      <td>1.0</td>\n      <td>0.0</td>\n      <td>1.0</td>\n    </tr>\n    <tr>\n      <th>6</th>\n      <td>0.0</td>\n      <td>1.0</td>\n      <td>0.0</td>\n      <td>0.0</td>\n    </tr>\n    <tr>\n      <th>7</th>\n      <td>0.0</td>\n      <td>1.0</td>\n      <td>0.0</td>\n      <td>0.0</td>\n    </tr>\n    <tr>\n      <th>8</th>\n      <td>0.0</td>\n      <td>1.0</td>\n      <td>1.0</td>\n      <td>0.0</td>\n    </tr>\n    <tr>\n      <th>9</th>\n      <td>0.0</td>\n      <td>1.0</td>\n      <td>1.0</td>\n      <td>0.0</td>\n    </tr>\n    <tr>\n      <th>10</th>\n      <td>1.0</td>\n      <td>0.0</td>\n      <td>0.0</td>\n      <td>0.0</td>\n    </tr>\n    <tr>\n      <th>11</th>\n      <td>1.0</td>\n      <td>0.0</td>\n      <td>0.0</td>\n      <td>1.0</td>\n    </tr>\n    <tr>\n      <th>12</th>\n      <td>1.0</td>\n      <td>0.0</td>\n      <td>1.0</td>\n      <td>1.0</td>\n    </tr>\n    <tr>\n      <th>13</th>\n      <td>1.0</td>\n      <td>0.0</td>\n      <td>1.0</td>\n      <td>1.0</td>\n    </tr>\n    <tr>\n      <th>14</th>\n      <td>1.0</td>\n      <td>0.0</td>\n      <td>1.0</td>\n      <td>1.0</td>\n    </tr>\n    <tr>\n      <th>15</th>\n      <td>1.0</td>\n      <td>1.0</td>\n      <td>1.0</td>\n      <td>1.0</td>\n    </tr>\n    <tr>\n      <th>16</th>\n      <td>1.0</td>\n      <td>1.0</td>\n      <td>1.0</td>\n      <td>1.0</td>\n    </tr>\n    <tr>\n      <th>17</th>\n      <td>1.0</td>\n      <td>1.0</td>\n      <td>1.0</td>\n      <td>1.0</td>\n    </tr>\n    <tr>\n      <th>18</th>\n      <td>1.0</td>\n      <td>1.0</td>\n      <td>1.0</td>\n      <td>0.0</td>\n    </tr>\n    <tr>\n      <th>19</th>\n      <td>1.0</td>\n      <td>1.0</td>\n      <td>1.0</td>\n      <td>0.0</td>\n    </tr>\n  </tbody>\n</table>\n</div>"
     },
     "execution_count": 6,
     "metadata": {},
     "output_type": "execute_result"
    }
   ],
   "source": [
    "import fairlearn.metrics\n",
    "import numpy as np\n",
    "from sklearn.metrics import accuracy_score\n",
    "import time\n",
    "import pandas as pd\n",
    "from pprint import pprint\n",
    "from dl85 import DL85Classifier\n",
    "import graphviz\n",
    "import MyCode.utils as utils\n",
    "\"\"\"\n",
    "dataset = np.genfromtxt(\"datasets/anneal.txt\", delimiter=' ')\n",
    "X, y = dataset[:, 1:], dataset[:, 0]\n",
    "\n",
    "\"\"\"\n",
    "col1        = np.array([0.0] * 10 + [1.0] * 0 + [0.0] * 0 + [1.0] * 10).reshape(-1,1)\n",
    "col2        = np.array([0.0] * 5 + [1.0] * 5 + [0.0] * 5 + [1.0] * 5).reshape(-1,1)\n",
    "X           = np.array([0.0] * 10 + [1.0] * 0 + [0.0] * 0 + [1.0] * 10)\n",
    "X           = np.concatenate( (col1, col2), axis = 1)\n",
    "\n",
    "y           = np.array([0.0] * 8 + [1.0] * 2 + [0.0] * 2 + [1.0] * 8)\n",
    "#sensitive   = np.array([0.0] * 6 + [1.0] * 5 + [0.0] * 7 + [1.0] * 2)\n",
    "sensitive   = np.array([1.0] * 6 + [0.0] * 5 + [1.0] * 7 + [0.0] * 2)\n",
    "#X_train,y_train = X, y\n",
    "\n",
    "#DATAFRAME\n",
    "df = pd.DataFrame(X)\n",
    "df['Class'] = y.tolist()\n",
    "df['Sensitive'] = sensitive.tolist()\n",
    "df"
   ]
  },
  {
   "cell_type": "code",
   "execution_count": 7,
   "outputs": [
    {
     "data": {
      "text/plain": "0.10989010989010983"
     },
     "execution_count": 7,
     "metadata": {},
     "output_type": "execute_result"
    }
   ],
   "source": [
    "utils.discrimination(df['Class'], df['Sensitive'] )"
   ],
   "metadata": {
    "collapsed": false,
    "pycharm": {
     "name": "#%%\n"
    }
   }
  },
  {
   "cell_type": "code",
   "execution_count": 8,
   "outputs": [],
   "source": [
    "def train_test_split(random_state):\n",
    "    global X_train, y_train, sensitive_train\n",
    "    global X_test, y_test, sensitive_test\n",
    "\n",
    "    X = df.loc[:, ~df.columns.isin(['Class', 'Sensitive'])]\n",
    "    y = df['Class']\n",
    "    sensitive = df['Sensitive']\n",
    "\n",
    "    index_train = list(df.sample(frac=1, random_state=random_state).index)\n",
    "    index_test = list(df.drop(index=index_train).index)\n",
    "\n",
    "    X_train = X.drop(index=index_test).to_numpy()\n",
    "    y_train = y.drop(index=index_test).to_numpy()\n",
    "    sensitive_train = sensitive.drop(index=index_test).to_numpy()\n",
    "\n",
    "    X_test = X.drop(index=index_train).to_numpy()\n",
    "    y_test = list(y.drop(index=index_train).to_numpy())\n",
    "    sensitive_test = sensitive.drop(index=index_train).to_numpy()\n",
    "train_test_split(1)"
   ],
   "metadata": {
    "collapsed": false,
    "pycharm": {
     "name": "#%%\n"
    }
   }
  },
  {
   "cell_type": "code",
   "execution_count": 9,
   "metadata": {
    "pycharm": {
     "name": "#%%\n"
    }
   },
   "outputs": [],
   "source": [
    "def discrimination(sensitive, y):\n",
    "    \"\"\"\n",
    "    p0: ∣{𝑥 ∈ 𝐷 ∣ 𝑥.Sensitive = 0, clf(𝑥) = +}∣\n",
    "    p1: ∣{𝑥 ∈ 𝐷 ∣ 𝑥.Sensitive = 1, clf(𝑥) = +}∣\n",
    "    n_zero: ∣{𝑥 ∈ 𝐷 ∣ 𝑥.Sensitive = 0}∣\n",
    "    n_one: ∣{𝑥 ∈ 𝐷 ∣ 𝑥.Sensitive = 1}∣\n",
    "    \"\"\"\n",
    "    p0, p1, n_zero, n_one= 0, 0, 0, 0\n",
    "    for i in range(0, len(y)):\n",
    "        if sensitive[i] == 0.0:\n",
    "            n_zero+=1\n",
    "            if y[i] == 1.0:\n",
    "                p0+=1\n",
    "        elif sensitive[i] == 1.0:\n",
    "            n_one+=1\n",
    "            if y[i] == 1.0:\n",
    "                p1+=1\n",
    "\n",
    "    if n_one == 0 and n_zero == 0: d = 0\n",
    "    elif n_zero == 0: d = -(p1/n_one)\n",
    "    elif n_one == 0: d = p0/n_zero\n",
    "    else: d = (p0/n_zero) - (p1/n_one)\n",
    "\n",
    "    #A higher discrimination means that tuples with\n",
    "    #Sensitive = 1 are less likely to be classified as positive\n",
    "    return d\n",
    "\n",
    "def discr_add(tids):\n",
    "    \"\"\"\n",
    "    p0: ∣{𝑥 ∈ 𝐷 ∣ 𝑥.Sensitive = 0, 𝑥.Class = +}∣\n",
    "    p1: ∣{𝑥 ∈ 𝐷 ∣ 𝑥.Sensitive = 1, 𝑥.Class = +}∣\n",
    "    n_zero: ∣{𝑥 ∈ 𝐷 ∣ 𝑥.Sensitive = 0}∣\n",
    "    n_one: ∣{𝑥 ∈ 𝐷 ∣ 𝑥.Sensitive = 1}∣\n",
    "    \"\"\"\n",
    "    p0, p1 = 0, 0\n",
    "    for i in tids:\n",
    "        if sensitive_train[i] == 0.0:\n",
    "            if y_train[i] == 1.0:\n",
    "                p0+=1\n",
    "        elif sensitive_train[i] == 1.0:\n",
    "            if y_train[i] == 1.0:\n",
    "                p1+=1\n",
    "\n",
    "    cnt = np.unique(sensitive_train, return_counts=True)[1]\n",
    "    n_zero = cnt[0]\n",
    "    n_one = cnt[1]\n",
    "\n",
    "    if n_one == 0 and n_zero == 0: d = 0\n",
    "    elif n_zero == 0: d = -(p1/n_one)\n",
    "    elif n_one == 0: d = p0/n_zero\n",
    "    else: d = (p0/n_zero) - (p1/n_one)\n",
    "\n",
    "    #A higher discrimination means that tuples with\n",
    "    #Sensitive = 1 are less likely to be classified as positive\n",
    "    return d\n",
    "\n",
    "def misclassified(tids):\n",
    "    classes, supports = np.unique(y_train.take(tids), return_counts=True)\n",
    "    maxindex = np.argmax(supports)\n",
    "\n",
    "    return sum(supports) - supports[maxindex], classes[maxindex]\n",
    "\n",
    "def error(tids, k):\n",
    "    mis = misclassified(tids)\n",
    "    return mis[0] + abs(discr_add(tids)) * k, mis[1]\n",
    "\n",
    "def error1(tids, k):\n",
    "    mis = misclassified(tids)\n",
    "    return mis[0] + abs(discr_add(tids)) * k, mis[1]\n",
    "\n",
    "def error2(tids, k):\n",
    "    mis = misclassified(tids)\n",
    "    return mis[0] + abs(discr_add(tids)) * k, mis[1]\n",
    "\n",
    "def error3(tids, k):\n",
    "    mis = misclassified(tids)\n",
    "    return mis[0] + abs(discr_add(tids)) * k, mis[1]\n",
    "\n",
    "def error4(tids, k):\n",
    "    mis = misclassified(tids)\n",
    "    return mis[0] + abs(discr_add(tids)) * k, mis[1]"
   ]
  },
  {
   "cell_type": "code",
   "execution_count": 10,
   "metadata": {
    "pycharm": {
     "name": "#%%\n"
    }
   },
   "outputs": [
    {
     "name": "stdout",
     "output_type": "stream",
     "text": [
      "Model building...\n",
      "Model built. Duration of building = 0.0032\n",
      "Accuracy DL8.5 on training set = 0.7714\n",
      "Average accuracy on test set = 0.8\n",
      "Discrimination of classifier -0.1099\n",
      "error: 4.571428\n"
     ]
    }
   ],
   "source": [
    "train_test_split(1)\n",
    "\n",
    "clf = DL85Classifier(max_depth=2, error_function=lambda tids: error(list(tids), 1), time_limit=600)\n",
    "\n",
    "start = time.perf_counter()\n",
    "print(\"Model building...\")\n",
    "clf.fit(X_train, y_train)\n",
    "duration = time.perf_counter() - start\n",
    "print(\"Model built. Duration of building =\", round(duration, 4))\n",
    "print(\"Accuracy DL8.5 on training set =\", round(clf.accuracy_, 4))\n",
    "y_pred = clf.predict(X_train)\n",
    "print(\"Average accuracy on test set =\", accuracy_score(y_train, y_pred))\n",
    "descrimation = round(discrimination(sensitive_train, y_pred), 4)\n",
    "print(\"Discrimination of classifier\", round(discrimination(sensitive_train, y_pred), 4))\n",
    "\n",
    "print(f\"error: {clf.error_}\")"
   ]
  },
  {
   "cell_type": "code",
   "execution_count": 11,
   "outputs": [
    {
     "name": "stdout",
     "output_type": "stream",
     "text": [
      "(nItems, nTransactions) : ( 4, 20 )\n",
      "Tree: {'feat': 0, 'left': {'feat': 1, 'left': {'value': 1, 'error': 0.054945, 'transactions': [15, 16, 17, 18, 19], 'proba': [0, 1.0]}, 'right': {'value': 1, 'error': 2.230769, 'transactions': [10, 11, 12, 13, 14], 'proba': [0.4, 0.6]}, 'transactions': [10, 11, 12, 13, 14, 15, 16, 17, 18, 19], 'proba': [0.2, 0.8]}, 'right': {'feat': 1, 'left': {'value': 0, 'error': 2.285714, 'transactions': [5, 6, 7, 8, 9], 'proba': [0.6, 0.4]}, 'right': {'value': 0, 'error': 0.0, 'transactions': [0, 1, 2, 3, 4], 'proba': [1.0, 0]}, 'transactions': [0, 1, 2, 3, 4, 5, 6, 7, 8, 9], 'proba': [0.8, 0.2]}, 'transactions': [0, 1, 2, 3, 4, 5, 6, 7, 8, 9, 10, 11, 12, 13, 14, 15, 16, 17, 18, 19], 'proba': [0.5, 0.5]}\n",
      "Size: 7\n",
      "Depth: 2\n",
      "Error: 4.571428\n",
      "LatticeSize: 9\n",
      "Runtime: 0.003747\n",
      "Timeout: False\n"
     ]
    },
    {
     "data": {
      "text/plain": "DL85Predictor(error_function=<function <lambda> at 0x7fd5b30898b0>, max_depth=5,\n              min_sup=0, print_output=True, time_limit=600)"
     },
     "execution_count": 11,
     "metadata": {},
     "output_type": "execute_result"
    }
   ],
   "source": [
    "from dl85 import DL85Predictor\n",
    "\n",
    "clf = DL85Predictor(\n",
    "    max_depth=5,\n",
    "    min_sup=0,\n",
    "    error_function=lambda tids: error(list(tids), 1),\n",
    "    fast_error_function=None,\n",
    "    max_error=0,\n",
    "    stop_after_better=False,\n",
    "    time_limit=600,\n",
    "    verbose=False,\n",
    "    desc=False,\n",
    "    asc=False,\n",
    "    repeat_sort=False,\n",
    "    quiet=True,\n",
    "    print_output=True)\n",
    "clf.fit(X_train, list(y_train))"
   ],
   "metadata": {
    "collapsed": false,
    "pycharm": {
     "name": "#%%\n"
    }
   }
  },
  {
   "cell_type": "code",
   "execution_count": 12,
   "outputs": [
    {
     "name": "stdout",
     "output_type": "stream",
     "text": [
      "(nItems, nTransactions) : ( 4, 20 )\n",
      "Tree: {'feat': 0, 'left': {'feat': 1, 'left': {'value': 1, 'error': 0.054945, 'transactions': [15, 16, 17, 18, 19], 'proba': [0, 1.0]}, 'right': {'value': 1, 'error': 2.230769, 'transactions': [10, 11, 12, 13, 14], 'proba': [0.4, 0.6]}, 'transactions': [10, 11, 12, 13, 14, 15, 16, 17, 18, 19], 'proba': [0.2, 0.8]}, 'right': {'feat': 1, 'left': {'value': 0, 'error': 2.285714, 'transactions': [5, 6, 7, 8, 9], 'proba': [0.6, 0.4]}, 'right': {'value': 0, 'error': 0.0, 'transactions': [0, 1, 2, 3, 4], 'proba': [1.0, 0]}, 'transactions': [0, 1, 2, 3, 4, 5, 6, 7, 8, 9], 'proba': [0.8, 0.2]}, 'transactions': [0, 1, 2, 3, 4, 5, 6, 7, 8, 9, 10, 11, 12, 13, 14, 15, 16, 17, 18, 19], 'proba': [0.5, 0.5]}\n",
      "Size: 7\n",
      "Depth: 2\n",
      "Error: 4.571428\n",
      "LatticeSize: 9\n",
      "Runtime: 0.002668\n",
      "Timeout: False\n",
      "{'feat': 0,\n",
      " 'left': {'feat': 1,\n",
      "          'left': {'error': 0.054945,\n",
      "                   'proba': [0, 1.0],\n",
      "                   'transactions': [15, 16, 17, 18, 19],\n",
      "                   'value': 1},\n",
      "          'proba': [0.2, 0.8],\n",
      "          'right': {'error': 2.230769,\n",
      "                    'proba': [0.4, 0.6],\n",
      "                    'transactions': [10, 11, 12, 13, 14],\n",
      "                    'value': 1},\n",
      "          'transactions': [10, 11, 12, 13, 14, 15, 16, 17, 18, 19]},\n",
      " 'proba': [0.5, 0.5],\n",
      " 'right': {'feat': 1,\n",
      "           'left': {'error': 2.285714,\n",
      "                    'proba': [0.6, 0.4],\n",
      "                    'transactions': [5, 6, 7, 8, 9],\n",
      "                    'value': 0},\n",
      "           'proba': [0.8, 0.2],\n",
      "           'right': {'error': 0.0,\n",
      "                     'proba': [1.0, 0],\n",
      "                     'transactions': [0, 1, 2, 3, 4],\n",
      "                     'value': 0},\n",
      "           'transactions': [0, 1, 2, 3, 4, 5, 6, 7, 8, 9]},\n",
      " 'transactions': [0,\n",
      "                  1,\n",
      "                  2,\n",
      "                  3,\n",
      "                  4,\n",
      "                  5,\n",
      "                  6,\n",
      "                  7,\n",
      "                  8,\n",
      "                  9,\n",
      "                  10,\n",
      "                  11,\n",
      "                  12,\n",
      "                  13,\n",
      "                  14,\n",
      "                  15,\n",
      "                  16,\n",
      "                  17,\n",
      "                  18,\n",
      "                  19]}\n"
     ]
    }
   ],
   "source": [
    "clf = DL85Predictor(max_depth=5, error_function=lambda tids: error1(list(tids), 1), min_sup=0, time_limit=600, print_output = True)\n",
    "clf.fit(X_train, list(y_train))\n",
    "pprint(clf.tree_)"
   ],
   "metadata": {
    "collapsed": false,
    "pycharm": {
     "name": "#%%\n"
    }
   }
  },
  {
   "cell_type": "code",
   "execution_count": 13,
   "outputs": [
    {
     "name": "stdout",
     "output_type": "stream",
     "text": [
      "{'feat': 0,\n",
      " 'left': {'feat': 1,\n",
      "          'left': {'discrimination_additive': 0.054945054945054916,\n",
      "                   'error': 0.054945,\n",
      "                   'misclassified': 0,\n",
      "                   'proba': [0, 1.0],\n",
      "                   'transactions': [15, 16, 17, 18, 19],\n",
      "                   'value': 1},\n",
      "          'proba': [0.2, 0.8],\n",
      "          'right': {'discrimination_additive': -0.23076923076923078,\n",
      "                    'error': 2.230769,\n",
      "                    'misclassified': 2,\n",
      "                    'proba': [0.4, 0.6],\n",
      "                    'transactions': [10, 11, 12, 13, 14],\n",
      "                    'value': 1},\n",
      "          'transactions': [10, 11, 12, 13, 14, 15, 16, 17, 18, 19]},\n",
      " 'proba': [0.5, 0.5],\n",
      " 'right': {'feat': 1,\n",
      "           'left': {'discrimination_additive': 0.2857142857142857,\n",
      "                    'error': 2.285714,\n",
      "                    'misclassified': 2,\n",
      "                    'proba': [0.6, 0.4],\n",
      "                    'transactions': [5, 6, 7, 8, 9],\n",
      "                    'value': 0},\n",
      "           'proba': [0.8, 0.2],\n",
      "           'right': {'discrimination_additive': 0.0,\n",
      "                     'error': 0.0,\n",
      "                     'misclassified': 0,\n",
      "                     'proba': [1.0, 0],\n",
      "                     'transactions': [0, 1, 2, 3, 4],\n",
      "                     'value': 0},\n",
      "           'transactions': [0, 1, 2, 3, 4, 5, 6, 7, 8, 9]},\n",
      " 'transactions': [0,\n",
      "                  1,\n",
      "                  2,\n",
      "                  3,\n",
      "                  4,\n",
      "                  5,\n",
      "                  6,\n",
      "                  7,\n",
      "                  8,\n",
      "                  9,\n",
      "                  10,\n",
      "                  11,\n",
      "                  12,\n",
      "                  13,\n",
      "                  14,\n",
      "                  15,\n",
      "                  16,\n",
      "                  17,\n",
      "                  18,\n",
      "                  19]}\n"
     ]
    }
   ],
   "source": [
    "def tree_upgrade(tree):\n",
    "    if 'feat' in tree:\n",
    "        tree_upgrade(tree['left'])\n",
    "        tree_upgrade(tree['right'])\n",
    "    else:\n",
    "        tree['discrimination_additive'] = discr_add(tree['transactions'])\n",
    "        tree['misclassified'] = misclassified(tree['transactions'])[0]\n",
    "tree_upgrade(clf.tree_)\n",
    "pprint(clf.tree_)"
   ],
   "metadata": {
    "collapsed": false,
    "pycharm": {
     "name": "#%%\n"
    }
   }
  },
  {
   "cell_type": "code",
   "execution_count": 14,
   "outputs": [
    {
     "data": {
      "text/plain": "'plots/discrimination_tree.png'"
     },
     "execution_count": 14,
     "metadata": {},
     "output_type": "execute_result"
    }
   ],
   "source": [
    "from MyCode.utils import export_graphviz\n",
    "\n",
    "dot = export_graphviz(clf)\n",
    "graph = graphviz.Source(dot, format=\"png\")\n",
    "graph.render(\"plots/discrimination_tree\")"
   ],
   "metadata": {
    "collapsed": false,
    "pycharm": {
     "name": "#%%\n"
    }
   }
  },
  {
   "cell_type": "code",
   "execution_count": 18,
   "outputs": [
    {
     "data": {
      "text/plain": "[Text(251.10000000000002, 271.8, 'X[0] <= 0.5\\ngini = 0.5\\nsamples = 20\\nvalue = [10, 10]'),\n Text(125.55000000000001, 163.08, 'X[1] <= 0.5\\ngini = 0.32\\nsamples = 10\\nvalue = [8, 2]'),\n Text(62.775000000000006, 54.360000000000014, 'gini = 0.0\\nsamples = 5\\nvalue = [5, 0]'),\n Text(188.32500000000002, 54.360000000000014, 'gini = 0.48\\nsamples = 5\\nvalue = [3, 2]'),\n Text(376.65000000000003, 163.08, 'X[1] <= 0.5\\ngini = 0.32\\nsamples = 10\\nvalue = [2, 8]'),\n Text(313.875, 54.360000000000014, 'gini = 0.48\\nsamples = 5\\nvalue = [2, 3]'),\n Text(439.42500000000007, 54.360000000000014, 'gini = 0.0\\nsamples = 5\\nvalue = [0, 5]')]"
     },
     "execution_count": 18,
     "metadata": {},
     "output_type": "execute_result"
    },
    {
     "data": {
      "text/plain": "<Figure size 648x432 with 1 Axes>",
      "image/png": "[encoded data removed]"
     },
     "metadata": {
      "needs_background": "light"
     },
     "output_type": "display_data"
    }
   ],
   "source": [
    "from sklearn import tree\n",
    "from sklearn.tree import DecisionTreeClassifier\n",
    "\n",
    "clf = DecisionTreeClassifier(max_depth=3, random_state=0)\n",
    "clf.fit(X_train, list(y_train))\n",
    "y_pred_train = clf.predict(X_train)\n",
    "tree.plot_tree(clf)"
   ],
   "metadata": {
    "collapsed": false,
    "pycharm": {
     "name": "#%%\n"
    }
   }
  },
  {
   "cell_type": "code",
   "execution_count": null,
   "outputs": [],
   "source": [],
   "metadata": {
    "collapsed": false,
    "pycharm": {
     "name": "#%%\n"
    }
   }
  }
 ],
 "metadata": {
  "interpreter": {
   "hash": "31f2aee4e71d21fbe5cf8b01ff0e069b9275f58929596ceb00d14d90e3e16cd6"
  },
  "kernelspec": {
   "display_name": "Python 3 (ipykernel)",
   "language": "python",
   "name": "python3"
  },
  "language_info": {
   "codemirror_mode": {
    "name": "ipython",
    "version": 3
   },
   "file_extension": ".py",
   "mimetype": "text/x-python",
   "name": "python",
   "nbconvert_exporter": "python",
   "pygments_lexer": "ipython3",
   "version": "3.8.10"
  },
  "toc": {
   "base_numbering": 1,
   "nav_menu": {},
   "number_sections": false,
   "sideBar": true,
   "skip_h1_title": false,
   "title_cell": "Table of Contents",
   "title_sidebar": "Contents",
   "toc_cell": false,
   "toc_position": {},
   "toc_section_display": true,
   "toc_window_display": false
  }
 },
 "nbformat": 4,
 "nbformat_minor": 4
}