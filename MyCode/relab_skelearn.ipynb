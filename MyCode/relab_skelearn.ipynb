{
 "cells": [
  {
   "cell_type": "code",
   "execution_count": 376,
   "metadata": {
    "collapsed": true
   },
   "outputs": [],
   "source": [
    "import pandas\n",
    "from scipy.io import arff\n",
    "import numpy as np\n",
    "from sklearn.metrics import confusion_matrix\n",
    "from sklearn.model_selection import train_test_split\n",
    "from sklearn.metrics import accuracy_score\n",
    "import time\n",
    "from dl85 import DL85Predictor\n",
    "from dl85 import DL85Classifier\n",
    "import pandas as pd\n",
    "from sklearn.preprocessing import OneHotEncoder\n",
    "import matplotlib.pyplot as plt\n",
    "import numpy as np\n",
    "import MyCode.utils as utils\n",
    "import graphviz\n",
    "from MyCode import relabeling\n",
    "from MyCode import relabeling_sklearn"
   ]
  },
  {
   "cell_type": "code",
   "execution_count": 377,
   "outputs": [
    {
     "data": {
      "text/plain": "     Dept  Gender  Clin  Cert  Prate  Exper  Rank   Sal94   Sal95\n0       1       1     0     0    7.4      9     3   77836   84612\n1       1       1     0     0    6.7     10     2   69994   78497\n2       1       1     0     0    8.1      6     1   62872   67756\n3       1       1     1     1    5.1     27     3  155196  173220\n4       1       1     0     0    7.0     10     3   89268   96099\n..    ...     ...   ...   ...    ...    ...   ...     ...     ...\n256     6       0     1     1    2.9      8     2  297174  323699\n257     6       0     1     1    2.6      9     3  308081  339664\n258     6       0     1     1    2.8      8     1  211269  241577\n259     6       0     1     1    2.4      2     1  210801  233905\n260     6       0     1     1    3.2      5     1  244551  265502\n\n[261 rows x 9 columns]",
      "text/html": "<div>\n<style scoped>\n    .dataframe tbody tr th:only-of-type {\n        vertical-align: middle;\n    }\n\n    .dataframe tbody tr th {\n        vertical-align: top;\n    }\n\n    .dataframe thead th {\n        text-align: right;\n    }\n</style>\n<table border=\"1\" class=\"dataframe\">\n  <thead>\n    <tr style=\"text-align: right;\">\n      <th></th>\n      <th>Dept</th>\n      <th>Gender</th>\n      <th>Clin</th>\n      <th>Cert</th>\n      <th>Prate</th>\n      <th>Exper</th>\n      <th>Rank</th>\n      <th>Sal94</th>\n      <th>Sal95</th>\n    </tr>\n  </thead>\n  <tbody>\n    <tr>\n      <th>0</th>\n      <td>1</td>\n      <td>1</td>\n      <td>0</td>\n      <td>0</td>\n      <td>7.4</td>\n      <td>9</td>\n      <td>3</td>\n      <td>77836</td>\n      <td>84612</td>\n    </tr>\n    <tr>\n      <th>1</th>\n      <td>1</td>\n      <td>1</td>\n      <td>0</td>\n      <td>0</td>\n      <td>6.7</td>\n      <td>10</td>\n      <td>2</td>\n      <td>69994</td>\n      <td>78497</td>\n    </tr>\n    <tr>\n      <th>2</th>\n      <td>1</td>\n      <td>1</td>\n      <td>0</td>\n      <td>0</td>\n      <td>8.1</td>\n      <td>6</td>\n      <td>1</td>\n      <td>62872</td>\n      <td>67756</td>\n    </tr>\n    <tr>\n      <th>3</th>\n      <td>1</td>\n      <td>1</td>\n      <td>1</td>\n      <td>1</td>\n      <td>5.1</td>\n      <td>27</td>\n      <td>3</td>\n      <td>155196</td>\n      <td>173220</td>\n    </tr>\n    <tr>\n      <th>4</th>\n      <td>1</td>\n      <td>1</td>\n      <td>0</td>\n      <td>0</td>\n      <td>7.0</td>\n      <td>10</td>\n      <td>3</td>\n      <td>89268</td>\n      <td>96099</td>\n    </tr>\n    <tr>\n      <th>...</th>\n      <td>...</td>\n      <td>...</td>\n      <td>...</td>\n      <td>...</td>\n      <td>...</td>\n      <td>...</td>\n      <td>...</td>\n      <td>...</td>\n      <td>...</td>\n    </tr>\n    <tr>\n      <th>256</th>\n      <td>6</td>\n      <td>0</td>\n      <td>1</td>\n      <td>1</td>\n      <td>2.9</td>\n      <td>8</td>\n      <td>2</td>\n      <td>297174</td>\n      <td>323699</td>\n    </tr>\n    <tr>\n      <th>257</th>\n      <td>6</td>\n      <td>0</td>\n      <td>1</td>\n      <td>1</td>\n      <td>2.6</td>\n      <td>9</td>\n      <td>3</td>\n      <td>308081</td>\n      <td>339664</td>\n    </tr>\n    <tr>\n      <th>258</th>\n      <td>6</td>\n      <td>0</td>\n      <td>1</td>\n      <td>1</td>\n      <td>2.8</td>\n      <td>8</td>\n      <td>1</td>\n      <td>211269</td>\n      <td>241577</td>\n    </tr>\n    <tr>\n      <th>259</th>\n      <td>6</td>\n      <td>0</td>\n      <td>1</td>\n      <td>1</td>\n      <td>2.4</td>\n      <td>2</td>\n      <td>1</td>\n      <td>210801</td>\n      <td>233905</td>\n    </tr>\n    <tr>\n      <th>260</th>\n      <td>6</td>\n      <td>0</td>\n      <td>1</td>\n      <td>1</td>\n      <td>3.2</td>\n      <td>5</td>\n      <td>1</td>\n      <td>244551</td>\n      <td>265502</td>\n    </tr>\n  </tbody>\n</table>\n<p>261 rows × 9 columns</p>\n</div>"
     },
     "execution_count": 377,
     "metadata": {},
     "output_type": "execute_result"
    }
   ],
   "source": [
    "pd.set_option('max_columns', None)\n",
    "FILE_NAME = \"relab_Lawsuit\"\n",
    "\n",
    "# src: https://www.kaggle.com/hjmjerry/gender-discrimination\n",
    "df = pandas.read_csv(\"dataset_perso/Lawsuit.csv\")\n",
    "del df['ID']\n",
    "df"
   ],
   "metadata": {
    "collapsed": false,
    "pycharm": {
     "name": "#%%\n"
    }
   }
  },
  {
   "cell_type": "code",
   "execution_count": 378,
   "outputs": [
    {
     "data": {
      "text/plain": "     Dept  Gender  Clin  Cert  Prate  Exper  Rank  Salary_mean\n0       1       1     0     0    7.4      9     3          0.0\n1       1       1     0     0    6.7     10     2          0.0\n2       1       1     0     0    8.1      6     1          0.0\n3       1       1     1     1    5.1     27     3          1.0\n4       1       1     0     0    7.0     10     3          0.0\n..    ...     ...   ...   ...    ...    ...   ...          ...\n256     6       0     1     1    2.9      8     2          1.0\n257     6       0     1     1    2.6      9     3          1.0\n258     6       0     1     1    2.8      8     1          1.0\n259     6       0     1     1    2.4      2     1          1.0\n260     6       0     1     1    3.2      5     1          1.0\n\n[261 rows x 8 columns]",
      "text/html": "<div>\n<style scoped>\n    .dataframe tbody tr th:only-of-type {\n        vertical-align: middle;\n    }\n\n    .dataframe tbody tr th {\n        vertical-align: top;\n    }\n\n    .dataframe thead th {\n        text-align: right;\n    }\n</style>\n<table border=\"1\" class=\"dataframe\">\n  <thead>\n    <tr style=\"text-align: right;\">\n      <th></th>\n      <th>Dept</th>\n      <th>Gender</th>\n      <th>Clin</th>\n      <th>Cert</th>\n      <th>Prate</th>\n      <th>Exper</th>\n      <th>Rank</th>\n      <th>Salary_mean</th>\n    </tr>\n  </thead>\n  <tbody>\n    <tr>\n      <th>0</th>\n      <td>1</td>\n      <td>1</td>\n      <td>0</td>\n      <td>0</td>\n      <td>7.4</td>\n      <td>9</td>\n      <td>3</td>\n      <td>0.0</td>\n    </tr>\n    <tr>\n      <th>1</th>\n      <td>1</td>\n      <td>1</td>\n      <td>0</td>\n      <td>0</td>\n      <td>6.7</td>\n      <td>10</td>\n      <td>2</td>\n      <td>0.0</td>\n    </tr>\n    <tr>\n      <th>2</th>\n      <td>1</td>\n      <td>1</td>\n      <td>0</td>\n      <td>0</td>\n      <td>8.1</td>\n      <td>6</td>\n      <td>1</td>\n      <td>0.0</td>\n    </tr>\n    <tr>\n      <th>3</th>\n      <td>1</td>\n      <td>1</td>\n      <td>1</td>\n      <td>1</td>\n      <td>5.1</td>\n      <td>27</td>\n      <td>3</td>\n      <td>1.0</td>\n    </tr>\n    <tr>\n      <th>4</th>\n      <td>1</td>\n      <td>1</td>\n      <td>0</td>\n      <td>0</td>\n      <td>7.0</td>\n      <td>10</td>\n      <td>3</td>\n      <td>0.0</td>\n    </tr>\n    <tr>\n      <th>...</th>\n      <td>...</td>\n      <td>...</td>\n      <td>...</td>\n      <td>...</td>\n      <td>...</td>\n      <td>...</td>\n      <td>...</td>\n      <td>...</td>\n    </tr>\n    <tr>\n      <th>256</th>\n      <td>6</td>\n      <td>0</td>\n      <td>1</td>\n      <td>1</td>\n      <td>2.9</td>\n      <td>8</td>\n      <td>2</td>\n      <td>1.0</td>\n    </tr>\n    <tr>\n      <th>257</th>\n      <td>6</td>\n      <td>0</td>\n      <td>1</td>\n      <td>1</td>\n      <td>2.6</td>\n      <td>9</td>\n      <td>3</td>\n      <td>1.0</td>\n    </tr>\n    <tr>\n      <th>258</th>\n      <td>6</td>\n      <td>0</td>\n      <td>1</td>\n      <td>1</td>\n      <td>2.8</td>\n      <td>8</td>\n      <td>1</td>\n      <td>1.0</td>\n    </tr>\n    <tr>\n      <th>259</th>\n      <td>6</td>\n      <td>0</td>\n      <td>1</td>\n      <td>1</td>\n      <td>2.4</td>\n      <td>2</td>\n      <td>1</td>\n      <td>1.0</td>\n    </tr>\n    <tr>\n      <th>260</th>\n      <td>6</td>\n      <td>0</td>\n      <td>1</td>\n      <td>1</td>\n      <td>3.2</td>\n      <td>5</td>\n      <td>1</td>\n      <td>1.0</td>\n    </tr>\n  </tbody>\n</table>\n<p>261 rows × 8 columns</p>\n</div>"
     },
     "execution_count": 378,
     "metadata": {},
     "output_type": "execute_result"
    }
   ],
   "source": [
    "salary_mean = np.mean(np.array(df[\"Sal94\"].tolist(), float))\n",
    "for i in range(0,len(df)):\n",
    "    if df.at[i, \"Sal94\"] >= salary_mean:\n",
    "        df.at[i, \"Salary_mean\"] = 1\n",
    "    else:\n",
    "        df.at[i, \"Salary_mean\"] = 0\n",
    "del df[\"Sal94\"]\n",
    "del df[\"Sal95\"]\n",
    "df"
   ],
   "metadata": {
    "collapsed": false,
    "pycharm": {
     "name": "#%%\n"
    }
   }
  },
  {
   "cell_type": "code",
   "execution_count": 379,
   "outputs": [
    {
     "data": {
      "text/plain": "     Gender  Clin  Cert  Salary_mean  Rank_1  Rank_2  Rank_3  Dept_1  Dept_2  \\\n0         1     0     0          0.0       0       0       1       1       0   \n1         1     0     0          0.0       0       1       0       1       0   \n2         1     0     0          0.0       1       0       0       1       0   \n3         1     1     1          1.0       0       0       1       1       0   \n4         1     0     0          0.0       0       0       1       1       0   \n..      ...   ...   ...          ...     ...     ...     ...     ...     ...   \n256       0     1     1          1.0       0       1       0       0       0   \n257       0     1     1          1.0       0       0       1       0       0   \n258       0     1     1          1.0       1       0       0       0       0   \n259       0     1     1          1.0       1       0       0       0       0   \n260       0     1     1          1.0       1       0       0       0       0   \n\n     Dept_3  Dept_4  Dept_5  Dept_6  \n0         0       0       0       0  \n1         0       0       0       0  \n2         0       0       0       0  \n3         0       0       0       0  \n4         0       0       0       0  \n..      ...     ...     ...     ...  \n256       0       0       0       1  \n257       0       0       0       1  \n258       0       0       0       1  \n259       0       0       0       1  \n260       0       0       0       1  \n\n[261 rows x 13 columns]",
      "text/html": "<div>\n<style scoped>\n    .dataframe tbody tr th:only-of-type {\n        vertical-align: middle;\n    }\n\n    .dataframe tbody tr th {\n        vertical-align: top;\n    }\n\n    .dataframe thead th {\n        text-align: right;\n    }\n</style>\n<table border=\"1\" class=\"dataframe\">\n  <thead>\n    <tr style=\"text-align: right;\">\n      <th></th>\n      <th>Gender</th>\n      <th>Clin</th>\n      <th>Cert</th>\n      <th>Salary_mean</th>\n      <th>Rank_1</th>\n      <th>Rank_2</th>\n      <th>Rank_3</th>\n      <th>Dept_1</th>\n      <th>Dept_2</th>\n      <th>Dept_3</th>\n      <th>Dept_4</th>\n      <th>Dept_5</th>\n      <th>Dept_6</th>\n    </tr>\n  </thead>\n  <tbody>\n    <tr>\n      <th>0</th>\n      <td>1</td>\n      <td>0</td>\n      <td>0</td>\n      <td>0.0</td>\n      <td>0</td>\n      <td>0</td>\n      <td>1</td>\n      <td>1</td>\n      <td>0</td>\n      <td>0</td>\n      <td>0</td>\n      <td>0</td>\n      <td>0</td>\n    </tr>\n    <tr>\n      <th>1</th>\n      <td>1</td>\n      <td>0</td>\n      <td>0</td>\n      <td>0.0</td>\n      <td>0</td>\n      <td>1</td>\n      <td>0</td>\n      <td>1</td>\n      <td>0</td>\n      <td>0</td>\n      <td>0</td>\n      <td>0</td>\n      <td>0</td>\n    </tr>\n    <tr>\n      <th>2</th>\n      <td>1</td>\n      <td>0</td>\n      <td>0</td>\n      <td>0.0</td>\n      <td>1</td>\n      <td>0</td>\n      <td>0</td>\n      <td>1</td>\n      <td>0</td>\n      <td>0</td>\n      <td>0</td>\n      <td>0</td>\n      <td>0</td>\n    </tr>\n    <tr>\n      <th>3</th>\n      <td>1</td>\n      <td>1</td>\n      <td>1</td>\n      <td>1.0</td>\n      <td>0</td>\n      <td>0</td>\n      <td>1</td>\n      <td>1</td>\n      <td>0</td>\n      <td>0</td>\n      <td>0</td>\n      <td>0</td>\n      <td>0</td>\n    </tr>\n    <tr>\n      <th>4</th>\n      <td>1</td>\n      <td>0</td>\n      <td>0</td>\n      <td>0.0</td>\n      <td>0</td>\n      <td>0</td>\n      <td>1</td>\n      <td>1</td>\n      <td>0</td>\n      <td>0</td>\n      <td>0</td>\n      <td>0</td>\n      <td>0</td>\n    </tr>\n    <tr>\n      <th>...</th>\n      <td>...</td>\n      <td>...</td>\n      <td>...</td>\n      <td>...</td>\n      <td>...</td>\n      <td>...</td>\n      <td>...</td>\n      <td>...</td>\n      <td>...</td>\n      <td>...</td>\n      <td>...</td>\n      <td>...</td>\n      <td>...</td>\n    </tr>\n    <tr>\n      <th>256</th>\n      <td>0</td>\n      <td>1</td>\n      <td>1</td>\n      <td>1.0</td>\n      <td>0</td>\n      <td>1</td>\n      <td>0</td>\n      <td>0</td>\n      <td>0</td>\n      <td>0</td>\n      <td>0</td>\n      <td>0</td>\n      <td>1</td>\n    </tr>\n    <tr>\n      <th>257</th>\n      <td>0</td>\n      <td>1</td>\n      <td>1</td>\n      <td>1.0</td>\n      <td>0</td>\n      <td>0</td>\n      <td>1</td>\n      <td>0</td>\n      <td>0</td>\n      <td>0</td>\n      <td>0</td>\n      <td>0</td>\n      <td>1</td>\n    </tr>\n    <tr>\n      <th>258</th>\n      <td>0</td>\n      <td>1</td>\n      <td>1</td>\n      <td>1.0</td>\n      <td>1</td>\n      <td>0</td>\n      <td>0</td>\n      <td>0</td>\n      <td>0</td>\n      <td>0</td>\n      <td>0</td>\n      <td>0</td>\n      <td>1</td>\n    </tr>\n    <tr>\n      <th>259</th>\n      <td>0</td>\n      <td>1</td>\n      <td>1</td>\n      <td>1.0</td>\n      <td>1</td>\n      <td>0</td>\n      <td>0</td>\n      <td>0</td>\n      <td>0</td>\n      <td>0</td>\n      <td>0</td>\n      <td>0</td>\n      <td>1</td>\n    </tr>\n    <tr>\n      <th>260</th>\n      <td>0</td>\n      <td>1</td>\n      <td>1</td>\n      <td>1.0</td>\n      <td>1</td>\n      <td>0</td>\n      <td>0</td>\n      <td>0</td>\n      <td>0</td>\n      <td>0</td>\n      <td>0</td>\n      <td>0</td>\n      <td>1</td>\n    </tr>\n  </tbody>\n</table>\n<p>261 rows × 13 columns</p>\n</div>"
     },
     "execution_count": 379,
     "metadata": {},
     "output_type": "execute_result"
    }
   ],
   "source": [
    "col = ['Rank', 'Dept']\n",
    "df = df.drop(['Prate', 'Exper'], axis=1)\n",
    "df = pd.get_dummies(df, columns=col)\n",
    "df"
   ],
   "metadata": {
    "collapsed": false,
    "pycharm": {
     "name": "#%%\n"
    }
   }
  },
  {
   "cell_type": "code",
   "execution_count": 380,
   "outputs": [
    {
     "data": {
      "text/plain": "-0.31205112598904444"
     },
     "execution_count": 380,
     "metadata": {},
     "output_type": "execute_result"
    }
   ],
   "source": [
    "X = df.loc[:, ~df.columns.isin(['Gender', 'Salary_mean'])]\n",
    "y = df['Salary_mean']\n",
    "sensitive = df['Gender']\n",
    "utils.discrimination(y, sensitive)"
   ],
   "metadata": {
    "collapsed": false,
    "pycharm": {
     "name": "#%%\n"
    }
   }
  },
  {
   "cell_type": "code",
   "execution_count": 381,
   "outputs": [
    {
     "data": {
      "text/plain": "0.31205112598904444"
     },
     "execution_count": 381,
     "metadata": {},
     "output_type": "execute_result"
    }
   ],
   "source": [
    "for i in range(0,len(df)):\n",
    "    if df.at[i, \"Gender\"] == 1:\n",
    "        df.at[i, \"Gender\"] = 0\n",
    "    else:\n",
    "        df.at[i, \"Gender\"] = 1\n",
    "utils.discrimination(y, sensitive)"
   ],
   "metadata": {
    "collapsed": false,
    "pycharm": {
     "name": "#%%\n"
    }
   }
  },
  {
   "cell_type": "code",
   "execution_count": 382,
   "outputs": [],
   "source": [
    "X_train, X_test, y_train, y_test, sensitive_train, sensitive_test = utils.train_test_split(1, X, y, sensitive)"
   ],
   "metadata": {
    "collapsed": false,
    "pycharm": {
     "name": "#%%\n"
    }
   }
  },
  {
   "cell_type": "code",
   "execution_count": 383,
   "outputs": [
    {
     "name": "stdout",
     "output_type": "stream",
     "text": [
      "Accuracy DL8.5 on training set = 0.880383\n",
      "Discrimination of classifier on train(pred) 0.312952\n"
     ]
    }
   ],
   "source": [
    "from sklearn.tree import DecisionTreeClassifier\n",
    "\n",
    "clf = DecisionTreeClassifier(max_depth=3, random_state=0)\n",
    "clf.fit(X_train, list(y_train))\n",
    "y_pred_train = clf.predict(X_train)\n",
    "accuracy_train = round(accuracy_score(y_train, y_pred_train),6)\n",
    "print(\"Accuracy DL8.5 on training set =\", accuracy_train)\n",
    "discrimation_train_pred = round(utils.discrimination(y_pred_train, sensitive_train), 6)\n",
    "print(\"Discrimination of classifier on train(pred)\", discrimation_train_pred)"
   ],
   "metadata": {
    "collapsed": false,
    "pycharm": {
     "name": "#%%\n"
    }
   }
  },
  {
   "cell_type": "code",
   "execution_count": 384,
   "outputs": [
    {
     "data": {
      "text/plain": "[Text(313.875, 285.39000000000004, 'X[10] <= 0.5\\ngini = 0.479\\nsamples = 209\\nvalue = [126, 83]'),\n Text(251.10000000000002, 203.85000000000002, 'X[9] <= 0.5\\ngini = 0.41\\nsamples = 177\\nvalue = [126, 51]'),\n Text(125.55000000000001, 122.31, 'X[1] <= 0.5\\ngini = 0.147\\nsamples = 113\\nvalue = [104, 9]'),\n Text(62.775000000000006, 40.76999999999998, 'gini = 0.0\\nsamples = 52\\nvalue = [52, 0]'),\n Text(188.32500000000002, 40.76999999999998, 'gini = 0.252\\nsamples = 61\\nvalue = [52, 9]'),\n Text(376.65000000000003, 122.31, 'X[2] <= 0.5\\ngini = 0.451\\nsamples = 64\\nvalue = [22, 42]'),\n Text(313.875, 40.76999999999998, 'gini = 0.17\\nsamples = 32\\nvalue = [3, 29]'),\n Text(439.42500000000007, 40.76999999999998, 'gini = 0.482\\nsamples = 32\\nvalue = [19, 13]'),\n Text(376.65000000000003, 203.85000000000002, 'gini = 0.0\\nsamples = 32\\nvalue = [0, 32]')]"
     },
     "execution_count": 384,
     "metadata": {},
     "output_type": "execute_result"
    },
    {
     "data": {
      "text/plain": "<Figure size 648x432 with 1 Axes>",
      "image/png": "[encoded data removed]"
     },
     "metadata": {
      "needs_background": "light"
     },
     "output_type": "display_data"
    }
   ],
   "source": [
    "from sklearn import tree\n",
    "tree.plot_tree(clf)"
   ],
   "metadata": {
    "collapsed": false,
    "pycharm": {
     "name": "#%%\n"
    }
   }
  },
  {
   "cell_type": "code",
   "execution_count": 385,
   "outputs": [],
   "source": [
    "leafs = list()\n",
    "cnt = np.unique(sensitive, return_counts=True)[1]\n",
    "relabeling_sklearn.leafs_to_relabel(clf.tree_, X_train, y_train, sensitive_train, cnt[0], cnt[1], leafs, len(y_train), 0)\n"
   ],
   "metadata": {
    "collapsed": false,
    "pycharm": {
     "name": "#%%\n"
    }
   }
  },
  {
   "cell_type": "code",
   "execution_count": 386,
   "outputs": [
    {
     "name": "stdout",
     "output_type": "stream",
     "text": [
      "\n",
      "[[19. 13.]]\n",
      "Path: ((10, 'left', 0), (9, 'right', 1), (2, 'right', 5), (-2, 'leaf', 7)) \n",
      "accuracy: -0.02870813397129187 \n",
      "node_id: 7 \n",
      "discrimination: -0.08238095238095242 \n",
      "ratio: 2.8696031746031756 \n",
      "contigency: \n",
      "[0.05741626794258373, 0.023923444976076555]\n",
      "[0.03349282296650718, 0.03827751196172249]\n",
      "transactions: [123, 126, 127, 129, 131, 132, 133, 134, 136, 138, 140, 143, 147, 150, 153, 155, 156, 158, 160, 161, 162, 163, 164, 165, 166, 167, 168, 170, 172, 174, 175, 176]\n",
      "\n",
      "[[ 3. 29.]]\n",
      "Path: ((10, 'left', 0), (9, 'right', 1), (2, 'left', 5), (-2, 'leaf', 6)) \n",
      "accuracy: -0.1244019138755981 \n",
      "node_id: 6 \n",
      "discrimination: -0.15647619047619046 \n",
      "ratio: 1.2578278388278386 \n",
      "contigency: \n",
      "[0.004784688995215311, 0.019138755980861243]\n",
      "[0.009569377990430622, 0.11961722488038277]\n",
      "transactions: [113, 114, 115, 116, 117, 118, 119, 120, 121, 122, 124, 125, 128, 130, 135, 137, 139, 141, 142, 144, 145, 146, 148, 149, 151, 152, 154, 157, 159, 169, 171, 173]\n",
      "\n"
     ]
    }
   ],
   "source": [
    "leafs_relab = relabeling_sklearn.relab(clf.tree_, X_train, y_train, y_pred_train, sensitive_train, 0.1)\n",
    "print()\n",
    "sum_acc = 0\n",
    "sum_disc = 0\n",
    "for l in leafs_relab:\n",
    "    print(l.value)\n",
    "    print(l)\n",
    "    print()\n",
    "    sum_acc += l.acc\n",
    "    sum_disc += l.disc\n",
    "sum_acc = round(sum_acc, 6)\n",
    "sum_disc = round(sum_disc, 6)"
   ],
   "metadata": {
    "collapsed": false,
    "pycharm": {
     "name": "#%%\n"
    }
   }
  },
  {
   "cell_type": "code",
   "execution_count": 387,
   "outputs": [
    {
     "data": {
      "text/plain": "array([[52.,  9.]])"
     },
     "execution_count": 387,
     "metadata": {},
     "output_type": "execute_result"
    }
   ],
   "source": [
    "clf.tree_.value[4]"
   ],
   "metadata": {
    "collapsed": false,
    "pycharm": {
     "name": "#%%\n"
    }
   }
  },
  {
   "cell_type": "code",
   "execution_count": 388,
   "outputs": [],
   "source": [
    "for leaf in leafs_relab:\n",
    "    relabeling_sklearn.browse_and_relab(clf, leaf.node_id)\n"
   ],
   "metadata": {
    "collapsed": false,
    "pycharm": {
     "name": "#%%\n"
    }
   }
  },
  {
   "cell_type": "code",
   "execution_count": 389,
   "outputs": [
    {
     "name": "stdout",
     "output_type": "stream",
     "text": [
      "Accuracy:\n",
      "    Before      : 0.880383\n",
      "    Leafs       : -0.15311\n",
      "    After       : 0.727273\n",
      "    Before+Leafs: 0.727273\n",
      "    Check       : True\n",
      "Discrim:\n",
      "    Before      : 0.312952\n",
      "    Leafs       : 0.074095\n",
      "    After       : -0.238857\n",
      "    Before+Leafs: 0.074095\n",
      "    Check       : True\n"
     ]
    }
   ],
   "source": [
    "\n",
    "y_pred_train = clf.predict(X_train)\n",
    "accuracy_train_relab = round(accuracy_score(y_train, y_pred_train), 6)\n",
    "discrimation_train_pred_relab = round(utils.discrimination(y_pred_train, sensitive_train), 6)\n",
    "new_acc= round(accuracy_train+sum_acc, 6)\n",
    "new_disc = round(discrimation_train_pred+sum_disc, 6)\n",
    "print(f\"Accuracy:\\n\"\n",
    "    f\"    Before      : {accuracy_train}\\n\"\n",
    "    f\"    Leafs       : {sum_acc}\\n\"\n",
    "    f\"    After       : {accuracy_train_relab}\\n\"\n",
    "    f\"    Before+Leafs: {new_acc}\\n\"\n",
    "    f\"    Check       : {new_acc == accuracy_train_relab}\")\n",
    "print(f\"Discrim:\\n\"\n",
    "    f\"    Before      : {discrimation_train_pred}\\n\"\n",
    "    f\"    Leafs       : {discrimation_train_pred_relab}\\n\"\n",
    "    f\"    After       : {sum_disc}\\n\"\n",
    "    f\"    Before+Leafs: {new_disc}\\n\"\n",
    "    f\"    Check       : {new_disc== discrimation_train_pred_relab}\")"
   ],
   "metadata": {
    "collapsed": false,
    "pycharm": {
     "name": "#%%\n"
    }
   }
  },
  {
   "cell_type": "code",
   "execution_count": 390,
   "outputs": [
    {
     "data": {
      "text/plain": "[Text(313.875, 285.39000000000004, 'X[10] <= 0.5\\ngini = 0.479\\nsamples = 209\\nvalue = [126, 83]'),\n Text(251.10000000000002, 203.85000000000002, 'X[9] <= 0.5\\ngini = 0.41\\nsamples = 177\\nvalue = [126, 51]'),\n Text(125.55000000000001, 122.31, 'X[1] <= 0.5\\ngini = 0.147\\nsamples = 113\\nvalue = [104, 9]'),\n Text(62.775000000000006, 40.76999999999998, 'gini = 0.0\\nsamples = 52\\nvalue = [52, 0]'),\n Text(188.32500000000002, 40.76999999999998, 'gini = 0.252\\nsamples = 61\\nvalue = [52, 9]'),\n Text(376.65000000000003, 122.31, 'X[2] <= 0.5\\ngini = 0.451\\nsamples = 64\\nvalue = [22, 42]'),\n Text(313.875, 40.76999999999998, 'gini = 0.17\\nsamples = 32\\nvalue = [29, 3]'),\n Text(439.42500000000007, 40.76999999999998, 'gini = 0.482\\nsamples = 32\\nvalue = [13, 19]'),\n Text(376.65000000000003, 203.85000000000002, 'gini = 0.0\\nsamples = 32\\nvalue = [0, 32]')]"
     },
     "execution_count": 390,
     "metadata": {},
     "output_type": "execute_result"
    },
    {
     "data": {
      "text/plain": "<Figure size 648x432 with 1 Axes>",
      "image/png": "[encoded data removed]"
     },
     "metadata": {
      "needs_background": "light"
     },
     "output_type": "display_data"
    }
   ],
   "source": [
    "tree.plot_tree(clf)"
   ],
   "metadata": {
    "collapsed": false,
    "pycharm": {
     "name": "#%%\n"
    }
   }
  },
  {
   "cell_type": "code",
   "execution_count": 391,
   "outputs": [],
   "source": [
    "from pprint import pprint\n",
    "def sklearn_to_pydl(clf, pydl, level):\n",
    "    if clf.tree_.feature[level] >= 0:\n",
    "        pydl['feat'] = clf.tree_.feature[level]\n",
    "        if clf.tree_.feature[clf.tree_.children_left[level]] == -2:\n",
    "            level_leaf = clf.tree_.children_left[level]\n",
    "            n_sample = clf.tree_.value[level_leaf][0][0] + clf.tree_.value[level_leaf][0][1]\n",
    "            value0 = clf.tree_.value[level_leaf][0][0]\n",
    "            value1 = clf.tree_.value[level_leaf][0][1]\n",
    "            proba0 = clf.tree_.value[level_leaf][0][0] /n_sample\n",
    "            proba1 = clf.tree_.value[level_leaf][0][1] /n_sample\n",
    "            if proba0 > proba1:\n",
    "                value=0\n",
    "            else:\n",
    "                value=1\n",
    "            pydl['right'] = {'value' : value, 'error': 0, 'values': [value0, value1], 'proba': [proba0, proba1]}\n",
    "        else:\n",
    "            pydl['right'] = {'feat' : clf.tree_.feature[clf.tree_.children_left[level]]}\n",
    "        sklearn_to_pydl(clf, pydl['right'], clf.tree_.children_left[level])\n",
    "        if clf.tree_.feature[clf.tree_.children_right[level]] == -2:\n",
    "            level_leaf = clf.tree_.children_right[level]\n",
    "            n_sample = clf.tree_.value[level_leaf][0][0] + clf.tree_.value[level_leaf][0][1]\n",
    "            value0 = clf.tree_.value[level_leaf][0][0]\n",
    "            value1 = clf.tree_.value[level_leaf][0][1]\n",
    "            proba0 = clf.tree_.value[level_leaf][0][0] /n_sample\n",
    "            proba1 = clf.tree_.value[level_leaf][0][1] /n_sample\n",
    "            if proba0 > proba1:\n",
    "                value=0\n",
    "            else:\n",
    "                value=1\n",
    "            pydl['left'] = {'value' : value, 'error': 0, 'values': [value0, value1], 'proba': [proba0, proba1]}\n",
    "        else:\n",
    "            pydl['left'] = {'feat' : clf.tree_.feature[clf.tree_.children_left[level]]}\n",
    "        sklearn_to_pydl(clf, pydl['left'], clf.tree_.children_right[level])"
   ],
   "metadata": {
    "collapsed": false,
    "pycharm": {
     "name": "#%%\n"
    }
   }
  },
  {
   "cell_type": "code",
   "execution_count": 392,
   "outputs": [
    {
     "name": "stdout",
     "output_type": "stream",
     "text": [
      "Accuracy DL8.5 on training set = 0.880383\n",
      "Discrimination of classifier on train(pred) 0.312952\n"
     ]
    }
   ],
   "source": [
    "clf = DecisionTreeClassifier(max_depth=3, random_state=0)\n",
    "clf.fit(X_train, list(y_train))\n",
    "y_pred_train = clf.predict(X_train)\n",
    "accuracy_train = round(accuracy_score(y_train, y_pred_train),6)\n",
    "print(\"Accuracy DL8.5 on training set =\", accuracy_train)\n",
    "discrimation_train_pred = round(utils.discrimination(y_pred_train, sensitive_train), 6)\n",
    "print(\"Discrimination of classifier on train(pred)\", discrimation_train_pred)"
   ],
   "metadata": {
    "collapsed": false,
    "pycharm": {
     "name": "#%%\n"
    }
   }
  },
  {
   "cell_type": "code",
   "execution_count": 393,
   "outputs": [],
   "source": [
    "pydl = dict()\n",
    "sklearn_to_pydl(clf, pydl, 0)\n",
    "#pydl"
   ],
   "metadata": {
    "collapsed": false,
    "pycharm": {
     "name": "#%%\n"
    }
   }
  },
  {
   "cell_type": "code",
   "execution_count": 394,
   "outputs": [
    {
     "name": "stdout",
     "output_type": "stream",
     "text": [
      "Accuracy DL8.5 on training set = 0.899522\n",
      "Discrimination of classifier on train(pred) 0.277048\n"
     ]
    }
   ],
   "source": [
    "clf = DL85Classifier(max_depth=3, error_function=lambda tids: utils.misclassified(list(tids), y_train), min_sup=1, time_limit=600)\n",
    "clf.fit(X_train, list(y_train))\n",
    "y_pred_train = clf.predict(X_train)\n",
    "accuracy_train = round(accuracy_score(y_train, y_pred_train),6)\n",
    "print(\"Accuracy DL8.5 on training set =\", accuracy_train)\n",
    "discrimation_train_pred = round(utils.discrimination(y_pred_train, sensitive_train), 6)\n",
    "print(\"Discrimination of classifier on train(pred)\", discrimation_train_pred)"
   ],
   "metadata": {
    "collapsed": false,
    "pycharm": {
     "name": "#%%\n"
    }
   }
  },
  {
   "cell_type": "code",
   "execution_count": 395,
   "outputs": [
    {
     "name": "stdout",
     "output_type": "stream",
     "text": [
      "Accuracy DL8.5 on training set = 0.880383\n",
      "Discrimination of classifier on train(pred) 0.312952\n"
     ]
    }
   ],
   "source": [
    "clf.tree_ = pydl\n",
    "y_pred_train = clf.predict(X_train)\n",
    "accuracy_train = round(accuracy_score(y_train, y_pred_train),6)\n",
    "print(\"Accuracy DL8.5 on training set =\", accuracy_train)\n",
    "discrimation_train_pred = round(utils.discrimination(y_pred_train, sensitive_train), 6)\n",
    "print(\"Discrimination of classifier on train(pred)\", discrimation_train_pred)"
   ],
   "metadata": {
    "collapsed": false,
    "pycharm": {
     "name": "#%%\n"
    }
   }
  },
  {
   "cell_type": "code",
   "execution_count": 396,
   "outputs": [
    {
     "data": {
      "image/svg+xml": "<?xml version=\"1.0\" encoding=\"UTF-8\" standalone=\"no\"?>\n<!DOCTYPE svg PUBLIC \"-//W3C//DTD SVG 1.1//EN\"\n \"http://www.w3.org/Graphics/SVG/1.1/DTD/svg11.dtd\">\n<!-- Generated by graphviz version 2.43.0 (0)\n -->\n<!-- Title: Tree Pages: 1 -->\n<svg width=\"378pt\" height=\"269pt\"\n viewBox=\"0.00 0.00 378.00 269.00\" xmlns=\"http://www.w3.org/2000/svg\" xmlns:xlink=\"http://www.w3.org/1999/xlink\">\n<g id=\"graph0\" class=\"graph\" transform=\"scale(1 1) rotate(0) translate(4 265)\">\n<title>Tree</title>\n<polygon fill=\"white\" stroke=\"transparent\" points=\"-4,4 -4,-265 374,-265 374,4 -4,4\"/>\n<!-- node_f2c981bc_0b07_4785_8cd8_90e5d05f42c3 -->\n<g id=\"node1\" class=\"node\">\n<title>node_f2c981bc_0b07_4785_8cd8_90e5d05f42c3</title>\n<polygon fill=\"none\" stroke=\"black\" points=\"76,-224.5 76,-260.5 155,-260.5 155,-224.5 76,-224.5\"/>\n<text text-anchor=\"middle\" x=\"98\" y=\"-238.8\" font-family=\"Times,serif\" font-size=\"14.00\">feat</text>\n<polyline fill=\"none\" stroke=\"black\" points=\"120,-224.5 120,-260.5 \"/>\n<text text-anchor=\"middle\" x=\"137.5\" y=\"-238.8\" font-family=\"Times,serif\" font-size=\"14.00\">10</text>\n</g>\n<!-- leaf_7609f13e_9980_4eb2_8867_1931e28d938e -->\n<g id=\"node2\" class=\"node\">\n<title>leaf_7609f13e_9980_4eb2_8867_1931e28d938e</title>\n<polygon fill=\"none\" stroke=\"black\" points=\"60,-146.5 60,-192.5 139,-192.5 139,-146.5 60,-146.5\"/>\n<text text-anchor=\"middle\" x=\"86\" y=\"-177.3\" font-family=\"Times,serif\" font-size=\"14.00\">class</text>\n<polyline fill=\"none\" stroke=\"black\" points=\"112,-169.5 112,-192.5 \"/>\n<text text-anchor=\"middle\" x=\"125.5\" y=\"-177.3\" font-family=\"Times,serif\" font-size=\"14.00\">1</text>\n<polyline fill=\"none\" stroke=\"black\" points=\"60,-169.5 139,-169.5 \"/>\n<text text-anchor=\"middle\" x=\"86.5\" y=\"-154.3\" font-family=\"Times,serif\" font-size=\"14.00\">error</text>\n<polyline fill=\"none\" stroke=\"black\" points=\"113,-146.5 113,-169.5 \"/>\n<text text-anchor=\"middle\" x=\"126\" y=\"-154.3\" font-family=\"Times,serif\" font-size=\"14.00\">0</text>\n</g>\n<!-- node_f2c981bc_0b07_4785_8cd8_90e5d05f42c3&#45;&gt;leaf_7609f13e_9980_4eb2_8867_1931e28d938e -->\n<g id=\"edge1\" class=\"edge\">\n<title>node_f2c981bc_0b07_4785_8cd8_90e5d05f42c3&#45;&gt;leaf_7609f13e_9980_4eb2_8867_1931e28d938e</title>\n<path fill=\"none\" stroke=\"black\" d=\"M111.63,-224.31C110.15,-217.77 108.42,-210.08 106.73,-202.59\"/>\n<polygon fill=\"black\" stroke=\"black\" points=\"110.1,-201.62 104.49,-192.64 103.27,-203.16 110.1,-201.62\"/>\n<text text-anchor=\"middle\" x=\"114.5\" y=\"-204.8\" font-family=\"Times,serif\" font-size=\"14.00\">1</text>\n</g>\n<!-- node_42bf3d7d_8166_44d2_9220_4937a96c4342 -->\n<g id=\"node3\" class=\"node\">\n<title>node_42bf3d7d_8166_44d2_9220_4937a96c4342</title>\n<polygon fill=\"none\" stroke=\"black\" points=\"157.5,-151.5 157.5,-187.5 227.5,-187.5 227.5,-151.5 157.5,-151.5\"/>\n<text text-anchor=\"middle\" x=\"179.5\" y=\"-165.8\" font-family=\"Times,serif\" font-size=\"14.00\">feat</text>\n<polyline fill=\"none\" stroke=\"black\" points=\"201.5,-151.5 201.5,-187.5 \"/>\n<text text-anchor=\"middle\" x=\"214.5\" y=\"-165.8\" font-family=\"Times,serif\" font-size=\"14.00\">9</text>\n</g>\n<!-- node_f2c981bc_0b07_4785_8cd8_90e5d05f42c3&#45;&gt;node_42bf3d7d_8166_44d2_9220_4937a96c4342 -->\n<g id=\"edge2\" class=\"edge\">\n<title>node_f2c981bc_0b07_4785_8cd8_90e5d05f42c3&#45;&gt;node_42bf3d7d_8166_44d2_9220_4937a96c4342</title>\n<path fill=\"none\" stroke=\"black\" d=\"M134.14,-224.31C143.88,-215.33 155.96,-204.19 166.6,-194.39\"/>\n<polygon fill=\"black\" stroke=\"black\" points=\"169.05,-196.88 174.03,-187.53 164.31,-191.73 169.05,-196.88\"/>\n<text text-anchor=\"middle\" x=\"164.5\" y=\"-204.8\" font-family=\"Times,serif\" font-size=\"14.00\">0</text>\n</g>\n<!-- node_cf9c31ea_5c0d_4b48_b8f0_2cfcdeed238b -->\n<g id=\"node4\" class=\"node\">\n<title>node_cf9c31ea_5c0d_4b48_b8f0_2cfcdeed238b</title>\n<polygon fill=\"none\" stroke=\"black\" points=\"101.5,-78.5 101.5,-114.5 171.5,-114.5 171.5,-78.5 101.5,-78.5\"/>\n<text text-anchor=\"middle\" x=\"123.5\" y=\"-92.8\" font-family=\"Times,serif\" font-size=\"14.00\">feat</text>\n<polyline fill=\"none\" stroke=\"black\" points=\"145.5,-78.5 145.5,-114.5 \"/>\n<text text-anchor=\"middle\" x=\"158.5\" y=\"-92.8\" font-family=\"Times,serif\" font-size=\"14.00\">2</text>\n</g>\n<!-- node_42bf3d7d_8166_44d2_9220_4937a96c4342&#45;&gt;node_cf9c31ea_5c0d_4b48_b8f0_2cfcdeed238b -->\n<g id=\"edge3\" class=\"edge\">\n<title>node_42bf3d7d_8166_44d2_9220_4937a96c4342&#45;&gt;node_cf9c31ea_5c0d_4b48_b8f0_2cfcdeed238b</title>\n<path fill=\"none\" stroke=\"black\" d=\"M178.94,-151.31C172.13,-142.68 163.75,-132.06 156.25,-122.53\"/>\n<polygon fill=\"black\" stroke=\"black\" points=\"158.87,-120.21 149.93,-114.53 153.38,-124.55 158.87,-120.21\"/>\n<text text-anchor=\"middle\" x=\"173.5\" y=\"-126.8\" font-family=\"Times,serif\" font-size=\"14.00\">1</text>\n</g>\n<!-- node_efa3e944_3365_4a3d_8cb3_a9aaecd576de -->\n<g id=\"node7\" class=\"node\">\n<title>node_efa3e944_3365_4a3d_8cb3_a9aaecd576de</title>\n<polygon fill=\"none\" stroke=\"black\" points=\"198.5,-78.5 198.5,-114.5 268.5,-114.5 268.5,-78.5 198.5,-78.5\"/>\n<text text-anchor=\"middle\" x=\"220.5\" y=\"-92.8\" font-family=\"Times,serif\" font-size=\"14.00\">feat</text>\n<polyline fill=\"none\" stroke=\"black\" points=\"242.5,-78.5 242.5,-114.5 \"/>\n<text text-anchor=\"middle\" x=\"255.5\" y=\"-92.8\" font-family=\"Times,serif\" font-size=\"14.00\">1</text>\n</g>\n<!-- node_42bf3d7d_8166_44d2_9220_4937a96c4342&#45;&gt;node_efa3e944_3365_4a3d_8cb3_a9aaecd576de -->\n<g id=\"edge6\" class=\"edge\">\n<title>node_42bf3d7d_8166_44d2_9220_4937a96c4342&#45;&gt;node_efa3e944_3365_4a3d_8cb3_a9aaecd576de</title>\n<path fill=\"none\" stroke=\"black\" d=\"M202.42,-151.31C207.26,-142.94 213.17,-132.7 218.54,-123.4\"/>\n<polygon fill=\"black\" stroke=\"black\" points=\"221.7,-124.94 223.67,-114.53 215.63,-121.44 221.7,-124.94\"/>\n<text text-anchor=\"middle\" x=\"223.5\" y=\"-126.8\" font-family=\"Times,serif\" font-size=\"14.00\">0</text>\n</g>\n<!-- leaf_7fe852d5_b00e_4961_891f_2fe84dfbc667 -->\n<g id=\"node5\" class=\"node\">\n<title>leaf_7fe852d5_b00e_4961_891f_2fe84dfbc667</title>\n<polygon fill=\"none\" stroke=\"black\" points=\"0,-0.5 0,-46.5 79,-46.5 79,-0.5 0,-0.5\"/>\n<text text-anchor=\"middle\" x=\"26\" y=\"-31.3\" font-family=\"Times,serif\" font-size=\"14.00\">class</text>\n<polyline fill=\"none\" stroke=\"black\" points=\"52,-23.5 52,-46.5 \"/>\n<text text-anchor=\"middle\" x=\"65.5\" y=\"-31.3\" font-family=\"Times,serif\" font-size=\"14.00\">0</text>\n<polyline fill=\"none\" stroke=\"black\" points=\"0,-23.5 79,-23.5 \"/>\n<text text-anchor=\"middle\" x=\"26.5\" y=\"-8.3\" font-family=\"Times,serif\" font-size=\"14.00\">error</text>\n<polyline fill=\"none\" stroke=\"black\" points=\"53,-0.5 53,-23.5 \"/>\n<text text-anchor=\"middle\" x=\"66\" y=\"-8.3\" font-family=\"Times,serif\" font-size=\"14.00\">0</text>\n</g>\n<!-- node_cf9c31ea_5c0d_4b48_b8f0_2cfcdeed238b&#45;&gt;leaf_7fe852d5_b00e_4961_891f_2fe84dfbc667 -->\n<g id=\"edge4\" class=\"edge\">\n<title>node_cf9c31ea_5c0d_4b48_b8f0_2cfcdeed238b&#45;&gt;leaf_7fe852d5_b00e_4961_891f_2fe84dfbc667</title>\n<path fill=\"none\" stroke=\"black\" d=\"M113.02,-78.31C102.55,-70.65 89.94,-61.42 78.15,-52.79\"/>\n<polygon fill=\"black\" stroke=\"black\" points=\"79.88,-49.72 69.74,-46.64 75.74,-55.37 79.88,-49.72\"/>\n<text text-anchor=\"middle\" x=\"105.5\" y=\"-58.8\" font-family=\"Times,serif\" font-size=\"14.00\">1</text>\n</g>\n<!-- leaf_990ea2cf_59d2_474d_9022_79c079715b41 -->\n<g id=\"node6\" class=\"node\">\n<title>leaf_990ea2cf_59d2_474d_9022_79c079715b41</title>\n<polygon fill=\"none\" stroke=\"black\" points=\"97,-0.5 97,-46.5 176,-46.5 176,-0.5 97,-0.5\"/>\n<text text-anchor=\"middle\" x=\"123\" y=\"-31.3\" font-family=\"Times,serif\" font-size=\"14.00\">class</text>\n<polyline fill=\"none\" stroke=\"black\" points=\"149,-23.5 149,-46.5 \"/>\n<text text-anchor=\"middle\" x=\"162.5\" y=\"-31.3\" font-family=\"Times,serif\" font-size=\"14.00\">1</text>\n<polyline fill=\"none\" stroke=\"black\" points=\"97,-23.5 176,-23.5 \"/>\n<text text-anchor=\"middle\" x=\"123.5\" y=\"-8.3\" font-family=\"Times,serif\" font-size=\"14.00\">error</text>\n<polyline fill=\"none\" stroke=\"black\" points=\"150,-0.5 150,-23.5 \"/>\n<text text-anchor=\"middle\" x=\"163\" y=\"-8.3\" font-family=\"Times,serif\" font-size=\"14.00\">0</text>\n</g>\n<!-- node_cf9c31ea_5c0d_4b48_b8f0_2cfcdeed238b&#45;&gt;leaf_990ea2cf_59d2_474d_9022_79c079715b41 -->\n<g id=\"edge5\" class=\"edge\">\n<title>node_cf9c31ea_5c0d_4b48_b8f0_2cfcdeed238b&#45;&gt;leaf_990ea2cf_59d2_474d_9022_79c079715b41</title>\n<path fill=\"none\" stroke=\"black\" d=\"M136.5,-78.31C136.5,-71.84 136.5,-64.25 136.5,-56.85\"/>\n<polygon fill=\"black\" stroke=\"black\" points=\"140,-56.64 136.5,-46.64 133,-56.64 140,-56.64\"/>\n<text text-anchor=\"middle\" x=\"141.5\" y=\"-58.8\" font-family=\"Times,serif\" font-size=\"14.00\">0</text>\n</g>\n<!-- leaf_61752718_6033_4221_be61_00c6e4b1bdb4 -->\n<g id=\"node8\" class=\"node\">\n<title>leaf_61752718_6033_4221_be61_00c6e4b1bdb4</title>\n<polygon fill=\"none\" stroke=\"black\" points=\"194,-0.5 194,-46.5 273,-46.5 273,-0.5 194,-0.5\"/>\n<text text-anchor=\"middle\" x=\"220\" y=\"-31.3\" font-family=\"Times,serif\" font-size=\"14.00\">class</text>\n<polyline fill=\"none\" stroke=\"black\" points=\"246,-23.5 246,-46.5 \"/>\n<text text-anchor=\"middle\" x=\"259.5\" y=\"-31.3\" font-family=\"Times,serif\" font-size=\"14.00\">0</text>\n<polyline fill=\"none\" stroke=\"black\" points=\"194,-23.5 273,-23.5 \"/>\n<text text-anchor=\"middle\" x=\"220.5\" y=\"-8.3\" font-family=\"Times,serif\" font-size=\"14.00\">error</text>\n<polyline fill=\"none\" stroke=\"black\" points=\"247,-0.5 247,-23.5 \"/>\n<text text-anchor=\"middle\" x=\"260\" y=\"-8.3\" font-family=\"Times,serif\" font-size=\"14.00\">0</text>\n</g>\n<!-- node_efa3e944_3365_4a3d_8cb3_a9aaecd576de&#45;&gt;leaf_61752718_6033_4221_be61_00c6e4b1bdb4 -->\n<g id=\"edge7\" class=\"edge\">\n<title>node_efa3e944_3365_4a3d_8cb3_a9aaecd576de&#45;&gt;leaf_61752718_6033_4221_be61_00c6e4b1bdb4</title>\n<path fill=\"none\" stroke=\"black\" d=\"M233.5,-78.31C233.5,-71.84 233.5,-64.25 233.5,-56.85\"/>\n<polygon fill=\"black\" stroke=\"black\" points=\"237,-56.64 233.5,-46.64 230,-56.64 237,-56.64\"/>\n<text text-anchor=\"middle\" x=\"238.5\" y=\"-58.8\" font-family=\"Times,serif\" font-size=\"14.00\">1</text>\n</g>\n<!-- leaf_94f36e64_04e7_4fe9_9a31_0336789cf08f -->\n<g id=\"node9\" class=\"node\">\n<title>leaf_94f36e64_04e7_4fe9_9a31_0336789cf08f</title>\n<polygon fill=\"none\" stroke=\"black\" points=\"291,-0.5 291,-46.5 370,-46.5 370,-0.5 291,-0.5\"/>\n<text text-anchor=\"middle\" x=\"317\" y=\"-31.3\" font-family=\"Times,serif\" font-size=\"14.00\">class</text>\n<polyline fill=\"none\" stroke=\"black\" points=\"343,-23.5 343,-46.5 \"/>\n<text text-anchor=\"middle\" x=\"356.5\" y=\"-31.3\" font-family=\"Times,serif\" font-size=\"14.00\">0</text>\n<polyline fill=\"none\" stroke=\"black\" points=\"291,-23.5 370,-23.5 \"/>\n<text text-anchor=\"middle\" x=\"317.5\" y=\"-8.3\" font-family=\"Times,serif\" font-size=\"14.00\">error</text>\n<polyline fill=\"none\" stroke=\"black\" points=\"344,-0.5 344,-23.5 \"/>\n<text text-anchor=\"middle\" x=\"357\" y=\"-8.3\" font-family=\"Times,serif\" font-size=\"14.00\">0</text>\n</g>\n<!-- node_efa3e944_3365_4a3d_8cb3_a9aaecd576de&#45;&gt;leaf_94f36e64_04e7_4fe9_9a31_0336789cf08f -->\n<g id=\"edge8\" class=\"edge\">\n<title>node_efa3e944_3365_4a3d_8cb3_a9aaecd576de&#45;&gt;leaf_94f36e64_04e7_4fe9_9a31_0336789cf08f</title>\n<path fill=\"none\" stroke=\"black\" d=\"M256.98,-78.31C267.45,-70.65 280.06,-61.42 291.85,-52.79\"/>\n<polygon fill=\"black\" stroke=\"black\" points=\"294.26,-55.37 300.26,-46.64 290.12,-49.72 294.26,-55.37\"/>\n<text text-anchor=\"middle\" x=\"293.5\" y=\"-58.8\" font-family=\"Times,serif\" font-size=\"14.00\">0</text>\n</g>\n</g>\n</svg>\n",
      "text/plain": "<graphviz.sources.Source at 0x7f816947a760>"
     },
     "execution_count": 396,
     "metadata": {},
     "output_type": "execute_result"
    }
   ],
   "source": [
    "dot = clf.export_graphviz()\n",
    "graphviz.Source(dot)"
   ],
   "metadata": {
    "collapsed": false,
    "pycharm": {
     "name": "#%%\n"
    }
   }
  },
  {
   "cell_type": "code",
   "execution_count": 397,
   "outputs": [],
   "source": [
    "import uuid\n",
    "from sklearn.exceptions import NotFittedError\n",
    "from dl85.errors.errors import TreeNotFoundError, SearchFailedError\n",
    "\n",
    "\n",
    "def get_dot_body(treedict, parent=None, left=True):\n",
    "    gstring = \"\"\n",
    "    id = str(uuid.uuid4())\n",
    "    id = id.replace('-', '_')\n",
    "\n",
    "    if \"feat\" in treedict.keys():\n",
    "        feat = treedict[\"feat\"]\n",
    "        if parent is None:\n",
    "            gstring += \"node_\" + id + \" [label=\\\"{{feat|\" + str(feat) + \"}}\\\"];\\n\"\n",
    "            gstring += get_dot_body(treedict[\"left\"], id)\n",
    "            gstring += get_dot_body(treedict[\"right\"], id, False)\n",
    "        else:\n",
    "            gstring += \"node_\" + id + \" [label=\\\"{{feat|\" + str(feat) + \"}}\\\"];\\n\"\n",
    "            gstring += \"node_\" + parent + \" -> node_\" + id + \" [label=\" + str(int(left)) + \"];\\n\"\n",
    "            gstring += get_dot_body(treedict[\"left\"], id)\n",
    "            gstring += get_dot_body(treedict[\"right\"], id, False)\n",
    "    else:\n",
    "        val = str(int(treedict[\"value\"])) if treedict[\"value\"] - int(treedict[\"value\"]) == 0 else str(\n",
    "            round(treedict[\"value\"], 3))\n",
    "        err = str(int(treedict[\"error\"])) if treedict[\"error\"] - int(treedict[\"error\"]) == 0 else str(\n",
    "            round(treedict[\"error\"], 3))\n",
    "        values = str(treedict[\"values\"])\n",
    "\n",
    "        gstring += \"leaf_\" + id + \" [label=\\\"{{class|\" + val + \"}|{error|\" + err + \"}|{values|\" + values + \"}}\\\"];\\n\"\n",
    "        #+ \"}|{true positive|\" + true_pos + \"}|{false positive|\" + false_pos + \"}|{true negative|\" + true_neg + \"}|{false negative|\" + false_neg \\\n",
    "\n",
    "        gstring += \"node_\" + parent + \" -> leaf_\" + id + \" [label=\" + str(int(left)) + \"];\\n\"\n",
    "    return gstring\n",
    "\n",
    "\n",
    "def export_graphviz(clf):\n",
    "    if clf.is_fitted_ is False:  # fit method has not been called\n",
    "        raise NotFittedError(\"Call fit method first\" % {'name': type(clf).__name__})\n",
    "\n",
    "    if clf.tree_ is None:\n",
    "        raise TreeNotFoundError(\"predict(): \", \"Tree not found during training by DL8.5 - \"\n",
    "                                               \"Check fitting message for more info.\")\n",
    "\n",
    "    if hasattr(clf, 'tree_') is False:  # normally this case is not possible.\n",
    "        raise SearchFailedError(\"PredictionError: \", \"DL8.5 training has failed. Please contact the developers \"\n",
    "                                                     \"if the problem is in the scope supported by the tool.\")\n",
    "\n",
    "    # initialize the header\n",
    "    graph_string = \"digraph Tree { \\n \" \\\n",
    "                   \"graph [ranksep=0]; \\n \" \\\n",
    "                   \"node [shape=record]; \\n\"\n",
    "\n",
    "    # build the body\n",
    "    graph_string += get_dot_body(clf.tree_)\n",
    "\n",
    "    # end by the footer\n",
    "    graph_string += \"}\"\n",
    "\n",
    "    return graph_string"
   ],
   "metadata": {
    "collapsed": false,
    "pycharm": {
     "name": "#%%\n"
    }
   }
  },
  {
   "cell_type": "code",
   "execution_count": 398,
   "outputs": [
    {
     "data": {
      "image/svg+xml": "<?xml version=\"1.0\" encoding=\"UTF-8\" standalone=\"no\"?>\n<!DOCTYPE svg PUBLIC \"-//W3C//DTD SVG 1.1//EN\"\n \"http://www.w3.org/Graphics/SVG/1.1/DTD/svg11.dtd\">\n<!-- Generated by graphviz version 2.43.0 (0)\n -->\n<!-- Title: Tree Pages: 1 -->\n<svg width=\"680pt\" height=\"315pt\"\n viewBox=\"0.00 0.00 679.50 315.00\" xmlns=\"http://www.w3.org/2000/svg\" xmlns:xlink=\"http://www.w3.org/1999/xlink\">\n<g id=\"graph0\" class=\"graph\" transform=\"scale(1 1) rotate(0) translate(4 311)\">\n<title>Tree</title>\n<polygon fill=\"white\" stroke=\"transparent\" points=\"-4,4 -4,-311 675.5,-311 675.5,4 -4,4\"/>\n<!-- node_101e314a_914f_46ea_814f_b7a09687ff59 -->\n<g id=\"node1\" class=\"node\">\n<title>node_101e314a_914f_46ea_814f_b7a09687ff59</title>\n<polygon fill=\"none\" stroke=\"black\" points=\"204,-270.5 204,-306.5 283,-306.5 283,-270.5 204,-270.5\"/>\n<text text-anchor=\"middle\" x=\"226\" y=\"-284.8\" font-family=\"Times,serif\" font-size=\"14.00\">feat</text>\n<polyline fill=\"none\" stroke=\"black\" points=\"248,-270.5 248,-306.5 \"/>\n<text text-anchor=\"middle\" x=\"265.5\" y=\"-284.8\" font-family=\"Times,serif\" font-size=\"14.00\">10</text>\n</g>\n<!-- leaf_2aecc457_be6f_47dd_8b7b_1c7abaaa2e7b -->\n<g id=\"node2\" class=\"node\">\n<title>leaf_2aecc457_be6f_47dd_8b7b_1c7abaaa2e7b</title>\n<polygon fill=\"none\" stroke=\"black\" points=\"151.5,-169.5 151.5,-238.5 303.5,-238.5 303.5,-169.5 151.5,-169.5\"/>\n<text text-anchor=\"middle\" x=\"196\" y=\"-223.3\" font-family=\"Times,serif\" font-size=\"14.00\">class</text>\n<polyline fill=\"none\" stroke=\"black\" points=\"240.5,-215.5 240.5,-238.5 \"/>\n<text text-anchor=\"middle\" x=\"272\" y=\"-223.3\" font-family=\"Times,serif\" font-size=\"14.00\">1</text>\n<polyline fill=\"none\" stroke=\"black\" points=\"151.5,-215.5 303.5,-215.5 \"/>\n<text text-anchor=\"middle\" x=\"196\" y=\"-200.3\" font-family=\"Times,serif\" font-size=\"14.00\">error</text>\n<polyline fill=\"none\" stroke=\"black\" points=\"240.5,-192.5 240.5,-215.5 \"/>\n<text text-anchor=\"middle\" x=\"272\" y=\"-200.3\" font-family=\"Times,serif\" font-size=\"14.00\">0</text>\n<polyline fill=\"none\" stroke=\"black\" points=\"151.5,-192.5 303.5,-192.5 \"/>\n<text text-anchor=\"middle\" x=\"182.5\" y=\"-177.3\" font-family=\"Times,serif\" font-size=\"14.00\">values</text>\n<polyline fill=\"none\" stroke=\"black\" points=\"213.5,-169.5 213.5,-192.5 \"/>\n<text text-anchor=\"middle\" x=\"258.5\" y=\"-177.3\" font-family=\"Times,serif\" font-size=\"14.00\">[0.0, 32.0]</text>\n</g>\n<!-- node_101e314a_914f_46ea_814f_b7a09687ff59&#45;&gt;leaf_2aecc457_be6f_47dd_8b7b_1c7abaaa2e7b -->\n<g id=\"edge1\" class=\"edge\">\n<title>node_101e314a_914f_46ea_814f_b7a09687ff59&#45;&gt;leaf_2aecc457_be6f_47dd_8b7b_1c7abaaa2e7b</title>\n<path fill=\"none\" stroke=\"black\" d=\"M240.18,-270.41C238.95,-264.04 237.49,-256.49 236,-248.82\"/>\n<polygon fill=\"black\" stroke=\"black\" points=\"239.39,-247.91 234.05,-238.75 232.51,-249.24 239.39,-247.91\"/>\n<text text-anchor=\"middle\" x=\"243.5\" y=\"-250.8\" font-family=\"Times,serif\" font-size=\"14.00\">1</text>\n</g>\n<!-- node_f34a3131_204f_40ca_91b9_fc8d1966d337 -->\n<g id=\"node3\" class=\"node\">\n<title>node_f34a3131_204f_40ca_91b9_fc8d1966d337</title>\n<polygon fill=\"none\" stroke=\"black\" points=\"321.5,-186 321.5,-222 391.5,-222 391.5,-186 321.5,-186\"/>\n<text text-anchor=\"middle\" x=\"343.5\" y=\"-200.3\" font-family=\"Times,serif\" font-size=\"14.00\">feat</text>\n<polyline fill=\"none\" stroke=\"black\" points=\"365.5,-186 365.5,-222 \"/>\n<text text-anchor=\"middle\" x=\"378.5\" y=\"-200.3\" font-family=\"Times,serif\" font-size=\"14.00\">9</text>\n</g>\n<!-- node_101e314a_914f_46ea_814f_b7a09687ff59&#45;&gt;node_f34a3131_204f_40ca_91b9_fc8d1966d337 -->\n<g id=\"edge2\" class=\"edge\">\n<title>node_101e314a_914f_46ea_814f_b7a09687ff59&#45;&gt;node_f34a3131_204f_40ca_91b9_fc8d1966d337</title>\n<path fill=\"none\" stroke=\"black\" d=\"M268.28,-270.48C281.51,-261.3 298,-249.69 312.5,-239 317.07,-235.63 321.85,-232.02 326.52,-228.46\"/>\n<polygon fill=\"black\" stroke=\"black\" points=\"328.93,-231.02 334.72,-222.15 324.66,-225.47 328.93,-231.02\"/>\n<text text-anchor=\"middle\" x=\"306.5\" y=\"-250.8\" font-family=\"Times,serif\" font-size=\"14.00\">0</text>\n</g>\n<!-- node_2e9eb58f_7e5d_41b1_8533_4cf1ff8bcc6e -->\n<g id=\"node4\" class=\"node\">\n<title>node_2e9eb58f_7e5d_41b1_8533_4cf1ff8bcc6e</title>\n<polygon fill=\"none\" stroke=\"black\" points=\"220.5,-101.5 220.5,-137.5 290.5,-137.5 290.5,-101.5 220.5,-101.5\"/>\n<text text-anchor=\"middle\" x=\"242.5\" y=\"-115.8\" font-family=\"Times,serif\" font-size=\"14.00\">feat</text>\n<polyline fill=\"none\" stroke=\"black\" points=\"264.5,-101.5 264.5,-137.5 \"/>\n<text text-anchor=\"middle\" x=\"277.5\" y=\"-115.8\" font-family=\"Times,serif\" font-size=\"14.00\">2</text>\n</g>\n<!-- node_f34a3131_204f_40ca_91b9_fc8d1966d337&#45;&gt;node_2e9eb58f_7e5d_41b1_8533_4cf1ff8bcc6e -->\n<g id=\"edge3\" class=\"edge\">\n<title>node_f34a3131_204f_40ca_91b9_fc8d1966d337&#45;&gt;node_2e9eb58f_7e5d_41b1_8533_4cf1ff8bcc6e</title>\n<path fill=\"none\" stroke=\"black\" d=\"M335.57,-185.91C320.81,-173.85 300.85,-157.54 284.54,-144.22\"/>\n<polygon fill=\"black\" stroke=\"black\" points=\"286.36,-141.19 276.4,-137.57 281.93,-146.61 286.36,-141.19\"/>\n<text text-anchor=\"middle\" x=\"308.5\" y=\"-149.8\" font-family=\"Times,serif\" font-size=\"14.00\">1</text>\n</g>\n<!-- node_e719eac4_0780_49d8_a5f7_b954e2de5397 -->\n<g id=\"node7\" class=\"node\">\n<title>node_e719eac4_0780_49d8_a5f7_b954e2de5397</title>\n<polygon fill=\"none\" stroke=\"black\" points=\"390.5,-101.5 390.5,-137.5 460.5,-137.5 460.5,-101.5 390.5,-101.5\"/>\n<text text-anchor=\"middle\" x=\"412.5\" y=\"-115.8\" font-family=\"Times,serif\" font-size=\"14.00\">feat</text>\n<polyline fill=\"none\" stroke=\"black\" points=\"434.5,-101.5 434.5,-137.5 \"/>\n<text text-anchor=\"middle\" x=\"447.5\" y=\"-115.8\" font-family=\"Times,serif\" font-size=\"14.00\">1</text>\n</g>\n<!-- node_f34a3131_204f_40ca_91b9_fc8d1966d337&#45;&gt;node_e719eac4_0780_49d8_a5f7_b954e2de5397 -->\n<g id=\"edge6\" class=\"edge\">\n<title>node_f34a3131_204f_40ca_91b9_fc8d1966d337&#45;&gt;node_e719eac4_0780_49d8_a5f7_b954e2de5397</title>\n<path fill=\"none\" stroke=\"black\" d=\"M370.8,-185.91C380.6,-174.18 393.77,-158.43 404.73,-145.33\"/>\n<polygon fill=\"black\" stroke=\"black\" points=\"407.49,-147.49 411.22,-137.57 402.12,-143 407.49,-147.49\"/>\n<text text-anchor=\"middle\" x=\"408.5\" y=\"-149.8\" font-family=\"Times,serif\" font-size=\"14.00\">0</text>\n</g>\n<!-- leaf_5053d2de_04e5_4b2b_beda_a05c0d18542f -->\n<g id=\"node5\" class=\"node\">\n<title>leaf_5053d2de_04e5_4b2b_beda_a05c0d18542f</title>\n<polygon fill=\"none\" stroke=\"black\" points=\"0,-0.5 0,-69.5 161,-69.5 161,-0.5 0,-0.5\"/>\n<text text-anchor=\"middle\" x=\"46.5\" y=\"-54.3\" font-family=\"Times,serif\" font-size=\"14.00\">class</text>\n<polyline fill=\"none\" stroke=\"black\" points=\"93,-46.5 93,-69.5 \"/>\n<text text-anchor=\"middle\" x=\"127\" y=\"-54.3\" font-family=\"Times,serif\" font-size=\"14.00\">0</text>\n<polyline fill=\"none\" stroke=\"black\" points=\"0,-46.5 161,-46.5 \"/>\n<text text-anchor=\"middle\" x=\"47\" y=\"-31.3\" font-family=\"Times,serif\" font-size=\"14.00\">error</text>\n<polyline fill=\"none\" stroke=\"black\" points=\"94,-23.5 94,-46.5 \"/>\n<text text-anchor=\"middle\" x=\"127.5\" y=\"-31.3\" font-family=\"Times,serif\" font-size=\"14.00\">0</text>\n<polyline fill=\"none\" stroke=\"black\" points=\"0,-23.5 161,-23.5 \"/>\n<text text-anchor=\"middle\" x=\"31\" y=\"-8.3\" font-family=\"Times,serif\" font-size=\"14.00\">values</text>\n<polyline fill=\"none\" stroke=\"black\" points=\"62,-0.5 62,-23.5 \"/>\n<text text-anchor=\"middle\" x=\"111.5\" y=\"-8.3\" font-family=\"Times,serif\" font-size=\"14.00\">[19.0, 13.0]</text>\n</g>\n<!-- node_2e9eb58f_7e5d_41b1_8533_4cf1ff8bcc6e&#45;&gt;leaf_5053d2de_04e5_4b2b_beda_a05c0d18542f -->\n<g id=\"edge4\" class=\"edge\">\n<title>node_2e9eb58f_7e5d_41b1_8533_4cf1ff8bcc6e&#45;&gt;leaf_5053d2de_04e5_4b2b_beda_a05c0d18542f</title>\n<path fill=\"none\" stroke=\"black\" d=\"M220.09,-101.8C202.95,-93.73 181.62,-83.67 160.83,-73.87\"/>\n<polygon fill=\"black\" stroke=\"black\" points=\"162.19,-70.64 151.65,-69.54 159.2,-76.97 162.19,-70.64\"/>\n<text text-anchor=\"middle\" x=\"204.5\" y=\"-81.8\" font-family=\"Times,serif\" font-size=\"14.00\">1</text>\n</g>\n<!-- leaf_1c1c7f4e_71e7_4e47_9308_9b799e8dfb20 -->\n<g id=\"node6\" class=\"node\">\n<title>leaf_1c1c7f4e_71e7_4e47_9308_9b799e8dfb20</title>\n<polygon fill=\"none\" stroke=\"black\" points=\"179.5,-0.5 179.5,-69.5 331.5,-69.5 331.5,-0.5 179.5,-0.5\"/>\n<text text-anchor=\"middle\" x=\"224\" y=\"-54.3\" font-family=\"Times,serif\" font-size=\"14.00\">class</text>\n<polyline fill=\"none\" stroke=\"black\" points=\"268.5,-46.5 268.5,-69.5 \"/>\n<text text-anchor=\"middle\" x=\"300\" y=\"-54.3\" font-family=\"Times,serif\" font-size=\"14.00\">1</text>\n<polyline fill=\"none\" stroke=\"black\" points=\"179.5,-46.5 331.5,-46.5 \"/>\n<text text-anchor=\"middle\" x=\"224\" y=\"-31.3\" font-family=\"Times,serif\" font-size=\"14.00\">error</text>\n<polyline fill=\"none\" stroke=\"black\" points=\"268.5,-23.5 268.5,-46.5 \"/>\n<text text-anchor=\"middle\" x=\"300\" y=\"-31.3\" font-family=\"Times,serif\" font-size=\"14.00\">0</text>\n<polyline fill=\"none\" stroke=\"black\" points=\"179.5,-23.5 331.5,-23.5 \"/>\n<text text-anchor=\"middle\" x=\"210.5\" y=\"-8.3\" font-family=\"Times,serif\" font-size=\"14.00\">values</text>\n<polyline fill=\"none\" stroke=\"black\" points=\"241.5,-0.5 241.5,-23.5 \"/>\n<text text-anchor=\"middle\" x=\"286.5\" y=\"-8.3\" font-family=\"Times,serif\" font-size=\"14.00\">[3.0, 29.0]</text>\n</g>\n<!-- node_2e9eb58f_7e5d_41b1_8533_4cf1ff8bcc6e&#45;&gt;leaf_1c1c7f4e_71e7_4e47_9308_9b799e8dfb20 -->\n<g id=\"edge5\" class=\"edge\">\n<title>node_2e9eb58f_7e5d_41b1_8533_4cf1ff8bcc6e&#45;&gt;leaf_1c1c7f4e_71e7_4e47_9308_9b799e8dfb20</title>\n<path fill=\"none\" stroke=\"black\" d=\"M255.5,-101.41C255.5,-95.04 255.5,-87.49 255.5,-79.82\"/>\n<polygon fill=\"black\" stroke=\"black\" points=\"259,-79.75 255.5,-69.75 252,-79.75 259,-79.75\"/>\n<text text-anchor=\"middle\" x=\"260.5\" y=\"-81.8\" font-family=\"Times,serif\" font-size=\"14.00\">0</text>\n</g>\n<!-- leaf_1a3d796a_7d69_4603_b2c3_42ecb40d95fe -->\n<g id=\"node8\" class=\"node\">\n<title>leaf_1a3d796a_7d69_4603_b2c3_42ecb40d95fe</title>\n<polygon fill=\"none\" stroke=\"black\" points=\"349.5,-0.5 349.5,-69.5 501.5,-69.5 501.5,-0.5 349.5,-0.5\"/>\n<text text-anchor=\"middle\" x=\"394\" y=\"-54.3\" font-family=\"Times,serif\" font-size=\"14.00\">class</text>\n<polyline fill=\"none\" stroke=\"black\" points=\"438.5,-46.5 438.5,-69.5 \"/>\n<text text-anchor=\"middle\" x=\"470\" y=\"-54.3\" font-family=\"Times,serif\" font-size=\"14.00\">0</text>\n<polyline fill=\"none\" stroke=\"black\" points=\"349.5,-46.5 501.5,-46.5 \"/>\n<text text-anchor=\"middle\" x=\"394\" y=\"-31.3\" font-family=\"Times,serif\" font-size=\"14.00\">error</text>\n<polyline fill=\"none\" stroke=\"black\" points=\"438.5,-23.5 438.5,-46.5 \"/>\n<text text-anchor=\"middle\" x=\"470\" y=\"-31.3\" font-family=\"Times,serif\" font-size=\"14.00\">0</text>\n<polyline fill=\"none\" stroke=\"black\" points=\"349.5,-23.5 501.5,-23.5 \"/>\n<text text-anchor=\"middle\" x=\"380.5\" y=\"-8.3\" font-family=\"Times,serif\" font-size=\"14.00\">values</text>\n<polyline fill=\"none\" stroke=\"black\" points=\"411.5,-0.5 411.5,-23.5 \"/>\n<text text-anchor=\"middle\" x=\"456.5\" y=\"-8.3\" font-family=\"Times,serif\" font-size=\"14.00\">[52.0, 9.0]</text>\n</g>\n<!-- node_e719eac4_0780_49d8_a5f7_b954e2de5397&#45;&gt;leaf_1a3d796a_7d69_4603_b2c3_42ecb40d95fe -->\n<g id=\"edge7\" class=\"edge\">\n<title>node_e719eac4_0780_49d8_a5f7_b954e2de5397&#45;&gt;leaf_1a3d796a_7d69_4603_b2c3_42ecb40d95fe</title>\n<path fill=\"none\" stroke=\"black\" d=\"M425.5,-101.41C425.5,-95.04 425.5,-87.49 425.5,-79.82\"/>\n<polygon fill=\"black\" stroke=\"black\" points=\"429,-79.75 425.5,-69.75 422,-79.75 429,-79.75\"/>\n<text text-anchor=\"middle\" x=\"430.5\" y=\"-81.8\" font-family=\"Times,serif\" font-size=\"14.00\">1</text>\n</g>\n<!-- leaf_c9dd3570_8183_4ba6_b915_f02501f084d7 -->\n<g id=\"node9\" class=\"node\">\n<title>leaf_c9dd3570_8183_4ba6_b915_f02501f084d7</title>\n<polygon fill=\"none\" stroke=\"black\" points=\"519.5,-0.5 519.5,-69.5 671.5,-69.5 671.5,-0.5 519.5,-0.5\"/>\n<text text-anchor=\"middle\" x=\"564\" y=\"-54.3\" font-family=\"Times,serif\" font-size=\"14.00\">class</text>\n<polyline fill=\"none\" stroke=\"black\" points=\"608.5,-46.5 608.5,-69.5 \"/>\n<text text-anchor=\"middle\" x=\"640\" y=\"-54.3\" font-family=\"Times,serif\" font-size=\"14.00\">0</text>\n<polyline fill=\"none\" stroke=\"black\" points=\"519.5,-46.5 671.5,-46.5 \"/>\n<text text-anchor=\"middle\" x=\"564\" y=\"-31.3\" font-family=\"Times,serif\" font-size=\"14.00\">error</text>\n<polyline fill=\"none\" stroke=\"black\" points=\"608.5,-23.5 608.5,-46.5 \"/>\n<text text-anchor=\"middle\" x=\"640\" y=\"-31.3\" font-family=\"Times,serif\" font-size=\"14.00\">0</text>\n<polyline fill=\"none\" stroke=\"black\" points=\"519.5,-23.5 671.5,-23.5 \"/>\n<text text-anchor=\"middle\" x=\"550.5\" y=\"-8.3\" font-family=\"Times,serif\" font-size=\"14.00\">values</text>\n<polyline fill=\"none\" stroke=\"black\" points=\"581.5,-0.5 581.5,-23.5 \"/>\n<text text-anchor=\"middle\" x=\"626.5\" y=\"-8.3\" font-family=\"Times,serif\" font-size=\"14.00\">[52.0, 0.0]</text>\n</g>\n<!-- node_e719eac4_0780_49d8_a5f7_b954e2de5397&#45;&gt;leaf_c9dd3570_8183_4ba6_b915_f02501f084d7 -->\n<g id=\"edge8\" class=\"edge\">\n<title>node_e719eac4_0780_49d8_a5f7_b954e2de5397&#45;&gt;leaf_c9dd3570_8183_4ba6_b915_f02501f084d7</title>\n<path fill=\"none\" stroke=\"black\" d=\"M460.72,-101.41C477.17,-93.42 497.45,-83.58 517.25,-73.98\"/>\n<polygon fill=\"black\" stroke=\"black\" points=\"518.82,-77.1 526.29,-69.59 515.77,-70.8 518.82,-77.1\"/>\n<text text-anchor=\"middle\" x=\"510.5\" y=\"-81.8\" font-family=\"Times,serif\" font-size=\"14.00\">0</text>\n</g>\n</g>\n</svg>\n",
      "text/plain": "<graphviz.sources.Source at 0x7f8169470790>"
     },
     "execution_count": 398,
     "metadata": {},
     "output_type": "execute_result"
    }
   ],
   "source": [
    "dot = export_graphviz(clf)\n",
    "graphviz.Source(dot)"
   ],
   "metadata": {
    "collapsed": false,
    "pycharm": {
     "name": "#%%\n"
    }
   }
  },
  {
   "cell_type": "code",
   "execution_count": 399,
   "outputs": [
    {
     "name": "stdout",
     "output_type": "stream",
     "text": [
      "Accuracy:\n",
      "    Before      : 0.880383\n",
      "    Leafs       : -0.15311\n",
      "    After       : 0.727273\n",
      "    Before+Leafs: 0.727273\n",
      "    Check       : True\n",
      "Discrim:\n",
      "    Before      : 0.312952\n",
      "    Leafs       : 0.074095\n",
      "    After       : -0.238857\n",
      "    Before+Leafs: 0.074095\n",
      "    Check       : True\n"
     ]
    }
   ],
   "source": [
    "clf = DecisionTreeClassifier(max_depth=3, random_state=0)\n",
    "clf.fit(X_train, list(y_train))\n",
    "leafs = list()\n",
    "cnt = np.unique(sensitive, return_counts=True)[1]\n",
    "relabeling_sklearn.leafs_to_relabel(clf.tree_, X_train, y_train, sensitive_train, cnt[0], cnt[1], leafs, len(y_train), 0)\n",
    "leafs_relab = relabeling_sklearn.relab(clf.tree_, X_train, y_train, y_pred_train, sensitive_train, 0.1)\n",
    "for leaf in leafs_relab:\n",
    "    relabeling_sklearn.browse_and_relab(clf, leaf.node_id)\n",
    "y_pred_train = clf.predict(X_train)\n",
    "accuracy_train_relab = round(accuracy_score(y_train, y_pred_train), 6)\n",
    "discrimation_train_pred_relab = round(utils.discrimination(y_pred_train, sensitive_train), 6)\n",
    "new_acc= round(accuracy_train+sum_acc, 6)\n",
    "new_disc = round(discrimation_train_pred+sum_disc, 6)\n",
    "print(f\"Accuracy:\\n\"\n",
    "      f\"    Before      : {accuracy_train}\\n\"\n",
    "      f\"    Leafs       : {sum_acc}\\n\"\n",
    "      f\"    After       : {accuracy_train_relab}\\n\"\n",
    "      f\"    Before+Leafs: {new_acc}\\n\"\n",
    "      f\"    Check       : {new_acc == accuracy_train_relab}\")\n",
    "print(f\"Discrim:\\n\"\n",
    "      f\"    Before      : {discrimation_train_pred}\\n\"\n",
    "      f\"    Leafs       : {discrimation_train_pred_relab}\\n\"\n",
    "      f\"    After       : {sum_disc}\\n\"\n",
    "      f\"    Before+Leafs: {new_disc}\\n\"\n",
    "      f\"    Check       : {new_disc== discrimation_train_pred_relab}\")"
   ],
   "metadata": {
    "collapsed": false,
    "pycharm": {
     "name": "#%%\n"
    }
   }
  },
  {
   "cell_type": "code",
   "execution_count": 400,
   "outputs": [],
   "source": [
    "pydl = dict()\n",
    "sklearn_to_pydl(clf, pydl, 0)"
   ],
   "metadata": {
    "collapsed": false,
    "pycharm": {
     "name": "#%%\n"
    }
   }
  },
  {
   "cell_type": "code",
   "execution_count": 401,
   "outputs": [
    {
     "name": "stdout",
     "output_type": "stream",
     "text": [
      "Accuracy:\n",
      "    Before      : 0.880383\n",
      "    Leafs       : -0.15311\n",
      "    After       : 0.727273\n",
      "    Before+Leafs: 0.727273\n",
      "    Check       : True\n",
      "Discrim:\n",
      "    Before      : 0.312952\n",
      "    Leafs       : 0.074095\n",
      "    After       : -0.238857\n",
      "    Before+Leafs: 0.074095\n",
      "    Check       : True\n"
     ]
    }
   ],
   "source": [
    "clf = DL85Classifier(max_depth=3, error_function=lambda tids: utils.misclassified(list(tids), y_train), min_sup=1, time_limit=600)\n",
    "clf.fit(X_train, list(y_train))\n",
    "y_pred_train = clf.predict(X_train)\n",
    "clf.tree_ = pydl\n",
    "y_pred_train = clf.predict(X_train)\n",
    "accuracy_train_relab = round(accuracy_score(y_train, y_pred_train), 6)\n",
    "discrimation_train_pred_relab = round(utils.discrimination(y_pred_train, sensitive_train), 6)\n",
    "new_acc= round(accuracy_train+sum_acc, 6)\n",
    "new_disc = round(discrimation_train_pred+sum_disc, 6)\n",
    "print(f\"Accuracy:\\n\"\n",
    "      f\"    Before      : {accuracy_train}\\n\"\n",
    "      f\"    Leafs       : {sum_acc}\\n\"\n",
    "      f\"    After       : {accuracy_train_relab}\\n\"\n",
    "      f\"    Before+Leafs: {new_acc}\\n\"\n",
    "      f\"    Check       : {new_acc == accuracy_train_relab}\")\n",
    "print(f\"Discrim:\\n\"\n",
    "      f\"    Before      : {discrimation_train_pred}\\n\"\n",
    "      f\"    Leafs       : {discrimation_train_pred_relab}\\n\"\n",
    "      f\"    After       : {sum_disc}\\n\"\n",
    "      f\"    Before+Leafs: {new_disc}\\n\"\n",
    "      f\"    Check       : {new_disc== discrimation_train_pred_relab}\")"
   ],
   "metadata": {
    "collapsed": false,
    "pycharm": {
     "name": "#%%\n"
    }
   }
  },
  {
   "cell_type": "code",
   "execution_count": 401,
   "outputs": [],
   "source": [],
   "metadata": {
    "collapsed": false,
    "pycharm": {
     "name": "#%%\n"
    }
   }
  }
 ],
 "metadata": {
  "kernelspec": {
   "display_name": "Python 3",
   "language": "python",
   "name": "python3"
  },
  "language_info": {
   "codemirror_mode": {
    "name": "ipython",
    "version": 2
   },
   "file_extension": ".py",
   "mimetype": "text/x-python",
   "name": "python",
   "nbconvert_exporter": "python",
   "pygments_lexer": "ipython2",
   "version": "2.7.6"
  }
 },
 "nbformat": 4,
 "nbformat_minor": 0
}