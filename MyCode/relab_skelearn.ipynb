{
 "cells": [
  {
   "cell_type": "code",
   "execution_count": 1,
   "metadata": {
    "collapsed": true
   },
   "outputs": [],
   "source": [
    "import pandas\n",
    "from scipy.io import arff\n",
    "import numpy as np\n",
    "from sklearn.metrics import confusion_matrix\n",
    "from sklearn.model_selection import train_test_split\n",
    "from sklearn.metrics import accuracy_score\n",
    "import time\n",
    "from dl85 import DL85Predictor\n",
    "from dl85 import DL85Classifier\n",
    "import pandas as pd\n",
    "from sklearn.preprocessing import OneHotEncoder\n",
    "import matplotlib.pyplot as plt\n",
    "import numpy as np\n",
    "import MyCode.utils as utils\n",
    "import graphviz\n",
    "from MyCode import relabeling\n",
    "from MyCode import relabeling_sklearn"
   ]
  },
  {
   "cell_type": "code",
   "execution_count": 2,
   "outputs": [
    {
     "data": {
      "text/plain": "     Dept  Gender  Clin  Cert  Prate  Exper  Rank   Sal94   Sal95\n0       1       1     0     0    7.4      9     3   77836   84612\n1       1       1     0     0    6.7     10     2   69994   78497\n2       1       1     0     0    8.1      6     1   62872   67756\n3       1       1     1     1    5.1     27     3  155196  173220\n4       1       1     0     0    7.0     10     3   89268   96099\n..    ...     ...   ...   ...    ...    ...   ...     ...     ...\n256     6       0     1     1    2.9      8     2  297174  323699\n257     6       0     1     1    2.6      9     3  308081  339664\n258     6       0     1     1    2.8      8     1  211269  241577\n259     6       0     1     1    2.4      2     1  210801  233905\n260     6       0     1     1    3.2      5     1  244551  265502\n\n[261 rows x 9 columns]",
      "text/html": "<div>\n<style scoped>\n    .dataframe tbody tr th:only-of-type {\n        vertical-align: middle;\n    }\n\n    .dataframe tbody tr th {\n        vertical-align: top;\n    }\n\n    .dataframe thead th {\n        text-align: right;\n    }\n</style>\n<table border=\"1\" class=\"dataframe\">\n  <thead>\n    <tr style=\"text-align: right;\">\n      <th></th>\n      <th>Dept</th>\n      <th>Gender</th>\n      <th>Clin</th>\n      <th>Cert</th>\n      <th>Prate</th>\n      <th>Exper</th>\n      <th>Rank</th>\n      <th>Sal94</th>\n      <th>Sal95</th>\n    </tr>\n  </thead>\n  <tbody>\n    <tr>\n      <th>0</th>\n      <td>1</td>\n      <td>1</td>\n      <td>0</td>\n      <td>0</td>\n      <td>7.4</td>\n      <td>9</td>\n      <td>3</td>\n      <td>77836</td>\n      <td>84612</td>\n    </tr>\n    <tr>\n      <th>1</th>\n      <td>1</td>\n      <td>1</td>\n      <td>0</td>\n      <td>0</td>\n      <td>6.7</td>\n      <td>10</td>\n      <td>2</td>\n      <td>69994</td>\n      <td>78497</td>\n    </tr>\n    <tr>\n      <th>2</th>\n      <td>1</td>\n      <td>1</td>\n      <td>0</td>\n      <td>0</td>\n      <td>8.1</td>\n      <td>6</td>\n      <td>1</td>\n      <td>62872</td>\n      <td>67756</td>\n    </tr>\n    <tr>\n      <th>3</th>\n      <td>1</td>\n      <td>1</td>\n      <td>1</td>\n      <td>1</td>\n      <td>5.1</td>\n      <td>27</td>\n      <td>3</td>\n      <td>155196</td>\n      <td>173220</td>\n    </tr>\n    <tr>\n      <th>4</th>\n      <td>1</td>\n      <td>1</td>\n      <td>0</td>\n      <td>0</td>\n      <td>7.0</td>\n      <td>10</td>\n      <td>3</td>\n      <td>89268</td>\n      <td>96099</td>\n    </tr>\n    <tr>\n      <th>...</th>\n      <td>...</td>\n      <td>...</td>\n      <td>...</td>\n      <td>...</td>\n      <td>...</td>\n      <td>...</td>\n      <td>...</td>\n      <td>...</td>\n      <td>...</td>\n    </tr>\n    <tr>\n      <th>256</th>\n      <td>6</td>\n      <td>0</td>\n      <td>1</td>\n      <td>1</td>\n      <td>2.9</td>\n      <td>8</td>\n      <td>2</td>\n      <td>297174</td>\n      <td>323699</td>\n    </tr>\n    <tr>\n      <th>257</th>\n      <td>6</td>\n      <td>0</td>\n      <td>1</td>\n      <td>1</td>\n      <td>2.6</td>\n      <td>9</td>\n      <td>3</td>\n      <td>308081</td>\n      <td>339664</td>\n    </tr>\n    <tr>\n      <th>258</th>\n      <td>6</td>\n      <td>0</td>\n      <td>1</td>\n      <td>1</td>\n      <td>2.8</td>\n      <td>8</td>\n      <td>1</td>\n      <td>211269</td>\n      <td>241577</td>\n    </tr>\n    <tr>\n      <th>259</th>\n      <td>6</td>\n      <td>0</td>\n      <td>1</td>\n      <td>1</td>\n      <td>2.4</td>\n      <td>2</td>\n      <td>1</td>\n      <td>210801</td>\n      <td>233905</td>\n    </tr>\n    <tr>\n      <th>260</th>\n      <td>6</td>\n      <td>0</td>\n      <td>1</td>\n      <td>1</td>\n      <td>3.2</td>\n      <td>5</td>\n      <td>1</td>\n      <td>244551</td>\n      <td>265502</td>\n    </tr>\n  </tbody>\n</table>\n<p>261 rows × 9 columns</p>\n</div>"
     },
     "execution_count": 2,
     "metadata": {},
     "output_type": "execute_result"
    }
   ],
   "source": [
    "pd.set_option('max_columns', None)\n",
    "FILE_NAME = \"relab_Lawsuit\"\n",
    "\n",
    "# src: https://www.kaggle.com/hjmjerry/gender-discrimination\n",
    "df = pandas.read_csv(\"dataset_perso/Lawsuit.csv\")\n",
    "del df['ID']\n",
    "df"
   ],
   "metadata": {
    "collapsed": false,
    "pycharm": {
     "name": "#%%\n"
    }
   }
  },
  {
   "cell_type": "code",
   "execution_count": 3,
   "outputs": [
    {
     "data": {
      "text/plain": "     Dept  Gender  Clin  Cert  Prate  Exper  Rank  Salary_mean\n0       1       1     0     0    7.4      9     3          0.0\n1       1       1     0     0    6.7     10     2          0.0\n2       1       1     0     0    8.1      6     1          0.0\n3       1       1     1     1    5.1     27     3          1.0\n4       1       1     0     0    7.0     10     3          0.0\n..    ...     ...   ...   ...    ...    ...   ...          ...\n256     6       0     1     1    2.9      8     2          1.0\n257     6       0     1     1    2.6      9     3          1.0\n258     6       0     1     1    2.8      8     1          1.0\n259     6       0     1     1    2.4      2     1          1.0\n260     6       0     1     1    3.2      5     1          1.0\n\n[261 rows x 8 columns]",
      "text/html": "<div>\n<style scoped>\n    .dataframe tbody tr th:only-of-type {\n        vertical-align: middle;\n    }\n\n    .dataframe tbody tr th {\n        vertical-align: top;\n    }\n\n    .dataframe thead th {\n        text-align: right;\n    }\n</style>\n<table border=\"1\" class=\"dataframe\">\n  <thead>\n    <tr style=\"text-align: right;\">\n      <th></th>\n      <th>Dept</th>\n      <th>Gender</th>\n      <th>Clin</th>\n      <th>Cert</th>\n      <th>Prate</th>\n      <th>Exper</th>\n      <th>Rank</th>\n      <th>Salary_mean</th>\n    </tr>\n  </thead>\n  <tbody>\n    <tr>\n      <th>0</th>\n      <td>1</td>\n      <td>1</td>\n      <td>0</td>\n      <td>0</td>\n      <td>7.4</td>\n      <td>9</td>\n      <td>3</td>\n      <td>0.0</td>\n    </tr>\n    <tr>\n      <th>1</th>\n      <td>1</td>\n      <td>1</td>\n      <td>0</td>\n      <td>0</td>\n      <td>6.7</td>\n      <td>10</td>\n      <td>2</td>\n      <td>0.0</td>\n    </tr>\n    <tr>\n      <th>2</th>\n      <td>1</td>\n      <td>1</td>\n      <td>0</td>\n      <td>0</td>\n      <td>8.1</td>\n      <td>6</td>\n      <td>1</td>\n      <td>0.0</td>\n    </tr>\n    <tr>\n      <th>3</th>\n      <td>1</td>\n      <td>1</td>\n      <td>1</td>\n      <td>1</td>\n      <td>5.1</td>\n      <td>27</td>\n      <td>3</td>\n      <td>1.0</td>\n    </tr>\n    <tr>\n      <th>4</th>\n      <td>1</td>\n      <td>1</td>\n      <td>0</td>\n      <td>0</td>\n      <td>7.0</td>\n      <td>10</td>\n      <td>3</td>\n      <td>0.0</td>\n    </tr>\n    <tr>\n      <th>...</th>\n      <td>...</td>\n      <td>...</td>\n      <td>...</td>\n      <td>...</td>\n      <td>...</td>\n      <td>...</td>\n      <td>...</td>\n      <td>...</td>\n    </tr>\n    <tr>\n      <th>256</th>\n      <td>6</td>\n      <td>0</td>\n      <td>1</td>\n      <td>1</td>\n      <td>2.9</td>\n      <td>8</td>\n      <td>2</td>\n      <td>1.0</td>\n    </tr>\n    <tr>\n      <th>257</th>\n      <td>6</td>\n      <td>0</td>\n      <td>1</td>\n      <td>1</td>\n      <td>2.6</td>\n      <td>9</td>\n      <td>3</td>\n      <td>1.0</td>\n    </tr>\n    <tr>\n      <th>258</th>\n      <td>6</td>\n      <td>0</td>\n      <td>1</td>\n      <td>1</td>\n      <td>2.8</td>\n      <td>8</td>\n      <td>1</td>\n      <td>1.0</td>\n    </tr>\n    <tr>\n      <th>259</th>\n      <td>6</td>\n      <td>0</td>\n      <td>1</td>\n      <td>1</td>\n      <td>2.4</td>\n      <td>2</td>\n      <td>1</td>\n      <td>1.0</td>\n    </tr>\n    <tr>\n      <th>260</th>\n      <td>6</td>\n      <td>0</td>\n      <td>1</td>\n      <td>1</td>\n      <td>3.2</td>\n      <td>5</td>\n      <td>1</td>\n      <td>1.0</td>\n    </tr>\n  </tbody>\n</table>\n<p>261 rows × 8 columns</p>\n</div>"
     },
     "execution_count": 3,
     "metadata": {},
     "output_type": "execute_result"
    }
   ],
   "source": [
    "salary_mean = np.mean(np.array(df[\"Sal94\"].tolist(), float))\n",
    "for i in range(0,len(df)):\n",
    "    if df.at[i, \"Sal94\"] >= salary_mean:\n",
    "        df.at[i, \"Salary_mean\"] = 1\n",
    "    else:\n",
    "        df.at[i, \"Salary_mean\"] = 0\n",
    "del df[\"Sal94\"]\n",
    "del df[\"Sal95\"]\n",
    "df"
   ],
   "metadata": {
    "collapsed": false,
    "pycharm": {
     "name": "#%%\n"
    }
   }
  },
  {
   "cell_type": "code",
   "execution_count": 4,
   "outputs": [
    {
     "data": {
      "text/plain": "     Gender  Clin  Cert  Salary_mean  Rank_1  Rank_2  Rank_3  Dept_1  Dept_2  \\\n0         1     0     0          0.0       0       0       1       1       0   \n1         1     0     0          0.0       0       1       0       1       0   \n2         1     0     0          0.0       1       0       0       1       0   \n3         1     1     1          1.0       0       0       1       1       0   \n4         1     0     0          0.0       0       0       1       1       0   \n..      ...   ...   ...          ...     ...     ...     ...     ...     ...   \n256       0     1     1          1.0       0       1       0       0       0   \n257       0     1     1          1.0       0       0       1       0       0   \n258       0     1     1          1.0       1       0       0       0       0   \n259       0     1     1          1.0       1       0       0       0       0   \n260       0     1     1          1.0       1       0       0       0       0   \n\n     Dept_3  Dept_4  Dept_5  Dept_6  \n0         0       0       0       0  \n1         0       0       0       0  \n2         0       0       0       0  \n3         0       0       0       0  \n4         0       0       0       0  \n..      ...     ...     ...     ...  \n256       0       0       0       1  \n257       0       0       0       1  \n258       0       0       0       1  \n259       0       0       0       1  \n260       0       0       0       1  \n\n[261 rows x 13 columns]",
      "text/html": "<div>\n<style scoped>\n    .dataframe tbody tr th:only-of-type {\n        vertical-align: middle;\n    }\n\n    .dataframe tbody tr th {\n        vertical-align: top;\n    }\n\n    .dataframe thead th {\n        text-align: right;\n    }\n</style>\n<table border=\"1\" class=\"dataframe\">\n  <thead>\n    <tr style=\"text-align: right;\">\n      <th></th>\n      <th>Gender</th>\n      <th>Clin</th>\n      <th>Cert</th>\n      <th>Salary_mean</th>\n      <th>Rank_1</th>\n      <th>Rank_2</th>\n      <th>Rank_3</th>\n      <th>Dept_1</th>\n      <th>Dept_2</th>\n      <th>Dept_3</th>\n      <th>Dept_4</th>\n      <th>Dept_5</th>\n      <th>Dept_6</th>\n    </tr>\n  </thead>\n  <tbody>\n    <tr>\n      <th>0</th>\n      <td>1</td>\n      <td>0</td>\n      <td>0</td>\n      <td>0.0</td>\n      <td>0</td>\n      <td>0</td>\n      <td>1</td>\n      <td>1</td>\n      <td>0</td>\n      <td>0</td>\n      <td>0</td>\n      <td>0</td>\n      <td>0</td>\n    </tr>\n    <tr>\n      <th>1</th>\n      <td>1</td>\n      <td>0</td>\n      <td>0</td>\n      <td>0.0</td>\n      <td>0</td>\n      <td>1</td>\n      <td>0</td>\n      <td>1</td>\n      <td>0</td>\n      <td>0</td>\n      <td>0</td>\n      <td>0</td>\n      <td>0</td>\n    </tr>\n    <tr>\n      <th>2</th>\n      <td>1</td>\n      <td>0</td>\n      <td>0</td>\n      <td>0.0</td>\n      <td>1</td>\n      <td>0</td>\n      <td>0</td>\n      <td>1</td>\n      <td>0</td>\n      <td>0</td>\n      <td>0</td>\n      <td>0</td>\n      <td>0</td>\n    </tr>\n    <tr>\n      <th>3</th>\n      <td>1</td>\n      <td>1</td>\n      <td>1</td>\n      <td>1.0</td>\n      <td>0</td>\n      <td>0</td>\n      <td>1</td>\n      <td>1</td>\n      <td>0</td>\n      <td>0</td>\n      <td>0</td>\n      <td>0</td>\n      <td>0</td>\n    </tr>\n    <tr>\n      <th>4</th>\n      <td>1</td>\n      <td>0</td>\n      <td>0</td>\n      <td>0.0</td>\n      <td>0</td>\n      <td>0</td>\n      <td>1</td>\n      <td>1</td>\n      <td>0</td>\n      <td>0</td>\n      <td>0</td>\n      <td>0</td>\n      <td>0</td>\n    </tr>\n    <tr>\n      <th>...</th>\n      <td>...</td>\n      <td>...</td>\n      <td>...</td>\n      <td>...</td>\n      <td>...</td>\n      <td>...</td>\n      <td>...</td>\n      <td>...</td>\n      <td>...</td>\n      <td>...</td>\n      <td>...</td>\n      <td>...</td>\n      <td>...</td>\n    </tr>\n    <tr>\n      <th>256</th>\n      <td>0</td>\n      <td>1</td>\n      <td>1</td>\n      <td>1.0</td>\n      <td>0</td>\n      <td>1</td>\n      <td>0</td>\n      <td>0</td>\n      <td>0</td>\n      <td>0</td>\n      <td>0</td>\n      <td>0</td>\n      <td>1</td>\n    </tr>\n    <tr>\n      <th>257</th>\n      <td>0</td>\n      <td>1</td>\n      <td>1</td>\n      <td>1.0</td>\n      <td>0</td>\n      <td>0</td>\n      <td>1</td>\n      <td>0</td>\n      <td>0</td>\n      <td>0</td>\n      <td>0</td>\n      <td>0</td>\n      <td>1</td>\n    </tr>\n    <tr>\n      <th>258</th>\n      <td>0</td>\n      <td>1</td>\n      <td>1</td>\n      <td>1.0</td>\n      <td>1</td>\n      <td>0</td>\n      <td>0</td>\n      <td>0</td>\n      <td>0</td>\n      <td>0</td>\n      <td>0</td>\n      <td>0</td>\n      <td>1</td>\n    </tr>\n    <tr>\n      <th>259</th>\n      <td>0</td>\n      <td>1</td>\n      <td>1</td>\n      <td>1.0</td>\n      <td>1</td>\n      <td>0</td>\n      <td>0</td>\n      <td>0</td>\n      <td>0</td>\n      <td>0</td>\n      <td>0</td>\n      <td>0</td>\n      <td>1</td>\n    </tr>\n    <tr>\n      <th>260</th>\n      <td>0</td>\n      <td>1</td>\n      <td>1</td>\n      <td>1.0</td>\n      <td>1</td>\n      <td>0</td>\n      <td>0</td>\n      <td>0</td>\n      <td>0</td>\n      <td>0</td>\n      <td>0</td>\n      <td>0</td>\n      <td>1</td>\n    </tr>\n  </tbody>\n</table>\n<p>261 rows × 13 columns</p>\n</div>"
     },
     "execution_count": 4,
     "metadata": {},
     "output_type": "execute_result"
    }
   ],
   "source": [
    "col = ['Rank', 'Dept']\n",
    "df = df.drop(['Prate', 'Exper'], axis=1)\n",
    "df = pd.get_dummies(df, columns=col)\n",
    "df"
   ],
   "metadata": {
    "collapsed": false,
    "pycharm": {
     "name": "#%%\n"
    }
   }
  },
  {
   "cell_type": "code",
   "execution_count": 5,
   "outputs": [
    {
     "name": "stdout",
     "output_type": "stream",
     "text": [
      "82 23 155 106\n"
     ]
    },
    {
     "data": {
      "text/plain": "-0.31205112598904444"
     },
     "execution_count": 5,
     "metadata": {},
     "output_type": "execute_result"
    }
   ],
   "source": [
    "X = df.loc[:, ~df.columns.isin(['Gender', 'Salary_mean'])]\n",
    "y = df['Salary_mean']\n",
    "sensitive = df['Gender']\n",
    "utils.discrimination(y, sensitive)"
   ],
   "metadata": {
    "collapsed": false,
    "pycharm": {
     "name": "#%%\n"
    }
   }
  },
  {
   "cell_type": "code",
   "execution_count": 6,
   "outputs": [
    {
     "name": "stdout",
     "output_type": "stream",
     "text": [
      "23 82 106 155\n"
     ]
    },
    {
     "data": {
      "text/plain": "0.31205112598904444"
     },
     "execution_count": 6,
     "metadata": {},
     "output_type": "execute_result"
    }
   ],
   "source": [
    "for i in range(0,len(df)):\n",
    "    if df.at[i, \"Gender\"] == 1:\n",
    "        df.at[i, \"Gender\"] = 0\n",
    "    else:\n",
    "        df.at[i, \"Gender\"] = 1\n",
    "utils.discrimination(y, sensitive)"
   ],
   "metadata": {
    "collapsed": false,
    "pycharm": {
     "name": "#%%\n"
    }
   }
  },
  {
   "cell_type": "code",
   "execution_count": 7,
   "outputs": [],
   "source": [
    "X_train, X_test, y_train, y_test, sensitive_train, sensitive_test = utils.train_test_split(1, X, y, sensitive)"
   ],
   "metadata": {
    "collapsed": false,
    "pycharm": {
     "name": "#%%\n"
    }
   }
  },
  {
   "cell_type": "code",
   "execution_count": 8,
   "outputs": [
    {
     "name": "stdout",
     "output_type": "stream",
     "text": [
      "[10  9  1 -2 -2  2 -2 -2 -2]\n",
      "9\n",
      "-2\n",
      "1\n",
      "2\n",
      "-2\n",
      "-2\n",
      "-2\n",
      "-2\n"
     ]
    }
   ],
   "source": [
    "from sklearn.tree import DecisionTreeClassifier\n",
    "\n",
    "clf = DecisionTreeClassifier(max_depth=3, random_state=0)\n",
    "clf.fit(X_train, list(y_train))\n",
    "y_pred_train = clf.predict(X_train)\n",
    "print(clf.tree_.feature)\n",
    "id = clf.tree_.children_left[0]\n",
    "print(clf.tree_.feature[id])\n",
    "id = clf.tree_.children_right[0]\n",
    "print(clf.tree_.feature[id])\n",
    "id = clf.tree_.children_left[1]\n",
    "print(clf.tree_.feature[id])\n",
    "id = clf.tree_.children_right[1]\n",
    "print(clf.tree_.feature[id])\n",
    "id = clf.tree_.children_left[2]\n",
    "print(clf.tree_.feature[id])\n",
    "id = clf.tree_.children_right[2]\n",
    "print(clf.tree_.feature[id])\n",
    "id = clf.tree_.children_left[3]\n",
    "print(clf.tree_.feature[id])\n",
    "id = clf.tree_.children_right[3]\n",
    "print(clf.tree_.feature[id])"
   ],
   "metadata": {
    "collapsed": false,
    "pycharm": {
     "name": "#%%\n"
    }
   }
  },
  {
   "cell_type": "code",
   "execution_count": 9,
   "outputs": [
    {
     "data": {
      "text/plain": "[Text(313.875, 285.39000000000004, 'X[10] <= 0.5\\ngini = 0.479\\nsamples = 209\\nvalue = [126, 83]'),\n Text(251.10000000000002, 203.85000000000002, 'X[9] <= 0.5\\ngini = 0.41\\nsamples = 177\\nvalue = [126, 51]'),\n Text(125.55000000000001, 122.31, 'X[1] <= 0.5\\ngini = 0.147\\nsamples = 113\\nvalue = [104, 9]'),\n Text(62.775000000000006, 40.76999999999998, 'gini = 0.0\\nsamples = 52\\nvalue = [52, 0]'),\n Text(188.32500000000002, 40.76999999999998, 'gini = 0.252\\nsamples = 61\\nvalue = [52, 9]'),\n Text(376.65000000000003, 122.31, 'X[2] <= 0.5\\ngini = 0.451\\nsamples = 64\\nvalue = [22, 42]'),\n Text(313.875, 40.76999999999998, 'gini = 0.17\\nsamples = 32\\nvalue = [3, 29]'),\n Text(439.42500000000007, 40.76999999999998, 'gini = 0.482\\nsamples = 32\\nvalue = [19, 13]'),\n Text(376.65000000000003, 203.85000000000002, 'gini = 0.0\\nsamples = 32\\nvalue = [0, 32]')]"
     },
     "execution_count": 9,
     "metadata": {},
     "output_type": "execute_result"
    },
    {
     "data": {
      "text/plain": "<Figure size 648x432 with 1 Axes>",
      "image/png": "[encoded data removed]"
     },
     "metadata": {
      "needs_background": "light"
     },
     "output_type": "display_data"
    }
   ],
   "source": [
    "from sklearn import tree\n",
    "\n",
    "tree.plot_tree(clf)"
   ],
   "metadata": {
    "collapsed": false,
    "pycharm": {
     "name": "#%%\n"
    }
   }
  },
  {
   "cell_type": "code",
   "execution_count": 10,
   "outputs": [],
   "source": [
    "leafs = list()\n",
    "cnt = np.unique(sensitive, return_counts=True)[1]\n",
    "relabeling_sklearn.leafs_to_relabel(clf.tree_, X_train, y_train, sensitive_train, cnt[0], cnt[1], leafs, len(y_train), clf.tree_.feature[0])\n"
   ],
   "metadata": {
    "collapsed": false,
    "pycharm": {
     "name": "#%%\n"
    }
   }
  },
  {
   "cell_type": "code",
   "execution_count": 11,
   "outputs": [
    {
     "name": "stdout",
     "output_type": "stream",
     "text": [
      "Path: ((10, 'left'), (9, 'left'), (1, 'left')) \n",
      "accuracy: -52 \n",
      "discrimination: -0.12519780888618381 \n",
      "ratio: 0.0024076501708881503 \n",
      "contigency: \n",
      "[29, 0]\n",
      "[23, 0]\n",
      "transactions: [0, 1, 3, 6, 7, 10, 11, 12, 13, 15, 17, 20, 23, 26, 27, 28, 29, 31, 32, 36, 37, 39, 48, 49, 50, 53, 54, 57, 58, 59, 60, 63, 64, 65, 66, 68, 70, 71, 73, 75, 78, 79, 81, 82, 83, 85, 86, 87, 89, 90, 98, 110]\n",
      "\n",
      "Path: ((10, 'left'), (9, 'left'), (1, 'right')) \n",
      "accuracy: -43 \n",
      "discrimination: -0.05124771758977481 \n",
      "ratio: 0.0011918073858087166 \n",
      "contigency: \n",
      "[25, 3]\n",
      "[27, 6]\n",
      "transactions: [2, 4, 5, 8, 9, 14, 16, 18, 19, 21, 22, 24, 25, 30, 33, 34, 35, 38, 40, 41, 42, 43, 44, 45, 46, 47, 51, 52, 55, 56, 61, 62, 67, 69, 72, 74, 76, 77, 80, 84, 88, 91, 92, 93, 94, 95, 96, 97, 99, 100, 101, 102, 103, 104, 105, 106, 107, 108, 109, 111, 112]\n",
      "\n",
      "Path: ((10, 'left'), (9, 'right'), (2, 'left')) \n",
      "accuracy: -26 \n",
      "discrimination: -0.12702373706634207 \n",
      "ratio: 0.004885528348705464 \n",
      "contigency: \n",
      "[1, 4]\n",
      "[2, 25]\n",
      "transactions: [113, 114, 115, 116, 117, 118, 119, 120, 121, 122, 124, 125, 128, 130, 135, 137, 139, 141, 142, 144, 145, 146, 148, 149, 151, 152, 154, 157, 159, 169, 171, 173]\n",
      "\n",
      "Path: ((10, 'left'), (9, 'right'), (2, 'right')) \n",
      "accuracy: -6 \n",
      "discrimination: -0.06360316494217894 \n",
      "ratio: 0.010600527490363157 \n",
      "contigency: \n",
      "[12, 5]\n",
      "[7, 8]\n",
      "transactions: [123, 126, 127, 129, 131, 132, 133, 134, 136, 138, 140, 143, 147, 150, 153, 155, 156, 158, 160, 161, 162, 163, 164, 165, 166, 167, 168, 170, 172, 174, 175, 176]\n",
      "\n",
      "Path: ((10, 'right'),) \n",
      "accuracy: -32 \n",
      "discrimination: -0.12702373706634207 \n",
      "ratio: 0.00396949178332319 \n",
      "contigency: \n",
      "[0, 5]\n",
      "[0, 27]\n",
      "transactions: [177, 178, 179, 180, 181, 182, 183, 184, 185, 186, 187, 188, 189, 190, 191, 192, 193, 194, 195, 196, 197, 198, 199, 200, 201, 202, 203, 204, 205, 206, 207, 208]\n",
      "\n"
     ]
    }
   ],
   "source": [
    "for leaf in leafs:\n",
    "    print(leaf)\n",
    "    print()"
   ],
   "metadata": {
    "collapsed": false,
    "pycharm": {
     "name": "#%%\n"
    }
   }
  },
  {
   "cell_type": "code",
   "execution_count": 12,
   "outputs": [
    {
     "name": "stdout",
     "output_type": "stream",
     "text": [
      "0.23057142857142854\n",
      "0.07409523809523805\n",
      "-0.08238095238095244\n",
      "\n",
      "Path: ((10, 'left'), (9, 'right'), (2, 'right')) \n",
      "accuracy: -6 \n",
      "discrimination: -0.08238095238095239 \n",
      "ratio: 0.013730158730158731 \n",
      "contigency: \n",
      "[12, 5]\n",
      "[7, 8]\n",
      "transactions: [123, 126, 127, 129, 131, 132, 133, 134, 136, 138, 140, 143, 147, 150, 153, 155, 156, 158, 160, 161, 162, 163, 164, 165, 166, 167, 168, 170, 172, 174, 175, 176]\n",
      "\n",
      "Path: ((10, 'right'),) \n",
      "accuracy: -32 \n",
      "discrimination: -0.1564761904761905 \n",
      "ratio: 0.004889880952380953 \n",
      "contigency: \n",
      "[0, 5]\n",
      "[0, 27]\n",
      "transactions: [177, 178, 179, 180, 181, 182, 183, 184, 185, 186, 187, 188, 189, 190, 191, 192, 193, 194, 195, 196, 197, 198, 199, 200, 201, 202, 203, 204, 205, 206, 207, 208]\n",
      "\n",
      "Path: ((10, 'left'), (9, 'right'), (2, 'left')) \n",
      "accuracy: -26 \n",
      "discrimination: -0.1564761904761905 \n",
      "ratio: 0.0060183150183150185 \n",
      "contigency: \n",
      "[1, 4]\n",
      "[2, 25]\n",
      "transactions: [113, 114, 115, 116, 117, 118, 119, 120, 121, 122, 124, 125, 128, 130, 135, 137, 139, 141, 142, 144, 145, 146, 148, 149, 151, 152, 154, 157, 159, 169, 171, 173]\n",
      "\n"
     ]
    }
   ],
   "source": [
    "leafs_relab = relabeling_sklearn.relab(clf.tree_, X_train, y_train, y_pred_train, sensitive_train, 0)\n",
    "print()\n",
    "for l in leafs_relab:\n",
    "    print(l)\n",
    "    print()"
   ],
   "metadata": {
    "collapsed": false,
    "pycharm": {
     "name": "#%%\n"
    }
   }
  },
  {
   "cell_type": "code",
   "execution_count": 13,
   "outputs": [
    {
     "name": "stdout",
     "output_type": "stream",
     "text": [
      "3\n"
     ]
    },
    {
     "ename": "TypeError",
     "evalue": "'sklearn.tree._tree.Tree' object is not subscriptable",
     "output_type": "error",
     "traceback": [
      "\u001B[0;31m---------------------------------------------------------------------------\u001B[0m",
      "\u001B[0;31mTypeError\u001B[0m                                 Traceback (most recent call last)",
      "\u001B[0;32m/tmp/ipykernel_74499/3879492362.py\u001B[0m in \u001B[0;36m<module>\u001B[0;34m\u001B[0m\n\u001B[1;32m      1\u001B[0m \u001B[0mprint\u001B[0m\u001B[0;34m(\u001B[0m\u001B[0mlen\u001B[0m\u001B[0;34m(\u001B[0m\u001B[0mleafs_relab\u001B[0m\u001B[0;34m)\u001B[0m\u001B[0;34m)\u001B[0m\u001B[0;34m\u001B[0m\u001B[0;34m\u001B[0m\u001B[0m\n\u001B[1;32m      2\u001B[0m \u001B[0;32mfor\u001B[0m \u001B[0mleaf\u001B[0m \u001B[0;32min\u001B[0m \u001B[0mleafs_relab\u001B[0m\u001B[0;34m:\u001B[0m\u001B[0;34m\u001B[0m\u001B[0;34m\u001B[0m\u001B[0m\n\u001B[0;32m----> 3\u001B[0;31m     \u001B[0mrelabeling\u001B[0m\u001B[0;34m.\u001B[0m\u001B[0mbrowse_and_relab\u001B[0m\u001B[0;34m(\u001B[0m\u001B[0mclf\u001B[0m\u001B[0;34m.\u001B[0m\u001B[0mtree_\u001B[0m\u001B[0;34m,\u001B[0m \u001B[0mlist\u001B[0m\u001B[0;34m(\u001B[0m\u001B[0mleaf\u001B[0m\u001B[0;34m.\u001B[0m\u001B[0mpath\u001B[0m\u001B[0;34m)\u001B[0m\u001B[0;34m)\u001B[0m\u001B[0;34m\u001B[0m\u001B[0;34m\u001B[0m\u001B[0m\n\u001B[0m\u001B[1;32m      4\u001B[0m \u001B[0mclf\u001B[0m\u001B[0;34m.\u001B[0m\u001B[0mtree_\u001B[0m\u001B[0;34m\u001B[0m\u001B[0;34m\u001B[0m\u001B[0m\n",
      "\u001B[0;32m~/MEGA/MEGAsync/Master's thesis/Masters-thesis_How-to-find-Decision-Trees-that-are-Optimal/MyCode/relabeling.py\u001B[0m in \u001B[0;36mbrowse_and_relab\u001B[0;34m(tree, path)\u001B[0m\n\u001B[1;32m    164\u001B[0m     \u001B[0;32mif\u001B[0m \u001B[0mpath\u001B[0m\u001B[0;34m:\u001B[0m\u001B[0;34m\u001B[0m\u001B[0;34m\u001B[0m\u001B[0m\n\u001B[1;32m    165\u001B[0m         \u001B[0mp\u001B[0m \u001B[0;34m=\u001B[0m \u001B[0mpath\u001B[0m\u001B[0;34m.\u001B[0m\u001B[0mpop\u001B[0m\u001B[0;34m(\u001B[0m\u001B[0;36m0\u001B[0m\u001B[0;34m)\u001B[0m\u001B[0;34m[\u001B[0m\u001B[0;36m1\u001B[0m\u001B[0;34m]\u001B[0m\u001B[0;34m\u001B[0m\u001B[0;34m\u001B[0m\u001B[0m\n\u001B[0;32m--> 166\u001B[0;31m         \u001B[0mbrowse_and_relab\u001B[0m\u001B[0;34m(\u001B[0m\u001B[0mtree\u001B[0m\u001B[0;34m[\u001B[0m\u001B[0mp\u001B[0m\u001B[0;34m]\u001B[0m\u001B[0;34m,\u001B[0m \u001B[0mpath\u001B[0m\u001B[0;34m)\u001B[0m\u001B[0;34m\u001B[0m\u001B[0;34m\u001B[0m\u001B[0m\n\u001B[0m\u001B[1;32m    167\u001B[0m     \u001B[0;32melse\u001B[0m\u001B[0;34m:\u001B[0m\u001B[0;34m\u001B[0m\u001B[0;34m\u001B[0m\u001B[0m\n\u001B[1;32m    168\u001B[0m         \u001B[0;32mif\u001B[0m \u001B[0mtree\u001B[0m\u001B[0;34m[\u001B[0m\u001B[0;34m'value'\u001B[0m\u001B[0;34m]\u001B[0m \u001B[0;34m==\u001B[0m \u001B[0;36m1\u001B[0m\u001B[0;34m:\u001B[0m\u001B[0;34m\u001B[0m\u001B[0;34m\u001B[0m\u001B[0m\n",
      "\u001B[0;31mTypeError\u001B[0m: 'sklearn.tree._tree.Tree' object is not subscriptable"
     ]
    }
   ],
   "source": [
    "print(len(leafs_relab))\n",
    "for leaf in leafs_relab:\n",
    "    relabeling.browse_and_relab(clf.tree_, list(leaf.path))\n",
    "clf.tree_"
   ],
   "metadata": {
    "collapsed": false,
    "pycharm": {
     "name": "#%%\n"
    }
   }
  }
 ],
 "metadata": {
  "kernelspec": {
   "display_name": "Python 3",
   "language": "python",
   "name": "python3"
  },
  "language_info": {
   "codemirror_mode": {
    "name": "ipython",
    "version": 2
   },
   "file_extension": ".py",
   "mimetype": "text/x-python",
   "name": "python",
   "nbconvert_exporter": "python",
   "pygments_lexer": "ipython2",
   "version": "2.7.6"
  }
 },
 "nbformat": 4,
 "nbformat_minor": 0
}