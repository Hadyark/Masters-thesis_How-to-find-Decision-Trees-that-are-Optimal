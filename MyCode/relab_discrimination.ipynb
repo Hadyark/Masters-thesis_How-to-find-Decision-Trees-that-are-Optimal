{
 "cells": [
  {
   "cell_type": "code",
   "execution_count": 25,
   "metadata": {
    "collapsed": false,
    "pycharm": {
     "name": "#%%\n"
    }
   },
   "outputs": [],
   "source": [
    "import pandas\n",
    "from scipy.io import arff\n",
    "import numpy as np\n",
    "from sklearn.metrics import confusion_matrix\n",
    "from sklearn.model_selection import train_test_split\n",
    "from sklearn.metrics import accuracy_score\n",
    "import time\n",
    "from dl85 import DL85Predictor\n",
    "from dl85 import DL85Classifier\n",
    "import pandas as pd\n",
    "from sklearn.preprocessing import OneHotEncoder\n",
    "import matplotlib.pyplot as plt\n",
    "import numpy as np\n",
    "import MyCode.utils as utils\n",
    "import graphviz\n"
   ]
  },
  {
   "cell_type": "code",
   "execution_count": 26,
   "outputs": [
    {
     "data": {
      "text/plain": "      0    1  Class  Sensitive\n0   0.0  0.0    0.0        0.0\n1   0.0  0.0    0.0        0.0\n2   0.0  0.0    0.0        0.0\n3   0.0  0.0    0.0        0.0\n4   0.0  0.0    0.0        0.0\n5   0.0  1.0    0.0        0.0\n6   0.0  1.0    0.0        1.0\n7   0.0  1.0    0.0        1.0\n8   0.0  1.0    1.0        1.0\n9   0.0  1.0    1.0        1.0\n10  1.0  0.0    0.0        1.0\n11  1.0  0.0    0.0        0.0\n12  1.0  0.0    1.0        0.0\n13  1.0  0.0    1.0        0.0\n14  1.0  0.0    1.0        0.0\n15  1.0  1.0    1.0        0.0\n16  1.0  1.0    1.0        0.0\n17  1.0  1.0    1.0        0.0\n18  1.0  1.0    1.0        1.0\n19  1.0  1.0    1.0        1.0",
      "text/html": "<div>\n<style scoped>\n    .dataframe tbody tr th:only-of-type {\n        vertical-align: middle;\n    }\n\n    .dataframe tbody tr th {\n        vertical-align: top;\n    }\n\n    .dataframe thead th {\n        text-align: right;\n    }\n</style>\n<table border=\"1\" class=\"dataframe\">\n  <thead>\n    <tr style=\"text-align: right;\">\n      <th></th>\n      <th>0</th>\n      <th>1</th>\n      <th>Class</th>\n      <th>Sensitive</th>\n    </tr>\n  </thead>\n  <tbody>\n    <tr>\n      <th>0</th>\n      <td>0.0</td>\n      <td>0.0</td>\n      <td>0.0</td>\n      <td>0.0</td>\n    </tr>\n    <tr>\n      <th>1</th>\n      <td>0.0</td>\n      <td>0.0</td>\n      <td>0.0</td>\n      <td>0.0</td>\n    </tr>\n    <tr>\n      <th>2</th>\n      <td>0.0</td>\n      <td>0.0</td>\n      <td>0.0</td>\n      <td>0.0</td>\n    </tr>\n    <tr>\n      <th>3</th>\n      <td>0.0</td>\n      <td>0.0</td>\n      <td>0.0</td>\n      <td>0.0</td>\n    </tr>\n    <tr>\n      <th>4</th>\n      <td>0.0</td>\n      <td>0.0</td>\n      <td>0.0</td>\n      <td>0.0</td>\n    </tr>\n    <tr>\n      <th>5</th>\n      <td>0.0</td>\n      <td>1.0</td>\n      <td>0.0</td>\n      <td>0.0</td>\n    </tr>\n    <tr>\n      <th>6</th>\n      <td>0.0</td>\n      <td>1.0</td>\n      <td>0.0</td>\n      <td>1.0</td>\n    </tr>\n    <tr>\n      <th>7</th>\n      <td>0.0</td>\n      <td>1.0</td>\n      <td>0.0</td>\n      <td>1.0</td>\n    </tr>\n    <tr>\n      <th>8</th>\n      <td>0.0</td>\n      <td>1.0</td>\n      <td>1.0</td>\n      <td>1.0</td>\n    </tr>\n    <tr>\n      <th>9</th>\n      <td>0.0</td>\n      <td>1.0</td>\n      <td>1.0</td>\n      <td>1.0</td>\n    </tr>\n    <tr>\n      <th>10</th>\n      <td>1.0</td>\n      <td>0.0</td>\n      <td>0.0</td>\n      <td>1.0</td>\n    </tr>\n    <tr>\n      <th>11</th>\n      <td>1.0</td>\n      <td>0.0</td>\n      <td>0.0</td>\n      <td>0.0</td>\n    </tr>\n    <tr>\n      <th>12</th>\n      <td>1.0</td>\n      <td>0.0</td>\n      <td>1.0</td>\n      <td>0.0</td>\n    </tr>\n    <tr>\n      <th>13</th>\n      <td>1.0</td>\n      <td>0.0</td>\n      <td>1.0</td>\n      <td>0.0</td>\n    </tr>\n    <tr>\n      <th>14</th>\n      <td>1.0</td>\n      <td>0.0</td>\n      <td>1.0</td>\n      <td>0.0</td>\n    </tr>\n    <tr>\n      <th>15</th>\n      <td>1.0</td>\n      <td>1.0</td>\n      <td>1.0</td>\n      <td>0.0</td>\n    </tr>\n    <tr>\n      <th>16</th>\n      <td>1.0</td>\n      <td>1.0</td>\n      <td>1.0</td>\n      <td>0.0</td>\n    </tr>\n    <tr>\n      <th>17</th>\n      <td>1.0</td>\n      <td>1.0</td>\n      <td>1.0</td>\n      <td>0.0</td>\n    </tr>\n    <tr>\n      <th>18</th>\n      <td>1.0</td>\n      <td>1.0</td>\n      <td>1.0</td>\n      <td>1.0</td>\n    </tr>\n    <tr>\n      <th>19</th>\n      <td>1.0</td>\n      <td>1.0</td>\n      <td>1.0</td>\n      <td>1.0</td>\n    </tr>\n  </tbody>\n</table>\n</div>"
     },
     "execution_count": 26,
     "metadata": {},
     "output_type": "execute_result"
    }
   ],
   "source": [
    "pd.set_option('max_columns', None)\n",
    "FILE_NAME = \"relab_Lawsuit\"\n",
    "\n",
    "\"\"\"\n",
    "dataset = np.genfromtxt(\"datasets/anneal.txt\", delimiter=' ')\n",
    "X, y = dataset[:, 1:], dataset[:, 0]\n",
    "\n",
    "\"\"\"\n",
    "col1        = np.array([0.0] * 10 + [1.0] * 0 + [0.0] * 0 + [1.0] * 10).reshape(-1,1)\n",
    "col2        = np.array([0.0] * 5 + [1.0] * 5 + [0.0] * 5 + [1.0] * 5).reshape(-1,1)\n",
    "X           = np.array([0.0] * 10 + [1.0] * 0 + [0.0] * 0 + [1.0] * 10)\n",
    "X           = np.concatenate( (col1, col2), axis = 1)\n",
    "\n",
    "y           = np.array([0.0] * 8 + [1.0] * 2 + [0.0] * 2 + [1.0] * 8)\n",
    "sensitive   = np.array([0.0] * 6 + [1.0] * 5 + [0.0] * 7 + [1.0] * 2)\n",
    "#X_train,y_train = X, y\n",
    "\n",
    "#DATAFRAME\n",
    "df = pd.DataFrame(X)\n",
    "df['Class'] = y.tolist()\n",
    "df['Sensitive'] = sensitive.tolist()\n",
    "df"
   ],
   "metadata": {
    "collapsed": false,
    "pycharm": {
     "name": "#%%\n"
    }
   }
  },
  {
   "cell_type": "code",
   "execution_count": 27,
   "outputs": [],
   "source": [
    "X = df.loc[:, ~df.columns.isin(['Class', 'Sensitive'])]\n",
    "y = df['Class']\n",
    "sensitive = df['Sensitive']"
   ],
   "metadata": {
    "collapsed": false,
    "pycharm": {
     "name": "#%%\n"
    }
   }
  },
  {
   "cell_type": "code",
   "execution_count": 28,
   "outputs": [],
   "source": [
    "X_train, X_test, y_train, y_test, sensitive_train, sensitive_test = utils.train_test_split(1, X, y, sensitive)"
   ],
   "metadata": {
    "collapsed": false,
    "pycharm": {
     "name": "#%%\n"
    }
   }
  },
  {
   "cell_type": "code",
   "execution_count": 29,
   "outputs": [
    {
     "data": {
      "image/svg+xml": "<?xml version=\"1.0\" encoding=\"UTF-8\" standalone=\"no\"?>\n<!DOCTYPE svg PUBLIC \"-//W3C//DTD SVG 1.1//EN\"\n \"http://www.w3.org/Graphics/SVG/1.1/DTD/svg11.dtd\">\n<!-- Generated by graphviz version 2.43.0 (0)\n -->\n<!-- Title: Tree Pages: 1 -->\n<svg width=\"728pt\" height=\"237pt\"\n viewBox=\"0.00 0.00 728.00 237.00\" xmlns=\"http://www.w3.org/2000/svg\" xmlns:xlink=\"http://www.w3.org/1999/xlink\">\n<g id=\"graph0\" class=\"graph\" transform=\"scale(1 1) rotate(0) translate(4 233)\">\n<title>Tree</title>\n<polygon fill=\"white\" stroke=\"transparent\" points=\"-4,4 -4,-233 724,-233 724,4 -4,4\"/>\n<!-- node_2bb33871_73bd_4602_949c_a9fffd32ab58 -->\n<g id=\"node1\" class=\"node\">\n<title>node_2bb33871_73bd_4602_949c_a9fffd32ab58</title>\n<polygon fill=\"none\" stroke=\"black\" points=\"336.5,-192.5 336.5,-228.5 406.5,-228.5 406.5,-192.5 336.5,-192.5\"/>\n<text text-anchor=\"middle\" x=\"358.5\" y=\"-206.8\" font-family=\"Times,serif\" font-size=\"14.00\">feat</text>\n<polyline fill=\"none\" stroke=\"black\" points=\"380.5,-192.5 380.5,-228.5 \"/>\n<text text-anchor=\"middle\" x=\"393.5\" y=\"-206.8\" font-family=\"Times,serif\" font-size=\"14.00\">0</text>\n</g>\n<!-- node_8134bc53_227b_467f_a3e7_cf4c1f5adc5f -->\n<g id=\"node2\" class=\"node\">\n<title>node_8134bc53_227b_467f_a3e7_cf4c1f5adc5f</title>\n<polygon fill=\"none\" stroke=\"black\" points=\"243.5,-124.5 243.5,-160.5 313.5,-160.5 313.5,-124.5 243.5,-124.5\"/>\n<text text-anchor=\"middle\" x=\"265.5\" y=\"-138.8\" font-family=\"Times,serif\" font-size=\"14.00\">feat</text>\n<polyline fill=\"none\" stroke=\"black\" points=\"287.5,-124.5 287.5,-160.5 \"/>\n<text text-anchor=\"middle\" x=\"300.5\" y=\"-138.8\" font-family=\"Times,serif\" font-size=\"14.00\">1</text>\n</g>\n<!-- node_2bb33871_73bd_4602_949c_a9fffd32ab58&#45;&gt;node_8134bc53_227b_467f_a3e7_cf4c1f5adc5f -->\n<g id=\"edge1\" class=\"edge\">\n<title>node_2bb33871_73bd_4602_949c_a9fffd32ab58&#45;&gt;node_8134bc53_227b_467f_a3e7_cf4c1f5adc5f</title>\n<path fill=\"none\" stroke=\"black\" d=\"M347.07,-192.16C336.07,-184.35 322.92,-175.02 311.1,-166.63\"/>\n<polygon fill=\"black\" stroke=\"black\" points=\"312.95,-163.66 302.77,-160.72 308.9,-169.37 312.95,-163.66\"/>\n<text text-anchor=\"middle\" x=\"338.5\" y=\"-172.8\" font-family=\"Times,serif\" font-size=\"14.00\">1</text>\n</g>\n<!-- node_ee561b4b_749b_440e_8353_8d585c296154 -->\n<g id=\"node5\" class=\"node\">\n<title>node_ee561b4b_749b_440e_8353_8d585c296154</title>\n<polygon fill=\"none\" stroke=\"black\" points=\"431.5,-124.5 431.5,-160.5 501.5,-160.5 501.5,-124.5 431.5,-124.5\"/>\n<text text-anchor=\"middle\" x=\"453.5\" y=\"-138.8\" font-family=\"Times,serif\" font-size=\"14.00\">feat</text>\n<polyline fill=\"none\" stroke=\"black\" points=\"475.5,-124.5 475.5,-160.5 \"/>\n<text text-anchor=\"middle\" x=\"488.5\" y=\"-138.8\" font-family=\"Times,serif\" font-size=\"14.00\">1</text>\n</g>\n<!-- node_2bb33871_73bd_4602_949c_a9fffd32ab58&#45;&gt;node_ee561b4b_749b_440e_8353_8d585c296154 -->\n<g id=\"edge4\" class=\"edge\">\n<title>node_2bb33871_73bd_4602_949c_a9fffd32ab58&#45;&gt;node_ee561b4b_749b_440e_8353_8d585c296154</title>\n<path fill=\"none\" stroke=\"black\" d=\"M396.46,-192.16C407.7,-184.35 421.12,-175.02 433.2,-166.63\"/>\n<polygon fill=\"black\" stroke=\"black\" points=\"435.49,-169.3 441.71,-160.72 431.5,-163.56 435.49,-169.3\"/>\n<text text-anchor=\"middle\" x=\"433.5\" y=\"-172.8\" font-family=\"Times,serif\" font-size=\"14.00\">0</text>\n</g>\n<!-- leaf_dbb36108_d29e_483a_88d0_ad51e0df88dc -->\n<g id=\"node3\" class=\"node\">\n<title>leaf_dbb36108_d29e_483a_88d0_ad51e0df88dc</title>\n<polygon fill=\"none\" stroke=\"black\" points=\"0,-0.5 0,-92.5 181,-92.5 181,-0.5 0,-0.5\"/>\n<text text-anchor=\"middle\" x=\"51.5\" y=\"-77.3\" font-family=\"Times,serif\" font-size=\"14.00\">class</text>\n<polyline fill=\"none\" stroke=\"black\" points=\"103,-69.5 103,-92.5 \"/>\n<text text-anchor=\"middle\" x=\"142\" y=\"-77.3\" font-family=\"Times,serif\" font-size=\"14.00\">1</text>\n<polyline fill=\"none\" stroke=\"black\" points=\"0,-69.5 181,-69.5 \"/>\n<text text-anchor=\"middle\" x=\"44\" y=\"-54.3\" font-family=\"Times,serif\" font-size=\"14.00\">error</text>\n<polyline fill=\"none\" stroke=\"black\" points=\"88,-46.5 88,-69.5 \"/>\n<text text-anchor=\"middle\" x=\"134.5\" y=\"-54.3\" font-family=\"Times,serif\" font-size=\"14.00\">0.333</text>\n<polyline fill=\"none\" stroke=\"black\" points=\"0,-46.5 181,-46.5 \"/>\n<text text-anchor=\"middle\" x=\"66\" y=\"-31.3\" font-family=\"Times,serif\" font-size=\"14.00\">misclassified</text>\n<polyline fill=\"none\" stroke=\"black\" points=\"132,-23.5 132,-46.5 \"/>\n<text text-anchor=\"middle\" x=\"156.5\" y=\"-31.3\" font-family=\"Times,serif\" font-size=\"14.00\">0</text>\n<polyline fill=\"none\" stroke=\"black\" points=\"0,-23.5 181,-23.5 \"/>\n<text text-anchor=\"middle\" x=\"59.5\" y=\"-8.3\" font-family=\"Times,serif\" font-size=\"14.00\">discrimination</text>\n<polyline fill=\"none\" stroke=\"black\" points=\"119,-0.5 119,-23.5 \"/>\n<text text-anchor=\"middle\" x=\"150\" y=\"-8.3\" font-family=\"Times,serif\" font-size=\"14.00\">&#45;0.033</text>\n</g>\n<!-- node_8134bc53_227b_467f_a3e7_cf4c1f5adc5f&#45;&gt;leaf_dbb36108_d29e_483a_88d0_ad51e0df88dc -->\n<g id=\"edge2\" class=\"edge\">\n<title>node_8134bc53_227b_467f_a3e7_cf4c1f5adc5f&#45;&gt;leaf_dbb36108_d29e_483a_88d0_ad51e0df88dc</title>\n<path fill=\"none\" stroke=\"black\" d=\"M244.45,-124.48C228.86,-116.68 209.48,-106.99 189.79,-97.14\"/>\n<polygon fill=\"black\" stroke=\"black\" points=\"191.24,-93.96 180.73,-92.61 188.11,-100.22 191.24,-93.96\"/>\n<text text-anchor=\"middle\" x=\"228.5\" y=\"-104.8\" font-family=\"Times,serif\" font-size=\"14.00\">1</text>\n</g>\n<!-- leaf_e7e955b8_3e14_43cb_be6e_460bfdf2df00 -->\n<g id=\"node4\" class=\"node\">\n<title>leaf_e7e955b8_3e14_43cb_be6e_460bfdf2df00</title>\n<polygon fill=\"none\" stroke=\"black\" points=\"199.5,-0.5 199.5,-92.5 357.5,-92.5 357.5,-0.5 199.5,-0.5\"/>\n<text text-anchor=\"middle\" x=\"245.5\" y=\"-77.3\" font-family=\"Times,serif\" font-size=\"14.00\">class</text>\n<polyline fill=\"none\" stroke=\"black\" points=\"291.5,-69.5 291.5,-92.5 \"/>\n<text text-anchor=\"middle\" x=\"324.5\" y=\"-77.3\" font-family=\"Times,serif\" font-size=\"14.00\">1</text>\n<polyline fill=\"none\" stroke=\"black\" points=\"199.5,-69.5 357.5,-69.5 \"/>\n<text text-anchor=\"middle\" x=\"245.5\" y=\"-54.3\" font-family=\"Times,serif\" font-size=\"14.00\">error</text>\n<polyline fill=\"none\" stroke=\"black\" points=\"291.5,-46.5 291.5,-69.5 \"/>\n<text text-anchor=\"middle\" x=\"324.5\" y=\"-54.3\" font-family=\"Times,serif\" font-size=\"14.00\">3</text>\n<polyline fill=\"none\" stroke=\"black\" points=\"199.5,-46.5 357.5,-46.5 \"/>\n<text text-anchor=\"middle\" x=\"259.5\" y=\"-31.3\" font-family=\"Times,serif\" font-size=\"14.00\">misclassified</text>\n<polyline fill=\"none\" stroke=\"black\" points=\"319.5,-23.5 319.5,-46.5 \"/>\n<text text-anchor=\"middle\" x=\"338.5\" y=\"-31.3\" font-family=\"Times,serif\" font-size=\"14.00\">1</text>\n<polyline fill=\"none\" stroke=\"black\" points=\"199.5,-23.5 357.5,-23.5 \"/>\n<text text-anchor=\"middle\" x=\"259\" y=\"-8.3\" font-family=\"Times,serif\" font-size=\"14.00\">discrimination</text>\n<polyline fill=\"none\" stroke=\"black\" points=\"318.5,-0.5 318.5,-23.5 \"/>\n<text text-anchor=\"middle\" x=\"338\" y=\"-8.3\" font-family=\"Times,serif\" font-size=\"14.00\">0.2</text>\n</g>\n<!-- node_8134bc53_227b_467f_a3e7_cf4c1f5adc5f&#45;&gt;leaf_e7e955b8_3e14_43cb_be6e_460bfdf2df00 -->\n<g id=\"edge3\" class=\"edge\">\n<title>node_8134bc53_227b_467f_a3e7_cf4c1f5adc5f&#45;&gt;leaf_e7e955b8_3e14_43cb_be6e_460bfdf2df00</title>\n<path fill=\"none\" stroke=\"black\" d=\"M278.5,-124.26C278.5,-118.07 278.5,-110.71 278.5,-103.03\"/>\n<polygon fill=\"black\" stroke=\"black\" points=\"282,-102.83 278.5,-92.83 275,-102.83 282,-102.83\"/>\n<text text-anchor=\"middle\" x=\"283.5\" y=\"-104.8\" font-family=\"Times,serif\" font-size=\"14.00\">0</text>\n</g>\n<!-- leaf_1a1b2009_4230_4c4e_9709_0467a602a37e -->\n<g id=\"node6\" class=\"node\">\n<title>leaf_1a1b2009_4230_4c4e_9709_0467a602a37e</title>\n<polygon fill=\"none\" stroke=\"black\" points=\"376,-0.5 376,-92.5 557,-92.5 557,-0.5 376,-0.5\"/>\n<text text-anchor=\"middle\" x=\"427.5\" y=\"-77.3\" font-family=\"Times,serif\" font-size=\"14.00\">class</text>\n<polyline fill=\"none\" stroke=\"black\" points=\"479,-69.5 479,-92.5 \"/>\n<text text-anchor=\"middle\" x=\"518\" y=\"-77.3\" font-family=\"Times,serif\" font-size=\"14.00\">0</text>\n<polyline fill=\"none\" stroke=\"black\" points=\"376,-69.5 557,-69.5 \"/>\n<text text-anchor=\"middle\" x=\"420\" y=\"-54.3\" font-family=\"Times,serif\" font-size=\"14.00\">error</text>\n<polyline fill=\"none\" stroke=\"black\" points=\"464,-46.5 464,-69.5 \"/>\n<text text-anchor=\"middle\" x=\"510.5\" y=\"-54.3\" font-family=\"Times,serif\" font-size=\"14.00\">2.667</text>\n<polyline fill=\"none\" stroke=\"black\" points=\"376,-46.5 557,-46.5 \"/>\n<text text-anchor=\"middle\" x=\"442\" y=\"-31.3\" font-family=\"Times,serif\" font-size=\"14.00\">misclassified</text>\n<polyline fill=\"none\" stroke=\"black\" points=\"508,-23.5 508,-46.5 \"/>\n<text text-anchor=\"middle\" x=\"532.5\" y=\"-31.3\" font-family=\"Times,serif\" font-size=\"14.00\">1</text>\n<polyline fill=\"none\" stroke=\"black\" points=\"376,-23.5 557,-23.5 \"/>\n<text text-anchor=\"middle\" x=\"435.5\" y=\"-8.3\" font-family=\"Times,serif\" font-size=\"14.00\">discrimination</text>\n<polyline fill=\"none\" stroke=\"black\" points=\"495,-0.5 495,-23.5 \"/>\n<text text-anchor=\"middle\" x=\"526\" y=\"-8.3\" font-family=\"Times,serif\" font-size=\"14.00\">&#45;0.167</text>\n</g>\n<!-- node_ee561b4b_749b_440e_8353_8d585c296154&#45;&gt;leaf_1a1b2009_4230_4c4e_9709_0467a602a37e -->\n<g id=\"edge5\" class=\"edge\">\n<title>node_ee561b4b_749b_440e_8353_8d585c296154&#45;&gt;leaf_1a1b2009_4230_4c4e_9709_0467a602a37e</title>\n<path fill=\"none\" stroke=\"black\" d=\"M466.5,-124.26C466.5,-118.07 466.5,-110.71 466.5,-103.03\"/>\n<polygon fill=\"black\" stroke=\"black\" points=\"470,-102.83 466.5,-92.83 463,-102.83 470,-102.83\"/>\n<text text-anchor=\"middle\" x=\"471.5\" y=\"-104.8\" font-family=\"Times,serif\" font-size=\"14.00\">1</text>\n</g>\n<!-- leaf_72a65cfc_8cd5_4f99_8045_88a6e33477ad -->\n<g id=\"node7\" class=\"node\">\n<title>leaf_72a65cfc_8cd5_4f99_8045_88a6e33477ad</title>\n<polygon fill=\"none\" stroke=\"black\" points=\"575,-0.5 575,-92.5 720,-92.5 720,-0.5 575,-0.5\"/>\n<text text-anchor=\"middle\" x=\"617.5\" y=\"-77.3\" font-family=\"Times,serif\" font-size=\"14.00\">class</text>\n<polyline fill=\"none\" stroke=\"black\" points=\"660,-69.5 660,-92.5 \"/>\n<text text-anchor=\"middle\" x=\"690\" y=\"-77.3\" font-family=\"Times,serif\" font-size=\"14.00\">0</text>\n<polyline fill=\"none\" stroke=\"black\" points=\"575,-69.5 720,-69.5 \"/>\n<text text-anchor=\"middle\" x=\"618\" y=\"-54.3\" font-family=\"Times,serif\" font-size=\"14.00\">error</text>\n<polyline fill=\"none\" stroke=\"black\" points=\"661,-46.5 661,-69.5 \"/>\n<text text-anchor=\"middle\" x=\"690.5\" y=\"-54.3\" font-family=\"Times,serif\" font-size=\"14.00\">0</text>\n<polyline fill=\"none\" stroke=\"black\" points=\"575,-46.5 720,-46.5 \"/>\n<text text-anchor=\"middle\" x=\"632\" y=\"-31.3\" font-family=\"Times,serif\" font-size=\"14.00\">misclassified</text>\n<polyline fill=\"none\" stroke=\"black\" points=\"689,-23.5 689,-46.5 \"/>\n<text text-anchor=\"middle\" x=\"704.5\" y=\"-31.3\" font-family=\"Times,serif\" font-size=\"14.00\">0</text>\n<polyline fill=\"none\" stroke=\"black\" points=\"575,-23.5 720,-23.5 \"/>\n<text text-anchor=\"middle\" x=\"634.5\" y=\"-8.3\" font-family=\"Times,serif\" font-size=\"14.00\">discrimination</text>\n<polyline fill=\"none\" stroke=\"black\" points=\"694,-0.5 694,-23.5 \"/>\n<text text-anchor=\"middle\" x=\"707\" y=\"-8.3\" font-family=\"Times,serif\" font-size=\"14.00\">0</text>\n</g>\n<!-- node_ee561b4b_749b_440e_8353_8d585c296154&#45;&gt;leaf_72a65cfc_8cd5_4f99_8045_88a6e33477ad -->\n<g id=\"edge6\" class=\"edge\">\n<title>node_ee561b4b_749b_440e_8353_8d585c296154&#45;&gt;leaf_72a65cfc_8cd5_4f99_8045_88a6e33477ad</title>\n<path fill=\"none\" stroke=\"black\" d=\"M501.54,-124.87C520.58,-115.7 544.46,-103.98 565.5,-93 565.59,-92.95 565.69,-92.9 565.78,-92.85\"/>\n<polygon fill=\"black\" stroke=\"black\" points=\"567.52,-95.89 574.73,-88.13 564.25,-89.7 567.52,-95.89\"/>\n<text text-anchor=\"middle\" x=\"554.5\" y=\"-104.8\" font-family=\"Times,serif\" font-size=\"14.00\">0</text>\n</g>\n</g>\n</svg>\n",
      "text/plain": "<graphviz.sources.Source at 0x7fd3b2481880>"
     },
     "execution_count": 29,
     "metadata": {},
     "output_type": "execute_result"
    }
   ],
   "source": [
    "clf = DL85Classifier(max_depth=3, error_function=lambda tids: utils.error(list(tids), 10, y_train, sensitive_train), min_sup=1, time_limit=600)\n",
    "clf = DL85Classifier(max_depth=3, error_function=lambda tids: utils.misclassified(list(tids), y), min_sup=1, time_limit=600)\n",
    "clf.fit(X_train, list(y_train))\n",
    "utils.tree_upgrade(clf.tree_, y_train, sensitive_train)\n",
    "\n",
    "dot = utils.export_graphviz(clf)\n",
    "graph = graphviz.Source(dot, format=\"png\")\n",
    "graph.render(\"plots/\"+FILE_NAME+\"tree\")\n",
    "graphviz.Source(dot)"
   ],
   "metadata": {
    "collapsed": false,
    "pycharm": {
     "name": "#%%\n"
    }
   }
  },
  {
   "cell_type": "code",
   "execution_count": 30,
   "outputs": [
    {
     "name": "stdout",
     "output_type": "stream",
     "text": [
      "Discrimination of classifier on train 0.0\n"
     ]
    }
   ],
   "source": [
    "y_pred_train = clf.predict(X_train)\n",
    "discrimation_train = round(utils.discrimination(y_pred_train, sensitive_train), 4)\n",
    "print(\"Discrimination of classifier on train\", round(utils.discrimination(sensitive_train, y_pred_train), 4))"
   ],
   "metadata": {
    "collapsed": false,
    "pycharm": {
     "name": "#%%\n"
    }
   }
  },
  {
   "cell_type": "code",
   "execution_count": 31,
   "outputs": [],
   "source": [
    "from pprint import pprint\n",
    "\n",
    "#pprint(clf.tree_)"
   ],
   "metadata": {
    "collapsed": false,
    "pycharm": {
     "name": "#%%\n"
    }
   }
  },
  {
   "cell_type": "code",
   "execution_count": 32,
   "outputs": [],
   "source": [
    "result2 = pd.DataFrame(X_train, columns = X.columns)\n",
    "result2[\"Class\"] = y_train\n",
    "result2[\"Sensitive\"] = sensitive_train\n",
    "result2[\"Pred\"] = y_pred_train"
   ],
   "metadata": {
    "collapsed": false,
    "pycharm": {
     "name": "#%%\n"
    }
   }
  },
  {
   "cell_type": "code",
   "execution_count": 33,
   "outputs": [
    {
     "data": {
      "text/plain": "      0    1  Class  Sensitive  Pred\n0   0.0  0.0    0.0        0.0     0\n1   0.0  0.0    0.0        0.0     0\n2   0.0  0.0    0.0        0.0     0\n3   0.0  0.0    0.0        0.0     0\n4   0.0  0.0    0.0        0.0     0\n5   0.0  1.0    0.0        1.0     0\n6   0.0  1.0    0.0        1.0     0\n7   0.0  1.0    1.0        1.0     0\n8   1.0  0.0    0.0        1.0     1\n9   1.0  0.0    1.0        0.0     1\n10  1.0  0.0    1.0        0.0     1\n11  1.0  1.0    1.0        0.0     1\n12  1.0  1.0    1.0        0.0     1\n13  1.0  1.0    1.0        0.0     1\n14  1.0  1.0    1.0        1.0     1\n15  1.0  1.0    1.0        1.0     1",
      "text/html": "<div>\n<style scoped>\n    .dataframe tbody tr th:only-of-type {\n        vertical-align: middle;\n    }\n\n    .dataframe tbody tr th {\n        vertical-align: top;\n    }\n\n    .dataframe thead th {\n        text-align: right;\n    }\n</style>\n<table border=\"1\" class=\"dataframe\">\n  <thead>\n    <tr style=\"text-align: right;\">\n      <th></th>\n      <th>0</th>\n      <th>1</th>\n      <th>Class</th>\n      <th>Sensitive</th>\n      <th>Pred</th>\n    </tr>\n  </thead>\n  <tbody>\n    <tr>\n      <th>0</th>\n      <td>0.0</td>\n      <td>0.0</td>\n      <td>0.0</td>\n      <td>0.0</td>\n      <td>0</td>\n    </tr>\n    <tr>\n      <th>1</th>\n      <td>0.0</td>\n      <td>0.0</td>\n      <td>0.0</td>\n      <td>0.0</td>\n      <td>0</td>\n    </tr>\n    <tr>\n      <th>2</th>\n      <td>0.0</td>\n      <td>0.0</td>\n      <td>0.0</td>\n      <td>0.0</td>\n      <td>0</td>\n    </tr>\n    <tr>\n      <th>3</th>\n      <td>0.0</td>\n      <td>0.0</td>\n      <td>0.0</td>\n      <td>0.0</td>\n      <td>0</td>\n    </tr>\n    <tr>\n      <th>4</th>\n      <td>0.0</td>\n      <td>0.0</td>\n      <td>0.0</td>\n      <td>0.0</td>\n      <td>0</td>\n    </tr>\n    <tr>\n      <th>5</th>\n      <td>0.0</td>\n      <td>1.0</td>\n      <td>0.0</td>\n      <td>1.0</td>\n      <td>0</td>\n    </tr>\n    <tr>\n      <th>6</th>\n      <td>0.0</td>\n      <td>1.0</td>\n      <td>0.0</td>\n      <td>1.0</td>\n      <td>0</td>\n    </tr>\n    <tr>\n      <th>7</th>\n      <td>0.0</td>\n      <td>1.0</td>\n      <td>1.0</td>\n      <td>1.0</td>\n      <td>0</td>\n    </tr>\n    <tr>\n      <th>8</th>\n      <td>1.0</td>\n      <td>0.0</td>\n      <td>0.0</td>\n      <td>1.0</td>\n      <td>1</td>\n    </tr>\n    <tr>\n      <th>9</th>\n      <td>1.0</td>\n      <td>0.0</td>\n      <td>1.0</td>\n      <td>0.0</td>\n      <td>1</td>\n    </tr>\n    <tr>\n      <th>10</th>\n      <td>1.0</td>\n      <td>0.0</td>\n      <td>1.0</td>\n      <td>0.0</td>\n      <td>1</td>\n    </tr>\n    <tr>\n      <th>11</th>\n      <td>1.0</td>\n      <td>1.0</td>\n      <td>1.0</td>\n      <td>0.0</td>\n      <td>1</td>\n    </tr>\n    <tr>\n      <th>12</th>\n      <td>1.0</td>\n      <td>1.0</td>\n      <td>1.0</td>\n      <td>0.0</td>\n      <td>1</td>\n    </tr>\n    <tr>\n      <th>13</th>\n      <td>1.0</td>\n      <td>1.0</td>\n      <td>1.0</td>\n      <td>0.0</td>\n      <td>1</td>\n    </tr>\n    <tr>\n      <th>14</th>\n      <td>1.0</td>\n      <td>1.0</td>\n      <td>1.0</td>\n      <td>1.0</td>\n      <td>1</td>\n    </tr>\n    <tr>\n      <th>15</th>\n      <td>1.0</td>\n      <td>1.0</td>\n      <td>1.0</td>\n      <td>1.0</td>\n      <td>1</td>\n    </tr>\n  </tbody>\n</table>\n</div>"
     },
     "execution_count": 33,
     "metadata": {},
     "output_type": "execute_result"
    }
   ],
   "source": [
    "result2"
   ],
   "metadata": {
    "collapsed": false,
    "pycharm": {
     "name": "#%%\n"
    }
   }
  },
  {
   "cell_type": "code",
   "execution_count": 34,
   "outputs": [
    {
     "data": {
      "text/plain": "0.0"
     },
     "execution_count": 34,
     "metadata": {},
     "output_type": "execute_result"
    }
   ],
   "source": [
    "def compute_disc_t(dataset):\n",
    "    w2 = len(dataset[(dataset['Sensitive'] == 0) & (dataset['Class'] == 0) & (dataset['Pred'] == 1)])/len(dataset)\n",
    "    x2 = len(dataset[(dataset['Sensitive'] == 0) & (dataset['Class'] == 1) & (dataset['Pred'] == 1)])/len(dataset)\n",
    "    u2 = len(dataset[(dataset['Sensitive'] == 1) & (dataset['Class'] == 0) & (dataset['Pred'] == 1)])/len(dataset)\n",
    "    v2 = len(dataset[(dataset['Sensitive'] == 1) & (dataset['Class'] == 1) & (dataset['Pred'] == 1)])/len(dataset)\n",
    "    b       = len(dataset[(dataset['Sensitive'] == 1)  & (dataset['Class'] == 0)]) + len(dataset[(dataset['Sensitive'] == 1)  & (dataset['Class'] == 1)])/len(dataset)\n",
    "    b_not   = len(dataset[(dataset['Sensitive'] == 0)  & (dataset['Class'] == 0)]) + len(dataset[(dataset['Sensitive'] == 0)  & (dataset['Class'] == 1)])/len(dataset)\n",
    "\n",
    "    \"\"\"\n",
    "    w1 = len(dataset[(dataset['Sensitive'] == 0) & (dataset['Class'] == 0) & (dataset['Pred'] == 0)])/len(dataset)\n",
    "    x1 = len(dataset[(dataset['Sensitive'] == 0) & (dataset['Class'] == 1) & (dataset['Pred'] == 0)])/len(dataset)\n",
    "    u1 = len(dataset[(dataset['Sensitive'] == 1) & (dataset['Class'] == 0) & (dataset['Pred'] == 0)])/len(dataset)\n",
    "    v1 = len(dataset[(dataset['Sensitive'] == 1) & (dataset['Class'] == 1) & (dataset['Pred'] == 0)])/len(dataset)\n",
    "    print(w1+w2+x1+x2+u1+u2+v1+v2)\n",
    "    \"\"\"\n",
    "\n",
    "    return ((w2+x2)/b_not) - ((u2+v2)/b)\n",
    "compute_disc_t(result2)"
   ],
   "metadata": {
    "collapsed": false,
    "pycharm": {
     "name": "#%%\n"
    }
   }
  },
  {
   "cell_type": "code",
   "execution_count": 35,
   "outputs": [
    {
     "data": {
      "text/plain": "0.0"
     },
     "execution_count": 35,
     "metadata": {},
     "output_type": "execute_result"
    }
   ],
   "source": [
    "utils.discrimination(y_pred_train, sensitive_train)"
   ],
   "metadata": {
    "collapsed": false,
    "pycharm": {
     "name": "#%%\n"
    }
   }
  },
  {
   "cell_type": "code",
   "execution_count": 36,
   "outputs": [],
   "source": [
    "class Leaf:\n",
    "    def __init__(self, path, u, v, w, x):\n",
    "        self.path = path\n",
    "        self.acc=None\n",
    "        self.disc=None\n",
    "        self.ratio=None\n",
    "        self.u = u\n",
    "        self.v = v\n",
    "        self.w = w\n",
    "        self.x = x\n",
    "\n",
    "    def accuracy(self, n_one, n_zero):\n",
    "        n = self.u + self.w\n",
    "        p = self.v + self.x\n",
    "        if n<=p :\n",
    "            self.acc = n - p\n",
    "            self.disc = (self.u+self.v)/n_one - (self.w+self.x)/n_zero\n",
    "            self.ratio = self.disc/self.acc\n",
    "        else:\n",
    "            self.acc = p - n\n",
    "            self.disc = -(self.u+self.v)/n_one + (self.w+self.x)/n_zero\n",
    "            self.ratio = self.disc/self.acc\n",
    "\n",
    "    def __str__(self):\n",
    "        return f\"Path: {self.path} \\naccuracy: {self.acc} \\ndisc: {self.disc} \\nratio: {self.ratio} \\ncontigency: \\n{[self.u, self.v]}\\n{[self.w, self.x]}\"\n",
    "    def __repr__(self):\n",
    "        return f\"{self.path}\""
   ],
   "metadata": {
    "collapsed": false,
    "pycharm": {
     "name": "#%%\n"
    }
   }
  },
  {
   "cell_type": "code",
   "execution_count": 37,
   "outputs": [],
   "source": [
    "import copy\n",
    "\n",
    "def relab1(tree, y, sensitive, n_zero, n_one, leafs, lenght, leaftuple= tuple()):\n",
    "    if 'feat' in tree:\n",
    "        tmp= leaftuple + ((tree['feat'], 'left'),)\n",
    "        relab1(tree['left'], y, sensitive, n_zero, n_one, leafs, lenght, tmp)\n",
    "        tmp= leaftuple + ((tree['feat'], 'right'),)\n",
    "        relab1(tree['right'], y, sensitive, n_zero, n_one, leafs, lenght, tmp)\n",
    "    else:\n",
    "        tree[\"u\"] = 0\n",
    "        tree[\"v\"] = 0\n",
    "        tree[\"w\"] = 0\n",
    "        tree[\"x\"] = 0\n",
    "        for id in tree[\"transactions\"]:\n",
    "            if sensitive[id] == 1 and tree[\"value\"] == 0:\n",
    "                tree[\"u\"] += 1\n",
    "            if sensitive[id] == 1 and tree[\"value\"] == 1:\n",
    "                tree[\"v\"] += 1\n",
    "            if sensitive[id] == 0 and tree[\"value\"] == 0:\n",
    "                tree[\"w\"] += 1\n",
    "            if sensitive[id] == 0 and tree[\"value\"] == 1:\n",
    "                tree[\"x\"] += 1\n",
    "        n = (tree[\"u\"]+tree[\"w\"])\n",
    "        p = (tree[\"v\"]+tree[\"x\"])\n",
    "        if n<=p :\n",
    "            tree[\"acc\"] = n - p\n",
    "            tree[\"disc\"] = (tree[\"u\"]+tree[\"v\"])/n_one - (tree[\"w\"]+tree[\"x\"])/n_zero\n",
    "        else:\n",
    "            tree[\"acc\"] = p - n\n",
    "            tree[\"disc\"] = -(tree[\"u\"]+tree[\"v\"])/n_one + (tree[\"w\"]+tree[\"x\"])/n_zero\n",
    "        if tree[\"disc\"] < 0:\n",
    "            t = dict()\n",
    "            t['tree'] = tree\n",
    "            t['path'] = leaftuple\n",
    "            leaf = Leaf(leaftuple, tree[\"u\"]/lenght, tree[\"v\"]/lenght, tree[\"w\"]/lenght, tree[\"x\"]/lenght)\n",
    "            leaf.accuracy(n_one, n_zero)\n",
    "            leafs.add(leaf)\n",
    "cnt = np.unique(sensitive, return_counts=True)[1]\n"
   ],
   "metadata": {
    "collapsed": false,
    "pycharm": {
     "name": "#%%\n"
    }
   }
  },
  {
   "cell_type": "code",
   "execution_count": 38,
   "outputs": [
    {
     "name": "stdout",
     "output_type": "stream",
     "text": [
      "0.8791208791208791\n",
      "{'feat': 0,\n",
      " 'left': {'feat': 1,\n",
      "          'left': {'acc': -5,\n",
      "                   'disc': 0.054945054945054916,\n",
      "                   'discrimination_additive': -0.033333333333333326,\n",
      "                   'error': 0.333333,\n",
      "                   'misclassified': 0,\n",
      "                   'proba': [0, 1.0],\n",
      "                   'transactions': [11, 12, 13, 14, 15],\n",
      "                   'u': 0,\n",
      "                   'v': 2,\n",
      "                   'value': 1,\n",
      "                   'w': 0,\n",
      "                   'x': 3},\n",
      "          'proba': [0.125, 0.875],\n",
      "          'right': {'acc': -3,\n",
      "                    'disc': -0.010989010989011005,\n",
      "                    'discrimination_additive': 0.2,\n",
      "                    'error': 3.0,\n",
      "                    'misclassified': 1,\n",
      "                    'proba': [0.3333333333333333, 0.6666666666666666],\n",
      "                    'transactions': [8, 9, 10],\n",
      "                    'u': 0,\n",
      "                    'v': 1,\n",
      "                    'value': 1,\n",
      "                    'w': 0,\n",
      "                    'x': 2},\n",
      "          'transactions': [8, 9, 10, 11, 12, 13, 14, 15]},\n",
      " 'proba': [0.5, 0.5],\n",
      " 'right': {'feat': 1,\n",
      "           'left': {'acc': -3,\n",
      "                    'disc': -0.42857142857142855,\n",
      "                    'discrimination_additive': -0.16666666666666666,\n",
      "                    'error': 2.666667,\n",
      "                    'misclassified': 1,\n",
      "                    'proba': [0.6666666666666666, 0.3333333333333333],\n",
      "                    'transactions': [5, 6, 7],\n",
      "                    'u': 3,\n",
      "                    'v': 0,\n",
      "                    'value': 0,\n",
      "                    'w': 0,\n",
      "                    'x': 0},\n",
      "           'proba': [0.875, 0.125],\n",
      "           'right': {'acc': -5,\n",
      "                     'disc': 0.38461538461538464,\n",
      "                     'discrimination_additive': 0.0,\n",
      "                     'error': 0.0,\n",
      "                     'misclassified': 0,\n",
      "                     'proba': [1.0, 0],\n",
      "                     'transactions': [0, 1, 2, 3, 4],\n",
      "                     'u': 0,\n",
      "                     'v': 0,\n",
      "                     'value': 0,\n",
      "                     'w': 5,\n",
      "                     'x': 0},\n",
      "           'transactions': [0, 1, 2, 3, 4, 5, 6, 7]},\n",
      " 'transactions': [0, 1, 2, 3, 4, 5, 6, 7, 8, 9, 10, 11, 12, 13, 14, 15]}\n"
     ]
    }
   ],
   "source": [
    "leafs = set()\n",
    "relab1(clf.tree_, y_train, sensitive_train, cnt[0], cnt[1], leafs, len(y_train))\n",
    "print(utils.sum_elem_tree(clf.tree_, \"disc\",  s=list(), bool=False))\n",
    "pprint(clf.tree_)"
   ],
   "metadata": {
    "collapsed": false,
    "pycharm": {
     "name": "#%%\n"
    }
   }
  },
  {
   "cell_type": "code",
   "execution_count": 39,
   "outputs": [
    {
     "name": "stdout",
     "output_type": "stream",
     "text": [
      "Path: ((0, 'right'), (1, 'left')) \n",
      "accuracy: -0.1875 \n",
      "disc: -0.026785714285714284 \n",
      "ratio: 0.14285714285714285 \n",
      "contigency: \n",
      "[0.1875, 0.0]\n",
      "[0.0, 0.0]\n",
      "\n",
      "Path: ((0, 'left'), (1, 'right')) \n",
      "accuracy: -0.1875 \n",
      "disc: -0.0006868131868131878 \n",
      "ratio: 0.0036630036630036686 \n",
      "contigency: \n",
      "[0.0, 0.0625]\n",
      "[0.0, 0.125]\n",
      "\n"
     ]
    }
   ],
   "source": [
    "for leaf in leafs:\n",
    "    print(leaf)\n",
    "    print()"
   ],
   "metadata": {
    "collapsed": false,
    "pycharm": {
     "name": "#%%\n"
    }
   }
  },
  {
   "cell_type": "code",
   "execution_count": 40,
   "outputs": [
    {
     "name": "stdout",
     "output_type": "stream",
     "text": [
      "0.0\n"
     ]
    },
    {
     "data": {
      "text/plain": "set()"
     },
     "execution_count": 40,
     "metadata": {},
     "output_type": "execute_result"
    }
   ],
   "source": [
    "disc_t = utils.discrimination(y_pred_train, sensitive_train)\n",
    "disc_t = compute_disc_t(result2)\n",
    "def rem_disc(L, e):\n",
    "    s = 0\n",
    "    for leaf in L:\n",
    "        print(leaf.disc)\n",
    "        if leaf.disc < e:\n",
    "            s += leaf.disc\n",
    "    return disc_t+s\n",
    "\n",
    "def relab(leafs, e):\n",
    "    I = list()\n",
    "    for leaf in leafs:\n",
    "        if leaf.disc < 0:\n",
    "            I.append(leaf)\n",
    "    L = set()\n",
    "    print(rem_disc(L, e))\n",
    "    while rem_disc(L, e) > e:\n",
    "        best_l = I[0]\n",
    "        for leaf in I:\n",
    "            if leaf.ratio > best_l.ratio:\n",
    "                best_l = leaf\n",
    "        L.add(best_l)\n",
    "        I.remove(best_l)\n",
    "        leafs.remove(best_l)\n",
    "        print(rem_disc(L, e))\n",
    "    return L\n",
    "relab(leafs, 1)"
   ],
   "metadata": {
    "collapsed": false,
    "pycharm": {
     "name": "#%%\n"
    }
   }
  },
  {
   "cell_type": "code",
   "execution_count": 41,
   "outputs": [
    {
     "name": "stdout",
     "output_type": "stream",
     "text": [
      "Path: None \n",
      "accuracy: -0.05 \n",
      "disc: -0.1 \n",
      "ratio: 2.0 \n",
      "contigency: \n",
      "[0.05, 0.05]\n",
      "[0.05, 0]\n"
     ]
    }
   ],
   "source": [
    "l = Leaf(None, 1/20, 1/20, 1/20, 0)\n",
    "l.accuracy(1/2,1/2)\n",
    "print(l)"
   ],
   "metadata": {
    "collapsed": false,
    "pycharm": {
     "name": "#%%\n"
    }
   }
  },
  {
   "cell_type": "code",
   "execution_count": 41,
   "outputs": [],
   "source": [],
   "metadata": {
    "collapsed": false,
    "pycharm": {
     "name": "#%%\n"
    }
   }
  }
 ],
 "metadata": {
  "interpreter": {
   "hash": "31f2aee4e71d21fbe5cf8b01ff0e069b9275f58929596ceb00d14d90e3e16cd6"
  },
  "kernelspec": {
   "display_name": "Python 3 (ipykernel)",
   "language": "python",
   "name": "python3"
  },
  "language_info": {
   "codemirror_mode": {
    "name": "ipython",
    "version": 3
   },
   "file_extension": ".py",
   "mimetype": "text/x-python",
   "name": "python",
   "nbconvert_exporter": "python",
   "pygments_lexer": "ipython3",
   "version": "3.8.10"
  },
  "toc": {
   "base_numbering": 1,
   "nav_menu": {},
   "number_sections": false,
   "sideBar": true,
   "skip_h1_title": false,
   "title_cell": "Table of Contents",
   "title_sidebar": "Contents",
   "toc_cell": false,
   "toc_position": {},
   "toc_section_display": true,
   "toc_window_display": false
  }
 },
 "nbformat": 4,
 "nbformat_minor": 4
}