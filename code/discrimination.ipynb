{
 "cells": [
  {
   "cell_type": "code",
   "execution_count": 8,
   "metadata": {},
   "outputs": [],
   "source": [
    "import numpy as np\n",
    "from sklearn.metrics import confusion_matrix\n",
    "from sklearn.model_selection import train_test_split\n",
    "from sklearn.metrics import accuracy_score\n",
    "import time\n",
    "from dl85 import DL85Predictor\n",
    "import pandas as pd\n",
    "from sklearn.model_selection import cross_val_score\n",
    "\n",
    "dataset = np.genfromtxt(\"datasets/anneal.txt\", delimiter=' ')\n",
    "X, y = dataset[:, 1:], dataset[:, 0]\n",
    "\n",
    "\"\"\"\n",
    "col1        = np.array([0.0] * 5 + [1.0] * 0 + [0.0] * 0 + [1.0] * 5).reshape(-1,1)\n",
    "col2        = np.array([0.0] * 1 + [1.0] * 4 + [0.0] * 4 + [1.0] * 1).reshape(-1,1)\n",
    "X           = np.concatenate( (col1, col2), axis = 1)\n",
    "y           = np.array([0.0] * 3 + [1.0] * 2 + [0.0] * 1 + [1.0] * 4)\n",
    "sensitive   = np.array([0.0] * 1 + [1.0] * 4 + [0.0] * 2 + [1.0] * 3)\n",
    "#X_train,y_train = X, y\n",
    "\n",
    "#DATAFRAME\n",
    "df = pd.DataFrame(X)\n",
    "df['Class'] = y.tolist()\n",
    "df['Sensitive'] = sensitive.tolist()\n",
    "df\n",
    "\"\"\"\n",
    "X_train, X_test, y_train, y_test = train_test_split(X, y, test_size=0.2, random_state=0)\n",
    "\n"
   ]
  },
  {
   "cell_type": "code",
   "execution_count": 9,
   "metadata": {
    "pycharm": {
     "name": "#%%\n"
    }
   },
   "outputs": [
    {
     "ename": "NameError",
     "evalue": "name 'sensitive' is not defined",
     "output_type": "error",
     "traceback": [
      "\u001B[0;31m---------------------------------------------------------------------------\u001B[0m",
      "\u001B[0;31mNameError\u001B[0m                                 Traceback (most recent call last)",
      "\u001B[0;32m/tmp/ipykernel_26815/2358634769.py\u001B[0m in \u001B[0;36m<module>\u001B[0;34m\u001B[0m\n\u001B[1;32m     32\u001B[0m     \u001B[0;32mreturn\u001B[0m \u001B[0msum\u001B[0m\u001B[0;34m(\u001B[0m\u001B[0msupports\u001B[0m\u001B[0;34m)\u001B[0m \u001B[0;34m-\u001B[0m \u001B[0msupports\u001B[0m\u001B[0;34m[\u001B[0m\u001B[0mmaxindex\u001B[0m\u001B[0;34m]\u001B[0m \u001B[0;34m+\u001B[0m \u001B[0mabs\u001B[0m\u001B[0;34m(\u001B[0m\u001B[0mdescr\u001B[0m\u001B[0;34m(\u001B[0m\u001B[0mtids\u001B[0m\u001B[0;34m)\u001B[0m\u001B[0;34m)\u001B[0m\u001B[0;34m,\u001B[0m \u001B[0mclasses\u001B[0m\u001B[0;34m[\u001B[0m\u001B[0mmaxindex\u001B[0m\u001B[0;34m]\u001B[0m\u001B[0;34m\u001B[0m\u001B[0;34m\u001B[0m\u001B[0m\n\u001B[1;32m     33\u001B[0m \u001B[0;34m\u001B[0m\u001B[0m\n\u001B[0;32m---> 34\u001B[0;31m \u001B[0mdescr\u001B[0m\u001B[0;34m(\u001B[0m\u001B[0mrange\u001B[0m\u001B[0;34m(\u001B[0m\u001B[0;36m0\u001B[0m\u001B[0;34m,\u001B[0m\u001B[0mlen\u001B[0m\u001B[0;34m(\u001B[0m\u001B[0mX_train\u001B[0m\u001B[0;34m)\u001B[0m\u001B[0;34m)\u001B[0m\u001B[0;34m)\u001B[0m\u001B[0;34m\u001B[0m\u001B[0;34m\u001B[0m\u001B[0m\n\u001B[0m",
      "\u001B[0;32m/tmp/ipykernel_26815/2358634769.py\u001B[0m in \u001B[0;36mdescr\u001B[0;34m(tids)\u001B[0m\n\u001B[1;32m      8\u001B[0m     \u001B[0mp0\u001B[0m\u001B[0;34m,\u001B[0m \u001B[0mp1\u001B[0m\u001B[0;34m,\u001B[0m \u001B[0mn_zero\u001B[0m\u001B[0;34m,\u001B[0m \u001B[0mn_one\u001B[0m\u001B[0;34m=\u001B[0m \u001B[0;36m0\u001B[0m\u001B[0;34m,\u001B[0m \u001B[0;36m0\u001B[0m\u001B[0;34m,\u001B[0m \u001B[0;36m0\u001B[0m\u001B[0;34m,\u001B[0m \u001B[0;36m0\u001B[0m\u001B[0;34m\u001B[0m\u001B[0;34m\u001B[0m\u001B[0m\n\u001B[1;32m      9\u001B[0m     \u001B[0;32mfor\u001B[0m \u001B[0mi\u001B[0m \u001B[0;32min\u001B[0m \u001B[0mtids\u001B[0m\u001B[0;34m:\u001B[0m\u001B[0;34m\u001B[0m\u001B[0;34m\u001B[0m\u001B[0m\n\u001B[0;32m---> 10\u001B[0;31m         \u001B[0;32mif\u001B[0m \u001B[0msensitive\u001B[0m\u001B[0;34m[\u001B[0m\u001B[0mi\u001B[0m\u001B[0;34m]\u001B[0m \u001B[0;34m==\u001B[0m \u001B[0;36m0.0\u001B[0m\u001B[0;34m:\u001B[0m\u001B[0;34m\u001B[0m\u001B[0;34m\u001B[0m\u001B[0m\n\u001B[0m\u001B[1;32m     11\u001B[0m             \u001B[0mn_zero\u001B[0m\u001B[0;34m+=\u001B[0m\u001B[0;36m1\u001B[0m\u001B[0;34m\u001B[0m\u001B[0;34m\u001B[0m\u001B[0m\n\u001B[1;32m     12\u001B[0m             \u001B[0;32mif\u001B[0m \u001B[0my\u001B[0m\u001B[0;34m[\u001B[0m\u001B[0mi\u001B[0m\u001B[0;34m]\u001B[0m \u001B[0;34m==\u001B[0m \u001B[0;36m1.0\u001B[0m\u001B[0;34m:\u001B[0m\u001B[0;34m\u001B[0m\u001B[0;34m\u001B[0m\u001B[0m\n",
      "\u001B[0;31mNameError\u001B[0m: name 'sensitive' is not defined"
     ]
    }
   ],
   "source": [
    "def descr(tids):\n",
    "    \"\"\"\n",
    "    p0: ∣{𝑥 ∈ 𝐷 ∣ 𝑥.Sensitive = 0, 𝑥.Class = +}∣\n",
    "    p1: ∣{𝑥 ∈ 𝐷 ∣ 𝑥.Sensitive = 1, 𝑥.Class = +}∣\n",
    "    n_zero: ∣{𝑥 ∈ 𝐷 ∣ 𝑥.Sensitive = 0}∣\n",
    "    n_one: ∣{𝑥 ∈ 𝐷 ∣ 𝑥.Sensitive = 1}∣\n",
    "    \"\"\"\n",
    "    p0, p1, n_zero, n_one= 0, 0, 0, 0\n",
    "    for i in tids:\n",
    "        if sensitive[i] == 0.0:\n",
    "            n_zero+=1\n",
    "            if y[i] == 1.0:\n",
    "                p0+=1\n",
    "        elif sensitive[i] == 1.0:\n",
    "            n_one+=1\n",
    "            if y[i] == 1.0:\n",
    "                p1+=1\n",
    "\n",
    "    if n_one == 0 and n_zero == 0: d = 0\n",
    "    elif n_zero == 0: d = -(p1/n_one)\n",
    "    elif n_one == 0: d = p0/n_zero\n",
    "    else: d = (p0/n_zero) - (p1/n_one)\n",
    "\n",
    "    #A higher discrimination means that tuples with\n",
    "    #Sensitive = 1 are less likely to be classified as positive\n",
    "    return d\n",
    "\n",
    "def error(tids):\n",
    "    classes, supports = np.unique(y_train.take(list(tids)), return_counts=True)\n",
    "    maxindex = np.argmax(supports)\n",
    "\n",
    "    return sum(supports) - supports[maxindex] + abs(descr(tids)), classes[maxindex]\n",
    "\n",
    "descr(range(0,len(X_train)))"
   ]
  },
  {
   "cell_type": "code",
   "execution_count": null,
   "metadata": {
    "pycharm": {
     "name": "#%%\n"
    }
   },
   "outputs": [
    {
     "name": "stdout",
     "output_type": "stream",
     "text": [
      "Model building...\n",
      "Model built. Duration of building = 0.0034\n",
      "Accuracy DL8.5 on training set = 0.75\n",
      "Average accuracy on test set = 0.5\n"
     ]
    }
   ],
   "source": [
    "clf = DL85Predictor(max_depth=2, error_function=error, time_limit=600)\n",
    "\n",
    "start = time.perf_counter()\n",
    "print(\"Model building...\")\n",
    "clf.fit(X_train)\n",
    "duration = time.perf_counter() - start\n",
    "print(\"Model built. Duration of building =\", round(duration, 4))\n",
    "print(\"Accuracy DL8.5 on training set =\", round(clf.accuracy_, 4))\n",
    "predict = clf.predict(X_test)\n",
    "print(\"Average accuracy on test set =\", accuracy_score(y_test, predict))"
   ]
  },
  {
   "cell_type": "code",
   "execution_count": null,
   "metadata": {
    "collapsed": false,
    "pycharm": {
     "name": "#%%\n"
    }
   },
   "outputs": [],
   "source": []
  }
 ],
 "metadata": {
  "interpreter": {
   "hash": "31f2aee4e71d21fbe5cf8b01ff0e069b9275f58929596ceb00d14d90e3e16cd6"
  },
  "kernelspec": {
   "display_name": "Python 3 (ipykernel)",
   "language": "python",
   "name": "python3"
  },
  "language_info": {
   "codemirror_mode": {
    "name": "ipython",
    "version": 3
   },
   "file_extension": ".py",
   "mimetype": "text/x-python",
   "name": "python",
   "nbconvert_exporter": "python",
   "pygments_lexer": "ipython3",
   "version": "3.8.10"
  },
  "toc": {
   "base_numbering": 1,
   "nav_menu": {},
   "number_sections": false,
   "sideBar": true,
   "skip_h1_title": false,
   "title_cell": "Table of Contents",
   "title_sidebar": "Contents",
   "toc_cell": false,
   "toc_position": {},
   "toc_section_display": true,
   "toc_window_display": false
  }
 },
 "nbformat": 4,
 "nbformat_minor": 4
}